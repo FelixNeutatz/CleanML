{
 "cells": [
  {
   "cell_type": "markdown",
   "metadata": {},
   "source": [
    "This version specifies a random portion of missingness in the features. It is identical with missing_cleanml-2-percentage. These two notebooks are used to run datasets in parallel. Airbnb in particular takes a long time to run."
   ]
  },
  {
   "cell_type": "code",
   "execution_count": 1,
   "metadata": {
    "scrolled": true
   },
   "outputs": [
    {
     "name": "stderr",
     "output_type": "stream",
     "text": [
      "/mnt/ds3lab-scratch/raox/gatech_data_cleaning/ICDE2021-revision/nacl36/lib/python3.6/importlib/_bootstrap.py:219: RuntimeWarning: numpy.dtype size changed, may indicate binary incompatibility. Expected 96, got 88\n",
      "  return f(*args, **kwds)\n",
      "/mnt/ds3lab-scratch/raox/gatech_data_cleaning/ICDE2021-revision/nacl36/lib/python3.6/importlib/_bootstrap.py:219: RuntimeWarning: numpy.dtype size changed, may indicate binary incompatibility. Expected 96, got 88\n",
      "  return f(*args, **kwds)\n"
     ]
    }
   ],
   "source": [
    "import six\n",
    "import sys\n",
    "sys.modules['sklearn.externals.six'] = six\n",
    "import mlrose\n",
    "import utils\n",
    "import pickle\n",
    "from collections import defaultdict\n",
    "import numpy as np\n",
    "from collections import OrderedDict\n",
    "from sklearn.metrics import f1_score \n",
    "import pandas as pd\n",
    "from sklearn.metrics import f1_score "
   ]
  },
  {
   "cell_type": "code",
   "execution_count": 2,
   "metadata": {
    "collapsed": true
   },
   "outputs": [],
   "source": [
    "import sys\n",
    "sys.setrecursionlimit(10**6)"
   ]
  },
  {
   "cell_type": "code",
   "execution_count": 3,
   "metadata": {},
   "outputs": [
    {
     "name": "stderr",
     "output_type": "stream",
     "text": [
      "Using TensorFlow backend.\n"
     ]
    }
   ],
   "source": [
    "import math\n",
    "import matplotlib.pyplot as plt \n",
    "from sklearn.datasets import load_digits\n",
    "import numpy as np\n",
    "from sklearn.linear_model import LogisticRegression\n",
    "from sklearn.model_selection import train_test_split\n",
    "import pylab\n",
    "import sys\n",
    "from sklearn.naive_bayes import BernoulliNB, MultinomialNB\n",
    "import keras\n",
    "import time\n",
    "import pandas as pd\n",
    "import json\n",
    "import operator"
   ]
  },
  {
   "cell_type": "code",
   "execution_count": 4,
   "metadata": {
    "collapsed": true
   },
   "outputs": [],
   "source": [
    "sys.path.append(\"../NaCL/code/\")\n",
    "import utils\n",
    "import LR2NB_GP\n",
    "sys.path.append(\"../NaCL/notebooks/\")\n",
    "from dataload import *"
   ]
  },
  {
   "cell_type": "code",
   "execution_count": 5,
   "metadata": {},
   "outputs": [
    {
     "name": "stderr",
     "output_type": "stream",
     "text": [
      "/mnt/ds3lab-scratch/raox/gatech_data_cleaning/ICDE2021-revision/nacl36/lib/python3.6/site-packages/sklearn/utils/deprecation.py:143: FutureWarning: The sklearn.neighbors.base module is  deprecated in version 0.22 and will be removed in version 0.24. The corresponding classes / functions should instead be imported from sklearn.neighbors. Anything that cannot be imported from sklearn.neighbors is now part of the private API.\n",
      "  warnings.warn(message, FutureWarning)\n"
     ]
    }
   ],
   "source": [
    "from preprocess_mv import preprocess_data"
   ]
  },
  {
   "cell_type": "code",
   "execution_count": 6,
   "metadata": {},
   "outputs": [],
   "source": [
    "%load_ext autoreload\n",
    "%autoreload 2"
   ]
  },
  {
   "cell_type": "markdown",
   "metadata": {},
   "source": [
    "# Loading Data"
   ]
  },
  {
   "cell_type": "code",
   "execution_count": 7,
   "metadata": {
    "collapsed": true,
    "scrolled": true
   },
   "outputs": [],
   "source": [
    "seed = 3659"
   ]
  },
  {
   "cell_type": "code",
   "execution_count": 8,
   "metadata": {
    "collapsed": true
   },
   "outputs": [],
   "source": [
    "data_dir = \"data-robustml-mv\""
   ]
  },
  {
   "cell_type": "code",
   "execution_count": 9,
   "metadata": {
    "collapsed": true
   },
   "outputs": [],
   "source": [
    "save_dir = \"result-robustml\"\n",
    "model_name ='nacl'"
   ]
  },
  {
   "cell_type": "code",
   "execution_count": 10,
   "metadata": {
    "collapsed": true
   },
   "outputs": [],
   "source": [
    "accuracy = lambda x,y: np.mean(x == y)\n",
    "f1 = lambda x,y: f1_score(x,y.flatten(), average = \"weighted\")\n",
    "\n"
   ]
  },
  {
   "cell_type": "code",
   "execution_count": 11,
   "metadata": {
    "collapsed": true
   },
   "outputs": [],
   "source": [
    "dataset = 'BabyProduct'"
   ]
  },
  {
   "cell_type": "code",
   "execution_count": 12,
   "metadata": {
    "scrolled": true
   },
   "outputs": [
    {
     "name": "stdout",
     "output_type": "stream",
     "text": [
      "Number of jobs: 20\n"
     ]
    }
   ],
   "source": [
    "jobs = get_jobs_mv(data_dir, dataset = [dataset])\n",
    "print(\"Number of jobs:\", len(jobs))"
   ]
  },
  {
   "cell_type": "code",
   "execution_count": 13,
   "metadata": {},
   "outputs": [
    {
     "data": {
      "text/plain": [
       "[['data-robustml-mv', 'BabyProduct', 'missing_values', 'split_905'],\n",
       " ['data-robustml-mv', 'BabyProduct', 'missing_values', 'split_3462'],\n",
       " ['data-robustml-mv', 'BabyProduct', 'missing_values', 'split_144'],\n",
       " ['data-robustml-mv', 'BabyProduct', 'missing_values', 'split_5374'],\n",
       " ['data-robustml-mv', 'BabyProduct', 'missing_values', 'split_4225'],\n",
       " ['data-robustml-mv', 'BabyProduct', 'missing_values', 'split_3562'],\n",
       " ['data-robustml-mv', 'BabyProduct', 'missing_values', 'split_5056'],\n",
       " ['data-robustml-mv', 'BabyProduct', 'missing_values', 'split_7813'],\n",
       " ['data-robustml-mv', 'BabyProduct', 'missing_values', 'split_2516'],\n",
       " ['data-robustml-mv', 'BabyProduct', 'missing_values', 'split_7751'],\n",
       " ['data-robustml-mv', 'BabyProduct', 'missing_values', 'split_2895'],\n",
       " ['data-robustml-mv', 'BabyProduct', 'missing_values', 'split_4764'],\n",
       " ['data-robustml-mv', 'BabyProduct', 'missing_values', 'split_8093'],\n",
       " ['data-robustml-mv', 'BabyProduct', 'missing_values', 'split_5192'],\n",
       " ['data-robustml-mv', 'BabyProduct', 'missing_values', 'split_5396'],\n",
       " ['data-robustml-mv', 'BabyProduct', 'missing_values', 'split_2962'],\n",
       " ['data-robustml-mv', 'BabyProduct', 'missing_values', 'split_9394'],\n",
       " ['data-robustml-mv', 'BabyProduct', 'missing_values', 'split_235'],\n",
       " ['data-robustml-mv', 'BabyProduct', 'missing_values', 'split_8444'],\n",
       " ['data-robustml-mv', 'BabyProduct', 'missing_values', 'split_6542']]"
      ]
     },
     "execution_count": 13,
     "metadata": {},
     "output_type": "execute_result"
    }
   ],
   "source": [
    "jobs"
   ]
  },
  {
   "cell_type": "code",
   "execution_count": 14,
   "metadata": {
    "collapsed": true
   },
   "outputs": [],
   "source": [
    "accuracy = lambda x,y: np.mean(x == y)\n",
    "f1 = lambda x,y: f1_score(x,y.flatten(), average = \"weighted\")\n",
    "\n"
   ]
  },
  {
   "cell_type": "markdown",
   "metadata": {
    "collapsed": true
   },
   "source": [
    "with open('/mnt/ds3lab-scratch/raox/gatech_data_cleaning/ICDE2021-revision/CleanML/result/{}_result.json'.format(dataset)) as json_file:\n",
    "    results = json.load(json_file)"
   ]
  },
  {
   "cell_type": "code",
   "execution_count": null,
   "metadata": {
    "collapsed": true
   },
   "outputs": [],
   "source": []
  },
  {
   "cell_type": "code",
   "execution_count": null,
   "metadata": {
    "collapsed": true
   },
   "outputs": [],
   "source": []
  },
  {
   "cell_type": "code",
   "execution_count": null,
   "metadata": {
    "collapsed": true
   },
   "outputs": [],
   "source": []
  },
  {
   "cell_type": "code",
   "execution_count": 16,
   "metadata": {},
   "outputs": [
    {
     "name": "stdout",
     "output_type": "stream",
     "text": [
      "Processing ['data-robustml-mv', 'BabyProduct', 'missing_values', 'split_905']\n",
      "--------------\n",
      "dataset: {'data_dir': 'BabyProduct', 'error_types': ['missing_values'], 'label': 'class', 'ml_task': 'classification'}\n",
      "columns to encode: ['is_discounted', 'brand']\n"
     ]
    },
    {
     "name": "stderr",
     "output_type": "stream",
     "text": [
      "[Parallel(n_jobs=-1)]: Using backend LokyBackend with 16 concurrent workers.\n",
      "[Parallel(n_jobs=-1)]: Done   1 out of   1 | elapsed:    1.1s finished\n"
     ]
    },
    {
     "name": "stdout",
     "output_type": "stream",
     "text": [
      "LR Train Accuracy: 0.6990049751243781 \n",
      "LR Test  Accuracy: 0.6979253112033195\n",
      "Using solver 'cvxopt'\n",
      " for 322 free variables\n",
      "  in 324 posynomial inequalities.\n",
      "Solving took 1.5 seconds.\n",
      "NaCL Train Accuracy: 0.6990049751243781 \n",
      "NaCL Test  Accuracy: 0.6979253112033195\n",
      "NB Train Accuracy: 0.6417910447761194 \n",
      "NB Test  Accuracy: 0.6240663900414938\n",
      "nacl test acc with missing: 0.7029045643153526\n",
      "nacl test f1 with missing: 0.6591840906986355\n",
      "{'nacl_missing_test_f1': 0.6591840906986355, 'nacl_missing_test_acc': 0.7029045643153526, 'nacl_test_f1': 0.7531014908433191, 'nacl_test_acc': 0.6979253112033195, 'nacl_train_acc': 0.6990049751243781, 'nb_test_f1': 0.6116227316933224, 'nb_test_acc': 0.6240663900414938, 'nb_train_acc': 0.6417910447761194, 'lr_test_f1': 0.7531014908433191, 'lr_test_acc': 0.6979253112033195, 'lr_train_acc': 0.6990049751243781}\n",
      "Processing ['data-robustml-mv', 'BabyProduct', 'missing_values', 'split_3462']\n",
      "--------------\n",
      "dataset: {'data_dir': 'BabyProduct', 'error_types': ['missing_values'], 'label': 'class', 'ml_task': 'classification'}\n",
      "columns to encode: ['is_discounted', 'brand']\n"
     ]
    },
    {
     "name": "stderr",
     "output_type": "stream",
     "text": [
      "[Parallel(n_jobs=-1)]: Using backend LokyBackend with 16 concurrent workers.\n",
      "[Parallel(n_jobs=-1)]: Done   1 out of   1 | elapsed:    1.0s finished\n"
     ]
    },
    {
     "name": "stdout",
     "output_type": "stream",
     "text": [
      "LR Train Accuracy: 0.6982942430703625 \n",
      "LR Test  Accuracy: 0.6829875518672199\n",
      "Using solver 'cvxopt'\n",
      " for 322 free variables\n",
      "  in 324 posynomial inequalities.\n",
      "Solving took 4.58 seconds.\n",
      "NaCL Train Accuracy: 0.6982942430703625 \n",
      "NaCL Test  Accuracy: 0.6829875518672199\n",
      "NB Train Accuracy: 0.6339729921819474 \n",
      "NB Test  Accuracy: 0.64149377593361\n",
      "nacl test acc with missing: 0.6854771784232365\n",
      "nacl test f1 with missing: 0.6412507977545553\n",
      "{'nacl_missing_test_f1': 0.6412507977545553, 'nacl_missing_test_acc': 0.6854771784232365, 'nacl_test_f1': 0.7448790777719172, 'nacl_test_acc': 0.6829875518672199, 'nacl_train_acc': 0.6982942430703625, 'nb_test_f1': 0.630965296361307, 'nb_test_acc': 0.64149377593361, 'nb_train_acc': 0.6339729921819474, 'lr_test_f1': 0.7448790777719172, 'lr_test_acc': 0.6829875518672199, 'lr_train_acc': 0.6982942430703625}\n",
      "Processing ['data-robustml-mv', 'BabyProduct', 'missing_values', 'split_144']\n",
      "--------------\n",
      "dataset: {'data_dir': 'BabyProduct', 'error_types': ['missing_values'], 'label': 'class', 'ml_task': 'classification'}\n",
      "columns to encode: ['is_discounted', 'brand']\n"
     ]
    },
    {
     "name": "stderr",
     "output_type": "stream",
     "text": [
      "[Parallel(n_jobs=-1)]: Using backend LokyBackend with 16 concurrent workers.\n",
      "[Parallel(n_jobs=-1)]: Done   1 out of   1 | elapsed:    1.1s finished\n"
     ]
    },
    {
     "name": "stdout",
     "output_type": "stream",
     "text": [
      "LR Train Accuracy: 0.7046908315565032 \n",
      "LR Test  Accuracy: 0.6979253112033195\n",
      "Using solver 'cvxopt'\n",
      " for 322 free variables\n",
      "  in 324 posynomial inequalities.\n",
      "Solving took 4.92 seconds.\n",
      "NaCL Train Accuracy: 0.7046908315565032 \n",
      "NaCL Test  Accuracy: 0.6979253112033195\n",
      "NB Train Accuracy: 0.6329068941009239 \n",
      "NB Test  Accuracy: 0.6315352697095435\n",
      "nacl test acc with missing: 0.6904564315352697\n",
      "nacl test f1 with missing: 0.6471720989174847\n",
      "{'nacl_missing_test_f1': 0.6471720989174847, 'nacl_missing_test_acc': 0.6904564315352697, 'nacl_test_f1': 0.7704770642249846, 'nacl_test_acc': 0.6979253112033195, 'nacl_train_acc': 0.7046908315565032, 'nb_test_f1': 0.6186488312547614, 'nb_test_acc': 0.6315352697095435, 'nb_train_acc': 0.6329068941009239, 'lr_test_f1': 0.7704770642249846, 'lr_test_acc': 0.6979253112033195, 'lr_train_acc': 0.7046908315565032}\n",
      "Processing ['data-robustml-mv', 'BabyProduct', 'missing_values', 'split_5374']\n",
      "--------------\n",
      "dataset: {'data_dir': 'BabyProduct', 'error_types': ['missing_values'], 'label': 'class', 'ml_task': 'classification'}\n",
      "columns to encode: ['is_discounted', 'brand']\n"
     ]
    },
    {
     "name": "stderr",
     "output_type": "stream",
     "text": [
      "[Parallel(n_jobs=-1)]: Using backend LokyBackend with 16 concurrent workers.\n",
      "[Parallel(n_jobs=-1)]: Done   1 out of   1 | elapsed:    1.0s finished\n"
     ]
    },
    {
     "name": "stdout",
     "output_type": "stream",
     "text": [
      "LR Train Accuracy: 0.7085998578535891 \n",
      "LR Test  Accuracy: 0.6605809128630705\n",
      "Using solver 'cvxopt'\n",
      " for 322 free variables\n",
      "  in 324 posynomial inequalities.\n",
      "Solving took 2.92 seconds.\n",
      "NaCL Train Accuracy: 0.7085998578535891 \n",
      "NaCL Test  Accuracy: 0.6605809128630705\n",
      "NB Train Accuracy: 0.6343283582089553 \n",
      "NB Test  Accuracy: 0.6431535269709544\n",
      "nacl test acc with missing: 0.6755186721991702\n",
      "nacl test f1 with missing: 0.6285764959156352\n",
      "{'nacl_missing_test_f1': 0.6285764959156352, 'nacl_missing_test_acc': 0.6755186721991702, 'nacl_test_f1': 0.7338333229013912, 'nacl_test_acc': 0.6605809128630705, 'nacl_train_acc': 0.7085998578535891, 'nb_test_f1': 0.6351368227479668, 'nb_test_acc': 0.6431535269709544, 'nb_train_acc': 0.6343283582089553, 'lr_test_f1': 0.7338333229013912, 'lr_test_acc': 0.6605809128630705, 'lr_train_acc': 0.7085998578535891}\n",
      "Processing ['data-robustml-mv', 'BabyProduct', 'missing_values', 'split_4225']\n",
      "--------------\n",
      "dataset: {'data_dir': 'BabyProduct', 'error_types': ['missing_values'], 'label': 'class', 'ml_task': 'classification'}\n",
      "columns to encode: ['is_discounted', 'brand']\n"
     ]
    },
    {
     "name": "stderr",
     "output_type": "stream",
     "text": [
      "[Parallel(n_jobs=-1)]: Using backend LokyBackend with 16 concurrent workers.\n",
      "[Parallel(n_jobs=-1)]: Done   1 out of   1 | elapsed:    1.1s finished\n"
     ]
    },
    {
     "name": "stdout",
     "output_type": "stream",
     "text": [
      "LR Train Accuracy: 0.6872778962331201 \n",
      "LR Test  Accuracy: 0.7228215767634855\n",
      "Using solver 'cvxopt'\n",
      " for 322 free variables\n",
      "  in 324 posynomial inequalities.\n",
      "Solving took 4.07 seconds.\n",
      "NaCL Train Accuracy: 0.6872778962331201 \n",
      "NaCL Test  Accuracy: 0.7228215767634855\n",
      "NB Train Accuracy: 0.6414356787491116 \n",
      "NB Test  Accuracy: 0.6240663900414938\n",
      "nacl test acc with missing: 0.703734439834025\n",
      "nacl test f1 with missing: 0.6674967987068764\n",
      "{'nacl_missing_test_f1': 0.6674967987068764, 'nacl_missing_test_acc': 0.703734439834025, 'nacl_test_f1': 0.7817829268549605, 'nacl_test_acc': 0.7228215767634855, 'nacl_train_acc': 0.6872778962331201, 'nb_test_f1': 0.6081893643124234, 'nb_test_acc': 0.6240663900414938, 'nb_train_acc': 0.6414356787491116, 'lr_test_f1': 0.7817829268549605, 'lr_test_acc': 0.7228215767634855, 'lr_train_acc': 0.6872778962331201}\n",
      "Processing ['data-robustml-mv', 'BabyProduct', 'missing_values', 'split_3562']\n",
      "--------------\n",
      "dataset: {'data_dir': 'BabyProduct', 'error_types': ['missing_values'], 'label': 'class', 'ml_task': 'classification'}\n",
      "columns to encode: ['is_discounted', 'brand']\n"
     ]
    },
    {
     "name": "stderr",
     "output_type": "stream",
     "text": [
      "[Parallel(n_jobs=-1)]: Using backend LokyBackend with 16 concurrent workers.\n",
      "[Parallel(n_jobs=-1)]: Done   1 out of   1 | elapsed:    1.1s finished\n"
     ]
    },
    {
     "name": "stdout",
     "output_type": "stream",
     "text": [
      "LR Train Accuracy: 0.6947405828002843 \n",
      "LR Test  Accuracy: 0.703734439834025\n",
      "Using solver 'cvxopt'\n",
      " for 322 free variables\n",
      "  in 324 posynomial inequalities.\n",
      "Solving took 7.76 seconds.\n",
      "NaCL Train Accuracy: 0.6947405828002843 \n",
      "NaCL Test  Accuracy: 0.703734439834025\n",
      "NB Train Accuracy: 0.6400142146410803 \n",
      "NB Test  Accuracy: 0.6307053941908713\n",
      "nacl test acc with missing: 0.7087136929460581\n",
      "nacl test f1 with missing: 0.6640251238664096\n",
      "{'nacl_missing_test_f1': 0.6640251238664096, 'nacl_missing_test_acc': 0.7087136929460581, 'nacl_test_f1': 0.7675613304491624, 'nacl_test_acc': 0.703734439834025, 'nacl_train_acc': 0.6947405828002843, 'nb_test_f1': 0.619297861637408, 'nb_test_acc': 0.6307053941908713, 'nb_train_acc': 0.6400142146410803, 'lr_test_f1': 0.7675613304491624, 'lr_test_acc': 0.703734439834025, 'lr_train_acc': 0.6947405828002843}\n",
      "Processing ['data-robustml-mv', 'BabyProduct', 'missing_values', 'split_5056']\n",
      "--------------\n",
      "dataset: {'data_dir': 'BabyProduct', 'error_types': ['missing_values'], 'label': 'class', 'ml_task': 'classification'}\n",
      "columns to encode: ['is_discounted', 'brand']\n"
     ]
    },
    {
     "name": "stderr",
     "output_type": "stream",
     "text": [
      "[Parallel(n_jobs=-1)]: Using backend LokyBackend with 16 concurrent workers.\n",
      "[Parallel(n_jobs=-1)]: Done   1 out of   1 | elapsed:    1.0s finished\n"
     ]
    },
    {
     "name": "stdout",
     "output_type": "stream",
     "text": [
      "LR Train Accuracy: 0.7018479033404407 \n",
      "LR Test  Accuracy: 0.6887966804979253\n",
      "Using solver 'cvxopt'\n",
      " for 322 free variables\n",
      "  in 324 posynomial inequalities.\n",
      "Solving took 7.73 seconds.\n",
      "NaCL Train Accuracy: 0.7018479033404407 \n",
      "NaCL Test  Accuracy: 0.6887966804979253\n",
      "NB Train Accuracy: 0.6282871357498223 \n",
      "NB Test  Accuracy: 0.6580912863070539\n",
      "nacl test acc with missing: 0.6921161825726141\n",
      "nacl test f1 with missing: 0.6384753139649271\n",
      "{'nacl_missing_test_f1': 0.6384753139649271, 'nacl_missing_test_acc': 0.6921161825726141, 'nacl_test_f1': 0.7600755321164271, 'nacl_test_acc': 0.6887966804979253, 'nacl_train_acc': 0.7018479033404407, 'nb_test_f1': 0.648819832276937, 'nb_test_acc': 0.6580912863070539, 'nb_train_acc': 0.6282871357498223, 'lr_test_f1': 0.7600755321164271, 'lr_test_acc': 0.6887966804979253, 'lr_train_acc': 0.7018479033404407}\n",
      "Processing ['data-robustml-mv', 'BabyProduct', 'missing_values', 'split_7813']\n",
      "--------------\n",
      "dataset: {'data_dir': 'BabyProduct', 'error_types': ['missing_values'], 'label': 'class', 'ml_task': 'classification'}\n",
      "columns to encode: ['is_discounted', 'brand']\n"
     ]
    },
    {
     "name": "stderr",
     "output_type": "stream",
     "text": [
      "[Parallel(n_jobs=-1)]: Using backend LokyBackend with 16 concurrent workers.\n",
      "[Parallel(n_jobs=-1)]: Done   1 out of   1 | elapsed:    1.0s finished\n"
     ]
    },
    {
     "name": "stdout",
     "output_type": "stream",
     "text": [
      "LR Train Accuracy: 0.7000710732054015 \n",
      "LR Test  Accuracy: 0.6871369294605809\n",
      "Using solver 'cvxopt'\n",
      " for 322 free variables\n",
      "  in 324 posynomial inequalities.\n",
      "Solving took 4.04 seconds.\n",
      "NaCL Train Accuracy: 0.7000710732054015 \n",
      "NaCL Test  Accuracy: 0.6871369294605809\n",
      "NB Train Accuracy: 0.6385927505330491 \n",
      "NB Test  Accuracy: 0.6365145228215767\n",
      "nacl test acc with missing: 0.6896265560165975\n",
      "nacl test f1 with missing: 0.6426156446903335\n",
      "{'nacl_missing_test_f1': 0.6426156446903335, 'nacl_missing_test_acc': 0.6896265560165975, 'nacl_test_f1': 0.754146590563139, 'nacl_test_acc': 0.6871369294605809, 'nacl_train_acc': 0.7000710732054015, 'nb_test_f1': 0.6261607143663627, 'nb_test_acc': 0.6365145228215767, 'nb_train_acc': 0.6385927505330491, 'lr_test_f1': 0.754146590563139, 'lr_test_acc': 0.6871369294605809, 'lr_train_acc': 0.7000710732054015}\n",
      "Processing ['data-robustml-mv', 'BabyProduct', 'missing_values', 'split_2516']\n",
      "--------------\n",
      "dataset: {'data_dir': 'BabyProduct', 'error_types': ['missing_values'], 'label': 'class', 'ml_task': 'classification'}\n",
      "columns to encode: ['is_discounted', 'brand']\n"
     ]
    },
    {
     "name": "stderr",
     "output_type": "stream",
     "text": [
      "[Parallel(n_jobs=-1)]: Using backend LokyBackend with 16 concurrent workers.\n",
      "[Parallel(n_jobs=-1)]: Done   1 out of   1 | elapsed:    1.1s finished\n"
     ]
    },
    {
     "name": "stdout",
     "output_type": "stream",
     "text": [
      "LR Train Accuracy: 0.7029140014214641 \n",
      "LR Test  Accuracy: 0.6887966804979253\n",
      "Using solver 'cvxopt'\n",
      " for 322 free variables\n",
      "  in 324 posynomial inequalities.\n",
      "Solving took 4.87 seconds.\n",
      "NaCL Train Accuracy: 0.7029140014214641 \n",
      "NaCL Test  Accuracy: 0.6887966804979253\n",
      "NB Train Accuracy: 0.6346837242359631 \n",
      "NB Test  Accuracy: 0.64149377593361\n",
      "nacl test acc with missing: 0.6921161825726141\n",
      "nacl test f1 with missing: 0.6475341029809447\n",
      "{'nacl_missing_test_f1': 0.6475341029809447, 'nacl_missing_test_acc': 0.6921161825726141, 'nacl_test_f1': 0.7515989604675751, 'nacl_test_acc': 0.6887966804979253, 'nacl_train_acc': 0.7029140014214641, 'nb_test_f1': 0.6304525831365063, 'nb_test_acc': 0.64149377593361, 'nb_train_acc': 0.6346837242359631, 'lr_test_f1': 0.7515989604675751, 'lr_test_acc': 0.6887966804979253, 'lr_train_acc': 0.7029140014214641}\n",
      "Processing ['data-robustml-mv', 'BabyProduct', 'missing_values', 'split_7751']\n",
      "--------------\n",
      "dataset: {'data_dir': 'BabyProduct', 'error_types': ['missing_values'], 'label': 'class', 'ml_task': 'classification'}\n",
      "columns to encode: ['is_discounted', 'brand']\n"
     ]
    },
    {
     "name": "stderr",
     "output_type": "stream",
     "text": [
      "[Parallel(n_jobs=-1)]: Using backend LokyBackend with 16 concurrent workers.\n",
      "[Parallel(n_jobs=-1)]: Done   1 out of   1 | elapsed:    1.2s finished\n"
     ]
    },
    {
     "name": "stdout",
     "output_type": "stream",
     "text": [
      "LR Train Accuracy: 0.7078891257995735 \n",
      "LR Test  Accuracy: 0.6887966804979253\n",
      "Using solver 'cvxopt'\n",
      " for 322 free variables\n",
      "  in 324 posynomial inequalities.\n",
      "Solving took 2.34 seconds.\n",
      "NaCL Train Accuracy: 0.7078891257995735 \n",
      "NaCL Test  Accuracy: 0.6887966804979253\n",
      "NB Train Accuracy: 0.6332622601279317 \n",
      "NB Test  Accuracy: 0.6439834024896266\n",
      "nacl test acc with missing: 0.6962655601659751\n",
      "nacl test f1 with missing: 0.6475711802805837\n",
      "{'nacl_missing_test_f1': 0.6475711802805837, 'nacl_missing_test_acc': 0.6962655601659751, 'nacl_test_f1': 0.7617112839030897, 'nacl_test_acc': 0.6887966804979253, 'nacl_train_acc': 0.7078891257995735, 'nb_test_f1': 0.6333367124747135, 'nb_test_acc': 0.6439834024896266, 'nb_train_acc': 0.6332622601279317, 'lr_test_f1': 0.7617112839030897, 'lr_test_acc': 0.6887966804979253, 'lr_train_acc': 0.7078891257995735}\n",
      "Processing ['data-robustml-mv', 'BabyProduct', 'missing_values', 'split_2895']\n",
      "--------------\n",
      "dataset: {'data_dir': 'BabyProduct', 'error_types': ['missing_values'], 'label': 'class', 'ml_task': 'classification'}\n",
      "columns to encode: ['is_discounted', 'brand']\n"
     ]
    },
    {
     "name": "stderr",
     "output_type": "stream",
     "text": [
      "[Parallel(n_jobs=-1)]: Using backend LokyBackend with 16 concurrent workers.\n",
      "[Parallel(n_jobs=-1)]: Done   1 out of   1 | elapsed:    1.0s finished\n"
     ]
    },
    {
     "name": "stdout",
     "output_type": "stream",
     "text": [
      "LR Train Accuracy: 0.6968727789623312 \n",
      "LR Test  Accuracy: 0.6970954356846473\n",
      "Using solver 'cvxopt'\n",
      " for 322 free variables\n",
      "  in 324 posynomial inequalities.\n",
      "Solving took 2.69 seconds.\n",
      "NaCL Train Accuracy: 0.6968727789623312 \n",
      "NaCL Test  Accuracy: 0.6970954356846473\n",
      "NB Train Accuracy: 0.6417910447761194 \n",
      "NB Test  Accuracy: 0.629045643153527\n",
      "nacl test acc with missing: 0.7045643153526971\n",
      "nacl test f1 with missing: 0.6531576014717393\n",
      "{'nacl_missing_test_f1': 0.6531576014717393, 'nacl_missing_test_acc': 0.7045643153526971, 'nacl_test_f1': 0.7701471480821261, 'nacl_test_acc': 0.6970954356846473, 'nacl_train_acc': 0.6968727789623312, 'nb_test_f1': 0.6174072997145774, 'nb_test_acc': 0.629045643153527, 'nb_train_acc': 0.6417910447761194, 'lr_test_f1': 0.7701471480821261, 'lr_test_acc': 0.6970954356846473, 'lr_train_acc': 0.6968727789623312}\n",
      "Processing ['data-robustml-mv', 'BabyProduct', 'missing_values', 'split_4764']\n",
      "--------------\n",
      "dataset: {'data_dir': 'BabyProduct', 'error_types': ['missing_values'], 'label': 'class', 'ml_task': 'classification'}\n",
      "columns to encode: ['is_discounted', 'brand']\n"
     ]
    },
    {
     "name": "stderr",
     "output_type": "stream",
     "text": [
      "[Parallel(n_jobs=-1)]: Using backend LokyBackend with 16 concurrent workers.\n",
      "[Parallel(n_jobs=-1)]: Done   1 out of   1 | elapsed:    1.1s finished\n"
     ]
    },
    {
     "name": "stdout",
     "output_type": "stream",
     "text": [
      "LR Train Accuracy: 0.6982942430703625 \n",
      "LR Test  Accuracy: 0.6962655601659751\n",
      "Using solver 'cvxopt'\n",
      " for 322 free variables\n",
      "  in 324 posynomial inequalities.\n",
      "Solving took 4.56 seconds.\n",
      "NaCL Train Accuracy: 0.6982942430703625 \n",
      "NaCL Test  Accuracy: 0.6962655601659751\n",
      "NB Train Accuracy: 0.6329068941009239 \n",
      "NB Test  Accuracy: 0.6356846473029045\n",
      "nacl test acc with missing: 0.6921161825726141\n",
      "nacl test f1 with missing: 0.6529972767513192\n",
      "{'nacl_missing_test_f1': 0.6529972767513192, 'nacl_missing_test_acc': 0.6921161825726141, 'nacl_test_f1': 0.7562828139554577, 'nacl_test_acc': 0.6962655601659751, 'nacl_train_acc': 0.6982942430703625, 'nb_test_f1': 0.6241968305480112, 'nb_test_acc': 0.6356846473029045, 'nb_train_acc': 0.6329068941009239, 'lr_test_f1': 0.7562828139554577, 'lr_test_acc': 0.6962655601659751, 'lr_train_acc': 0.6982942430703625}\n",
      "Processing ['data-robustml-mv', 'BabyProduct', 'missing_values', 'split_8093']\n",
      "--------------\n",
      "dataset: {'data_dir': 'BabyProduct', 'error_types': ['missing_values'], 'label': 'class', 'ml_task': 'classification'}\n",
      "columns to encode: ['is_discounted', 'brand']\n"
     ]
    },
    {
     "name": "stderr",
     "output_type": "stream",
     "text": [
      "[Parallel(n_jobs=-1)]: Using backend LokyBackend with 16 concurrent workers.\n",
      "[Parallel(n_jobs=-1)]: Done   1 out of   1 | elapsed:    1.0s finished\n"
     ]
    },
    {
     "name": "stdout",
     "output_type": "stream",
     "text": [
      "LR Train Accuracy: 0.7096659559346127 \n",
      "LR Test  Accuracy: 0.6821576763485477\n",
      "Using solver 'cvxopt'\n",
      " for 322 free variables\n",
      "  in 324 posynomial inequalities.\n",
      "Solving took 4.27 seconds.\n",
      "NaCL Train Accuracy: 0.7096659559346127 \n",
      "NaCL Test  Accuracy: 0.6821576763485477\n",
      "NB Train Accuracy: 0.6371712864250177 \n",
      "NB Test  Accuracy: 0.6331950207468879\n",
      "nacl test acc with missing: 0.6688796680497925\n",
      "nacl test f1 with missing: 0.6242714306066608\n",
      "{'nacl_missing_test_f1': 0.6242714306066608, 'nacl_missing_test_acc': 0.6688796680497925, 'nacl_test_f1': 0.7457211115302401, 'nacl_test_acc': 0.6821576763485477, 'nacl_train_acc': 0.7096659559346127, 'nb_test_f1': 0.6221190996053597, 'nb_test_acc': 0.6331950207468879, 'nb_train_acc': 0.6371712864250177, 'lr_test_f1': 0.7457211115302401, 'lr_test_acc': 0.6821576763485477, 'lr_train_acc': 0.7096659559346127}\n",
      "Processing ['data-robustml-mv', 'BabyProduct', 'missing_values', 'split_5192']\n",
      "--------------\n",
      "dataset: {'data_dir': 'BabyProduct', 'error_types': ['missing_values'], 'label': 'class', 'ml_task': 'classification'}\n",
      "columns to encode: ['is_discounted', 'brand']\n"
     ]
    },
    {
     "name": "stderr",
     "output_type": "stream",
     "text": [
      "[Parallel(n_jobs=-1)]: Using backend LokyBackend with 16 concurrent workers.\n",
      "[Parallel(n_jobs=-1)]: Done   1 out of   1 | elapsed:    1.1s finished\n"
     ]
    },
    {
     "name": "stdout",
     "output_type": "stream",
     "text": [
      "LR Train Accuracy: 0.6979388770433547 \n",
      "LR Test  Accuracy: 0.7095435684647303\n",
      "Using solver 'cvxopt'\n",
      " for 322 free variables\n",
      "  in 324 posynomial inequalities.\n",
      "Solving took 3.64 seconds.\n",
      "NaCL Train Accuracy: 0.6979388770433547 \n",
      "NaCL Test  Accuracy: 0.7095435684647303\n",
      "NB Train Accuracy: 0.6467661691542289 \n",
      "NB Test  Accuracy: 0.6141078838174274\n",
      "nacl test acc with missing: 0.7095435684647303\n",
      "nacl test f1 with missing: 0.6684562180310586\n",
      "{'nacl_missing_test_f1': 0.6684562180310586, 'nacl_missing_test_acc': 0.7095435684647303, 'nacl_test_f1': 0.7614333818513611, 'nacl_test_acc': 0.7095435684647303, 'nacl_train_acc': 0.6979388770433547, 'nb_test_f1': 0.6020300813826509, 'nb_test_acc': 0.6141078838174274, 'nb_train_acc': 0.6467661691542289, 'lr_test_f1': 0.7614333818513611, 'lr_test_acc': 0.7095435684647303, 'lr_train_acc': 0.6979388770433547}\n",
      "Processing ['data-robustml-mv', 'BabyProduct', 'missing_values', 'split_5396']\n",
      "--------------\n",
      "dataset: {'data_dir': 'BabyProduct', 'error_types': ['missing_values'], 'label': 'class', 'ml_task': 'classification'}\n",
      "columns to encode: ['is_discounted', 'brand']\n"
     ]
    },
    {
     "name": "stderr",
     "output_type": "stream",
     "text": [
      "[Parallel(n_jobs=-1)]: Using backend LokyBackend with 16 concurrent workers.\n",
      "[Parallel(n_jobs=-1)]: Done   1 out of   1 | elapsed:    1.0s finished\n"
     ]
    },
    {
     "name": "stdout",
     "output_type": "stream",
     "text": [
      "LR Train Accuracy: 0.6918976545842217 \n",
      "LR Test  Accuracy: 0.7103734439834025\n",
      "Using solver 'cvxopt'\n",
      " for 322 free variables\n",
      "  in 324 posynomial inequalities.\n",
      "Solving took 5.06 seconds.\n",
      "NaCL Train Accuracy: 0.6918976545842217 \n",
      "NaCL Test  Accuracy: 0.7103734439834025\n",
      "NB Train Accuracy: 0.6407249466950959 \n",
      "NB Test  Accuracy: 0.6373443983402489\n",
      "nacl test acc with missing: 0.7078838174273859\n",
      "nacl test f1 with missing: 0.6608729942864591\n",
      "{'nacl_missing_test_f1': 0.6608729942864591, 'nacl_missing_test_acc': 0.7078838174273859, 'nacl_test_f1': 0.7763682884096045, 'nacl_test_acc': 0.7103734439834025, 'nacl_train_acc': 0.6918976545842217, 'nb_test_f1': 0.6225500585539563, 'nb_test_acc': 0.6373443983402489, 'nb_train_acc': 0.6407249466950959, 'lr_test_f1': 0.7763682884096045, 'lr_test_acc': 0.7103734439834025, 'lr_train_acc': 0.6918976545842217}\n",
      "Processing ['data-robustml-mv', 'BabyProduct', 'missing_values', 'split_2962']\n",
      "--------------\n",
      "dataset: {'data_dir': 'BabyProduct', 'error_types': ['missing_values'], 'label': 'class', 'ml_task': 'classification'}\n",
      "columns to encode: ['is_discounted', 'brand']\n"
     ]
    },
    {
     "name": "stderr",
     "output_type": "stream",
     "text": [
      "[Parallel(n_jobs=-1)]: Using backend LokyBackend with 16 concurrent workers.\n",
      "[Parallel(n_jobs=-1)]: Done   1 out of   1 | elapsed:    0.0s finished\n"
     ]
    },
    {
     "name": "stdout",
     "output_type": "stream",
     "text": [
      "LR Train Accuracy: 0.6993603411513859 \n",
      "LR Test  Accuracy: 0.6829875518672199\n",
      "Using solver 'cvxopt'\n",
      " for 322 free variables\n",
      "  in 324 posynomial inequalities.\n",
      "Solving took 3.95 seconds.\n",
      "NaCL Train Accuracy: 0.6993603411513859 \n",
      "NaCL Test  Accuracy: 0.6829875518672199\n",
      "NB Train Accuracy: 0.6474769012082445 \n",
      "NB Test  Accuracy: 0.6390041493775933\n",
      "nacl test acc with missing: 0.6829875518672199\n",
      "nacl test f1 with missing: 0.6277490682054998\n",
      "{'nacl_missing_test_f1': 0.6277490682054998, 'nacl_missing_test_acc': 0.6829875518672199, 'nacl_test_f1': 0.7577359188917283, 'nacl_test_acc': 0.6829875518672199, 'nacl_train_acc': 0.6993603411513859, 'nb_test_f1': 0.6284352355352587, 'nb_test_acc': 0.6390041493775933, 'nb_train_acc': 0.6474769012082445, 'lr_test_f1': 0.7577359188917283, 'lr_test_acc': 0.6829875518672199, 'lr_train_acc': 0.6993603411513859}\n",
      "Processing ['data-robustml-mv', 'BabyProduct', 'missing_values', 'split_9394']\n",
      "--------------\n",
      "dataset: {'data_dir': 'BabyProduct', 'error_types': ['missing_values'], 'label': 'class', 'ml_task': 'classification'}\n",
      "columns to encode: ['is_discounted', 'brand']\n"
     ]
    },
    {
     "name": "stderr",
     "output_type": "stream",
     "text": [
      "[Parallel(n_jobs=-1)]: Using backend LokyBackend with 16 concurrent workers.\n",
      "[Parallel(n_jobs=-1)]: Done   1 out of   1 | elapsed:    0.0s finished\n"
     ]
    },
    {
     "name": "stdout",
     "output_type": "stream",
     "text": [
      "LR Train Accuracy: 0.6958066808813077 \n",
      "LR Test  Accuracy: 0.7012448132780082\n",
      "Using solver 'cvxopt'\n",
      " for 322 free variables\n",
      "  in 324 posynomial inequalities.\n",
      "Solving took 4.31 seconds.\n",
      "NaCL Train Accuracy: 0.6958066808813077 \n",
      "NaCL Test  Accuracy: 0.7012448132780082\n",
      "NB Train Accuracy: 0.6371712864250177 \n",
      "NB Test  Accuracy: 0.6307053941908713\n",
      "nacl test acc with missing: 0.7103734439834025\n",
      "nacl test f1 with missing: 0.661552859324483\n",
      "{'nacl_missing_test_f1': 0.661552859324483, 'nacl_missing_test_acc': 0.7103734439834025, 'nacl_test_f1': 0.770721214560291, 'nacl_test_acc': 0.7012448132780082, 'nacl_train_acc': 0.6958066808813077, 'nb_test_f1': 0.6184991227898945, 'nb_test_acc': 0.6307053941908713, 'nb_train_acc': 0.6371712864250177, 'lr_test_f1': 0.770721214560291, 'lr_test_acc': 0.7012448132780082, 'lr_train_acc': 0.6958066808813077}\n",
      "Processing ['data-robustml-mv', 'BabyProduct', 'missing_values', 'split_235']\n",
      "--------------\n",
      "dataset: {'data_dir': 'BabyProduct', 'error_types': ['missing_values'], 'label': 'class', 'ml_task': 'classification'}\n",
      "columns to encode: ['is_discounted', 'brand']\n"
     ]
    },
    {
     "name": "stderr",
     "output_type": "stream",
     "text": [
      "[Parallel(n_jobs=-1)]: Using backend LokyBackend with 16 concurrent workers.\n",
      "[Parallel(n_jobs=-1)]: Done   1 out of   1 | elapsed:    0.1s finished\n"
     ]
    },
    {
     "name": "stdout",
     "output_type": "stream",
     "text": [
      "LR Train Accuracy: 0.7043354655294953 \n",
      "LR Test  Accuracy: 0.6904564315352697\n",
      "Using solver 'cvxopt'\n",
      " for 322 free variables\n",
      "  in 324 posynomial inequalities.\n",
      "Solving took 4.04 seconds.\n",
      "NaCL Train Accuracy: 0.7043354655294953 \n",
      "NaCL Test  Accuracy: 0.6904564315352697\n",
      "NB Train Accuracy: 0.6297085998578535 \n",
      "NB Test  Accuracy: 0.649792531120332\n",
      "nacl test acc with missing: 0.6804979253112033\n",
      "nacl test f1 with missing: 0.636893174334619\n",
      "{'nacl_missing_test_f1': 0.636893174334619, 'nacl_missing_test_acc': 0.6804979253112033, 'nacl_test_f1': 0.7516779415478848, 'nacl_test_acc': 0.6904564315352697, 'nacl_train_acc': 0.7043354655294953, 'nb_test_f1': 0.6388629255576722, 'nb_test_acc': 0.649792531120332, 'nb_train_acc': 0.6297085998578535, 'lr_test_f1': 0.7516779415478848, 'lr_test_acc': 0.6904564315352697, 'lr_train_acc': 0.7043354655294953}\n",
      "Processing ['data-robustml-mv', 'BabyProduct', 'missing_values', 'split_8444']\n",
      "--------------\n",
      "dataset: {'data_dir': 'BabyProduct', 'error_types': ['missing_values'], 'label': 'class', 'ml_task': 'classification'}\n",
      "columns to encode: ['is_discounted', 'brand']\n"
     ]
    },
    {
     "name": "stderr",
     "output_type": "stream",
     "text": [
      "[Parallel(n_jobs=-1)]: Using backend LokyBackend with 16 concurrent workers.\n",
      "[Parallel(n_jobs=-1)]: Done   1 out of   1 | elapsed:    0.0s finished\n"
     ]
    },
    {
     "name": "stdout",
     "output_type": "stream",
     "text": [
      "LR Train Accuracy: 0.6986496090973703 \n",
      "LR Test  Accuracy: 0.7062240663900415\n",
      "Using solver 'cvxopt'\n",
      " for 322 free variables\n",
      "  in 324 posynomial inequalities.\n",
      "Solving took 3.69 seconds.\n",
      "NaCL Train Accuracy: 0.6986496090973703 \n",
      "NaCL Test  Accuracy: 0.7062240663900415\n",
      "NB Train Accuracy: 0.6471215351812367 \n",
      "NB Test  Accuracy: 0.6141078838174274\n",
      "nacl test acc with missing: 0.7020746887966804\n",
      "nacl test f1 with missing: 0.6612840930412514\n",
      "{'nacl_missing_test_f1': 0.6612840930412514, 'nacl_missing_test_acc': 0.7020746887966804, 'nacl_test_f1': 0.7593939479403261, 'nacl_test_acc': 0.7062240663900415, 'nacl_train_acc': 0.6986496090973703, 'nb_test_f1': 0.5998579955688027, 'nb_test_acc': 0.6141078838174274, 'nb_train_acc': 0.6471215351812367, 'lr_test_f1': 0.7593939479403261, 'lr_test_acc': 0.7062240663900415, 'lr_train_acc': 0.6986496090973703}\n",
      "Processing ['data-robustml-mv', 'BabyProduct', 'missing_values', 'split_6542']\n",
      "--------------\n",
      "dataset: {'data_dir': 'BabyProduct', 'error_types': ['missing_values'], 'label': 'class', 'ml_task': 'classification'}\n",
      "columns to encode: ['is_discounted', 'brand']\n"
     ]
    },
    {
     "name": "stderr",
     "output_type": "stream",
     "text": [
      "[Parallel(n_jobs=-1)]: Using backend LokyBackend with 16 concurrent workers.\n",
      "[Parallel(n_jobs=-1)]: Done   1 out of   1 | elapsed:    0.0s finished\n"
     ]
    },
    {
     "name": "stdout",
     "output_type": "stream",
     "text": [
      "LR Train Accuracy: 0.6908315565031983 \n",
      "LR Test  Accuracy: 0.7087136929460581\n",
      "Using solver 'cvxopt'\n",
      " for 322 free variables\n",
      "  in 324 posynomial inequalities.\n",
      "Solving took 2.41 seconds.\n",
      "NaCL Train Accuracy: 0.6908315565031983 \n",
      "NaCL Test  Accuracy: 0.7087136929460581\n",
      "NB Train Accuracy: 0.6385927505330491 \n",
      "NB Test  Accuracy: 0.6240663900414938\n",
      "nacl test acc with missing: 0.6896265560165975\n",
      "nacl test f1 with missing: 0.6536519970825383\n",
      "{'nacl_missing_test_f1': 0.6536519970825383, 'nacl_missing_test_acc': 0.6896265560165975, 'nacl_test_f1': 0.7691262099862886, 'nacl_test_acc': 0.7087136929460581, 'nacl_train_acc': 0.6908315565031983, 'nb_test_f1': 0.6103550980653332, 'nb_test_acc': 0.6240663900414938, 'nb_train_acc': 0.6385927505330491, 'lr_test_f1': 0.7691262099862886, 'lr_test_acc': 0.7087136929460581, 'lr_train_acc': 0.6908315565031983}\n",
      "CPU times: user 4min 17s, sys: 11min 2s, total: 15min 19s\n",
      "Wall time: 2min 3s\n"
     ]
    }
   ],
   "source": [
    "%%time \n",
    "\n",
    "for job in jobs:\n",
    "    \n",
    "    print(\"Processing\", job)\n",
    "    print('--------------')\n",
    "    dataset = job[1]\n",
    "    \n",
    "\n",
    "    dirty_X_train = pd.read_csv(os.path.join(*job, \"dirty_X_train.csv\"))\n",
    "    dirty_y_train = pd.read_csv(os.path.join(*job, \"dirty_y_train.csv\"))\n",
    "    dirty_X_test = pd.read_csv(os.path.join(*job, \"dirty_X_test.csv\"))\n",
    "    dirty_y_test = pd.read_csv(os.path.join(*job, \"dirty_y_test.csv\"))\n",
    "\n",
    "    dirty_X_train = dirty_X_train.fillna(0)\n",
    "    dirty_X_test = dirty_X_test.fillna(0)\n",
    "    X_train, y_train, X_test, y_test, mappings, mappings_dict = preprocess_data(dataset, \n",
    "                                                             dirty_X_train, dirty_y_train, \n",
    "                                                             [dirty_X_test], [dirty_y_test])\n",
    "    X_test = X_test[0]\n",
    "    y_test = y_test[0]\n",
    "    dirty_X_test = pd.read_csv(os.path.join(*job, \"dirty_X_test.csv\"))\n",
    "    null_data = dirty_X_test[dirty_X_test.isnull().any(axis=1)]\n",
    "\n",
    "    missing = [[]] * dirty_X_test.shape[0]\n",
    "    for i, row in null_data.iterrows():\n",
    "        # append the original index of the missing feature\n",
    "        cols = null_data.columns.get_values()[np.where(pd.isnull(row))]\n",
    "\n",
    "        idx = [mappings_dict[col][0] for col in cols]\n",
    "        missing[i] = idx\n",
    "    missing = np.array(missing)\n",
    "\n",
    "    output = defaultdict(lambda: defaultdict(list))\n",
    "\n",
    "    output['train']['nacl'] = (X_train, y_train)\n",
    "    output['test']['nacl'] = (X_test, y_test)\n",
    "    output['missing_test'] = missing\n",
    "    output['mappings1hot_dict'] = mappings_dict\n",
    "    output['mappings1hot_list'] = mappings\n",
    "    pickle.dump(dict(output), open(os.path.join(*job,\"data.p\"), 'wb'))\n",
    "\n",
    "\n",
    "    '''max_acc = 0\n",
    "\n",
    "    for method in ['delete', 'impute_holoclean', 'impute_mean_mode', 'impute_mean_dummy', \n",
    "                   'impute_median_mode', 'impute_median_dummy', 'impute_mode_mode', 'impute_mode_dummy']:\n",
    "        #print('Titanic/v{}/missing_values/{}/logistic_regression/3659'.\\\n",
    "        #           format(split_seed, method))\n",
    "        split_seed = job[-1].split(\"_\")[1]\n",
    "        a =  results['{}/v{}/missing_values/{}/logistic_regression/3659'.\\\n",
    "                   format(dataset, split_seed, method)].copy()\n",
    "        #print(a)\n",
    "        del a['best_params']\n",
    "        del a['train_acc']\n",
    "        del a['val_acc']\n",
    "        max_key = max(a.items(), key=operator.itemgetter(1))[0]\n",
    "\n",
    "        if a[max_key] > max_acc:\n",
    "            best_params_lr = results['{}/v{}/missing_values/{}/logistic_regression/3659'.\\\n",
    "                   format(dataset, split_seed, method)]['best_params']\n",
    "            max_acc = a[max_key]'''\n",
    "\n",
    "    clf = LogisticRegression(solver='lbfgs', \n",
    "    verbose=True, \n",
    "    max_iter=2000, n_jobs=-1).fit(X_train, y_train)\n",
    "    lr_pred = clf.predict(X_test)\n",
    "    lr_train_acc = accuracy(clf.predict(X_train), y_train)\n",
    "    lr_test_acc = accuracy(lr_pred, y_test)\n",
    "    lr_test_f1 = f1(lr_pred, y_test)\n",
    "\n",
    "    print(\"LR Train Accuracy: {} \\nLR Test  Accuracy: {}\".format(lr_train_acc, lr_test_acc))\n",
    "\n",
    "    W = np.hstack((clf.intercept_[:,None], clf.coef_))[0]\n",
    "    nacl = LR2NB_GP.LR2NB(W)\n",
    "    nacl.setObj(X_train, y_train)\n",
    "\n",
    "    # Using Mosek Solver\n",
    "    nacl.solve(verbose=1)\n",
    "\n",
    "    # Sanity Check to compare NaCL results with Logistic Regression\n",
    "    assert(1.0 == np.average( nacl.classify(X_test)  == clf.predict(X_test )))\n",
    "    assert(1.0 == np.average( nacl.classify(X_train) == clf.predict(X_train)))\n",
    "    nacl_pred = nacl.classify(X_test)\n",
    "    nacl_train_acc = accuracy(nacl.classify(X_train), y_train)\n",
    "    nacl_test_acc = accuracy(nacl_pred, y_test)\n",
    "    #print(nacl_pred)\n",
    "    #print(y_test)\n",
    "    nacl_test_f1 = f1(nacl_pred[0], y_test)\n",
    "\n",
    "    print(\"NaCL Train Accuracy: {} \\nNaCL Test  Accuracy: {}\".format(nacl_train_acc, nacl_test_acc))\n",
    "\n",
    "    NB = BernoulliNB().fit(X_train, y_train)\n",
    "    NB_pred = NB.predict(X_test)\n",
    "    nb_train_acc = accuracy(NB.predict(X_train), y_train)\n",
    "    nb_test_acc = accuracy(NB_pred, y_test)\n",
    "    nb_test_f1 = f1(NB_pred, y_test)\n",
    "\n",
    "    print(\"NB Train Accuracy: {} \\nNB Test  Accuracy: {}\".format(nb_train_acc, nb_test_acc))\n",
    "\n",
    "    # Make an example observations with some missing features\n",
    "\n",
    "    # setting the dimensions to be zero\n",
    "    missing_mask = np.zeros(X_test.shape) \n",
    "\n",
    "\n",
    "    miss = missing\n",
    "    for i in range(len(missing_mask)):\n",
    "        for j in range(len(miss[i])):\n",
    "            missing_mask[i][mappings[miss[i][j]]] = 1\n",
    "\n",
    "    a = nacl.predict_proba(X_test, missing = missing_mask)[:,1]\n",
    "    a = np.where(a > 0.5, 1, 0)\n",
    "\n",
    "    test_acc = accuracy(y_test, a)\n",
    "    test_f1 = f1(y_test, a)\n",
    "    print('nacl test acc with missing:', test_acc)\n",
    "    print('nacl test f1 with missing:', test_f1) # true, pred\n",
    "\n",
    "\n",
    "    result_dict = {}\n",
    "\n",
    "    #result_dict[\"best_params\"] = best_params_lr\n",
    "\n",
    "\n",
    "    result_dict[\"{}_test_f1\".format('nacl_missing')] = test_f1\n",
    "    result_dict[\"{}_test_acc\".format('nacl_missing')] = test_acc\n",
    "\n",
    "    result_dict[\"{}_test_f1\".format('nacl')] = nacl_test_f1\n",
    "    result_dict[\"{}_test_acc\".format('nacl')] = nacl_test_acc\n",
    "    result_dict[\"{}_train_acc\".format('nacl')] = nacl_train_acc\n",
    "\n",
    "    result_dict[\"{}_test_f1\".format('nb')] = nb_test_f1\n",
    "    result_dict[\"{}_test_acc\".format('nb')] = nb_test_acc\n",
    "    result_dict[\"{}_train_acc\".format('nb')] = nb_train_acc\n",
    "\n",
    "    result_dict[\"{}_test_f1\".format('lr')] = lr_test_f1\n",
    "    result_dict[\"{}_test_acc\".format('lr')] = lr_test_acc\n",
    "    result_dict[\"{}_train_acc\".format('lr')] = lr_train_acc\n",
    "\n",
    "    print(result_dict)\n",
    "    save_result_mv(job, seed, result_dict, model_name, save_dir)\n",
    "\n",
    "\n",
    "\n"
   ]
  },
  {
   "cell_type": "code",
   "execution_count": null,
   "metadata": {
    "collapsed": true
   },
   "outputs": [],
   "source": []
  },
  {
   "cell_type": "code",
   "execution_count": null,
   "metadata": {
    "collapsed": true
   },
   "outputs": [],
   "source": []
  },
  {
   "cell_type": "code",
   "execution_count": null,
   "metadata": {
    "collapsed": true
   },
   "outputs": [],
   "source": []
  }
 ],
 "metadata": {
  "kernelspec": {
   "display_name": "nacl36",
   "language": "python",
   "name": "nacl36"
  },
  "language_info": {
   "codemirror_mode": {
    "name": "ipython",
    "version": 3
   },
   "file_extension": ".py",
   "mimetype": "text/x-python",
   "name": "python",
   "nbconvert_exporter": "python",
   "pygments_lexer": "ipython3",
   "version": "3.6.11"
  }
 },
 "nbformat": 4,
 "nbformat_minor": 2
}
