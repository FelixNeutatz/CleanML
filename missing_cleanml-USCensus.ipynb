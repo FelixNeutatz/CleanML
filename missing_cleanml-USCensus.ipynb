{
 "cells": [
  {
   "cell_type": "markdown",
   "metadata": {},
   "source": [
    "This version specifies a random portion of missingness in the features. It is identical with missing_cleanml-2-percentage. These two notebooks are used to run datasets in parallel. Airbnb in particular takes a long time to run."
   ]
  },
  {
   "cell_type": "code",
   "execution_count": 1,
   "metadata": {
    "scrolled": true
   },
   "outputs": [
    {
     "name": "stderr",
     "output_type": "stream",
     "text": [
      "/mnt/ds3lab-scratch/raox/gatech_data_cleaning/ICDE2021-revision/nacl36/lib/python3.6/importlib/_bootstrap.py:219: RuntimeWarning: numpy.dtype size changed, may indicate binary incompatibility. Expected 96, got 88\n",
      "  return f(*args, **kwds)\n",
      "/mnt/ds3lab-scratch/raox/gatech_data_cleaning/ICDE2021-revision/nacl36/lib/python3.6/importlib/_bootstrap.py:219: RuntimeWarning: numpy.dtype size changed, may indicate binary incompatibility. Expected 96, got 88\n",
      "  return f(*args, **kwds)\n"
     ]
    }
   ],
   "source": [
    "import six\n",
    "import sys\n",
    "sys.modules['sklearn.externals.six'] = six\n",
    "import mlrose\n",
    "import utils\n",
    "import pickle\n",
    "from collections import defaultdict\n",
    "import numpy as np\n",
    "from collections import OrderedDict\n",
    "from sklearn.metrics import f1_score \n",
    "import pandas as pd\n",
    "from sklearn.metrics import f1_score "
   ]
  },
  {
   "cell_type": "code",
   "execution_count": 2,
   "metadata": {
    "collapsed": true
   },
   "outputs": [],
   "source": [
    "import sys\n",
    "sys.setrecursionlimit(10**6)"
   ]
  },
  {
   "cell_type": "code",
   "execution_count": 3,
   "metadata": {},
   "outputs": [
    {
     "name": "stderr",
     "output_type": "stream",
     "text": [
      "Using TensorFlow backend.\n"
     ]
    }
   ],
   "source": [
    "import math\n",
    "import matplotlib.pyplot as plt \n",
    "from sklearn.datasets import load_digits\n",
    "import numpy as np\n",
    "from sklearn.linear_model import LogisticRegression\n",
    "from sklearn.model_selection import train_test_split\n",
    "import pylab\n",
    "import sys\n",
    "from sklearn.naive_bayes import BernoulliNB, MultinomialNB\n",
    "import keras\n",
    "import time\n",
    "import pandas as pd\n",
    "import json\n",
    "import operator"
   ]
  },
  {
   "cell_type": "code",
   "execution_count": 4,
   "metadata": {
    "collapsed": true
   },
   "outputs": [],
   "source": [
    "sys.path.append(\"../NaCL/code/\")\n",
    "import utils\n",
    "import LR2NB_GP\n",
    "sys.path.append(\"../NaCL/notebooks/\")\n",
    "from dataload import *"
   ]
  },
  {
   "cell_type": "code",
   "execution_count": 5,
   "metadata": {},
   "outputs": [
    {
     "name": "stderr",
     "output_type": "stream",
     "text": [
      "/mnt/ds3lab-scratch/raox/gatech_data_cleaning/ICDE2021-revision/nacl36/lib/python3.6/site-packages/sklearn/utils/deprecation.py:143: FutureWarning: The sklearn.neighbors.base module is  deprecated in version 0.22 and will be removed in version 0.24. The corresponding classes / functions should instead be imported from sklearn.neighbors. Anything that cannot be imported from sklearn.neighbors is now part of the private API.\n",
      "  warnings.warn(message, FutureWarning)\n"
     ]
    }
   ],
   "source": [
    "from preprocess_mv import preprocess_data"
   ]
  },
  {
   "cell_type": "code",
   "execution_count": 6,
   "metadata": {
    "collapsed": true
   },
   "outputs": [],
   "source": [
    "%load_ext autoreload\n",
    "%autoreload 2"
   ]
  },
  {
   "cell_type": "markdown",
   "metadata": {},
   "source": [
    "# Loading Data"
   ]
  },
  {
   "cell_type": "code",
   "execution_count": 7,
   "metadata": {
    "collapsed": true,
    "scrolled": true
   },
   "outputs": [],
   "source": [
    "seed = 3659"
   ]
  },
  {
   "cell_type": "code",
   "execution_count": 8,
   "metadata": {
    "collapsed": true
   },
   "outputs": [],
   "source": [
    "data_dir = \"data-robustml-mv\""
   ]
  },
  {
   "cell_type": "code",
   "execution_count": 9,
   "metadata": {
    "collapsed": true
   },
   "outputs": [],
   "source": [
    "save_dir = \"result-robustml\"\n",
    "model_name ='nacl'"
   ]
  },
  {
   "cell_type": "code",
   "execution_count": 10,
   "metadata": {
    "collapsed": true
   },
   "outputs": [],
   "source": [
    "accuracy = lambda x,y: np.mean(x == y)\n",
    "f1 = lambda x,y: f1_score(x,y.flatten(), average = \"weighted\")\n",
    "\n"
   ]
  },
  {
   "cell_type": "code",
   "execution_count": 11,
   "metadata": {
    "collapsed": true
   },
   "outputs": [],
   "source": [
    "dataset = 'USCensus'"
   ]
  },
  {
   "cell_type": "code",
   "execution_count": 12,
   "metadata": {
    "scrolled": true
   },
   "outputs": [
    {
     "name": "stdout",
     "output_type": "stream",
     "text": [
      "Number of jobs: 20\n"
     ]
    }
   ],
   "source": [
    "jobs = get_jobs_mv(data_dir, dataset = [dataset])\n",
    "print(\"Number of jobs:\", len(jobs))"
   ]
  },
  {
   "cell_type": "code",
   "execution_count": 13,
   "metadata": {},
   "outputs": [
    {
     "data": {
      "text/plain": [
       "[['data-robustml-mv', 'USCensus', 'missing_values', 'split_9394'],\n",
       " ['data-robustml-mv', 'USCensus', 'missing_values', 'split_8444'],\n",
       " ['data-robustml-mv', 'USCensus', 'missing_values', 'split_6542'],\n",
       " ['data-robustml-mv', 'USCensus', 'missing_values', 'split_235'],\n",
       " ['data-robustml-mv', 'USCensus', 'missing_values', 'split_7751'],\n",
       " ['data-robustml-mv', 'USCensus', 'missing_values', 'split_4764'],\n",
       " ['data-robustml-mv', 'USCensus', 'missing_values', 'split_2895'],\n",
       " ['data-robustml-mv', 'USCensus', 'missing_values', 'split_5396'],\n",
       " ['data-robustml-mv', 'USCensus', 'missing_values', 'split_5192'],\n",
       " ['data-robustml-mv', 'USCensus', 'missing_values', 'split_8093'],\n",
       " ['data-robustml-mv', 'USCensus', 'missing_values', 'split_2962'],\n",
       " ['data-robustml-mv', 'USCensus', 'missing_values', 'split_144'],\n",
       " ['data-robustml-mv', 'USCensus', 'missing_values', 'split_905'],\n",
       " ['data-robustml-mv', 'USCensus', 'missing_values', 'split_2516'],\n",
       " ['data-robustml-mv', 'USCensus', 'missing_values', 'split_7813'],\n",
       " ['data-robustml-mv', 'USCensus', 'missing_values', 'split_3462'],\n",
       " ['data-robustml-mv', 'USCensus', 'missing_values', 'split_4225'],\n",
       " ['data-robustml-mv', 'USCensus', 'missing_values', 'split_5374'],\n",
       " ['data-robustml-mv', 'USCensus', 'missing_values', 'split_5056'],\n",
       " ['data-robustml-mv', 'USCensus', 'missing_values', 'split_3562']]"
      ]
     },
     "execution_count": 13,
     "metadata": {},
     "output_type": "execute_result"
    }
   ],
   "source": [
    "jobs"
   ]
  },
  {
   "cell_type": "code",
   "execution_count": 14,
   "metadata": {
    "collapsed": true
   },
   "outputs": [],
   "source": [
    "accuracy = lambda x,y: np.mean(x == y)\n",
    "f1 = lambda x,y: f1_score(x,y.flatten(), average = \"weighted\")\n",
    "\n"
   ]
  },
  {
   "cell_type": "code",
   "execution_count": 15,
   "metadata": {
    "collapsed": true
   },
   "outputs": [],
   "source": [
    "with open('/mnt/ds3lab-scratch/raox/gatech_data_cleaning/ICDE2021-revision/CleanML/result/{}_result.json'.format(dataset)) as json_file:\n",
    "    results = json.load(json_file)"
   ]
  },
  {
   "cell_type": "code",
   "execution_count": null,
   "metadata": {
    "collapsed": true
   },
   "outputs": [],
   "source": []
  },
  {
   "cell_type": "code",
   "execution_count": null,
   "metadata": {
    "collapsed": true
   },
   "outputs": [],
   "source": []
  },
  {
   "cell_type": "code",
   "execution_count": null,
   "metadata": {
    "collapsed": true
   },
   "outputs": [],
   "source": []
  },
  {
   "cell_type": "code",
   "execution_count": 16,
   "metadata": {},
   "outputs": [
    {
     "name": "stdout",
     "output_type": "stream",
     "text": [
      "Processing ['data-robustml-mv', 'USCensus', 'missing_values', 'split_9394']\n",
      "--------------\n",
      "dataset: {'data_dir': 'USCensus', 'error_types': ['missing_values'], 'label': 'Income', 'ml_task': 'classification'}\n",
      "columns to encode: ['Workclass', 'Education', 'Marital-status', 'Occupation', 'Relationship', 'Race', 'Sex', 'Native-country']\n"
     ]
    },
    {
     "name": "stderr",
     "output_type": "stream",
     "text": [
      "[Parallel(n_jobs=-1)]: Using backend LokyBackend with 16 concurrent workers.\n",
      "[Parallel(n_jobs=-1)]: Done   1 out of   1 | elapsed:    5.3s finished\n"
     ]
    },
    {
     "name": "stdout",
     "output_type": "stream",
     "text": [
      "LR Train Accuracy: 0.8550476190476191 \n",
      "LR Test  Accuracy: 0.8477777777777777\n",
      "Using solver 'cvxopt'\n",
      " for 434 free variables\n",
      "  in 436 posynomial inequalities.\n",
      "Solving took 4.07 seconds.\n",
      "NaCL Train Accuracy: 0.8550476190476191 \n",
      "NaCL Test  Accuracy: 0.8477777777777777\n",
      "NB Train Accuracy: 0.7874285714285715 \n",
      "NB Test  Accuracy: 0.7886666666666666\n",
      "nacl test acc with missing: 0.8477777777777777\n",
      "nacl test f1 with missing: 0.8430716362799788\n",
      "{'best_params': {'C': 1.7971880102761828}, 'nacl_missing_test_f1': 0.8430716362799788, 'nacl_missing_test_acc': 0.8477777777777777, 'nacl_test_f1': 0.8524839192755768, 'nacl_test_acc': 0.8477777777777777, 'nacl_train_acc': 0.8550476190476191, 'nb_test_f1': 0.7782574790265708, 'nb_test_acc': 0.7886666666666666, 'nb_train_acc': 0.7874285714285715, 'lr_test_f1': 0.8524839192755768, 'lr_test_acc': 0.8477777777777777, 'lr_train_acc': 0.8550476190476191}\n",
      "Processing ['data-robustml-mv', 'USCensus', 'missing_values', 'split_8444']\n",
      "--------------\n",
      "dataset: {'data_dir': 'USCensus', 'error_types': ['missing_values'], 'label': 'Income', 'ml_task': 'classification'}\n",
      "columns to encode: ['Workclass', 'Education', 'Marital-status', 'Occupation', 'Relationship', 'Race', 'Sex', 'Native-country']\n"
     ]
    },
    {
     "name": "stderr",
     "output_type": "stream",
     "text": [
      "[Parallel(n_jobs=-1)]: Using backend LokyBackend with 16 concurrent workers.\n",
      "[Parallel(n_jobs=-1)]: Done   1 out of   1 | elapsed:    2.4s finished\n"
     ]
    },
    {
     "name": "stdout",
     "output_type": "stream",
     "text": [
      "LR Train Accuracy: 0.8467619047619047 \n",
      "LR Test  Accuracy: 0.8473333333333334\n",
      "Using solver 'cvxopt'\n",
      " for 434 free variables\n",
      "  in 436 posynomial inequalities.\n",
      "Solving took 6.41 seconds.\n",
      "NaCL Train Accuracy: 0.8467619047619047 \n",
      "NaCL Test  Accuracy: 0.8473333333333334\n",
      "NB Train Accuracy: 0.7847619047619048 \n",
      "NB Test  Accuracy: 0.778\n",
      "nacl test acc with missing: 0.8471111111111111\n",
      "nacl test f1 with missing: 0.8411307058358066\n",
      "{'best_params': {'C': 1286.4014641512479}, 'nacl_missing_test_f1': 0.8411307058358066, 'nacl_missing_test_acc': 0.8471111111111111, 'nacl_test_f1': 0.8532717886370916, 'nacl_test_acc': 0.8473333333333334, 'nacl_train_acc': 0.8467619047619047, 'nb_test_f1': 0.7660630573748298, 'nb_test_acc': 0.778, 'nb_train_acc': 0.7847619047619048, 'lr_test_f1': 0.8532717886370916, 'lr_test_acc': 0.8473333333333334, 'lr_train_acc': 0.8467619047619047}\n",
      "Processing ['data-robustml-mv', 'USCensus', 'missing_values', 'split_6542']\n",
      "--------------\n",
      "dataset: {'data_dir': 'USCensus', 'error_types': ['missing_values'], 'label': 'Income', 'ml_task': 'classification'}\n",
      "columns to encode: ['Workclass', 'Education', 'Marital-status', 'Occupation', 'Relationship', 'Race', 'Sex', 'Native-country']\n"
     ]
    },
    {
     "name": "stderr",
     "output_type": "stream",
     "text": [
      "[Parallel(n_jobs=-1)]: Using backend LokyBackend with 16 concurrent workers.\n",
      "[Parallel(n_jobs=-1)]: Done   1 out of   1 | elapsed:    2.0s finished\n"
     ]
    },
    {
     "name": "stdout",
     "output_type": "stream",
     "text": [
      "LR Train Accuracy: 0.8588571428571429 \n",
      "LR Test  Accuracy: 0.84\n",
      "Using solver 'cvxopt'\n",
      " for 430 free variables\n",
      "  in 432 posynomial inequalities.\n",
      "Solving took 6.7 seconds.\n",
      "NaCL Train Accuracy: 0.8588571428571429 \n",
      "NaCL Test  Accuracy: 0.84\n",
      "NB Train Accuracy: 0.7888571428571428 \n",
      "NB Test  Accuracy: 0.7886666666666666\n",
      "nacl test acc with missing: 0.8402222222222222\n",
      "nacl test f1 with missing: 0.8344655815126683\n",
      "{'best_params': {'C': 0.4743938591108751}, 'nacl_missing_test_f1': 0.8344655815126683, 'nacl_missing_test_acc': 0.8402222222222222, 'nacl_test_f1': 0.8459304797883856, 'nacl_test_acc': 0.84, 'nacl_train_acc': 0.8588571428571429, 'nb_test_f1': 0.7781033267247726, 'nb_test_acc': 0.7886666666666666, 'nb_train_acc': 0.7888571428571428, 'lr_test_f1': 0.8459304797883856, 'lr_test_acc': 0.84, 'lr_train_acc': 0.8588571428571429}\n",
      "Processing ['data-robustml-mv', 'USCensus', 'missing_values', 'split_235']\n",
      "--------------\n",
      "dataset: {'data_dir': 'USCensus', 'error_types': ['missing_values'], 'label': 'Income', 'ml_task': 'classification'}\n",
      "columns to encode: ['Workclass', 'Education', 'Marital-status', 'Occupation', 'Relationship', 'Race', 'Sex', 'Native-country']\n"
     ]
    },
    {
     "name": "stderr",
     "output_type": "stream",
     "text": [
      "[Parallel(n_jobs=-1)]: Using backend LokyBackend with 16 concurrent workers.\n",
      "[Parallel(n_jobs=-1)]: Done   1 out of   1 | elapsed:    1.8s finished\n"
     ]
    },
    {
     "name": "stdout",
     "output_type": "stream",
     "text": [
      "LR Train Accuracy: 0.8506666666666667 \n",
      "LR Test  Accuracy: 0.8475555555555555\n",
      "Using solver 'cvxopt'\n",
      " for 430 free variables\n",
      "  in 432 posynomial inequalities.\n",
      "Solving took 5.85 seconds.\n",
      "NaCL Train Accuracy: 0.8506666666666667 \n",
      "NaCL Test  Accuracy: 0.8475555555555555\n",
      "NB Train Accuracy: 0.783047619047619 \n",
      "NB Test  Accuracy: 0.7904444444444444\n",
      "nacl test acc with missing: 0.8464444444444444\n",
      "nacl test f1 with missing: 0.8403902648396212\n",
      "{'best_params': {'C': 0.7974290448059396}, 'nacl_missing_test_f1': 0.8403902648396212, 'nacl_missing_test_acc': 0.8464444444444444, 'nacl_test_f1': 0.853794791572887, 'nacl_test_acc': 0.8475555555555555, 'nacl_train_acc': 0.8506666666666667, 'nb_test_f1': 0.7799960161842515, 'nb_test_acc': 0.7904444444444444, 'nb_train_acc': 0.783047619047619, 'lr_test_f1': 0.853794791572887, 'lr_test_acc': 0.8475555555555555, 'lr_train_acc': 0.8506666666666667}\n",
      "Processing ['data-robustml-mv', 'USCensus', 'missing_values', 'split_7751']\n",
      "--------------\n",
      "dataset: {'data_dir': 'USCensus', 'error_types': ['missing_values'], 'label': 'Income', 'ml_task': 'classification'}\n",
      "columns to encode: ['Workclass', 'Education', 'Marital-status', 'Occupation', 'Relationship', 'Race', 'Sex', 'Native-country']\n"
     ]
    },
    {
     "name": "stderr",
     "output_type": "stream",
     "text": [
      "[Parallel(n_jobs=-1)]: Using backend LokyBackend with 16 concurrent workers.\n",
      "[Parallel(n_jobs=-1)]: Done   1 out of   1 | elapsed:    2.3s finished\n"
     ]
    },
    {
     "name": "stdout",
     "output_type": "stream",
     "text": [
      "LR Train Accuracy: 0.8528571428571429 \n",
      "LR Test  Accuracy: 0.8566666666666667\n",
      "Using solver 'cvxopt'\n",
      " for 434 free variables\n",
      "  in 436 posynomial inequalities.\n",
      "Solving took 6.13 seconds.\n",
      "NaCL Train Accuracy: 0.8528571428571429 \n",
      "NaCL Test  Accuracy: 0.8566666666666667\n",
      "NB Train Accuracy: 0.7880952380952381 \n",
      "NB Test  Accuracy: 0.7893333333333333\n",
      "nacl test acc with missing: 0.8566666666666667\n",
      "nacl test f1 with missing: 0.8503620666999225\n",
      "{'best_params': {'C': 0.4342583192279275}, 'nacl_missing_test_f1': 0.8503620666999225, 'nacl_missing_test_acc': 0.8566666666666667, 'nacl_test_f1': 0.8632278576418283, 'nacl_test_acc': 0.8566666666666667, 'nacl_train_acc': 0.8528571428571429, 'nb_test_f1': 0.7783421476225969, 'nb_test_acc': 0.7893333333333333, 'nb_train_acc': 0.7880952380952381, 'lr_test_f1': 0.8632278576418283, 'lr_test_acc': 0.8566666666666667, 'lr_train_acc': 0.8528571428571429}\n",
      "Processing ['data-robustml-mv', 'USCensus', 'missing_values', 'split_4764']\n",
      "--------------\n",
      "dataset: {'data_dir': 'USCensus', 'error_types': ['missing_values'], 'label': 'Income', 'ml_task': 'classification'}\n",
      "columns to encode: ['Workclass', 'Education', 'Marital-status', 'Occupation', 'Relationship', 'Race', 'Sex', 'Native-country']\n"
     ]
    },
    {
     "name": "stderr",
     "output_type": "stream",
     "text": [
      "[Parallel(n_jobs=-1)]: Using backend LokyBackend with 16 concurrent workers.\n",
      "[Parallel(n_jobs=-1)]: Done   1 out of   1 | elapsed:    1.4s finished\n"
     ]
    },
    {
     "name": "stdout",
     "output_type": "stream",
     "text": [
      "LR Train Accuracy: 0.8555238095238096 \n",
      "LR Test  Accuracy: 0.8473333333333334\n",
      "Using solver 'cvxopt'\n",
      " for 434 free variables\n",
      "  in 436 posynomial inequalities.\n",
      "Solving took 3.59 seconds.\n",
      "NaCL Train Accuracy: 0.8555238095238096 \n",
      "NaCL Test  Accuracy: 0.8473333333333334\n",
      "NB Train Accuracy: 0.7835238095238095 \n",
      "NB Test  Accuracy: 0.7873333333333333\n",
      "nacl test acc with missing: 0.8471111111111111\n",
      "nacl test f1 with missing: 0.8416331084377036\n",
      "{'best_params': {'C': 0.6474396759398192}, 'nacl_missing_test_f1': 0.8416331084377036, 'nacl_missing_test_acc': 0.8471111111111111, 'nacl_test_f1': 0.8529509733126983, 'nacl_test_acc': 0.8473333333333334, 'nacl_train_acc': 0.8555238095238096, 'nb_test_f1': 0.777680743513184, 'nb_test_acc': 0.7873333333333333, 'nb_train_acc': 0.7835238095238095, 'lr_test_f1': 0.8529509733126983, 'lr_test_acc': 0.8473333333333334, 'lr_train_acc': 0.8555238095238096}\n",
      "Processing ['data-robustml-mv', 'USCensus', 'missing_values', 'split_2895']\n",
      "--------------\n",
      "dataset: {'data_dir': 'USCensus', 'error_types': ['missing_values'], 'label': 'Income', 'ml_task': 'classification'}\n",
      "columns to encode: ['Workclass', 'Education', 'Marital-status', 'Occupation', 'Relationship', 'Race', 'Sex', 'Native-country']\n"
     ]
    },
    {
     "name": "stderr",
     "output_type": "stream",
     "text": [
      "[Parallel(n_jobs=-1)]: Using backend LokyBackend with 16 concurrent workers.\n",
      "[Parallel(n_jobs=-1)]: Done   1 out of   1 | elapsed:    1.3s finished\n"
     ]
    },
    {
     "name": "stdout",
     "output_type": "stream",
     "text": [
      "LR Train Accuracy: 0.8480952380952381 \n",
      "LR Test  Accuracy: 0.8526666666666667\n",
      "Using solver 'cvxopt'\n",
      " for 430 free variables\n",
      "  in 432 posynomial inequalities.\n",
      "Solving took 5.49 seconds.\n",
      "NaCL Train Accuracy: 0.8480952380952381 \n",
      "NaCL Test  Accuracy: 0.8526666666666667\n",
      "NB Train Accuracy: 0.7807619047619048 \n",
      "NB Test  Accuracy: 0.7935555555555556\n",
      "nacl test acc with missing: 0.8528888888888889\n",
      "nacl test f1 with missing: 0.8465344787519316\n",
      "{'best_params': {'C': 0.4743938591108751}, 'nacl_missing_test_f1': 0.8465344787519316, 'nacl_missing_test_acc': 0.8528888888888889, 'nacl_test_f1': 0.8591324539730738, 'nacl_test_acc': 0.8526666666666667, 'nacl_train_acc': 0.8480952380952381, 'nb_test_f1': 0.7819277481761662, 'nb_test_acc': 0.7935555555555556, 'nb_train_acc': 0.7807619047619048, 'lr_test_f1': 0.8591324539730738, 'lr_test_acc': 0.8526666666666667, 'lr_train_acc': 0.8480952380952381}\n",
      "Processing ['data-robustml-mv', 'USCensus', 'missing_values', 'split_5396']\n",
      "--------------\n",
      "dataset: {'data_dir': 'USCensus', 'error_types': ['missing_values'], 'label': 'Income', 'ml_task': 'classification'}\n",
      "columns to encode: ['Workclass', 'Education', 'Marital-status', 'Occupation', 'Relationship', 'Race', 'Sex', 'Native-country']\n"
     ]
    },
    {
     "name": "stderr",
     "output_type": "stream",
     "text": [
      "[Parallel(n_jobs=-1)]: Using backend LokyBackend with 16 concurrent workers.\n",
      "[Parallel(n_jobs=-1)]: Done   1 out of   1 | elapsed:    1.5s finished\n"
     ]
    },
    {
     "name": "stdout",
     "output_type": "stream",
     "text": [
      "LR Train Accuracy: 0.8555238095238096 \n",
      "LR Test  Accuracy: 0.8466666666666667\n",
      "Using solver 'cvxopt'\n",
      " for 434 free variables\n",
      "  in 436 posynomial inequalities.\n",
      "Solving took 4.22 seconds.\n",
      "NaCL Train Accuracy: 0.8555238095238096 \n",
      "NaCL Test  Accuracy: 0.8466666666666667\n",
      "NB Train Accuracy: 0.786 \n",
      "NB Test  Accuracy: 0.7846666666666666\n",
      "nacl test acc with missing: 0.8473333333333334\n",
      "nacl test f1 with missing: 0.8415059664030385\n",
      "{'best_params': {'C': 4.043181162332948}, 'nacl_missing_test_f1': 0.8415059664030385, 'nacl_missing_test_acc': 0.8473333333333334, 'nacl_test_f1': 0.8526851824810413, 'nacl_test_acc': 0.8466666666666667, 'nacl_train_acc': 0.8555238095238096, 'nb_test_f1': 0.7729931499454618, 'nb_test_acc': 0.7846666666666666, 'nb_train_acc': 0.786, 'lr_test_f1': 0.8526851824810413, 'lr_test_acc': 0.8466666666666667, 'lr_train_acc': 0.8555238095238096}\n",
      "Processing ['data-robustml-mv', 'USCensus', 'missing_values', 'split_5192']\n",
      "--------------\n",
      "dataset: {'data_dir': 'USCensus', 'error_types': ['missing_values'], 'label': 'Income', 'ml_task': 'classification'}\n",
      "columns to encode: ['Workclass', 'Education', 'Marital-status', 'Occupation', 'Relationship', 'Race', 'Sex', 'Native-country']\n"
     ]
    },
    {
     "name": "stderr",
     "output_type": "stream",
     "text": [
      "[Parallel(n_jobs=-1)]: Using backend LokyBackend with 16 concurrent workers.\n",
      "[Parallel(n_jobs=-1)]: Done   1 out of   1 | elapsed:    1.6s finished\n"
     ]
    },
    {
     "name": "stdout",
     "output_type": "stream",
     "text": [
      "LR Train Accuracy: 0.8574285714285714 \n",
      "LR Test  Accuracy: 0.8522222222222222\n",
      "Using solver 'cvxopt'\n",
      " for 434 free variables\n",
      "  in 436 posynomial inequalities.\n",
      "Solving took 6.62 seconds.\n",
      "NaCL Train Accuracy: 0.8574285714285714 \n",
      "NaCL Test  Accuracy: 0.8522222222222222\n",
      "NB Train Accuracy: 0.7881904761904762 \n",
      "NB Test  Accuracy: 0.7835555555555556\n",
      "nacl test acc with missing: 0.8517777777777777\n",
      "nacl test f1 with missing: 0.8451222941222857\n",
      "{'best_params': {'C': 0.38434323355513716}, 'nacl_missing_test_f1': 0.8451222941222857, 'nacl_missing_test_acc': 0.8517777777777777, 'nacl_test_f1': 0.8591837399499707, 'nacl_test_acc': 0.8522222222222222, 'nacl_train_acc': 0.8574285714285714, 'nb_test_f1': 0.7723160478719349, 'nb_test_acc': 0.7835555555555556, 'nb_train_acc': 0.7881904761904762, 'lr_test_f1': 0.8591837399499707, 'lr_test_acc': 0.8522222222222222, 'lr_train_acc': 0.8574285714285714}\n",
      "Processing ['data-robustml-mv', 'USCensus', 'missing_values', 'split_8093']\n",
      "--------------\n",
      "dataset: {'data_dir': 'USCensus', 'error_types': ['missing_values'], 'label': 'Income', 'ml_task': 'classification'}\n",
      "columns to encode: ['Workclass', 'Education', 'Marital-status', 'Occupation', 'Relationship', 'Race', 'Sex', 'Native-country']\n"
     ]
    },
    {
     "name": "stderr",
     "output_type": "stream",
     "text": [
      "[Parallel(n_jobs=-1)]: Using backend LokyBackend with 16 concurrent workers.\n",
      "[Parallel(n_jobs=-1)]: Done   1 out of   1 | elapsed:    1.3s finished\n"
     ]
    },
    {
     "name": "stdout",
     "output_type": "stream",
     "text": [
      "LR Train Accuracy: 0.8549523809523809 \n",
      "LR Test  Accuracy: 0.8564444444444445\n",
      "Using solver 'cvxopt'\n",
      " for 430 free variables\n",
      "  in 432 posynomial inequalities.\n",
      "Solving took 2.71 seconds.\n",
      "NaCL Train Accuracy: 0.8549523809523809 \n",
      "NaCL Test  Accuracy: 0.8564444444444445\n",
      "NB Train Accuracy: 0.7897142857142857 \n",
      "NB Test  Accuracy: 0.7806666666666666\n",
      "nacl test acc with missing: 0.8566666666666667\n",
      "nacl test f1 with missing: 0.8517751247775391\n",
      "{'best_params': {'C': 0.21047750333952078}, 'nacl_missing_test_f1': 0.8517751247775391, 'nacl_missing_test_acc': 0.8566666666666667, 'nacl_test_f1': 0.8615482003137475, 'nacl_test_acc': 0.8564444444444445, 'nacl_train_acc': 0.8549523809523809, 'nb_test_f1': 0.769186589464894, 'nb_test_acc': 0.7806666666666666, 'nb_train_acc': 0.7897142857142857, 'lr_test_f1': 0.8615482003137475, 'lr_test_acc': 0.8564444444444445, 'lr_train_acc': 0.8549523809523809}\n",
      "Processing ['data-robustml-mv', 'USCensus', 'missing_values', 'split_2962']\n",
      "--------------\n",
      "dataset: {'data_dir': 'USCensus', 'error_types': ['missing_values'], 'label': 'Income', 'ml_task': 'classification'}\n",
      "columns to encode: ['Workclass', 'Education', 'Marital-status', 'Occupation', 'Relationship', 'Race', 'Sex', 'Native-country']\n"
     ]
    },
    {
     "name": "stderr",
     "output_type": "stream",
     "text": [
      "[Parallel(n_jobs=-1)]: Using backend LokyBackend with 16 concurrent workers.\n",
      "[Parallel(n_jobs=-1)]: Done   1 out of   1 | elapsed:    1.5s finished\n"
     ]
    },
    {
     "name": "stdout",
     "output_type": "stream",
     "text": [
      "LR Train Accuracy: 0.8553333333333333 \n",
      "LR Test  Accuracy: 0.8522222222222222\n",
      "Using solver 'cvxopt'\n",
      " for 434 free variables\n",
      "  in 436 posynomial inequalities.\n",
      "Solving took 2.97 seconds.\n",
      "NaCL Train Accuracy: 0.8553333333333333 \n",
      "NaCL Test  Accuracy: 0.8522222222222222\n",
      "NB Train Accuracy: 0.7826666666666666 \n",
      "NB Test  Accuracy: 0.7822222222222223\n",
      "nacl test acc with missing: 0.8526666666666667\n",
      "nacl test f1 with missing: 0.8486471161095851\n",
      "{'best_params': {'C': 1.2440557422562917}, 'nacl_missing_test_f1': 0.8486471161095851, 'nacl_missing_test_acc': 0.8526666666666667, 'nacl_test_f1': 0.8563142388144097, 'nacl_test_acc': 0.8522222222222222, 'nacl_train_acc': 0.8553333333333333, 'nb_test_f1': 0.7694370392380198, 'nb_test_acc': 0.7822222222222223, 'nb_train_acc': 0.7826666666666666, 'lr_test_f1': 0.8563142388144097, 'lr_test_acc': 0.8522222222222222, 'lr_train_acc': 0.8553333333333333}\n",
      "Processing ['data-robustml-mv', 'USCensus', 'missing_values', 'split_144']\n",
      "--------------\n",
      "dataset: {'data_dir': 'USCensus', 'error_types': ['missing_values'], 'label': 'Income', 'ml_task': 'classification'}\n",
      "columns to encode: ['Workclass', 'Education', 'Marital-status', 'Occupation', 'Relationship', 'Race', 'Sex', 'Native-country']\n"
     ]
    },
    {
     "name": "stderr",
     "output_type": "stream",
     "text": [
      "[Parallel(n_jobs=-1)]: Using backend LokyBackend with 16 concurrent workers.\n",
      "[Parallel(n_jobs=-1)]: Done   1 out of   1 | elapsed:    1.6s finished\n"
     ]
    },
    {
     "name": "stdout",
     "output_type": "stream",
     "text": [
      "LR Train Accuracy: 0.8556190476190476 \n",
      "LR Test  Accuracy: 0.8526666666666667\n",
      "Using solver 'cvxopt'\n",
      " for 434 free variables\n",
      "  in 436 posynomial inequalities.\n",
      "Solving took 4.82 seconds.\n",
      "NaCL Train Accuracy: 0.8556190476190476 \n",
      "NaCL Test  Accuracy: 0.8526666666666667\n",
      "NB Train Accuracy: 0.7851428571428571 \n",
      "NB Test  Accuracy: 0.7855555555555556\n",
      "nacl test acc with missing: 0.8528888888888889\n",
      "nacl test f1 with missing: 0.8483174680555543\n",
      "{'best_params': {'C': 0.8375253152027753}, 'nacl_missing_test_f1': 0.8483174680555543, 'nacl_missing_test_acc': 0.8528888888888889, 'nacl_test_f1': 0.8574009696513794, 'nacl_test_acc': 0.8526666666666667, 'nacl_train_acc': 0.8556190476190476, 'nb_test_f1': 0.7730082557678292, 'nb_test_acc': 0.7855555555555556, 'nb_train_acc': 0.7851428571428571, 'lr_test_f1': 0.8574009696513794, 'lr_test_acc': 0.8526666666666667, 'lr_train_acc': 0.8556190476190476}\n",
      "Processing ['data-robustml-mv', 'USCensus', 'missing_values', 'split_905']\n",
      "--------------\n",
      "dataset: {'data_dir': 'USCensus', 'error_types': ['missing_values'], 'label': 'Income', 'ml_task': 'classification'}\n",
      "columns to encode: ['Workclass', 'Education', 'Marital-status', 'Occupation', 'Relationship', 'Race', 'Sex', 'Native-country']\n"
     ]
    },
    {
     "name": "stderr",
     "output_type": "stream",
     "text": [
      "[Parallel(n_jobs=-1)]: Using backend LokyBackend with 16 concurrent workers.\n",
      "[Parallel(n_jobs=-1)]: Done   1 out of   1 | elapsed:    1.8s finished\n"
     ]
    },
    {
     "name": "stdout",
     "output_type": "stream",
     "text": [
      "LR Train Accuracy: 0.8529523809523809 \n",
      "LR Test  Accuracy: 0.8535555555555555\n",
      "Using solver 'cvxopt'\n",
      " for 430 free variables\n",
      "  in 432 posynomial inequalities.\n",
      "Solving took 5.83 seconds.\n",
      "NaCL Train Accuracy: 0.8529523809523809 \n",
      "NaCL Test  Accuracy: 0.8535555555555555\n",
      "NB Train Accuracy: 0.7791428571428571 \n",
      "NB Test  Accuracy: 0.784\n",
      "nacl test acc with missing: 0.8533333333333334\n",
      "nacl test f1 with missing: 0.8494578716122829\n",
      "{'best_params': {'C': 396.56394391206925}, 'nacl_missing_test_f1': 0.8494578716122829, 'nacl_missing_test_acc': 0.8533333333333334, 'nacl_test_f1': 0.8573964465023428, 'nacl_test_acc': 0.8535555555555555, 'nacl_train_acc': 0.8529523809523809, 'nb_test_f1': 0.7717062003179649, 'nb_test_acc': 0.784, 'nb_train_acc': 0.7791428571428571, 'lr_test_f1': 0.8573964465023428, 'lr_test_acc': 0.8535555555555555, 'lr_train_acc': 0.8529523809523809}\n",
      "Processing ['data-robustml-mv', 'USCensus', 'missing_values', 'split_2516']\n",
      "--------------\n",
      "dataset: {'data_dir': 'USCensus', 'error_types': ['missing_values'], 'label': 'Income', 'ml_task': 'classification'}\n",
      "columns to encode: ['Workclass', 'Education', 'Marital-status', 'Occupation', 'Relationship', 'Race', 'Sex', 'Native-country']\n"
     ]
    },
    {
     "name": "stderr",
     "output_type": "stream",
     "text": [
      "[Parallel(n_jobs=-1)]: Using backend LokyBackend with 16 concurrent workers.\n",
      "[Parallel(n_jobs=-1)]: Done   1 out of   1 | elapsed:    1.8s finished\n"
     ]
    },
    {
     "name": "stdout",
     "output_type": "stream",
     "text": [
      "LR Train Accuracy: 0.8544761904761905 \n",
      "LR Test  Accuracy: 0.8497777777777777\n",
      "Using solver 'cvxopt'\n",
      " for 430 free variables\n",
      "  in 432 posynomial inequalities.\n",
      "Solving took 3.15 seconds.\n",
      "NaCL Train Accuracy: 0.8544761904761905 \n",
      "NaCL Test  Accuracy: 0.8497777777777777\n",
      "NB Train Accuracy: 0.785047619047619 \n",
      "NB Test  Accuracy: 0.7893333333333333\n",
      "nacl test acc with missing: 0.8497777777777777\n",
      "nacl test f1 with missing: 0.8455355157246095\n",
      "{'best_params': {'C': 1286.4014641512479}, 'nacl_missing_test_f1': 0.8455355157246095, 'nacl_missing_test_acc': 0.8497777777777777, 'nacl_test_f1': 0.8538383457874712, 'nacl_test_acc': 0.8497777777777777, 'nacl_train_acc': 0.8544761904761905, 'nb_test_f1': 0.7776180865256338, 'nb_test_acc': 0.7893333333333333, 'nb_train_acc': 0.785047619047619, 'lr_test_f1': 0.8538383457874712, 'lr_test_acc': 0.8497777777777777, 'lr_train_acc': 0.8544761904761905}\n",
      "Processing ['data-robustml-mv', 'USCensus', 'missing_values', 'split_7813']\n",
      "--------------\n",
      "dataset: {'data_dir': 'USCensus', 'error_types': ['missing_values'], 'label': 'Income', 'ml_task': 'classification'}\n",
      "columns to encode: ['Workclass', 'Education', 'Marital-status', 'Occupation', 'Relationship', 'Race', 'Sex', 'Native-country']\n"
     ]
    },
    {
     "name": "stderr",
     "output_type": "stream",
     "text": [
      "[Parallel(n_jobs=-1)]: Using backend LokyBackend with 16 concurrent workers.\n",
      "[Parallel(n_jobs=-1)]: Done   1 out of   1 | elapsed:    1.3s finished\n"
     ]
    },
    {
     "name": "stdout",
     "output_type": "stream",
     "text": [
      "LR Train Accuracy: 0.856 \n",
      "LR Test  Accuracy: 0.8502222222222222\n",
      "Using solver 'cvxopt'\n",
      " for 430 free variables\n",
      "  in 432 posynomial inequalities.\n",
      "Solving took 3.19 seconds.\n",
      "NaCL Train Accuracy: 0.856 \n",
      "NaCL Test  Accuracy: 0.8502222222222222\n",
      "NB Train Accuracy: 0.7858095238095238 \n",
      "NB Test  Accuracy: 0.7846666666666666\n",
      "nacl test acc with missing: 0.85\n",
      "nacl test f1 with missing: 0.8430089502140614\n",
      "{'best_params': {'C': 0.1080830422554296}, 'nacl_missing_test_f1': 0.8430089502140614, 'nacl_missing_test_acc': 0.85, 'nacl_test_f1': 0.8573727824110368, 'nacl_test_acc': 0.8502222222222222, 'nacl_train_acc': 0.856, 'nb_test_f1': 0.7734646038864672, 'nb_test_acc': 0.7846666666666666, 'nb_train_acc': 0.7858095238095238, 'lr_test_f1': 0.8573727824110368, 'lr_test_acc': 0.8502222222222222, 'lr_train_acc': 0.856}\n",
      "Processing ['data-robustml-mv', 'USCensus', 'missing_values', 'split_3462']\n",
      "--------------\n",
      "dataset: {'data_dir': 'USCensus', 'error_types': ['missing_values'], 'label': 'Income', 'ml_task': 'classification'}\n",
      "columns to encode: ['Workclass', 'Education', 'Marital-status', 'Occupation', 'Relationship', 'Race', 'Sex', 'Native-country']\n"
     ]
    },
    {
     "name": "stderr",
     "output_type": "stream",
     "text": [
      "[Parallel(n_jobs=-1)]: Using backend LokyBackend with 16 concurrent workers.\n",
      "[Parallel(n_jobs=-1)]: Done   1 out of   1 | elapsed:    1.4s finished\n"
     ]
    },
    {
     "name": "stdout",
     "output_type": "stream",
     "text": [
      "LR Train Accuracy: 0.8529523809523809 \n",
      "LR Test  Accuracy: 0.8457777777777777\n",
      "Using solver 'cvxopt'\n",
      " for 434 free variables\n",
      "  in 436 posynomial inequalities.\n",
      "Solving took 4.08 seconds.\n",
      "NaCL Train Accuracy: 0.8529523809523809 \n",
      "NaCL Test  Accuracy: 0.8457777777777777\n",
      "NB Train Accuracy: 0.7817142857142857 \n",
      "NB Test  Accuracy: 0.7815555555555556\n",
      "nacl test acc with missing: 0.8453333333333334\n",
      "nacl test f1 with missing: 0.8396181314413447\n",
      "{'best_params': {'C': 0.1080830422554296}, 'nacl_missing_test_f1': 0.8396181314413447, 'nacl_missing_test_acc': 0.8453333333333334, 'nacl_test_f1': 0.8516762440631997, 'nacl_test_acc': 0.8457777777777777, 'nacl_train_acc': 0.8529523809523809, 'nb_test_f1': 0.7690338313792208, 'nb_test_acc': 0.7815555555555556, 'nb_train_acc': 0.7817142857142857, 'lr_test_f1': 0.8516762440631997, 'lr_test_acc': 0.8457777777777777, 'lr_train_acc': 0.8529523809523809}\n",
      "Processing ['data-robustml-mv', 'USCensus', 'missing_values', 'split_4225']\n",
      "--------------\n",
      "dataset: {'data_dir': 'USCensus', 'error_types': ['missing_values'], 'label': 'Income', 'ml_task': 'classification'}\n",
      "columns to encode: ['Workclass', 'Education', 'Marital-status', 'Occupation', 'Relationship', 'Race', 'Sex', 'Native-country']\n"
     ]
    },
    {
     "name": "stderr",
     "output_type": "stream",
     "text": [
      "[Parallel(n_jobs=-1)]: Using backend LokyBackend with 16 concurrent workers.\n",
      "[Parallel(n_jobs=-1)]: Done   1 out of   1 | elapsed:    0.6s finished\n"
     ]
    },
    {
     "name": "stdout",
     "output_type": "stream",
     "text": [
      "LR Train Accuracy: 0.8534285714285714 \n",
      "LR Test  Accuracy: 0.854\n",
      "Using solver 'cvxopt'\n",
      " for 430 free variables\n",
      "  in 432 posynomial inequalities.\n",
      "Solving took 3.68 seconds.\n",
      "NaCL Train Accuracy: 0.8534285714285714 \n",
      "NaCL Test  Accuracy: 0.854\n",
      "NB Train Accuracy: 0.786952380952381 \n",
      "NB Test  Accuracy: 0.7895555555555556\n",
      "nacl test acc with missing: 0.8528888888888889\n",
      "nacl test f1 with missing: 0.8472259834923934\n",
      "{'best_params': {'C': 2.6695337126101424}, 'nacl_missing_test_f1': 0.8472259834923934, 'nacl_missing_test_acc': 0.8528888888888889, 'nacl_test_f1': 0.8598366766254091, 'nacl_test_acc': 0.854, 'nacl_train_acc': 0.8534285714285714, 'nb_test_f1': 0.778867970023277, 'nb_test_acc': 0.7895555555555556, 'nb_train_acc': 0.786952380952381, 'lr_test_f1': 0.8598366766254091, 'lr_test_acc': 0.854, 'lr_train_acc': 0.8534285714285714}\n",
      "Processing ['data-robustml-mv', 'USCensus', 'missing_values', 'split_5374']\n",
      "--------------\n",
      "dataset: {'data_dir': 'USCensus', 'error_types': ['missing_values'], 'label': 'Income', 'ml_task': 'classification'}\n",
      "columns to encode: ['Workclass', 'Education', 'Marital-status', 'Occupation', 'Relationship', 'Race', 'Sex', 'Native-country']\n"
     ]
    },
    {
     "name": "stderr",
     "output_type": "stream",
     "text": [
      "[Parallel(n_jobs=-1)]: Using backend LokyBackend with 16 concurrent workers.\n",
      "[Parallel(n_jobs=-1)]: Done   1 out of   1 | elapsed:    0.5s finished\n"
     ]
    },
    {
     "name": "stdout",
     "output_type": "stream",
     "text": [
      "LR Train Accuracy: 0.8501904761904762 \n",
      "LR Test  Accuracy: 0.8553333333333333\n",
      "Using solver 'cvxopt'\n",
      " for 430 free variables\n",
      "  in 432 posynomial inequalities.\n",
      "Solving took 5.66 seconds.\n",
      "NaCL Train Accuracy: 0.8501904761904762 \n",
      "NaCL Test  Accuracy: 0.8553333333333333\n",
      "NB Train Accuracy: 0.7750476190476191 \n",
      "NB Test  Accuracy: 0.7917777777777778\n",
      "nacl test acc with missing: 0.8564444444444445\n",
      "nacl test f1 with missing: 0.8493607491481172\n",
      "{'best_params': {'C': 1286.4014641512479}, 'nacl_missing_test_f1': 0.8493607491481172, 'nacl_missing_test_acc': 0.8564444444444445, 'nacl_test_f1': 0.8622409343980176, 'nacl_test_acc': 0.8553333333333333, 'nacl_train_acc': 0.8501904761904762, 'nb_test_f1': 0.7809948017680072, 'nb_test_acc': 0.7917777777777778, 'nb_train_acc': 0.7750476190476191, 'lr_test_f1': 0.8622409343980176, 'lr_test_acc': 0.8553333333333333, 'lr_train_acc': 0.8501904761904762}\n",
      "Processing ['data-robustml-mv', 'USCensus', 'missing_values', 'split_5056']\n",
      "--------------\n",
      "dataset: {'data_dir': 'USCensus', 'error_types': ['missing_values'], 'label': 'Income', 'ml_task': 'classification'}\n",
      "columns to encode: ['Workclass', 'Education', 'Marital-status', 'Occupation', 'Relationship', 'Race', 'Sex', 'Native-country']\n"
     ]
    },
    {
     "name": "stderr",
     "output_type": "stream",
     "text": [
      "[Parallel(n_jobs=-1)]: Using backend LokyBackend with 16 concurrent workers.\n",
      "[Parallel(n_jobs=-1)]: Done   1 out of   1 | elapsed:    0.5s finished\n"
     ]
    },
    {
     "name": "stdout",
     "output_type": "stream",
     "text": [
      "LR Train Accuracy: 0.85 \n",
      "LR Test  Accuracy: 0.8446666666666667\n",
      "Using solver 'cvxopt'\n",
      " for 430 free variables\n",
      "  in 432 posynomial inequalities.\n",
      "Solving took 4.71 seconds.\n",
      "NaCL Train Accuracy: 0.85 \n",
      "NaCL Test  Accuracy: 0.8446666666666667\n",
      "NB Train Accuracy: 0.7805714285714286 \n",
      "NB Test  Accuracy: 0.7857777777777778\n",
      "nacl test acc with missing: 0.844\n",
      "nacl test f1 with missing: 0.8377440024745696\n",
      "{'best_params': {'C': 1286.4014641512479}, 'nacl_missing_test_f1': 0.8377440024745696, 'nacl_missing_test_acc': 0.844, 'nacl_test_f1': 0.8508615049562119, 'nacl_test_acc': 0.8446666666666667, 'nacl_train_acc': 0.85, 'nb_test_f1': 0.7741800607291753, 'nb_test_acc': 0.7857777777777778, 'nb_train_acc': 0.7805714285714286, 'lr_test_f1': 0.8508615049562119, 'lr_test_acc': 0.8446666666666667, 'lr_train_acc': 0.85}\n",
      "Processing ['data-robustml-mv', 'USCensus', 'missing_values', 'split_3562']\n",
      "--------------\n",
      "dataset: {'data_dir': 'USCensus', 'error_types': ['missing_values'], 'label': 'Income', 'ml_task': 'classification'}\n",
      "columns to encode: ['Workclass', 'Education', 'Marital-status', 'Occupation', 'Relationship', 'Race', 'Sex', 'Native-country']\n"
     ]
    },
    {
     "name": "stderr",
     "output_type": "stream",
     "text": [
      "[Parallel(n_jobs=-1)]: Using backend LokyBackend with 16 concurrent workers.\n",
      "[Parallel(n_jobs=-1)]: Done   1 out of   1 | elapsed:    0.4s finished\n"
     ]
    },
    {
     "name": "stdout",
     "output_type": "stream",
     "text": [
      "LR Train Accuracy: 0.8508571428571429 \n",
      "LR Test  Accuracy: 0.8493333333333334\n",
      "Using solver 'cvxopt'\n",
      " for 430 free variables\n",
      "  in 432 posynomial inequalities.\n",
      "Solving took 2.51 seconds.\n",
      "NaCL Train Accuracy: 0.8508571428571429 \n",
      "NaCL Test  Accuracy: 0.8493333333333334\n",
      "NB Train Accuracy: 0.7841904761904762 \n",
      "NB Test  Accuracy: 0.7786666666666666\n",
      "nacl test acc with missing: 0.8482222222222222\n",
      "nacl test f1 with missing: 0.8430178904608019\n",
      "{'best_params': {'C': 0.7185624359789785}, 'nacl_missing_test_f1': 0.8430178904608019, 'nacl_missing_test_acc': 0.8482222222222222, 'nacl_test_f1': 0.8547882556546577, 'nacl_test_acc': 0.8493333333333334, 'nacl_train_acc': 0.8508571428571429, 'nb_test_f1': 0.7665868183895871, 'nb_test_acc': 0.7786666666666666, 'nb_train_acc': 0.7841904761904762, 'lr_test_f1': 0.8547882556546577, 'lr_test_acc': 0.8493333333333334, 'lr_train_acc': 0.8508571428571429}\n",
      "CPU times: user 3min 29s, sys: 9min 5s, total: 12min 34s\n",
      "Wall time: 2min 59s\n"
     ]
    }
   ],
   "source": [
    "%%time \n",
    "\n",
    "for job in jobs:\n",
    "    \n",
    "    print(\"Processing\", job)\n",
    "    print('--------------')\n",
    "    dataset = job[1]\n",
    "\n",
    "    dirty_X_train = pd.read_csv(os.path.join(*job, \"dirty_X_train.csv\"))\n",
    "    dirty_y_train = pd.read_csv(os.path.join(*job, \"dirty_y_train.csv\"))\n",
    "    dirty_X_test = pd.read_csv(os.path.join(*job, \"dirty_X_test.csv\"))\n",
    "    dirty_y_test = pd.read_csv(os.path.join(*job, \"dirty_y_test.csv\"))\n",
    "\n",
    "    dirty_X_train = dirty_X_train.fillna(0)\n",
    "    dirty_X_test = dirty_X_test.fillna(0)\n",
    "    X_train, y_train, X_test, y_test, mappings, mappings_dict = preprocess_data(dataset, \n",
    "                                                             dirty_X_train, dirty_y_train, \n",
    "                                                             [dirty_X_test], [dirty_y_test])\n",
    "    X_test = X_test[0]\n",
    "    y_test = y_test[0]\n",
    "    dirty_X_test = pd.read_csv(os.path.join(*job, \"dirty_X_test.csv\"))\n",
    "    null_data = dirty_X_test[dirty_X_test.isnull().any(axis=1)]\n",
    "\n",
    "    missing = [[]] * dirty_X_test.shape[0]\n",
    "    for i, row in null_data.iterrows():\n",
    "        # append the original index of the missing feature\n",
    "        cols = null_data.columns.get_values()[np.where(pd.isnull(row))]\n",
    "\n",
    "        idx = [mappings_dict[col][0] for col in cols]\n",
    "        missing[i] = idx\n",
    "    missing = np.array(missing)\n",
    "\n",
    "    output = defaultdict(lambda: defaultdict(list))\n",
    "\n",
    "    output['train']['nacl'] = (X_train, y_train)\n",
    "    output['test']['nacl'] = (X_test, y_test)\n",
    "    output['missing_test'] = missing\n",
    "    output['mappings1hot_dict'] = mappings_dict\n",
    "    output['mappings1hot_list'] = mappings\n",
    "    pickle.dump(dict(output), open(os.path.join(*job,\"data.p\"), 'wb'))\n",
    "\n",
    "\n",
    "    max_acc = 0\n",
    "\n",
    "    for method in ['delete', 'impute_holoclean', 'impute_mean_mode', 'impute_mean_dummy', \n",
    "                   'impute_median_mode', 'impute_median_dummy', 'impute_mode_mode', 'impute_mode_dummy']:\n",
    "        #print('Titanic/v{}/missing_values/{}/logistic_regression/3659'.\\\n",
    "        #           format(split_seed, method))\n",
    "        split_seed = job[-1].split(\"_\")[1]\n",
    "        a =  results['{}/v{}/missing_values/{}/logistic_regression/3659'.\\\n",
    "                   format(dataset, split_seed, method)].copy()\n",
    "        #print(a)\n",
    "        del a['best_params']\n",
    "        del a['train_acc']\n",
    "        del a['val_acc']\n",
    "        max_key = max(a.items(), key=operator.itemgetter(1))[0]\n",
    "\n",
    "        if a[max_key] > max_acc:\n",
    "            best_params_lr = results['{}/v{}/missing_values/{}/logistic_regression/3659'.\\\n",
    "                   format(dataset, split_seed, method)]['best_params']\n",
    "            max_acc = a[max_key]\n",
    "\n",
    "    clf = LogisticRegression(solver='lbfgs', \n",
    "    verbose=True, \n",
    "    C = best_params_lr['C'],\n",
    "    max_iter=2000, n_jobs=-1).fit(X_train, y_train)\n",
    "    lr_pred = clf.predict(X_test)\n",
    "    lr_train_acc = accuracy(clf.predict(X_train), y_train)\n",
    "    lr_test_acc = accuracy(lr_pred, y_test)\n",
    "    lr_test_f1 = f1(lr_pred, y_test)\n",
    "\n",
    "    print(\"LR Train Accuracy: {} \\nLR Test  Accuracy: {}\".format(lr_train_acc, lr_test_acc))\n",
    "\n",
    "    W = np.hstack((clf.intercept_[:,None], clf.coef_))[0]\n",
    "    nacl = LR2NB_GP.LR2NB(W)\n",
    "    nacl.setObj(X_train, y_train)\n",
    "\n",
    "    # Using Mosek Solver\n",
    "    nacl.solve(verbose=1)\n",
    "\n",
    "    # Sanity Check to compare NaCL results with Logistic Regression\n",
    "    assert(1.0 == np.average( nacl.classify(X_test)  == clf.predict(X_test )))\n",
    "    assert(1.0 == np.average( nacl.classify(X_train) == clf.predict(X_train)))\n",
    "    nacl_pred = nacl.classify(X_test)\n",
    "    nacl_train_acc = accuracy(nacl.classify(X_train), y_train)\n",
    "    nacl_test_acc = accuracy(nacl_pred, y_test)\n",
    "    #print(nacl_pred)\n",
    "    #print(y_test)\n",
    "    nacl_test_f1 = f1(nacl_pred[0], y_test)\n",
    "\n",
    "    print(\"NaCL Train Accuracy: {} \\nNaCL Test  Accuracy: {}\".format(nacl_train_acc, nacl_test_acc))\n",
    "\n",
    "    NB = BernoulliNB().fit(X_train, y_train)\n",
    "    NB_pred = NB.predict(X_test)\n",
    "    nb_train_acc = accuracy(NB.predict(X_train), y_train)\n",
    "    nb_test_acc = accuracy(NB_pred, y_test)\n",
    "    nb_test_f1 = f1(NB_pred, y_test)\n",
    "\n",
    "    print(\"NB Train Accuracy: {} \\nNB Test  Accuracy: {}\".format(nb_train_acc, nb_test_acc))\n",
    "\n",
    "    # Make an example observations with some missing features\n",
    "\n",
    "    # setting the dimensions to be zero\n",
    "    missing_mask = np.zeros(X_test.shape) \n",
    "\n",
    "\n",
    "    miss = missing\n",
    "    for i in range(len(missing_mask)):\n",
    "        for j in range(len(miss[i])):\n",
    "            missing_mask[i][mappings[miss[i][j]]] = 1\n",
    "\n",
    "    a = nacl.predict_proba(X_test, missing = missing_mask)[:,1]\n",
    "    a = np.where(a > 0.5, 1, 0)\n",
    "\n",
    "    test_acc = accuracy(y_test, a)\n",
    "    test_f1 = f1(y_test, a)\n",
    "    print('nacl test acc with missing:', test_acc)\n",
    "    print('nacl test f1 with missing:', test_f1) # true, pred\n",
    "\n",
    "\n",
    "    result_dict = {}\n",
    "\n",
    "    result_dict[\"best_params\"] = best_params_lr\n",
    "\n",
    "\n",
    "    result_dict[\"{}_test_f1\".format('nacl_missing')] = test_f1\n",
    "    result_dict[\"{}_test_acc\".format('nacl_missing')] = test_acc\n",
    "\n",
    "    result_dict[\"{}_test_f1\".format('nacl')] = nacl_test_f1\n",
    "    result_dict[\"{}_test_acc\".format('nacl')] = nacl_test_acc\n",
    "    result_dict[\"{}_train_acc\".format('nacl')] = nacl_train_acc\n",
    "\n",
    "    result_dict[\"{}_test_f1\".format('nb')] = nb_test_f1\n",
    "    result_dict[\"{}_test_acc\".format('nb')] = nb_test_acc\n",
    "    result_dict[\"{}_train_acc\".format('nb')] = nb_train_acc\n",
    "\n",
    "    result_dict[\"{}_test_f1\".format('lr')] = lr_test_f1\n",
    "    result_dict[\"{}_test_acc\".format('lr')] = lr_test_acc\n",
    "    result_dict[\"{}_train_acc\".format('lr')] = lr_train_acc\n",
    "\n",
    "    print(result_dict)\n",
    "    save_result_mv(job, seed, result_dict, model_name, save_dir)\n",
    "\n",
    "\n",
    "\n"
   ]
  },
  {
   "cell_type": "code",
   "execution_count": null,
   "metadata": {
    "collapsed": true
   },
   "outputs": [],
   "source": []
  },
  {
   "cell_type": "code",
   "execution_count": null,
   "metadata": {
    "collapsed": true
   },
   "outputs": [],
   "source": []
  },
  {
   "cell_type": "code",
   "execution_count": null,
   "metadata": {
    "collapsed": true
   },
   "outputs": [],
   "source": []
  }
 ],
 "metadata": {
  "kernelspec": {
   "display_name": "nacl36",
   "language": "python",
   "name": "nacl36"
  },
  "language_info": {
   "codemirror_mode": {
    "name": "ipython",
    "version": 3
   },
   "file_extension": ".py",
   "mimetype": "text/x-python",
   "name": "python",
   "nbconvert_exporter": "python",
   "pygments_lexer": "ipython3",
   "version": "3.6.11"
  }
 },
 "nbformat": 4,
 "nbformat_minor": 2
}
