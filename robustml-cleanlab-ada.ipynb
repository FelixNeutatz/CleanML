{
 "cells": [
  {
   "cell_type": "code",
   "execution_count": 6,
   "metadata": {
    "collapsed": true
   },
   "outputs": [],
   "source": [
    "import sys\n",
    "sys.setrecursionlimit(10**6)\n",
    "import pickle\n",
    "import os\n",
    "import json\n",
    "import numpy as np\n",
    "from sklearn.metrics import f1_score\n",
    "from sklearn.linear_model import LogisticRegression\n",
    "from sklearn.tree import DecisionTreeClassifier\n",
    "from sklearn.neighbors import KNeighborsClassifier\n",
    "from sklearn.ensemble import AdaBoostClassifier\n",
    "from sklearn.svm import SVC\n",
    "from cleanlab.classification import LearningWithNoisyLabels\n",
    "from sklearn.linear_model import LogisticRegression\n",
    "from sklearn.model_selection import GridSearchCV\n",
    "from dataload import *\n",
    "import operator"
   ]
  },
  {
   "cell_type": "code",
   "execution_count": 2,
   "metadata": {
    "collapsed": true
   },
   "outputs": [],
   "source": [
    "def get_best_params(job, results): \n",
    "    _, d, e, s, ex = job\n",
    "    split_seed = s.split(\"_\")[1]\n",
    "    ex_seed = ex[:-2].split(\"_\")[1]\n",
    "    key = \"{}/v{}/{}/dirty/{}/{}\".format(d, split_seed, e, model_name, ex_seed)\n",
    "    \n",
    "    max_acc = 0\n",
    "    a =  results[key].copy()\n",
    "    #print(a)\n",
    "    del a['best_params']\n",
    "    del a['train_acc']\n",
    "    del a['val_acc']\n",
    "    max_key = max(a.items(), key=operator.itemgetter(1))[0]\n",
    "\n",
    "    if a[max_key] > max_acc:\n",
    "        best_params = results[key]['best_params']\n",
    "        max_acc = a[max_key]\n",
    "    \n",
    "    print('best_params:', best_params)\n",
    "    return best_params"
   ]
  },
  {
   "cell_type": "code",
   "execution_count": 3,
   "metadata": {
    "collapsed": true
   },
   "outputs": [],
   "source": [
    "data_dir = \"data-robustml\"\n",
    "save_dir = \"result-robustml\"\n",
    "\n",
    "#model_name = sys.argv[1] # \"logistic_regression\"\n",
    "\n",
    "model_name = \"adaboost_classification\""
   ]
  },
  {
   "cell_type": "code",
   "execution_count": null,
   "metadata": {
    "collapsed": true
   },
   "outputs": [],
   "source": [
    "jobs = get_jobs(data_dir, error_type = 'mislabel', dataset = ['EEG_major', 'EEG_minor', 'EEG_uniform', 'Marketing_major', 'Marketing_minor', 'Marketing_uniform', 'Titanic_uniform', 'Titanic_major', 'Titanic_minor', 'USCensus_uniform', 'USCensus_major', 'USCensus_minor'])\n",
    "\n",
    "print(jobs)\n",
    "print(\"Number of jobs:\", len(jobs))"
   ]
  },
  {
   "cell_type": "markdown",
   "metadata": {},
   "source": [
    "running clothing"
   ]
  },
  {
   "cell_type": "code",
   "execution_count": 4,
   "metadata": {},
   "outputs": [
    {
     "name": "stdout",
     "output_type": "stream",
     "text": [
      "[['data-robustml', 'Clothing', 'mislabel', 'split_7813', 'data_3659.p'], ['data-robustml', 'Clothing', 'mislabel', 'split_2516', 'data_3659.p'], ['data-robustml', 'Clothing', 'mislabel', 'split_3462', 'data_3659.p'], ['data-robustml', 'Clothing', 'mislabel', 'split_3562', 'data_3659.p'], ['data-robustml', 'Clothing', 'mislabel', 'split_235', 'data_3659.p'], ['data-robustml', 'Clothing', 'mislabel', 'split_5056', 'data_3659.p'], ['data-robustml', 'Clothing', 'mislabel', 'split_4225', 'data_3659.p'], ['data-robustml', 'Clothing', 'mislabel', 'split_5374', 'data_3659.p'], ['data-robustml', 'Clothing', 'mislabel', 'split_9394', 'data_3659.p'], ['data-robustml', 'Clothing', 'mislabel', 'split_6542', 'data_3659.p'], ['data-robustml', 'Clothing', 'mislabel', 'split_144', 'data_3659.p'], ['data-robustml', 'Clothing', 'mislabel', 'split_905', 'data_3659.p'], ['data-robustml', 'Clothing', 'mislabel', 'split_8444', 'data_3659.p'], ['data-robustml', 'Clothing', 'mislabel', 'split_4764', 'data_3659.p'], ['data-robustml', 'Clothing', 'mislabel', 'split_2895', 'data_3659.p'], ['data-robustml', 'Clothing', 'mislabel', 'split_7751', 'data_3659.p'], ['data-robustml', 'Clothing', 'mislabel', 'split_2962', 'data_3659.p'], ['data-robustml', 'Clothing', 'mislabel', 'split_8093', 'data_3659.p'], ['data-robustml', 'Clothing', 'mislabel', 'split_5396', 'data_3659.p'], ['data-robustml', 'Clothing', 'mislabel', 'split_5192', 'data_3659.p']]\n",
      "Number of jobs: 20\n"
     ]
    }
   ],
   "source": [
    "jobs = get_jobs(data_dir, error_type = 'mislabel', dataset = ['Clothing'])\n",
    "print(jobs)\n",
    "print(\"Number of jobs:\", len(jobs))"
   ]
  },
  {
   "cell_type": "code",
   "execution_count": 12,
   "metadata": {},
   "outputs": [
    {
     "name": "stdout",
     "output_type": "stream",
     "text": [
      "Processing ['data-robustml', 'Clothing', 'mislabel', 'split_7813', 'data_3659.p']\n",
      "best_params: {'learning_rate': 0.11775669666586115}\n",
      "{'best_params': {'learning_rate': 0.11775669666586115}, 'dirty_test_f1': 0.2056520605837051, 'dirty_test_acc': 0.262, 'clean_test_f1': 0.19702244822659867, 'clean_test_acc': 0.23266666666666666}\n",
      "Processing ['data-robustml', 'Clothing', 'mislabel', 'split_2516', 'data_3659.p']\n",
      "best_params: {'learning_rate': 0.11775669666586115}\n",
      "{'best_params': {'learning_rate': 0.11775669666586115}, 'dirty_test_f1': 0.1850162167954715, 'dirty_test_acc': 0.234, 'clean_test_f1': 0.18867534236801595, 'clean_test_acc': 0.214}\n",
      "Processing ['data-robustml', 'Clothing', 'mislabel', 'split_3462', 'data_3659.p']\n",
      "best_params: {'learning_rate': 0.11775669666586115}\n",
      "{'best_params': {'learning_rate': 0.11775669666586115}, 'dirty_test_f1': 0.20810906456730174, 'dirty_test_acc': 0.26666666666666666, 'clean_test_f1': 0.19250012883845735, 'clean_test_acc': 0.228}\n",
      "Processing ['data-robustml', 'Clothing', 'mislabel', 'split_3562', 'data_3659.p']\n",
      "best_params: {'learning_rate': 0.12864014641512478}\n",
      "{'best_params': {'learning_rate': 0.12864014641512478}, 'dirty_test_f1': 0.21489802322972226, 'dirty_test_acc': 0.26666666666666666, 'clean_test_f1': 0.21800287508011842, 'clean_test_acc': 0.25266666666666665}\n",
      "Processing ['data-robustml', 'Clothing', 'mislabel', 'split_235', 'data_3659.p']\n",
      "best_params: {'learning_rate': 0.13702597430209296}\n",
      "{'best_params': {'learning_rate': 0.13702597430209296}, 'dirty_test_f1': 0.21825741074713573, 'dirty_test_acc': 0.268, 'clean_test_f1': 0.20430525753035472, 'clean_test_acc': 0.23666666666666666}\n",
      "Processing ['data-robustml', 'Clothing', 'mislabel', 'split_5056', 'data_3659.p']\n",
      "best_params: {'learning_rate': 0.09848741902962932}\n",
      "{'best_params': {'learning_rate': 0.09848741902962932}, 'dirty_test_f1': 0.17905672169139555, 'dirty_test_acc': 0.22733333333333333, 'clean_test_f1': 0.1610515296210079, 'clean_test_acc': 0.20466666666666666}\n",
      "Processing ['data-robustml', 'Clothing', 'mislabel', 'split_4225', 'data_3659.p']\n",
      "best_params: {'learning_rate': 0.12864014641512478}\n",
      "{'best_params': {'learning_rate': 0.12864014641512478}, 'dirty_test_f1': 0.21774300062687085, 'dirty_test_acc': 0.26066666666666666, 'clean_test_f1': 0.203481659371591, 'clean_test_acc': 0.23466666666666666}\n",
      "Processing ['data-robustml', 'Clothing', 'mislabel', 'split_5374', 'data_3659.p']\n",
      "best_params: {'learning_rate': 0.12864014641512478}\n",
      "{'best_params': {'learning_rate': 0.12864014641512478}, 'dirty_test_f1': 0.20314649420177297, 'dirty_test_acc': 0.24, 'clean_test_f1': 0.20253280075104027, 'clean_test_acc': 0.21933333333333332}\n",
      "Processing ['data-robustml', 'Clothing', 'mislabel', 'split_9394', 'data_3659.p']\n",
      "best_params: {'learning_rate': 0.11775669666586115}\n",
      "{'best_params': {'learning_rate': 0.11775669666586115}, 'dirty_test_f1': 0.22227381851588834, 'dirty_test_acc': 0.264, 'clean_test_f1': 0.21202876023364806, 'clean_test_acc': 0.236}\n",
      "Processing ['data-robustml', 'Clothing', 'mislabel', 'split_6542', 'data_3659.p']\n",
      "best_params: {'learning_rate': 0.11775669666586115}\n",
      "{'best_params': {'learning_rate': 0.11775669666586115}, 'dirty_test_f1': 0.1965888217985694, 'dirty_test_acc': 0.248, 'clean_test_f1': 0.18789584697468437, 'clean_test_acc': 0.216}\n",
      "Processing ['data-robustml', 'Clothing', 'mislabel', 'split_144', 'data_3659.p']\n",
      "best_params: {'learning_rate': 0.13702597430209296}\n",
      "{'best_params': {'learning_rate': 0.13702597430209296}, 'dirty_test_f1': 0.2237715964299951, 'dirty_test_acc': 0.2613333333333333, 'clean_test_f1': 0.21614188386551095, 'clean_test_acc': 0.242}\n",
      "Processing ['data-robustml', 'Clothing', 'mislabel', 'split_905', 'data_3659.p']\n",
      "best_params: {'learning_rate': 0.11775669666586115}\n",
      "{'best_params': {'learning_rate': 0.11775669666586115}, 'dirty_test_f1': 0.22211766458400145, 'dirty_test_acc': 0.25733333333333336, 'clean_test_f1': 0.19765706045876089, 'clean_test_acc': 0.22933333333333333}\n",
      "Processing ['data-robustml', 'Clothing', 'mislabel', 'split_8444', 'data_3659.p']\n",
      "best_params: {'learning_rate': 0.10682637515824431}\n",
      "{'best_params': {'learning_rate': 0.10682637515824431}, 'dirty_test_f1': 0.215614071425398, 'dirty_test_acc': 0.262, 'clean_test_f1': 0.22145757881899322, 'clean_test_acc': 0.256}\n",
      "Processing ['data-robustml', 'Clothing', 'mislabel', 'split_4764', 'data_3659.p']\n",
      "best_params: {'learning_rate': 0.09848741902962932}\n",
      "{'best_params': {'learning_rate': 0.09848741902962932}, 'dirty_test_f1': 0.18312113389905577, 'dirty_test_acc': 0.23733333333333334, 'clean_test_f1': 0.18012829805437855, 'clean_test_acc': 0.21733333333333332}\n",
      "Processing ['data-robustml', 'Clothing', 'mislabel', 'split_2895', 'data_3659.p']\n",
      "best_params: {'learning_rate': 0.11775669666586115}\n",
      "{'best_params': {'learning_rate': 0.11775669666586115}, 'dirty_test_f1': 0.18254658207383528, 'dirty_test_acc': 0.24, 'clean_test_f1': 0.18600841042328511, 'clean_test_acc': 0.22066666666666668}\n",
      "Processing ['data-robustml', 'Clothing', 'mislabel', 'split_7751', 'data_3659.p']\n",
      "best_params: {'learning_rate': 0.12864014641512478}\n",
      "{'best_params': {'learning_rate': 0.12864014641512478}, 'dirty_test_f1': 0.22142976838655878, 'dirty_test_acc': 0.25533333333333336, 'clean_test_f1': 0.19771118906585167, 'clean_test_acc': 0.22533333333333333}\n",
      "Processing ['data-robustml', 'Clothing', 'mislabel', 'split_2962', 'data_3659.p']\n",
      "best_params: {'learning_rate': 0.11775669666586115}\n",
      "{'best_params': {'learning_rate': 0.11775669666586115}, 'dirty_test_f1': 0.21176939060590053, 'dirty_test_acc': 0.24733333333333332, 'clean_test_f1': 0.20021943536940595, 'clean_test_acc': 0.23266666666666666}\n",
      "Processing ['data-robustml', 'Clothing', 'mislabel', 'split_8093', 'data_3659.p']\n",
      "best_params: {'learning_rate': 0.12864014641512478}\n",
      "{'best_params': {'learning_rate': 0.12864014641512478}, 'dirty_test_f1': 0.20390504252414346, 'dirty_test_acc': 0.24533333333333332, 'clean_test_f1': 0.18498929407200643, 'clean_test_acc': 0.22}\n",
      "Processing ['data-robustml', 'Clothing', 'mislabel', 'split_5396', 'data_3659.p']\n",
      "best_params: {'learning_rate': 0.1562952519383248}\n",
      "{'best_params': {'learning_rate': 0.1562952519383248}, 'dirty_test_f1': 0.219385275604664, 'dirty_test_acc': 0.256, 'clean_test_f1': 0.2029178889611907, 'clean_test_acc': 0.22466666666666665}\n",
      "Processing ['data-robustml', 'Clothing', 'mislabel', 'split_5192', 'data_3659.p']\n",
      "best_params: {'learning_rate': 0.12864014641512478}\n",
      "{'best_params': {'learning_rate': 0.12864014641512478}, 'dirty_test_f1': 0.20251236179105422, 'dirty_test_acc': 0.24133333333333334, 'clean_test_f1': 0.18992967844727787, 'clean_test_acc': 0.21933333333333332}\n"
     ]
    }
   ],
   "source": [
    "for job in jobs:\n",
    "    \n",
    "    print(\"Processing\", job)\n",
    "    dataset = job[1]\n",
    "    \n",
    "    data = load_data(job)\n",
    "    \n",
    "    with open('/mnt/ds3lab-scratch/raox/gatech_data_cleaning/ICDE2021-revision/CleanML/result/{}_result.json'.format(dataset)) as json_file:\n",
    "        results = json.load(json_file)\n",
    "    best_params = get_best_params(job, results) \n",
    "    \n",
    "    X_train, y_train = data[\"train\"]\n",
    "\n",
    "    result_dict = {}\n",
    "    ### TODO: train model (tune hyperparameters)\n",
    "    lnl = LearningWithNoisyLabels(clf=AdaBoostClassifier(n_estimators = 200, learning_rate = best_params['learning_rate']))\n",
    "    lnl.fit(X=X_train, s=y_train)\n",
    "    \n",
    "    # optinal: save hyperparams\n",
    "    result_dict[\"best_params\"] = best_params\n",
    "    ### END\n",
    "\n",
    "    for version, (X_test, y_test) in data[\"test\"].items():\n",
    "        ### TODO: prediction\n",
    "        y_pred = lnl.predict(X_test)\n",
    "        ### END\n",
    "\n",
    "        test_f1 = f1_score(y_test, y_pred, average='macro')\n",
    "        test_acc = np.mean(y_pred == y_test)\n",
    "\n",
    "        result_dict[\"{}_test_f1\".format(version)] = test_f1\n",
    "        result_dict[\"{}_test_acc\".format(version)] = test_acc\n",
    "\n",
    "    print(result_dict)\n",
    "    save_result(job, result_dict, model_name, save_dir)"
   ]
  },
  {
   "cell_type": "code",
   "execution_count": null,
   "metadata": {
    "collapsed": true
   },
   "outputs": [],
   "source": []
  },
  {
   "cell_type": "code",
   "execution_count": null,
   "metadata": {
    "collapsed": true
   },
   "outputs": [],
   "source": []
  }
 ],
 "metadata": {
  "kernelspec": {
   "display_name": "nacl36",
   "language": "python",
   "name": "nacl36"
  },
  "language_info": {
   "codemirror_mode": {
    "name": "ipython",
    "version": 3
   },
   "file_extension": ".py",
   "mimetype": "text/x-python",
   "name": "python",
   "nbconvert_exporter": "python",
   "pygments_lexer": "ipython3",
   "version": "3.6.11"
  }
 },
 "nbformat": 4,
 "nbformat_minor": 2
}
