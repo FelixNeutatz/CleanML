{
 "cells": [
  {
   "cell_type": "markdown",
   "metadata": {},
   "source": [
    "This script is to prepare the one-hot encoding for categorical variables in a panda df for training and testing data. "
   ]
  },
  {
   "cell_type": "raw",
   "metadata": {},
   "source": [
    "to calculate: \n",
    "- missing feature index for every testing instance        \n",
    "- mappings of features to dims"
   ]
  },
  {
   "cell_type": "code",
   "execution_count": 523,
   "metadata": {},
   "outputs": [],
   "source": [
    "import six\n",
    "import sys\n",
    "sys.modules['sklearn.externals.six'] = six\n",
    "import mlrose\n",
    "import utils\n",
    "import pickle\n",
    "from collections import defaultdict"
   ]
  },
  {
   "cell_type": "code",
   "execution_count": 60,
   "metadata": {
    "collapsed": true
   },
   "outputs": [],
   "source": [
    "import pandas as pd"
   ]
  },
  {
   "cell_type": "code",
   "execution_count": 400,
   "metadata": {
    "collapsed": true
   },
   "outputs": [],
   "source": [
    "from preprocess_mv import preprocess_data\n",
    "from collections import OrderedDict"
   ]
  },
  {
   "cell_type": "code",
   "execution_count": 437,
   "metadata": {
    "collapsed": true
   },
   "outputs": [],
   "source": [
    "dataset = \"Titanic\""
   ]
  },
  {
   "cell_type": "code",
   "execution_count": 582,
   "metadata": {},
   "outputs": [
    {
     "name": "stdout",
     "output_type": "stream",
     "text": [
      "dirty_X_test.csv  dirty_X_train.csv  dirty_y_test.csv  dirty_y_train.csv\r\n"
     ]
    }
   ],
   "source": [
    "!ls ./data-robustml-mv/Titanic/missing_values/split"
   ]
  },
  {
   "cell_type": "code",
   "execution_count": 438,
   "metadata": {
    "collapsed": true
   },
   "outputs": [],
   "source": [
    "dirty_X_train = pd.read_csv(\"./data-robustml-mv/Titanic/missing_values/split_144/dirty_X_train.csv\")\n",
    "dirty_y_train = pd.read_csv(\"./data-robustml-mv/Titanic/missing_values/split_144/dirty_y_train.csv\")\n",
    "dirty_X_test = pd.read_csv(\"./data-robustml-mv/Titanic/missing_values/split_144/dirty_X_test.csv\")\n",
    "dirty_y_test = pd.read_csv(\"./data-robustml-mv/Titanic/missing_values/split_144/dirty_y_test.csv\")"
   ]
  },
  {
   "cell_type": "code",
   "execution_count": 439,
   "metadata": {
    "collapsed": true
   },
   "outputs": [],
   "source": [
    "dirty_X_train = dirty_X_train.fillna(0)"
   ]
  },
  {
   "cell_type": "code",
   "execution_count": 440,
   "metadata": {
    "collapsed": true
   },
   "outputs": [],
   "source": [
    "dirty_X_test = dirty_X_test.fillna(0)"
   ]
  },
  {
   "cell_type": "code",
   "execution_count": 70,
   "metadata": {},
   "outputs": [
    {
     "data": {
      "text/plain": [
       "[624]"
      ]
     },
     "execution_count": 70,
     "metadata": {},
     "output_type": "execute_result"
    }
   ],
   "source": [
    "[y_test.shape[0] for y_test in [dirty_y_train]]"
   ]
  },
  {
   "cell_type": "code",
   "execution_count": 73,
   "metadata": {},
   "outputs": [
    {
     "name": "stdout",
     "output_type": "stream",
     "text": [
      "dataset: {'data_dir': 'Titanic', 'error_types': ['missing_values'], 'drop_variables': ['PassengerId', 'Name'], 'label': 'Survived', 'categorical_variables': ['Survived'], 'ml_task': 'classification'}\n"
     ]
    }
   ],
   "source": [
    "X_train, y_train, X_test_list, y_test_list = preprocess_data('Titanic', \n",
    "                                                             dirty_X_train, dirty_y_train, \n",
    "                                                             [dirty_X_test], [dirty_y_test])"
   ]
  },
  {
   "cell_type": "markdown",
   "metadata": {},
   "source": [
    "This is the function used in the cleanml program. But there the preprocessing conditions on deletion of records with missing values. i.e., deletion first, then encode. For robustML, we keep the missingness in the data when encoding the features."
   ]
  },
  {
   "cell_type": "code",
   "execution_count": 99,
   "metadata": {
    "collapsed": true
   },
   "outputs": [],
   "source": [
    "def encode_cat_features(X_train, X_test_list):\n",
    "    n_tr = X_train.shape[0]\n",
    "    print('n_tr:', n_tr)\n",
    "    n_te_list = [X_test.shape[0] for X_test in X_test_list]\n",
    "    print('n_te_list:', n_te_list)\n",
    "    test_split = np.cumsum(n_te_list)[:-1]\n",
    "    print('test_split:', test_split)\n",
    "\n",
    "    X = pd.concat([X_train, *X_test_list], axis=0)\n",
    "    print('X:', X, type(X))\n",
    "    X = pd.get_dummies(X, drop_first=True).values.astype(float)\n",
    "    print('X:', X)\n",
    "\n",
    "    X_train = X[:n_tr, :]\n",
    "    print('X_train:', X_train)\n",
    "    X_test_list = np.split(X[n_tr:], test_split)\n",
    "    return X_train, X_test_list"
   ]
  },
  {
   "cell_type": "code",
   "execution_count": 100,
   "metadata": {},
   "outputs": [
    {
     "name": "stdout",
     "output_type": "stream",
     "text": [
      "n_tr: 624\n",
      "n_te_list: [267]\n",
      "test_split: []\n",
      "X:      PassengerId  Pclass                                               Name  \\\n",
      "0            879       3                                 laleff, mr. kristo   \n",
      "1            135       2                     sobey, mr. samuel james hayden   \n",
      "2            174       3                          sivola, mr. antti wilhelm   \n",
      "3            601       2  jacobsohn, mrs. sidney samuel (amy frances chr...   \n",
      "4            648       1                simonius-blumer, col. oberst alfons   \n",
      "5             20       3                            masselmani, mrs. fatima   \n",
      "6            870       3                    johnson, master. harold theodor   \n",
      "7            234       3                     asplund, miss. lillian gertrud   \n",
      "8            614       3                                   horgan, mr. john   \n",
      "9             81       3                               waelens, mr. achille   \n",
      "10           568       3        palsson, mrs. nils (alma cornelia berglund)   \n",
      "11           116       3                              pekoniemi, mr. edvard   \n",
      "12           820       3                       skoog, master. karl thorsten   \n",
      "13           876       3                   najib, miss. adele kiamie \"jane\"   \n",
      "14           877       3                      gustafsson, mr. alfred ossian   \n",
      "15           585       3                                paulner, mr. uscher   \n",
      "16           202       3                                sage, mr. frederick   \n",
      "17           376       1              meyer, mrs. edgar joseph (leila saks)   \n",
      "18           303       3                    johnson, mr. william cahoone jr   \n",
      "19           319       1                           wick, miss. mary natalie   \n",
      "20           778       3                      emanuel, miss. virginia ethel   \n",
      "21           136       2                                 richard, mr. emile   \n",
      "22           163       3                         bengtsson, mr. john viktor   \n",
      "23           580       3                                jussila, mr. eiriik   \n",
      "24           501       3                                   calic, mr. petar   \n",
      "25           446       1                          dodge, master. washington   \n",
      "26           489       3                      somerton, mr. francis william   \n",
      "27           509       3                           olsen, mr. henry margido   \n",
      "28           702       1                   silverthorne, mr. spencer victor   \n",
      "29           777       3                                   tobin, mr. roger   \n",
      "..           ...     ...                                                ...   \n",
      "237          281       3                                   duane, mr. frank   \n",
      "238          738       1                             lesurer, mr. gustave j   \n",
      "239          456       3                                 jalsevac, mr. ivan   \n",
      "240          326       1                           young, miss. marie grice   \n",
      "241          240       2                             hunt, mr. george henry   \n",
      "242          871       3                                  balkic, mr. cerin   \n",
      "243          457       1                          millet, mr. francis davis   \n",
      "244          282       3                   olsson, mr. nils johan goransson   \n",
      "245          493       1                         molson, mr. harry markland   \n",
      "246          205       3                           cohen, mr. gurshon \"gus\"   \n",
      "247          227       2                          mellors, mr. william john   \n",
      "248          324       2  caldwell, mrs. albert francis (sylvia mae harb...   \n",
      "249          533       3                               elias, mr. joseph jr   \n",
      "250           89       1                         fortune, miss. mabel helen   \n",
      "251          236       3                       harknett, miss. alice phoebe   \n",
      "252          695       1                                    weir, col. john   \n",
      "253          428       2  phillips, miss. kate florence (\"mrs kate louis...   \n",
      "254          618       3    lobb, mrs. william arthur (cordelia k stanlick)   \n",
      "255          431       1          bjornstrom-steffansson, mr. mauritz hakan   \n",
      "256          121       2                        hickman, mr. stanley george   \n",
      "257          744       3                                  mcnamee, mr. neal   \n",
      "258          341       2                     navratil, master. edmond roger   \n",
      "259          320       1  spedden, mrs. frederic oakley (margaretta corn...   \n",
      "260           75       3                                      bing, mr. lee   \n",
      "261          794       1                           hoyt, mr. william fisher   \n",
      "262          708       1                  calderhead, mr. edward pennington   \n",
      "263           35       1                            meyer, mr. edgar joseph   \n",
      "264          523       3                                 lahoud, mr. sarkis   \n",
      "265          478       3                          braund, mr. lewis richard   \n",
      "266          760       1  rothes, the countess. of (lucy noel martha dye...   \n",
      "\n",
      "        Sex   Age  SibSp  Parch             Ticket      Fare        Cabin  \\\n",
      "0      male   NaN      0      0             349217    7.8958          NaN   \n",
      "1      male  25.0      0      0         c.a. 29178   13.0000          NaN   \n",
      "2      male  21.0      0      0  ston/o 2. 3101280    7.9250          NaN   \n",
      "3    female  24.0      2      1             243847   27.0000          NaN   \n",
      "4      male  56.0      0      0              13213   35.5000          a26   \n",
      "5    female   NaN      0      0               2649    7.2250          NaN   \n",
      "6      male   4.0      1      1             347742   11.1333          NaN   \n",
      "7    female   5.0      4      2             347077   31.3875          NaN   \n",
      "8      male   NaN      0      0             370377    7.7500          NaN   \n",
      "9      male  22.0      0      0             345767    9.0000          NaN   \n",
      "10   female  29.0      0      4             349909   21.0750          NaN   \n",
      "11     male  21.0      0      0  ston/o 2. 3101294    7.9250          NaN   \n",
      "12     male  10.0      3      2             347088   27.9000          NaN   \n",
      "13   female  15.0      0      0               2667    7.2250          NaN   \n",
      "14     male  20.0      0      0               7534    9.8458          NaN   \n",
      "15     male   NaN      0      0               3411    8.7125          NaN   \n",
      "16     male   NaN      8      2           ca. 2343   69.5500          NaN   \n",
      "17   female   NaN      1      0           pc 17604   82.1708          NaN   \n",
      "18     male  19.0      0      0               line    0.0000          NaN   \n",
      "19   female  31.0      0      2              36928  164.8667           c7   \n",
      "20   female   5.0      0      0             364516   12.4750          NaN   \n",
      "21     male  23.0      0      0      sc/paris 2133   15.0458          NaN   \n",
      "22     male  26.0      0      0             347068    7.7750          NaN   \n",
      "23     male  32.0      0      0  ston/o 2. 3101286    7.9250          NaN   \n",
      "24     male  17.0      0      0             315086    8.6625          NaN   \n",
      "25     male   4.0      0      2              33638   81.8583          a34   \n",
      "26     male  30.0      0      0         a.5. 18509    8.0500          NaN   \n",
      "27     male  28.0      0      0             c 4001   22.5250          NaN   \n",
      "28     male  35.0      0      0           pc 17475   26.2875          e24   \n",
      "29     male   NaN      0      0             383121    7.7500          f38   \n",
      "..      ...   ...    ...    ...                ...       ...          ...   \n",
      "237    male  65.0      0      0             336439    7.7500          NaN   \n",
      "238    male  35.0      0      0           pc 17755  512.3292         b101   \n",
      "239    male  29.0      0      0             349240    7.8958          NaN   \n",
      "240  female  36.0      0      0           pc 17760  135.6333          c32   \n",
      "241    male  33.0      0      0         sco/w 1585   12.2750          NaN   \n",
      "242    male  26.0      0      0             349248    7.8958          NaN   \n",
      "243    male  65.0      0      0              13509   26.5500          e38   \n",
      "244    male  28.0      0      0             347464    7.8542          NaN   \n",
      "245    male  55.0      0      0             113787   30.5000          c30   \n",
      "246    male  18.0      0      0           a/5 3540    8.0500          NaN   \n",
      "247    male  19.0      0      0          sw/pp 751   10.5000          NaN   \n",
      "248  female  22.0      1      1             248738   29.0000          NaN   \n",
      "249    male  17.0      1      1               2690    7.2292          NaN   \n",
      "250  female  23.0      3      2              19950  263.0000  c23 c25 c27   \n",
      "251  female   NaN      0      0         w./c. 6609    7.5500          NaN   \n",
      "252    male  60.0      0      0             113800   26.5500          NaN   \n",
      "253  female  19.0      0      0             250655   26.0000          NaN   \n",
      "254  female  26.0      1      0          a/5. 3336   16.1000          NaN   \n",
      "255    male  28.0      0      0             110564   26.5500          c52   \n",
      "256    male  21.0      2      0       s.o.c. 14879   73.5000          NaN   \n",
      "257    male  24.0      1      0             376566   16.1000          NaN   \n",
      "258    male   2.0      1      1             230080   26.0000           f2   \n",
      "259  female  40.0      1      1              16966  134.5000          e34   \n",
      "260    male  32.0      0      0               1601   56.4958          NaN   \n",
      "261    male   NaN      0      0           pc 17600   30.6958          NaN   \n",
      "262    male  42.0      0      0           pc 17476   26.2875          e24   \n",
      "263    male  28.0      1      0           pc 17604   82.1708          NaN   \n",
      "264    male   NaN      0      0               2624    7.2250          NaN   \n",
      "265    male  29.0      1      0               3460    7.0458          NaN   \n",
      "266  female  33.0      0      0             110152   86.5000          b77   \n",
      "\n",
      "    Embarked  \n",
      "0          s  \n",
      "1          s  \n",
      "2          s  \n",
      "3          s  \n",
      "4          c  \n",
      "5          c  \n",
      "6          s  \n",
      "7          s  \n",
      "8          q  \n",
      "9          s  \n",
      "10         s  \n",
      "11         s  \n",
      "12         s  \n",
      "13         c  \n",
      "14         s  \n",
      "15         c  \n",
      "16         s  \n",
      "17         c  \n",
      "18         s  \n",
      "19         s  \n",
      "20         s  \n",
      "21         c  \n",
      "22         s  \n",
      "23         s  \n",
      "24         s  \n",
      "25         s  \n",
      "26         s  \n",
      "27         s  \n",
      "28         s  \n",
      "29         q  \n",
      "..       ...  \n",
      "237        q  \n",
      "238        c  \n",
      "239        c  \n",
      "240        c  \n",
      "241        s  \n",
      "242        s  \n",
      "243        s  \n",
      "244        s  \n",
      "245        s  \n",
      "246        s  \n",
      "247        s  \n",
      "248        s  \n",
      "249        c  \n",
      "250        s  \n",
      "251        s  \n",
      "252        s  \n",
      "253        s  \n",
      "254        s  \n",
      "255        s  \n",
      "256        s  \n",
      "257        s  \n",
      "258        s  \n",
      "259        c  \n",
      "260        s  \n",
      "261        c  \n",
      "262        s  \n",
      "263        c  \n",
      "264        c  \n",
      "265        s  \n",
      "266        s  \n",
      "\n",
      "[891 rows x 11 columns] <class 'pandas.core.frame.DataFrame'>\n",
      "X: [[879.   3.  nan ...   0.   0.   1.]\n",
      " [135.   2.  25. ...   0.   0.   1.]\n",
      " [174.   3.  21. ...   0.   0.   1.]\n",
      " ...\n",
      " [523.   3.  nan ...   0.   0.   0.]\n",
      " [478.   3.  29. ...   0.   0.   1.]\n",
      " [760.   1.  33. ...   0.   0.   1.]]\n",
      "X_train: [[879.   3.  nan ...   0.   0.   1.]\n",
      " [135.   2.  25. ...   0.   0.   1.]\n",
      " [174.   3.  21. ...   0.   0.   1.]\n",
      " ...\n",
      " [217.   3.  27. ...   0.   0.   1.]\n",
      " [445.   3.  nan ...   0.   0.   1.]\n",
      " [360.   3.  nan ...   0.   1.   0.]]\n"
     ]
    }
   ],
   "source": [
    "out1, out2 = encode_cat_features(dirty_X_train, [dirty_X_test])"
   ]
  },
  {
   "cell_type": "code",
   "execution_count": 90,
   "metadata": {},
   "outputs": [
    {
     "data": {
      "text/plain": [
       "((624, 1725), (267, 1725))"
      ]
     },
     "execution_count": 90,
     "metadata": {},
     "output_type": "execute_result"
    }
   ],
   "source": [
    "out1.shape, out2[0].shape"
   ]
  },
  {
   "cell_type": "code",
   "execution_count": 85,
   "metadata": {
    "collapsed": true
   },
   "outputs": [
    {
     "data": {
      "text/plain": [
       "((624, 11), (267, 11))"
      ]
     },
     "execution_count": 85,
     "metadata": {},
     "output_type": "execute_result"
    }
   ],
   "source": [
    "dirty_X_train.shape, dirty_X_test.shape"
   ]
  },
  {
   "cell_type": "code",
   "execution_count": 91,
   "metadata": {},
   "outputs": [
    {
     "data": {
      "text/plain": [
       "array([[879.,   3.,  nan, ...,   0.,   0.,   1.],\n",
       "       [135.,   2.,  25., ...,   0.,   0.,   1.],\n",
       "       [174.,   3.,  21., ...,   0.,   0.,   1.],\n",
       "       ...,\n",
       "       [217.,   3.,  27., ...,   0.,   0.,   1.],\n",
       "       [445.,   3.,  nan, ...,   0.,   0.,   1.],\n",
       "       [360.,   3.,  nan, ...,   0.,   1.,   0.]])"
      ]
     },
     "execution_count": 91,
     "metadata": {},
     "output_type": "execute_result"
    }
   ],
   "source": [
    "out1"
   ]
  },
  {
   "cell_type": "code",
   "execution_count": 329,
   "metadata": {},
   "outputs": [],
   "source": [
    "test = pd.DataFrame({'gb':['bad','good', 'bad'],\n",
    "                    'fl': ['fat', 'slim', 'slim'], \n",
    "                    'num':[1,2,3],\n",
    "                    'wc': ['', 'cool', 'warm']})"
   ]
  },
  {
   "cell_type": "code",
   "execution_count": 330,
   "metadata": {},
   "outputs": [
    {
     "data": {
      "text/html": [
       "<div>\n",
       "<table border=\"1\" class=\"dataframe\">\n",
       "  <thead>\n",
       "    <tr style=\"text-align: right;\">\n",
       "      <th></th>\n",
       "      <th>fl</th>\n",
       "      <th>gb</th>\n",
       "      <th>num</th>\n",
       "      <th>wc</th>\n",
       "    </tr>\n",
       "  </thead>\n",
       "  <tbody>\n",
       "    <tr>\n",
       "      <th>0</th>\n",
       "      <td>fat</td>\n",
       "      <td>bad</td>\n",
       "      <td>1</td>\n",
       "      <td></td>\n",
       "    </tr>\n",
       "    <tr>\n",
       "      <th>1</th>\n",
       "      <td>slim</td>\n",
       "      <td>good</td>\n",
       "      <td>2</td>\n",
       "      <td>cool</td>\n",
       "    </tr>\n",
       "    <tr>\n",
       "      <th>2</th>\n",
       "      <td>slim</td>\n",
       "      <td>bad</td>\n",
       "      <td>3</td>\n",
       "      <td>warm</td>\n",
       "    </tr>\n",
       "  </tbody>\n",
       "</table>\n",
       "</div>"
      ],
      "text/plain": [
       "     fl    gb  num    wc\n",
       "0   fat   bad    1      \n",
       "1  slim  good    2  cool\n",
       "2  slim   bad    3  warm"
      ]
     },
     "execution_count": 330,
     "metadata": {},
     "output_type": "execute_result"
    }
   ],
   "source": [
    "test"
   ]
  },
  {
   "cell_type": "code",
   "execution_count": 247,
   "metadata": {},
   "outputs": [
    {
     "data": {
      "text/plain": [
       "array([[1., 0., 0., 0., 0.],\n",
       "       [2., 1., 1., 1., 0.],\n",
       "       [3., 1., 0., 0., 1.]])"
      ]
     },
     "execution_count": 247,
     "metadata": {},
     "output_type": "execute_result"
    }
   ],
   "source": [
    "pd.get_dummies(test, drop_first=True).values.astype(float)"
   ]
  },
  {
   "cell_type": "markdown",
   "metadata": {},
   "source": [
    "A problem with the above function: the original sequence of features is staggered. First pd lists the features which are not to encode, and then alphabetically sorts the features to encode. It is not an ideal structure for generating our one hot encoding mappings for nacl."
   ]
  },
  {
   "cell_type": "code",
   "execution_count": 249,
   "metadata": {
    "scrolled": true
   },
   "outputs": [
    {
     "data": {
      "text/plain": [
       "Index(['num', 'fl_fat', 'fl_slim', 'gb_bad', 'gb_good', 'wc_', 'wc_cool',\n",
       "       'wc_warm'],\n",
       "      dtype='object')"
      ]
     },
     "execution_count": 249,
     "metadata": {},
     "output_type": "execute_result"
    }
   ],
   "source": [
    "pd.get_dummies(test).columns"
   ]
  },
  {
   "cell_type": "markdown",
   "metadata": {},
   "source": [
    "So one needs to add the columns to the get_dummies to keep the original sequence of variables. "
   ]
  },
  {
   "cell_type": "code",
   "execution_count": 248,
   "metadata": {
    "scrolled": true
   },
   "outputs": [
    {
     "data": {
      "text/plain": [
       "Index(['fl_fat', 'fl_slim', 'gb_bad', 'gb_good', 'num_1', 'num_2', 'num_3',\n",
       "       'wc_', 'wc_cool', 'wc_warm'],\n",
       "      dtype='object')"
      ]
     },
     "execution_count": 248,
     "metadata": {},
     "output_type": "execute_result"
    }
   ],
   "source": [
    "pd.get_dummies(test, columns=list(test.columns)).columns"
   ]
  },
  {
   "cell_type": "markdown",
   "metadata": {},
   "source": [
    "The following piece of code demonstrates a way of generating encodings and its mappings."
   ]
  },
  {
   "cell_type": "code",
   "execution_count": 371,
   "metadata": {},
   "outputs": [],
   "source": [
    "test = pd.DataFrame({'gb':['bad','good', 'bad'],\n",
    "                    'fl': ['fat', 'slim', 'slim'], \n",
    "                    'num':[1,2,3],\n",
    "                    'wc': [None, 'cool', 'warm']})"
   ]
  },
  {
   "cell_type": "code",
   "execution_count": 412,
   "metadata": {
    "collapsed": true
   },
   "outputs": [],
   "source": [
    "test = test.fillna(0)"
   ]
  },
  {
   "cell_type": "code",
   "execution_count": 413,
   "metadata": {},
   "outputs": [
    {
     "data": {
      "text/html": [
       "<div>\n",
       "<table border=\"1\" class=\"dataframe\">\n",
       "  <thead>\n",
       "    <tr style=\"text-align: right;\">\n",
       "      <th></th>\n",
       "      <th>num</th>\n",
       "      <th>fl</th>\n",
       "      <th>gb</th>\n",
       "      <th>wc</th>\n",
       "    </tr>\n",
       "  </thead>\n",
       "  <tbody>\n",
       "    <tr>\n",
       "      <th>0</th>\n",
       "      <td>1</td>\n",
       "      <td>fat</td>\n",
       "      <td>bad</td>\n",
       "      <td>0</td>\n",
       "    </tr>\n",
       "    <tr>\n",
       "      <th>1</th>\n",
       "      <td>2</td>\n",
       "      <td>slim</td>\n",
       "      <td>good</td>\n",
       "      <td>cool</td>\n",
       "    </tr>\n",
       "    <tr>\n",
       "      <th>2</th>\n",
       "      <td>3</td>\n",
       "      <td>slim</td>\n",
       "      <td>bad</td>\n",
       "      <td>warm</td>\n",
       "    </tr>\n",
       "  </tbody>\n",
       "</table>\n",
       "</div>"
      ],
      "text/plain": [
       "   num    fl    gb    wc\n",
       "0    1   fat   bad     0\n",
       "1    2  slim  good  cool\n",
       "2    3  slim   bad  warm"
      ]
     },
     "execution_count": 413,
     "metadata": {},
     "output_type": "execute_result"
    }
   ],
   "source": [
    "test"
   ]
  },
  {
   "cell_type": "code",
   "execution_count": 414,
   "metadata": {
    "collapsed": true
   },
   "outputs": [],
   "source": [
    "from sklearn.preprocessing import LabelEncoder"
   ]
  },
  {
   "cell_type": "code",
   "execution_count": 415,
   "metadata": {},
   "outputs": [],
   "source": [
    "def oneHotEncode(df):\n",
    "    '''Return new df after one hot encoding.'''\n",
    "\n",
    "    columnsToEncode = list(df.select_dtypes(include=['object', 'bool', 'category']))\n",
    "    print('columns to encode:', columnsToEncode)\n",
    "    \n",
    "    for i, feature in enumerate(list(df.columns)):\n",
    "        if feature in columnsToEncode:\n",
    "\n",
    "            df = pd.concat([df, \n",
    "                              pd.get_dummies(df[feature]).rename(columns=lambda x: feature + '_' + str(x))], axis=1)\n",
    "            \n",
    "            df = df.drop(feature, axis=1)\n",
    "        \n",
    "            \n",
    "        \n",
    "    return df"
   ]
  },
  {
   "cell_type": "code",
   "execution_count": 416,
   "metadata": {},
   "outputs": [
    {
     "name": "stdout",
     "output_type": "stream",
     "text": [
      "columns to encode: ['fl', 'gb', 'wc']\n"
     ]
    }
   ],
   "source": [
    "encode = oneHotEncode(test)"
   ]
  },
  {
   "cell_type": "code",
   "execution_count": 417,
   "metadata": {},
   "outputs": [
    {
     "data": {
      "text/html": [
       "<div>\n",
       "<table border=\"1\" class=\"dataframe\">\n",
       "  <thead>\n",
       "    <tr style=\"text-align: right;\">\n",
       "      <th></th>\n",
       "      <th>num</th>\n",
       "      <th>fl_fat</th>\n",
       "      <th>fl_slim</th>\n",
       "      <th>gb_bad</th>\n",
       "      <th>gb_good</th>\n",
       "      <th>wc_0</th>\n",
       "      <th>wc_cool</th>\n",
       "      <th>wc_warm</th>\n",
       "    </tr>\n",
       "  </thead>\n",
       "  <tbody>\n",
       "    <tr>\n",
       "      <th>0</th>\n",
       "      <td>1</td>\n",
       "      <td>1</td>\n",
       "      <td>0</td>\n",
       "      <td>1</td>\n",
       "      <td>0</td>\n",
       "      <td>1</td>\n",
       "      <td>0</td>\n",
       "      <td>0</td>\n",
       "    </tr>\n",
       "    <tr>\n",
       "      <th>1</th>\n",
       "      <td>2</td>\n",
       "      <td>0</td>\n",
       "      <td>1</td>\n",
       "      <td>0</td>\n",
       "      <td>1</td>\n",
       "      <td>0</td>\n",
       "      <td>1</td>\n",
       "      <td>0</td>\n",
       "    </tr>\n",
       "    <tr>\n",
       "      <th>2</th>\n",
       "      <td>3</td>\n",
       "      <td>0</td>\n",
       "      <td>1</td>\n",
       "      <td>1</td>\n",
       "      <td>0</td>\n",
       "      <td>0</td>\n",
       "      <td>0</td>\n",
       "      <td>1</td>\n",
       "    </tr>\n",
       "  </tbody>\n",
       "</table>\n",
       "</div>"
      ],
      "text/plain": [
       "   num  fl_fat  fl_slim  gb_bad  gb_good  wc_0  wc_cool  wc_warm\n",
       "0    1       1        0       1        0     1        0        0\n",
       "1    2       0        1       0        1     0        1        0\n",
       "2    3       0        1       1        0     0        0        1"
      ]
     },
     "execution_count": 417,
     "metadata": {},
     "output_type": "execute_result"
    }
   ],
   "source": [
    "encode"
   ]
  },
  {
   "cell_type": "markdown",
   "metadata": {},
   "source": [
    "generate the mappings based on the output encoding df"
   ]
  },
  {
   "cell_type": "code",
   "execution_count": 418,
   "metadata": {},
   "outputs": [],
   "source": [
    "newcols = [c.split('_')[0] for c in encode.columns]"
   ]
  },
  {
   "cell_type": "code",
   "execution_count": 419,
   "metadata": {},
   "outputs": [
    {
     "data": {
      "text/html": [
       "<div>\n",
       "<table border=\"1\" class=\"dataframe\">\n",
       "  <thead>\n",
       "    <tr style=\"text-align: right;\">\n",
       "      <th></th>\n",
       "      <th>num</th>\n",
       "      <th>fl</th>\n",
       "      <th>gb</th>\n",
       "      <th>wc</th>\n",
       "    </tr>\n",
       "  </thead>\n",
       "  <tbody>\n",
       "    <tr>\n",
       "      <th>0</th>\n",
       "      <td>1</td>\n",
       "      <td>fat</td>\n",
       "      <td>bad</td>\n",
       "      <td>0</td>\n",
       "    </tr>\n",
       "    <tr>\n",
       "      <th>1</th>\n",
       "      <td>2</td>\n",
       "      <td>slim</td>\n",
       "      <td>good</td>\n",
       "      <td>cool</td>\n",
       "    </tr>\n",
       "    <tr>\n",
       "      <th>2</th>\n",
       "      <td>3</td>\n",
       "      <td>slim</td>\n",
       "      <td>bad</td>\n",
       "      <td>warm</td>\n",
       "    </tr>\n",
       "  </tbody>\n",
       "</table>\n",
       "</div>"
      ],
      "text/plain": [
       "   num    fl    gb    wc\n",
       "0    1   fat   bad     0\n",
       "1    2  slim  good  cool\n",
       "2    3  slim   bad  warm"
      ]
     },
     "execution_count": 419,
     "metadata": {},
     "output_type": "execute_result"
    }
   ],
   "source": [
    "test"
   ]
  },
  {
   "cell_type": "code",
   "execution_count": 420,
   "metadata": {
    "scrolled": true
   },
   "outputs": [
    {
     "data": {
      "text/plain": [
       "False"
      ]
     },
     "execution_count": 420,
     "metadata": {},
     "output_type": "execute_result"
    }
   ],
   "source": [
    "test['wc'].isnull().values.any()"
   ]
  },
  {
   "cell_type": "code",
   "execution_count": 421,
   "metadata": {},
   "outputs": [
    {
     "data": {
      "text/plain": [
       "['num', 'fl', 'fl', 'gb', 'gb', 'wc', 'wc', 'wc']"
      ]
     },
     "execution_count": 421,
     "metadata": {},
     "output_type": "execute_result"
    }
   ],
   "source": [
    "newcols"
   ]
  },
  {
   "cell_type": "code",
   "execution_count": 422,
   "metadata": {},
   "outputs": [],
   "source": [
    "order = list(OrderedDict((x, True) for x in newcols).keys())"
   ]
  },
  {
   "cell_type": "code",
   "execution_count": 423,
   "metadata": {},
   "outputs": [],
   "source": [
    "test = test.reindex(columns=order)"
   ]
  },
  {
   "cell_type": "code",
   "execution_count": 424,
   "metadata": {},
   "outputs": [
    {
     "data": {
      "text/html": [
       "<div>\n",
       "<table border=\"1\" class=\"dataframe\">\n",
       "  <thead>\n",
       "    <tr style=\"text-align: right;\">\n",
       "      <th></th>\n",
       "      <th>num</th>\n",
       "      <th>fl</th>\n",
       "      <th>gb</th>\n",
       "      <th>wc</th>\n",
       "    </tr>\n",
       "  </thead>\n",
       "  <tbody>\n",
       "    <tr>\n",
       "      <th>0</th>\n",
       "      <td>1</td>\n",
       "      <td>fat</td>\n",
       "      <td>bad</td>\n",
       "      <td>0</td>\n",
       "    </tr>\n",
       "    <tr>\n",
       "      <th>1</th>\n",
       "      <td>2</td>\n",
       "      <td>slim</td>\n",
       "      <td>good</td>\n",
       "      <td>cool</td>\n",
       "    </tr>\n",
       "    <tr>\n",
       "      <th>2</th>\n",
       "      <td>3</td>\n",
       "      <td>slim</td>\n",
       "      <td>bad</td>\n",
       "      <td>warm</td>\n",
       "    </tr>\n",
       "  </tbody>\n",
       "</table>\n",
       "</div>"
      ],
      "text/plain": [
       "   num    fl    gb    wc\n",
       "0    1   fat   bad     0\n",
       "1    2  slim  good  cool\n",
       "2    3  slim   bad  warm"
      ]
     },
     "execution_count": 424,
     "metadata": {},
     "output_type": "execute_result"
    }
   ],
   "source": [
    "test"
   ]
  },
  {
   "cell_type": "code",
   "execution_count": 425,
   "metadata": {},
   "outputs": [],
   "source": [
    "\n",
    "mappings = []\n",
    "mappings_dict = {}\n",
    "for i, oldcol in enumerate(test.columns):\n",
    "\n",
    "    # append the new index in the encoding df\n",
    "    idx = [i for i, x in enumerate(newcols) if x == oldcol]\n",
    "    mappings.insert(i, idx)\n",
    "    mappings_dict[oldcol] = (i, idx)"
   ]
  },
  {
   "cell_type": "code",
   "execution_count": 426,
   "metadata": {
    "scrolled": true
   },
   "outputs": [
    {
     "data": {
      "text/plain": [
       "[[0], [1, 2], [3, 4], [5, 6, 7]]"
      ]
     },
     "execution_count": 426,
     "metadata": {},
     "output_type": "execute_result"
    }
   ],
   "source": [
    "mappings"
   ]
  },
  {
   "cell_type": "code",
   "execution_count": 427,
   "metadata": {},
   "outputs": [
    {
     "data": {
      "text/plain": [
       "{'num': (0, [0]), 'fl': (1, [1, 2]), 'gb': (2, [3, 4]), 'wc': (3, [5, 6, 7])}"
      ]
     },
     "execution_count": 427,
     "metadata": {},
     "output_type": "execute_result"
    }
   ],
   "source": [
    "mappings_dict"
   ]
  },
  {
   "cell_type": "code",
   "execution_count": 428,
   "metadata": {},
   "outputs": [
    {
     "data": {
      "text/html": [
       "<div>\n",
       "<table border=\"1\" class=\"dataframe\">\n",
       "  <thead>\n",
       "    <tr style=\"text-align: right;\">\n",
       "      <th></th>\n",
       "      <th>num</th>\n",
       "      <th>fl</th>\n",
       "      <th>gb</th>\n",
       "      <th>wc</th>\n",
       "    </tr>\n",
       "  </thead>\n",
       "  <tbody>\n",
       "    <tr>\n",
       "      <th>0</th>\n",
       "      <td>1</td>\n",
       "      <td>fat</td>\n",
       "      <td>bad</td>\n",
       "      <td>0</td>\n",
       "    </tr>\n",
       "    <tr>\n",
       "      <th>1</th>\n",
       "      <td>2</td>\n",
       "      <td>slim</td>\n",
       "      <td>good</td>\n",
       "      <td>cool</td>\n",
       "    </tr>\n",
       "    <tr>\n",
       "      <th>2</th>\n",
       "      <td>3</td>\n",
       "      <td>slim</td>\n",
       "      <td>bad</td>\n",
       "      <td>warm</td>\n",
       "    </tr>\n",
       "  </tbody>\n",
       "</table>\n",
       "</div>"
      ],
      "text/plain": [
       "   num    fl    gb    wc\n",
       "0    1   fat   bad     0\n",
       "1    2  slim  good  cool\n",
       "2    3  slim   bad  warm"
      ]
     },
     "execution_count": 428,
     "metadata": {},
     "output_type": "execute_result"
    }
   ],
   "source": [
    "test"
   ]
  },
  {
   "cell_type": "code",
   "execution_count": 429,
   "metadata": {},
   "outputs": [
    {
     "data": {
      "text/plain": [
       "array([[1., 1., 0., 1., 0., 1., 0., 0.],\n",
       "       [2., 0., 1., 0., 1., 0., 1., 0.],\n",
       "       [3., 0., 1., 1., 0., 0., 0., 1.]])"
      ]
     },
     "execution_count": 429,
     "metadata": {},
     "output_type": "execute_result"
    }
   ],
   "source": [
    "encode.values.astype(float)"
   ]
  },
  {
   "cell_type": "code",
   "execution_count": 431,
   "metadata": {},
   "outputs": [
    {
     "data": {
      "text/html": [
       "<div>\n",
       "<table border=\"1\" class=\"dataframe\">\n",
       "  <thead>\n",
       "    <tr style=\"text-align: right;\">\n",
       "      <th></th>\n",
       "      <th>num</th>\n",
       "      <th>fl</th>\n",
       "      <th>gb</th>\n",
       "      <th>wc</th>\n",
       "    </tr>\n",
       "  </thead>\n",
       "  <tbody>\n",
       "    <tr>\n",
       "      <th>0</th>\n",
       "      <td>1</td>\n",
       "      <td>fat</td>\n",
       "      <td>bad</td>\n",
       "      <td>0</td>\n",
       "    </tr>\n",
       "    <tr>\n",
       "      <th>1</th>\n",
       "      <td>2</td>\n",
       "      <td>slim</td>\n",
       "      <td>good</td>\n",
       "      <td>cool</td>\n",
       "    </tr>\n",
       "    <tr>\n",
       "      <th>2</th>\n",
       "      <td>3</td>\n",
       "      <td>slim</td>\n",
       "      <td>bad</td>\n",
       "      <td>warm</td>\n",
       "    </tr>\n",
       "  </tbody>\n",
       "</table>\n",
       "</div>"
      ],
      "text/plain": [
       "   num    fl    gb    wc\n",
       "0    1   fat   bad     0\n",
       "1    2  slim  good  cool\n",
       "2    3  slim   bad  warm"
      ]
     },
     "execution_count": 431,
     "metadata": {},
     "output_type": "execute_result"
    }
   ],
   "source": [
    "test"
   ]
  },
  {
   "cell_type": "code",
   "execution_count": 432,
   "metadata": {
    "collapsed": true
   },
   "outputs": [],
   "source": [
    "def encode_cat_features(X_train, X_test_list):\n",
    "    n_tr = X_train.shape[0]\n",
    "    n_te_list = [X_test.shape[0] for X_test in X_test_list]\n",
    "    test_split = np.cumsum(n_te_list)[:-1]\n",
    "    X = pd.concat([X_train, *X_test_list], axis=0)\n",
    "    X_ = oneHotEncode(X)\n",
    "    \n",
    "    newcols = [c.split('_')[0] for c in X_.columns]\n",
    "    order = list(OrderedDict((x, True) for x in newcols).keys())\n",
    "    X = X.reindex(columns=order)\n",
    "    \n",
    "    mappings = []\n",
    "    mappings_dict = {}\n",
    "    for i, oldcol in enumerate(X.columns):\n",
    "        # append the new index in the encoding df\n",
    "        idx = [i for i, x in enumerate(newcols) if x == oldcol]\n",
    "        mappings.insert(i, idx)\n",
    "        mappings_dict[oldcol] = (i, idx)\n",
    "    \n",
    "    X = X_.values.astype(float)\n",
    "    \n",
    "    X_train = X[:n_tr, :]\n",
    "\n",
    "    X_test_list = np.split(X[n_tr:], test_split)\n",
    "    return X_train, X_test_list, mappings, mappings_dict"
   ]
  },
  {
   "cell_type": "code",
   "execution_count": 433,
   "metadata": {},
   "outputs": [
    {
     "name": "stdout",
     "output_type": "stream",
     "text": [
      "columns to encode: ['fl', 'gb', 'wc']\n"
     ]
    },
    {
     "data": {
      "text/plain": [
       "(array([[1., 1., 0., 1., 0., 1., 0., 0.],\n",
       "        [2., 0., 1., 0., 1., 0., 1., 0.],\n",
       "        [3., 0., 1., 1., 0., 0., 0., 1.]]),\n",
       " [array([[1., 1., 0., 1., 0., 1., 0., 0.],\n",
       "         [2., 0., 1., 0., 1., 0., 1., 0.],\n",
       "         [3., 0., 1., 1., 0., 0., 0., 1.]])],\n",
       " [[0], [1, 2], [3, 4], [5, 6, 7]],\n",
       " {'num': (0, [0]), 'fl': (1, [1, 2]), 'gb': (2, [3, 4]), 'wc': (3, [5, 6, 7])})"
      ]
     },
     "execution_count": 433,
     "metadata": {},
     "output_type": "execute_result"
    }
   ],
   "source": [
    "encode_cat_features(test, [test])"
   ]
  },
  {
   "cell_type": "code",
   "execution_count": 442,
   "metadata": {},
   "outputs": [
    {
     "name": "stdout",
     "output_type": "stream",
     "text": [
      "columns to encode: ['Name', 'Sex', 'Ticket', 'Cabin', 'Embarked']\n"
     ]
    }
   ],
   "source": [
    "X_train, X_test_list, mappings, mappings_dict = encode_cat_features(dirty_X_train, [dirty_X_test])"
   ]
  },
  {
   "cell_type": "markdown",
   "metadata": {},
   "source": [
    "generate missing feature index in the test set"
   ]
  },
  {
   "cell_type": "code",
   "execution_count": 445,
   "metadata": {
    "collapsed": true
   },
   "outputs": [],
   "source": [
    "dirty_X_test = pd.read_csv(\"./data-robustml-mv/Titanic/missing_values/split_144/dirty_X_test.csv\")"
   ]
  },
  {
   "cell_type": "code",
   "execution_count": 446,
   "metadata": {
    "collapsed": true
   },
   "outputs": [],
   "source": [
    "null_data = dirty_X_test[dirty_X_test.isnull().any(axis=1)]"
   ]
  },
  {
   "cell_type": "code",
   "execution_count": 447,
   "metadata": {},
   "outputs": [
    {
     "data": {
      "text/html": [
       "<div>\n",
       "<table border=\"1\" class=\"dataframe\">\n",
       "  <thead>\n",
       "    <tr style=\"text-align: right;\">\n",
       "      <th></th>\n",
       "      <th>PassengerId</th>\n",
       "      <th>Pclass</th>\n",
       "      <th>Name</th>\n",
       "      <th>Sex</th>\n",
       "      <th>Age</th>\n",
       "      <th>SibSp</th>\n",
       "      <th>Parch</th>\n",
       "      <th>Ticket</th>\n",
       "      <th>Fare</th>\n",
       "      <th>Cabin</th>\n",
       "      <th>Embarked</th>\n",
       "    </tr>\n",
       "  </thead>\n",
       "  <tbody>\n",
       "    <tr>\n",
       "      <th>1</th>\n",
       "      <td>148</td>\n",
       "      <td>3</td>\n",
       "      <td>ford, miss. robina maggie \"ruby\"</td>\n",
       "      <td>female</td>\n",
       "      <td>9.0</td>\n",
       "      <td>2</td>\n",
       "      <td>2</td>\n",
       "      <td>w./c. 6608</td>\n",
       "      <td>34.3750</td>\n",
       "      <td>NaN</td>\n",
       "      <td>s</td>\n",
       "    </tr>\n",
       "    <tr>\n",
       "      <th>2</th>\n",
       "      <td>603</td>\n",
       "      <td>1</td>\n",
       "      <td>harrington, mr. charles h</td>\n",
       "      <td>male</td>\n",
       "      <td>NaN</td>\n",
       "      <td>0</td>\n",
       "      <td>0</td>\n",
       "      <td>113796</td>\n",
       "      <td>42.4000</td>\n",
       "      <td>NaN</td>\n",
       "      <td>s</td>\n",
       "    </tr>\n",
       "    <tr>\n",
       "      <th>3</th>\n",
       "      <td>224</td>\n",
       "      <td>3</td>\n",
       "      <td>nenkoff, mr. christo</td>\n",
       "      <td>male</td>\n",
       "      <td>NaN</td>\n",
       "      <td>0</td>\n",
       "      <td>0</td>\n",
       "      <td>349234</td>\n",
       "      <td>7.8958</td>\n",
       "      <td>NaN</td>\n",
       "      <td>s</td>\n",
       "    </tr>\n",
       "    <tr>\n",
       "      <th>4</th>\n",
       "      <td>649</td>\n",
       "      <td>3</td>\n",
       "      <td>willey, mr. edward</td>\n",
       "      <td>male</td>\n",
       "      <td>NaN</td>\n",
       "      <td>0</td>\n",
       "      <td>0</td>\n",
       "      <td>s.o./p.p. 751</td>\n",
       "      <td>7.5500</td>\n",
       "      <td>NaN</td>\n",
       "      <td>s</td>\n",
       "    </tr>\n",
       "    <tr>\n",
       "      <th>6</th>\n",
       "      <td>31</td>\n",
       "      <td>1</td>\n",
       "      <td>uruchurtu, don. manuel e</td>\n",
       "      <td>male</td>\n",
       "      <td>40.0</td>\n",
       "      <td>0</td>\n",
       "      <td>0</td>\n",
       "      <td>pc 17601</td>\n",
       "      <td>27.7208</td>\n",
       "      <td>NaN</td>\n",
       "      <td>c</td>\n",
       "    </tr>\n",
       "    <tr>\n",
       "      <th>7</th>\n",
       "      <td>26</td>\n",
       "      <td>3</td>\n",
       "      <td>asplund, mrs. carl oscar (selma augusta emilia...</td>\n",
       "      <td>female</td>\n",
       "      <td>38.0</td>\n",
       "      <td>1</td>\n",
       "      <td>5</td>\n",
       "      <td>347077</td>\n",
       "      <td>31.3875</td>\n",
       "      <td>NaN</td>\n",
       "      <td>s</td>\n",
       "    </tr>\n",
       "    <tr>\n",
       "      <th>8</th>\n",
       "      <td>549</td>\n",
       "      <td>3</td>\n",
       "      <td>goldsmith, mr. frank john</td>\n",
       "      <td>male</td>\n",
       "      <td>33.0</td>\n",
       "      <td>1</td>\n",
       "      <td>1</td>\n",
       "      <td>363291</td>\n",
       "      <td>20.5250</td>\n",
       "      <td>NaN</td>\n",
       "      <td>s</td>\n",
       "    </tr>\n",
       "    <tr>\n",
       "      <th>9</th>\n",
       "      <td>351</td>\n",
       "      <td>3</td>\n",
       "      <td>odahl, mr. nils martin</td>\n",
       "      <td>male</td>\n",
       "      <td>23.0</td>\n",
       "      <td>0</td>\n",
       "      <td>0</td>\n",
       "      <td>7267</td>\n",
       "      <td>9.2250</td>\n",
       "      <td>NaN</td>\n",
       "      <td>s</td>\n",
       "    </tr>\n",
       "    <tr>\n",
       "      <th>10</th>\n",
       "      <td>788</td>\n",
       "      <td>3</td>\n",
       "      <td>rice, master. george hugh</td>\n",
       "      <td>male</td>\n",
       "      <td>8.0</td>\n",
       "      <td>4</td>\n",
       "      <td>1</td>\n",
       "      <td>382652</td>\n",
       "      <td>29.1250</td>\n",
       "      <td>NaN</td>\n",
       "      <td>q</td>\n",
       "    </tr>\n",
       "    <tr>\n",
       "      <th>11</th>\n",
       "      <td>852</td>\n",
       "      <td>3</td>\n",
       "      <td>svensson, mr. johan</td>\n",
       "      <td>male</td>\n",
       "      <td>74.0</td>\n",
       "      <td>0</td>\n",
       "      <td>0</td>\n",
       "      <td>347060</td>\n",
       "      <td>7.7750</td>\n",
       "      <td>NaN</td>\n",
       "      <td>s</td>\n",
       "    </tr>\n",
       "    <tr>\n",
       "      <th>12</th>\n",
       "      <td>343</td>\n",
       "      <td>2</td>\n",
       "      <td>collander, mr. erik gustaf</td>\n",
       "      <td>male</td>\n",
       "      <td>28.0</td>\n",
       "      <td>0</td>\n",
       "      <td>0</td>\n",
       "      <td>248740</td>\n",
       "      <td>13.0000</td>\n",
       "      <td>NaN</td>\n",
       "      <td>s</td>\n",
       "    </tr>\n",
       "    <tr>\n",
       "      <th>13</th>\n",
       "      <td>25</td>\n",
       "      <td>3</td>\n",
       "      <td>palsson, miss. torborg danira</td>\n",
       "      <td>female</td>\n",
       "      <td>8.0</td>\n",
       "      <td>3</td>\n",
       "      <td>1</td>\n",
       "      <td>349909</td>\n",
       "      <td>21.0750</td>\n",
       "      <td>NaN</td>\n",
       "      <td>s</td>\n",
       "    </tr>\n",
       "    <tr>\n",
       "      <th>14</th>\n",
       "      <td>851</td>\n",
       "      <td>3</td>\n",
       "      <td>andersson, master. sigvard harald elias</td>\n",
       "      <td>male</td>\n",
       "      <td>4.0</td>\n",
       "      <td>4</td>\n",
       "      <td>2</td>\n",
       "      <td>347082</td>\n",
       "      <td>31.2750</td>\n",
       "      <td>NaN</td>\n",
       "      <td>s</td>\n",
       "    </tr>\n",
       "    <tr>\n",
       "      <th>15</th>\n",
       "      <td>726</td>\n",
       "      <td>3</td>\n",
       "      <td>oreskovic, mr. luka</td>\n",
       "      <td>male</td>\n",
       "      <td>20.0</td>\n",
       "      <td>0</td>\n",
       "      <td>0</td>\n",
       "      <td>315094</td>\n",
       "      <td>8.6625</td>\n",
       "      <td>NaN</td>\n",
       "      <td>s</td>\n",
       "    </tr>\n",
       "    <tr>\n",
       "      <th>16</th>\n",
       "      <td>561</td>\n",
       "      <td>3</td>\n",
       "      <td>morrow, mr. thomas rowan</td>\n",
       "      <td>male</td>\n",
       "      <td>NaN</td>\n",
       "      <td>0</td>\n",
       "      <td>0</td>\n",
       "      <td>372622</td>\n",
       "      <td>7.7500</td>\n",
       "      <td>NaN</td>\n",
       "      <td>q</td>\n",
       "    </tr>\n",
       "    <tr>\n",
       "      <th>17</th>\n",
       "      <td>275</td>\n",
       "      <td>3</td>\n",
       "      <td>healy, miss. hanora \"nora\"</td>\n",
       "      <td>female</td>\n",
       "      <td>NaN</td>\n",
       "      <td>0</td>\n",
       "      <td>0</td>\n",
       "      <td>370375</td>\n",
       "      <td>7.7500</td>\n",
       "      <td>NaN</td>\n",
       "      <td>q</td>\n",
       "    </tr>\n",
       "    <tr>\n",
       "      <th>18</th>\n",
       "      <td>483</td>\n",
       "      <td>3</td>\n",
       "      <td>rouse, mr. richard henry</td>\n",
       "      <td>male</td>\n",
       "      <td>50.0</td>\n",
       "      <td>0</td>\n",
       "      <td>0</td>\n",
       "      <td>a/5 3594</td>\n",
       "      <td>8.0500</td>\n",
       "      <td>NaN</td>\n",
       "      <td>s</td>\n",
       "    </tr>\n",
       "    <tr>\n",
       "      <th>19</th>\n",
       "      <td>71</td>\n",
       "      <td>2</td>\n",
       "      <td>jenkin, mr. stephen curnow</td>\n",
       "      <td>male</td>\n",
       "      <td>32.0</td>\n",
       "      <td>0</td>\n",
       "      <td>0</td>\n",
       "      <td>c.a. 33111</td>\n",
       "      <td>10.5000</td>\n",
       "      <td>NaN</td>\n",
       "      <td>s</td>\n",
       "    </tr>\n",
       "    <tr>\n",
       "      <th>20</th>\n",
       "      <td>554</td>\n",
       "      <td>3</td>\n",
       "      <td>leeni, mr. fahim (\"philip zenni\")</td>\n",
       "      <td>male</td>\n",
       "      <td>22.0</td>\n",
       "      <td>0</td>\n",
       "      <td>0</td>\n",
       "      <td>2620</td>\n",
       "      <td>7.2250</td>\n",
       "      <td>NaN</td>\n",
       "      <td>c</td>\n",
       "    </tr>\n",
       "    <tr>\n",
       "      <th>21</th>\n",
       "      <td>299</td>\n",
       "      <td>1</td>\n",
       "      <td>saalfeld, mr. adolphe</td>\n",
       "      <td>male</td>\n",
       "      <td>NaN</td>\n",
       "      <td>0</td>\n",
       "      <td>0</td>\n",
       "      <td>19988</td>\n",
       "      <td>30.5000</td>\n",
       "      <td>c106</td>\n",
       "      <td>s</td>\n",
       "    </tr>\n",
       "    <tr>\n",
       "      <th>23</th>\n",
       "      <td>625</td>\n",
       "      <td>3</td>\n",
       "      <td>bowen, mr. david john \"dai\"</td>\n",
       "      <td>male</td>\n",
       "      <td>21.0</td>\n",
       "      <td>0</td>\n",
       "      <td>0</td>\n",
       "      <td>54636</td>\n",
       "      <td>16.1000</td>\n",
       "      <td>NaN</td>\n",
       "      <td>s</td>\n",
       "    </tr>\n",
       "    <tr>\n",
       "      <th>24</th>\n",
       "      <td>589</td>\n",
       "      <td>3</td>\n",
       "      <td>gilinski, mr. eliezer</td>\n",
       "      <td>male</td>\n",
       "      <td>22.0</td>\n",
       "      <td>0</td>\n",
       "      <td>0</td>\n",
       "      <td>14973</td>\n",
       "      <td>8.0500</td>\n",
       "      <td>NaN</td>\n",
       "      <td>s</td>\n",
       "    </tr>\n",
       "    <tr>\n",
       "      <th>25</th>\n",
       "      <td>329</td>\n",
       "      <td>3</td>\n",
       "      <td>goldsmith, mrs. frank john (emily alice brown)</td>\n",
       "      <td>female</td>\n",
       "      <td>31.0</td>\n",
       "      <td>1</td>\n",
       "      <td>1</td>\n",
       "      <td>363291</td>\n",
       "      <td>20.5250</td>\n",
       "      <td>NaN</td>\n",
       "      <td>s</td>\n",
       "    </tr>\n",
       "    <tr>\n",
       "      <th>26</th>\n",
       "      <td>204</td>\n",
       "      <td>3</td>\n",
       "      <td>youseff, mr. gerious</td>\n",
       "      <td>male</td>\n",
       "      <td>45.5</td>\n",
       "      <td>0</td>\n",
       "      <td>0</td>\n",
       "      <td>2628</td>\n",
       "      <td>7.2250</td>\n",
       "      <td>NaN</td>\n",
       "      <td>c</td>\n",
       "    </tr>\n",
       "    <tr>\n",
       "      <th>27</th>\n",
       "      <td>168</td>\n",
       "      <td>3</td>\n",
       "      <td>skoog, mrs. william (anna bernhardina karlsson)</td>\n",
       "      <td>female</td>\n",
       "      <td>45.0</td>\n",
       "      <td>1</td>\n",
       "      <td>4</td>\n",
       "      <td>347088</td>\n",
       "      <td>27.9000</td>\n",
       "      <td>NaN</td>\n",
       "      <td>s</td>\n",
       "    </tr>\n",
       "    <tr>\n",
       "      <th>28</th>\n",
       "      <td>883</td>\n",
       "      <td>3</td>\n",
       "      <td>dahlberg, miss. gerda ulrika</td>\n",
       "      <td>female</td>\n",
       "      <td>22.0</td>\n",
       "      <td>0</td>\n",
       "      <td>0</td>\n",
       "      <td>7552</td>\n",
       "      <td>10.5167</td>\n",
       "      <td>NaN</td>\n",
       "      <td>s</td>\n",
       "    </tr>\n",
       "    <tr>\n",
       "      <th>29</th>\n",
       "      <td>758</td>\n",
       "      <td>2</td>\n",
       "      <td>bailey, mr. percy andrew</td>\n",
       "      <td>male</td>\n",
       "      <td>18.0</td>\n",
       "      <td>0</td>\n",
       "      <td>0</td>\n",
       "      <td>29108</td>\n",
       "      <td>11.5000</td>\n",
       "      <td>NaN</td>\n",
       "      <td>s</td>\n",
       "    </tr>\n",
       "    <tr>\n",
       "      <th>30</th>\n",
       "      <td>123</td>\n",
       "      <td>2</td>\n",
       "      <td>nasser, mr. nicholas</td>\n",
       "      <td>male</td>\n",
       "      <td>32.5</td>\n",
       "      <td>1</td>\n",
       "      <td>0</td>\n",
       "      <td>237736</td>\n",
       "      <td>30.0708</td>\n",
       "      <td>NaN</td>\n",
       "      <td>c</td>\n",
       "    </tr>\n",
       "    <tr>\n",
       "      <th>31</th>\n",
       "      <td>685</td>\n",
       "      <td>2</td>\n",
       "      <td>brown, mr. thomas william solomon</td>\n",
       "      <td>male</td>\n",
       "      <td>60.0</td>\n",
       "      <td>1</td>\n",
       "      <td>1</td>\n",
       "      <td>29750</td>\n",
       "      <td>39.0000</td>\n",
       "      <td>NaN</td>\n",
       "      <td>s</td>\n",
       "    </tr>\n",
       "    <tr>\n",
       "      <th>32</th>\n",
       "      <td>827</td>\n",
       "      <td>3</td>\n",
       "      <td>lam, mr. len</td>\n",
       "      <td>male</td>\n",
       "      <td>NaN</td>\n",
       "      <td>0</td>\n",
       "      <td>0</td>\n",
       "      <td>1601</td>\n",
       "      <td>56.4958</td>\n",
       "      <td>NaN</td>\n",
       "      <td>s</td>\n",
       "    </tr>\n",
       "    <tr>\n",
       "      <th>...</th>\n",
       "      <td>...</td>\n",
       "      <td>...</td>\n",
       "      <td>...</td>\n",
       "      <td>...</td>\n",
       "      <td>...</td>\n",
       "      <td>...</td>\n",
       "      <td>...</td>\n",
       "      <td>...</td>\n",
       "      <td>...</td>\n",
       "      <td>...</td>\n",
       "      <td>...</td>\n",
       "    </tr>\n",
       "    <tr>\n",
       "      <th>225</th>\n",
       "      <td>459</td>\n",
       "      <td>2</td>\n",
       "      <td>toomey, miss. ellen</td>\n",
       "      <td>female</td>\n",
       "      <td>50.0</td>\n",
       "      <td>0</td>\n",
       "      <td>0</td>\n",
       "      <td>f.c.c. 13531</td>\n",
       "      <td>10.5000</td>\n",
       "      <td>NaN</td>\n",
       "      <td>s</td>\n",
       "    </tr>\n",
       "    <tr>\n",
       "      <th>226</th>\n",
       "      <td>230</td>\n",
       "      <td>3</td>\n",
       "      <td>lefebre, miss. mathilde</td>\n",
       "      <td>female</td>\n",
       "      <td>NaN</td>\n",
       "      <td>3</td>\n",
       "      <td>1</td>\n",
       "      <td>4133</td>\n",
       "      <td>25.4667</td>\n",
       "      <td>NaN</td>\n",
       "      <td>s</td>\n",
       "    </tr>\n",
       "    <tr>\n",
       "      <th>227</th>\n",
       "      <td>260</td>\n",
       "      <td>2</td>\n",
       "      <td>parrish, mrs. (lutie davis)</td>\n",
       "      <td>female</td>\n",
       "      <td>50.0</td>\n",
       "      <td>0</td>\n",
       "      <td>1</td>\n",
       "      <td>230433</td>\n",
       "      <td>26.0000</td>\n",
       "      <td>NaN</td>\n",
       "      <td>s</td>\n",
       "    </tr>\n",
       "    <tr>\n",
       "      <th>228</th>\n",
       "      <td>100</td>\n",
       "      <td>2</td>\n",
       "      <td>kantor, mr. sinai</td>\n",
       "      <td>male</td>\n",
       "      <td>34.0</td>\n",
       "      <td>1</td>\n",
       "      <td>0</td>\n",
       "      <td>244367</td>\n",
       "      <td>26.0000</td>\n",
       "      <td>NaN</td>\n",
       "      <td>s</td>\n",
       "    </tr>\n",
       "    <tr>\n",
       "      <th>229</th>\n",
       "      <td>809</td>\n",
       "      <td>2</td>\n",
       "      <td>meyer, mr. august</td>\n",
       "      <td>male</td>\n",
       "      <td>39.0</td>\n",
       "      <td>0</td>\n",
       "      <td>0</td>\n",
       "      <td>248723</td>\n",
       "      <td>13.0000</td>\n",
       "      <td>NaN</td>\n",
       "      <td>s</td>\n",
       "    </tr>\n",
       "    <tr>\n",
       "      <th>230</th>\n",
       "      <td>241</td>\n",
       "      <td>3</td>\n",
       "      <td>zabour, miss. thamine</td>\n",
       "      <td>female</td>\n",
       "      <td>NaN</td>\n",
       "      <td>1</td>\n",
       "      <td>0</td>\n",
       "      <td>2665</td>\n",
       "      <td>14.4542</td>\n",
       "      <td>NaN</td>\n",
       "      <td>c</td>\n",
       "    </tr>\n",
       "    <tr>\n",
       "      <th>231</th>\n",
       "      <td>33</td>\n",
       "      <td>3</td>\n",
       "      <td>glynn, miss. mary agatha</td>\n",
       "      <td>female</td>\n",
       "      <td>NaN</td>\n",
       "      <td>0</td>\n",
       "      <td>0</td>\n",
       "      <td>335677</td>\n",
       "      <td>7.7500</td>\n",
       "      <td>NaN</td>\n",
       "      <td>q</td>\n",
       "    </tr>\n",
       "    <tr>\n",
       "      <th>232</th>\n",
       "      <td>552</td>\n",
       "      <td>2</td>\n",
       "      <td>sharp, mr. percival james r</td>\n",
       "      <td>male</td>\n",
       "      <td>27.0</td>\n",
       "      <td>0</td>\n",
       "      <td>0</td>\n",
       "      <td>244358</td>\n",
       "      <td>26.0000</td>\n",
       "      <td>NaN</td>\n",
       "      <td>s</td>\n",
       "    </tr>\n",
       "    <tr>\n",
       "      <th>234</th>\n",
       "      <td>787</td>\n",
       "      <td>3</td>\n",
       "      <td>sjoblom, miss. anna sofia</td>\n",
       "      <td>female</td>\n",
       "      <td>18.0</td>\n",
       "      <td>0</td>\n",
       "      <td>0</td>\n",
       "      <td>3101265</td>\n",
       "      <td>7.4958</td>\n",
       "      <td>NaN</td>\n",
       "      <td>s</td>\n",
       "    </tr>\n",
       "    <tr>\n",
       "      <th>236</th>\n",
       "      <td>70</td>\n",
       "      <td>3</td>\n",
       "      <td>kink, mr. vincenz</td>\n",
       "      <td>male</td>\n",
       "      <td>26.0</td>\n",
       "      <td>2</td>\n",
       "      <td>0</td>\n",
       "      <td>315151</td>\n",
       "      <td>8.6625</td>\n",
       "      <td>NaN</td>\n",
       "      <td>s</td>\n",
       "    </tr>\n",
       "    <tr>\n",
       "      <th>237</th>\n",
       "      <td>281</td>\n",
       "      <td>3</td>\n",
       "      <td>duane, mr. frank</td>\n",
       "      <td>male</td>\n",
       "      <td>65.0</td>\n",
       "      <td>0</td>\n",
       "      <td>0</td>\n",
       "      <td>336439</td>\n",
       "      <td>7.7500</td>\n",
       "      <td>NaN</td>\n",
       "      <td>q</td>\n",
       "    </tr>\n",
       "    <tr>\n",
       "      <th>239</th>\n",
       "      <td>456</td>\n",
       "      <td>3</td>\n",
       "      <td>jalsevac, mr. ivan</td>\n",
       "      <td>male</td>\n",
       "      <td>29.0</td>\n",
       "      <td>0</td>\n",
       "      <td>0</td>\n",
       "      <td>349240</td>\n",
       "      <td>7.8958</td>\n",
       "      <td>NaN</td>\n",
       "      <td>c</td>\n",
       "    </tr>\n",
       "    <tr>\n",
       "      <th>241</th>\n",
       "      <td>240</td>\n",
       "      <td>2</td>\n",
       "      <td>hunt, mr. george henry</td>\n",
       "      <td>male</td>\n",
       "      <td>33.0</td>\n",
       "      <td>0</td>\n",
       "      <td>0</td>\n",
       "      <td>sco/w 1585</td>\n",
       "      <td>12.2750</td>\n",
       "      <td>NaN</td>\n",
       "      <td>s</td>\n",
       "    </tr>\n",
       "    <tr>\n",
       "      <th>242</th>\n",
       "      <td>871</td>\n",
       "      <td>3</td>\n",
       "      <td>balkic, mr. cerin</td>\n",
       "      <td>male</td>\n",
       "      <td>26.0</td>\n",
       "      <td>0</td>\n",
       "      <td>0</td>\n",
       "      <td>349248</td>\n",
       "      <td>7.8958</td>\n",
       "      <td>NaN</td>\n",
       "      <td>s</td>\n",
       "    </tr>\n",
       "    <tr>\n",
       "      <th>244</th>\n",
       "      <td>282</td>\n",
       "      <td>3</td>\n",
       "      <td>olsson, mr. nils johan goransson</td>\n",
       "      <td>male</td>\n",
       "      <td>28.0</td>\n",
       "      <td>0</td>\n",
       "      <td>0</td>\n",
       "      <td>347464</td>\n",
       "      <td>7.8542</td>\n",
       "      <td>NaN</td>\n",
       "      <td>s</td>\n",
       "    </tr>\n",
       "    <tr>\n",
       "      <th>246</th>\n",
       "      <td>205</td>\n",
       "      <td>3</td>\n",
       "      <td>cohen, mr. gurshon \"gus\"</td>\n",
       "      <td>male</td>\n",
       "      <td>18.0</td>\n",
       "      <td>0</td>\n",
       "      <td>0</td>\n",
       "      <td>a/5 3540</td>\n",
       "      <td>8.0500</td>\n",
       "      <td>NaN</td>\n",
       "      <td>s</td>\n",
       "    </tr>\n",
       "    <tr>\n",
       "      <th>247</th>\n",
       "      <td>227</td>\n",
       "      <td>2</td>\n",
       "      <td>mellors, mr. william john</td>\n",
       "      <td>male</td>\n",
       "      <td>19.0</td>\n",
       "      <td>0</td>\n",
       "      <td>0</td>\n",
       "      <td>sw/pp 751</td>\n",
       "      <td>10.5000</td>\n",
       "      <td>NaN</td>\n",
       "      <td>s</td>\n",
       "    </tr>\n",
       "    <tr>\n",
       "      <th>248</th>\n",
       "      <td>324</td>\n",
       "      <td>2</td>\n",
       "      <td>caldwell, mrs. albert francis (sylvia mae harb...</td>\n",
       "      <td>female</td>\n",
       "      <td>22.0</td>\n",
       "      <td>1</td>\n",
       "      <td>1</td>\n",
       "      <td>248738</td>\n",
       "      <td>29.0000</td>\n",
       "      <td>NaN</td>\n",
       "      <td>s</td>\n",
       "    </tr>\n",
       "    <tr>\n",
       "      <th>249</th>\n",
       "      <td>533</td>\n",
       "      <td>3</td>\n",
       "      <td>elias, mr. joseph jr</td>\n",
       "      <td>male</td>\n",
       "      <td>17.0</td>\n",
       "      <td>1</td>\n",
       "      <td>1</td>\n",
       "      <td>2690</td>\n",
       "      <td>7.2292</td>\n",
       "      <td>NaN</td>\n",
       "      <td>c</td>\n",
       "    </tr>\n",
       "    <tr>\n",
       "      <th>251</th>\n",
       "      <td>236</td>\n",
       "      <td>3</td>\n",
       "      <td>harknett, miss. alice phoebe</td>\n",
       "      <td>female</td>\n",
       "      <td>NaN</td>\n",
       "      <td>0</td>\n",
       "      <td>0</td>\n",
       "      <td>w./c. 6609</td>\n",
       "      <td>7.5500</td>\n",
       "      <td>NaN</td>\n",
       "      <td>s</td>\n",
       "    </tr>\n",
       "    <tr>\n",
       "      <th>252</th>\n",
       "      <td>695</td>\n",
       "      <td>1</td>\n",
       "      <td>weir, col. john</td>\n",
       "      <td>male</td>\n",
       "      <td>60.0</td>\n",
       "      <td>0</td>\n",
       "      <td>0</td>\n",
       "      <td>113800</td>\n",
       "      <td>26.5500</td>\n",
       "      <td>NaN</td>\n",
       "      <td>s</td>\n",
       "    </tr>\n",
       "    <tr>\n",
       "      <th>253</th>\n",
       "      <td>428</td>\n",
       "      <td>2</td>\n",
       "      <td>phillips, miss. kate florence (\"mrs kate louis...</td>\n",
       "      <td>female</td>\n",
       "      <td>19.0</td>\n",
       "      <td>0</td>\n",
       "      <td>0</td>\n",
       "      <td>250655</td>\n",
       "      <td>26.0000</td>\n",
       "      <td>NaN</td>\n",
       "      <td>s</td>\n",
       "    </tr>\n",
       "    <tr>\n",
       "      <th>254</th>\n",
       "      <td>618</td>\n",
       "      <td>3</td>\n",
       "      <td>lobb, mrs. william arthur (cordelia k stanlick)</td>\n",
       "      <td>female</td>\n",
       "      <td>26.0</td>\n",
       "      <td>1</td>\n",
       "      <td>0</td>\n",
       "      <td>a/5. 3336</td>\n",
       "      <td>16.1000</td>\n",
       "      <td>NaN</td>\n",
       "      <td>s</td>\n",
       "    </tr>\n",
       "    <tr>\n",
       "      <th>256</th>\n",
       "      <td>121</td>\n",
       "      <td>2</td>\n",
       "      <td>hickman, mr. stanley george</td>\n",
       "      <td>male</td>\n",
       "      <td>21.0</td>\n",
       "      <td>2</td>\n",
       "      <td>0</td>\n",
       "      <td>s.o.c. 14879</td>\n",
       "      <td>73.5000</td>\n",
       "      <td>NaN</td>\n",
       "      <td>s</td>\n",
       "    </tr>\n",
       "    <tr>\n",
       "      <th>257</th>\n",
       "      <td>744</td>\n",
       "      <td>3</td>\n",
       "      <td>mcnamee, mr. neal</td>\n",
       "      <td>male</td>\n",
       "      <td>24.0</td>\n",
       "      <td>1</td>\n",
       "      <td>0</td>\n",
       "      <td>376566</td>\n",
       "      <td>16.1000</td>\n",
       "      <td>NaN</td>\n",
       "      <td>s</td>\n",
       "    </tr>\n",
       "    <tr>\n",
       "      <th>260</th>\n",
       "      <td>75</td>\n",
       "      <td>3</td>\n",
       "      <td>bing, mr. lee</td>\n",
       "      <td>male</td>\n",
       "      <td>32.0</td>\n",
       "      <td>0</td>\n",
       "      <td>0</td>\n",
       "      <td>1601</td>\n",
       "      <td>56.4958</td>\n",
       "      <td>NaN</td>\n",
       "      <td>s</td>\n",
       "    </tr>\n",
       "    <tr>\n",
       "      <th>261</th>\n",
       "      <td>794</td>\n",
       "      <td>1</td>\n",
       "      <td>hoyt, mr. william fisher</td>\n",
       "      <td>male</td>\n",
       "      <td>NaN</td>\n",
       "      <td>0</td>\n",
       "      <td>0</td>\n",
       "      <td>pc 17600</td>\n",
       "      <td>30.6958</td>\n",
       "      <td>NaN</td>\n",
       "      <td>c</td>\n",
       "    </tr>\n",
       "    <tr>\n",
       "      <th>263</th>\n",
       "      <td>35</td>\n",
       "      <td>1</td>\n",
       "      <td>meyer, mr. edgar joseph</td>\n",
       "      <td>male</td>\n",
       "      <td>28.0</td>\n",
       "      <td>1</td>\n",
       "      <td>0</td>\n",
       "      <td>pc 17604</td>\n",
       "      <td>82.1708</td>\n",
       "      <td>NaN</td>\n",
       "      <td>c</td>\n",
       "    </tr>\n",
       "    <tr>\n",
       "      <th>264</th>\n",
       "      <td>523</td>\n",
       "      <td>3</td>\n",
       "      <td>lahoud, mr. sarkis</td>\n",
       "      <td>male</td>\n",
       "      <td>NaN</td>\n",
       "      <td>0</td>\n",
       "      <td>0</td>\n",
       "      <td>2624</td>\n",
       "      <td>7.2250</td>\n",
       "      <td>NaN</td>\n",
       "      <td>c</td>\n",
       "    </tr>\n",
       "    <tr>\n",
       "      <th>265</th>\n",
       "      <td>478</td>\n",
       "      <td>3</td>\n",
       "      <td>braund, mr. lewis richard</td>\n",
       "      <td>male</td>\n",
       "      <td>29.0</td>\n",
       "      <td>1</td>\n",
       "      <td>0</td>\n",
       "      <td>3460</td>\n",
       "      <td>7.0458</td>\n",
       "      <td>NaN</td>\n",
       "      <td>s</td>\n",
       "    </tr>\n",
       "  </tbody>\n",
       "</table>\n",
       "<p>208 rows × 11 columns</p>\n",
       "</div>"
      ],
      "text/plain": [
       "     PassengerId  Pclass                                               Name  \\\n",
       "1            148       3                   ford, miss. robina maggie \"ruby\"   \n",
       "2            603       1                          harrington, mr. charles h   \n",
       "3            224       3                               nenkoff, mr. christo   \n",
       "4            649       3                                 willey, mr. edward   \n",
       "6             31       1                           uruchurtu, don. manuel e   \n",
       "7             26       3  asplund, mrs. carl oscar (selma augusta emilia...   \n",
       "8            549       3                          goldsmith, mr. frank john   \n",
       "9            351       3                             odahl, mr. nils martin   \n",
       "10           788       3                          rice, master. george hugh   \n",
       "11           852       3                                svensson, mr. johan   \n",
       "12           343       2                         collander, mr. erik gustaf   \n",
       "13            25       3                      palsson, miss. torborg danira   \n",
       "14           851       3            andersson, master. sigvard harald elias   \n",
       "15           726       3                                oreskovic, mr. luka   \n",
       "16           561       3                           morrow, mr. thomas rowan   \n",
       "17           275       3                         healy, miss. hanora \"nora\"   \n",
       "18           483       3                           rouse, mr. richard henry   \n",
       "19            71       2                         jenkin, mr. stephen curnow   \n",
       "20           554       3                  leeni, mr. fahim (\"philip zenni\")   \n",
       "21           299       1                              saalfeld, mr. adolphe   \n",
       "23           625       3                        bowen, mr. david john \"dai\"   \n",
       "24           589       3                              gilinski, mr. eliezer   \n",
       "25           329       3     goldsmith, mrs. frank john (emily alice brown)   \n",
       "26           204       3                               youseff, mr. gerious   \n",
       "27           168       3    skoog, mrs. william (anna bernhardina karlsson)   \n",
       "28           883       3                       dahlberg, miss. gerda ulrika   \n",
       "29           758       2                           bailey, mr. percy andrew   \n",
       "30           123       2                               nasser, mr. nicholas   \n",
       "31           685       2                  brown, mr. thomas william solomon   \n",
       "32           827       3                                       lam, mr. len   \n",
       "..           ...     ...                                                ...   \n",
       "225          459       2                                toomey, miss. ellen   \n",
       "226          230       3                            lefebre, miss. mathilde   \n",
       "227          260       2                        parrish, mrs. (lutie davis)   \n",
       "228          100       2                                  kantor, mr. sinai   \n",
       "229          809       2                                  meyer, mr. august   \n",
       "230          241       3                              zabour, miss. thamine   \n",
       "231           33       3                           glynn, miss. mary agatha   \n",
       "232          552       2                        sharp, mr. percival james r   \n",
       "234          787       3                          sjoblom, miss. anna sofia   \n",
       "236           70       3                                  kink, mr. vincenz   \n",
       "237          281       3                                   duane, mr. frank   \n",
       "239          456       3                                 jalsevac, mr. ivan   \n",
       "241          240       2                             hunt, mr. george henry   \n",
       "242          871       3                                  balkic, mr. cerin   \n",
       "244          282       3                   olsson, mr. nils johan goransson   \n",
       "246          205       3                           cohen, mr. gurshon \"gus\"   \n",
       "247          227       2                          mellors, mr. william john   \n",
       "248          324       2  caldwell, mrs. albert francis (sylvia mae harb...   \n",
       "249          533       3                               elias, mr. joseph jr   \n",
       "251          236       3                       harknett, miss. alice phoebe   \n",
       "252          695       1                                    weir, col. john   \n",
       "253          428       2  phillips, miss. kate florence (\"mrs kate louis...   \n",
       "254          618       3    lobb, mrs. william arthur (cordelia k stanlick)   \n",
       "256          121       2                        hickman, mr. stanley george   \n",
       "257          744       3                                  mcnamee, mr. neal   \n",
       "260           75       3                                      bing, mr. lee   \n",
       "261          794       1                           hoyt, mr. william fisher   \n",
       "263           35       1                            meyer, mr. edgar joseph   \n",
       "264          523       3                                 lahoud, mr. sarkis   \n",
       "265          478       3                          braund, mr. lewis richard   \n",
       "\n",
       "        Sex   Age  SibSp  Parch         Ticket     Fare Cabin Embarked  \n",
       "1    female   9.0      2      2     w./c. 6608  34.3750   NaN        s  \n",
       "2      male   NaN      0      0         113796  42.4000   NaN        s  \n",
       "3      male   NaN      0      0         349234   7.8958   NaN        s  \n",
       "4      male   NaN      0      0  s.o./p.p. 751   7.5500   NaN        s  \n",
       "6      male  40.0      0      0       pc 17601  27.7208   NaN        c  \n",
       "7    female  38.0      1      5         347077  31.3875   NaN        s  \n",
       "8      male  33.0      1      1         363291  20.5250   NaN        s  \n",
       "9      male  23.0      0      0           7267   9.2250   NaN        s  \n",
       "10     male   8.0      4      1         382652  29.1250   NaN        q  \n",
       "11     male  74.0      0      0         347060   7.7750   NaN        s  \n",
       "12     male  28.0      0      0         248740  13.0000   NaN        s  \n",
       "13   female   8.0      3      1         349909  21.0750   NaN        s  \n",
       "14     male   4.0      4      2         347082  31.2750   NaN        s  \n",
       "15     male  20.0      0      0         315094   8.6625   NaN        s  \n",
       "16     male   NaN      0      0         372622   7.7500   NaN        q  \n",
       "17   female   NaN      0      0         370375   7.7500   NaN        q  \n",
       "18     male  50.0      0      0       a/5 3594   8.0500   NaN        s  \n",
       "19     male  32.0      0      0     c.a. 33111  10.5000   NaN        s  \n",
       "20     male  22.0      0      0           2620   7.2250   NaN        c  \n",
       "21     male   NaN      0      0          19988  30.5000  c106        s  \n",
       "23     male  21.0      0      0          54636  16.1000   NaN        s  \n",
       "24     male  22.0      0      0          14973   8.0500   NaN        s  \n",
       "25   female  31.0      1      1         363291  20.5250   NaN        s  \n",
       "26     male  45.5      0      0           2628   7.2250   NaN        c  \n",
       "27   female  45.0      1      4         347088  27.9000   NaN        s  \n",
       "28   female  22.0      0      0           7552  10.5167   NaN        s  \n",
       "29     male  18.0      0      0          29108  11.5000   NaN        s  \n",
       "30     male  32.5      1      0         237736  30.0708   NaN        c  \n",
       "31     male  60.0      1      1          29750  39.0000   NaN        s  \n",
       "32     male   NaN      0      0           1601  56.4958   NaN        s  \n",
       "..      ...   ...    ...    ...            ...      ...   ...      ...  \n",
       "225  female  50.0      0      0   f.c.c. 13531  10.5000   NaN        s  \n",
       "226  female   NaN      3      1           4133  25.4667   NaN        s  \n",
       "227  female  50.0      0      1         230433  26.0000   NaN        s  \n",
       "228    male  34.0      1      0         244367  26.0000   NaN        s  \n",
       "229    male  39.0      0      0         248723  13.0000   NaN        s  \n",
       "230  female   NaN      1      0           2665  14.4542   NaN        c  \n",
       "231  female   NaN      0      0         335677   7.7500   NaN        q  \n",
       "232    male  27.0      0      0         244358  26.0000   NaN        s  \n",
       "234  female  18.0      0      0        3101265   7.4958   NaN        s  \n",
       "236    male  26.0      2      0         315151   8.6625   NaN        s  \n",
       "237    male  65.0      0      0         336439   7.7500   NaN        q  \n",
       "239    male  29.0      0      0         349240   7.8958   NaN        c  \n",
       "241    male  33.0      0      0     sco/w 1585  12.2750   NaN        s  \n",
       "242    male  26.0      0      0         349248   7.8958   NaN        s  \n",
       "244    male  28.0      0      0         347464   7.8542   NaN        s  \n",
       "246    male  18.0      0      0       a/5 3540   8.0500   NaN        s  \n",
       "247    male  19.0      0      0      sw/pp 751  10.5000   NaN        s  \n",
       "248  female  22.0      1      1         248738  29.0000   NaN        s  \n",
       "249    male  17.0      1      1           2690   7.2292   NaN        c  \n",
       "251  female   NaN      0      0     w./c. 6609   7.5500   NaN        s  \n",
       "252    male  60.0      0      0         113800  26.5500   NaN        s  \n",
       "253  female  19.0      0      0         250655  26.0000   NaN        s  \n",
       "254  female  26.0      1      0      a/5. 3336  16.1000   NaN        s  \n",
       "256    male  21.0      2      0   s.o.c. 14879  73.5000   NaN        s  \n",
       "257    male  24.0      1      0         376566  16.1000   NaN        s  \n",
       "260    male  32.0      0      0           1601  56.4958   NaN        s  \n",
       "261    male   NaN      0      0       pc 17600  30.6958   NaN        c  \n",
       "263    male  28.0      1      0       pc 17604  82.1708   NaN        c  \n",
       "264    male   NaN      0      0           2624   7.2250   NaN        c  \n",
       "265    male  29.0      1      0           3460   7.0458   NaN        s  \n",
       "\n",
       "[208 rows x 11 columns]"
      ]
     },
     "execution_count": 447,
     "metadata": {},
     "output_type": "execute_result"
    }
   ],
   "source": [
    "null_data\n"
   ]
  },
  {
   "cell_type": "code",
   "execution_count": 508,
   "metadata": {},
   "outputs": [],
   "source": [
    "missing = [[]] * dirty_X_test.shape[0]\n",
    "for i, row in null_data.iterrows():\n",
    "    # append the original index of the missing feature\n",
    "    cols = null_data.columns.get_values()[np.where(pd.isnull(row))]\n",
    "    \n",
    "    idx = [mappings_dict[col][0] for col in cols]\n",
    "    missing[i] = idx\n",
    "missing = np.array(missing)"
   ]
  },
  {
   "cell_type": "code",
   "execution_count": 504,
   "metadata": {},
   "outputs": [
    {
     "data": {
      "text/plain": [
       "[2, 9]"
      ]
     },
     "execution_count": 504,
     "metadata": {},
     "output_type": "execute_result"
    }
   ],
   "source": [
    "missing[264]"
   ]
  },
  {
   "cell_type": "code",
   "execution_count": 474,
   "metadata": {},
   "outputs": [
    {
     "data": {
      "text/plain": [
       "Index(['PassengerId', 'Pclass', 'Name', 'Sex', 'Age', 'SibSp', 'Parch',\n",
       "       'Ticket', 'Fare', 'Cabin', 'Embarked'],\n",
       "      dtype='object')"
      ]
     },
     "execution_count": 474,
     "metadata": {},
     "output_type": "execute_result"
    }
   ],
   "source": [
    "null_data.columns"
   ]
  },
  {
   "cell_type": "code",
   "execution_count": 506,
   "metadata": {},
   "outputs": [
    {
     "data": {
      "text/plain": [
       "(2, 9)"
      ]
     },
     "execution_count": 506,
     "metadata": {},
     "output_type": "execute_result"
    }
   ],
   "source": [
    "mappings_dict['Age'][0], mappings_dict['Cabin'][0]"
   ]
  },
  {
   "cell_type": "code",
   "execution_count": 510,
   "metadata": {},
   "outputs": [
    {
     "data": {
      "text/plain": [
       "(267,)"
      ]
     },
     "execution_count": 510,
     "metadata": {},
     "output_type": "execute_result"
    }
   ],
   "source": [
    "missing.shape"
   ]
  },
  {
   "cell_type": "code",
   "execution_count": 512,
   "metadata": {},
   "outputs": [
    {
     "data": {
      "text/plain": [
       "(267, 11)"
      ]
     },
     "execution_count": 512,
     "metadata": {},
     "output_type": "execute_result"
    }
   ],
   "source": [
    "dirty_X_test.shape"
   ]
  },
  {
   "cell_type": "markdown",
   "metadata": {},
   "source": [
    "pickle the output for a test!"
   ]
  },
  {
   "cell_type": "code",
   "execution_count": 513,
   "metadata": {},
   "outputs": [
    {
     "name": "stdout",
     "output_type": "stream",
     "text": [
      "/mnt/ds3lab-scratch/raox/gatech_data_cleaning/ICDE2021-revision/CleanML\r\n"
     ]
    }
   ],
   "source": [
    "!pwd"
   ]
  },
  {
   "cell_type": "code",
   "execution_count": 518,
   "metadata": {},
   "outputs": [],
   "source": [
    "sample = pickle.load(open('../NaCL/notebooks/data-robustml/Titanic/missing_values/split_8444/data_3659.p', 'rb'))"
   ]
  },
  {
   "cell_type": "code",
   "execution_count": 551,
   "metadata": {},
   "outputs": [
    {
     "data": {
      "text/plain": [
       "array([[ 3.43894356,  0.8391221 , -0.71619094, ...,  0.        ,\n",
       "        -0.12309149,  0.77151675],\n",
       "       [ 3.43894356, -0.77496341, -0.71619094, ...,  0.        ,\n",
       "        -0.12309149, -1.29614814],\n",
       "       [ 1.53473514, -0.1293292 ,  0.76026423, ...,  0.        ,\n",
       "        -0.12309149,  0.77151675],\n",
       "       ...,\n",
       "       [ 3.43894356, -1.29147077,  0.76026423, ...,  0.        ,\n",
       "        -0.12309149,  0.77151675],\n",
       "       [-0.36947327, -0.77496341, -0.71619094, ...,  0.        ,\n",
       "        -0.12309149, -1.29614814],\n",
       "       [ 3.43894356, -0.90409025, -0.71619094, ...,  0.        ,\n",
       "        -0.12309149,  0.77151675]])"
      ]
     },
     "execution_count": 551,
     "metadata": {},
     "output_type": "execute_result"
    }
   ],
   "source": [
    "sample['test']['impute_mode_mode'][0]"
   ]
  },
  {
   "cell_type": "code",
   "execution_count": 581,
   "metadata": {},
   "outputs": [
    {
     "data": {
      "text/plain": [
       "(134,)"
      ]
     },
     "execution_count": 581,
     "metadata": {},
     "output_type": "execute_result"
    }
   ],
   "source": [
    "sample['train'][1].shape"
   ]
  },
  {
   "cell_type": "code",
   "execution_count": null,
   "metadata": {
    "collapsed": true
   },
   "outputs": [],
   "source": [
    "# X_train, y_train, X_test, y_test, mappings, mappings_dict, missing_test"
   ]
  },
  {
   "cell_type": "code",
   "execution_count": 442,
   "metadata": {},
   "outputs": [
    {
     "name": "stdout",
     "output_type": "stream",
     "text": [
      "columns to encode: ['Name', 'Sex', 'Ticket', 'Cabin', 'Embarked']\n"
     ]
    }
   ],
   "source": [
    "X_train, X_test_list, mappings, mappings_dict = encode_cat_features(dirty_X_train, [dirty_X_test])"
   ]
  },
  {
   "cell_type": "code",
   "execution_count": 529,
   "metadata": {
    "collapsed": true
   },
   "outputs": [],
   "source": [
    "def encode_cat_label(y_train, y_test_list):\n",
    "    n_tr = y_train.shape[0]\n",
    "    n_te_list = [y_test.shape[0] for y_test in y_test_list]\n",
    "    test_split = np.cumsum(n_te_list)[:-1]\n",
    "\n",
    "    y = pd.concat([y_train, *y_test_list], axis=0)\n",
    "    le = LabelEncoder()\n",
    "    y = le.fit_transform(y.values.ravel())\n",
    "\n",
    "    y_train = y[:n_tr]\n",
    "    y_test_list = np.split(y[n_tr:], test_split)\n",
    "    return y_train, y_test_list"
   ]
  },
  {
   "cell_type": "code",
   "execution_count": 600,
   "metadata": {
    "collapsed": true
   },
   "outputs": [],
   "source": [
    "from sklearn.preprocessing import StandardScaler"
   ]
  },
  {
   "cell_type": "code",
   "execution_count": 601,
   "metadata": {
    "collapsed": true
   },
   "outputs": [],
   "source": [
    "scaler = StandardScaler()\n",
    "X_train = scaler.fit_transform(X_train)\n",
    "X_test_list = [scaler.transform(X_test) for X_test in X_test_list]\n"
   ]
  },
  {
   "cell_type": "code",
   "execution_count": 530,
   "metadata": {
    "collapsed": true
   },
   "outputs": [],
   "source": [
    "y_train, y_test_list = encode_cat_label(dirty_y_train, [dirty_y_test] )"
   ]
  },
  {
   "cell_type": "code",
   "execution_count": 591,
   "metadata": {
    "collapsed": true
   },
   "outputs": [],
   "source": [
    "output = defaultdict(lambda: defaultdict(list))"
   ]
  },
  {
   "cell_type": "code",
   "execution_count": 602,
   "metadata": {
    "scrolled": true
   },
   "outputs": [],
   "source": [
    "output['train']['nacl'] = (X_train, y_train)"
   ]
  },
  {
   "cell_type": "code",
   "execution_count": 603,
   "metadata": {},
   "outputs": [],
   "source": [
    "output['test']['nacl'] = (X_test_list[0], y_test_list[0])"
   ]
  },
  {
   "cell_type": "code",
   "execution_count": 604,
   "metadata": {},
   "outputs": [
    {
     "data": {
      "text/plain": [
       "(624,)"
      ]
     },
     "execution_count": 604,
     "metadata": {},
     "output_type": "execute_result"
    }
   ],
   "source": [
    "output['train']['nacl'][1].shape\n"
   ]
  },
  {
   "cell_type": "code",
   "execution_count": 605,
   "metadata": {},
   "outputs": [
    {
     "data": {
      "text/plain": [
       "(267,)"
      ]
     },
     "execution_count": 605,
     "metadata": {},
     "output_type": "execute_result"
    }
   ],
   "source": [
    "output['test']['nacl'][1].shape\n"
   ]
  },
  {
   "cell_type": "code",
   "execution_count": 606,
   "metadata": {
    "collapsed": true
   },
   "outputs": [],
   "source": [
    "output['missing_test'] = missing"
   ]
  },
  {
   "cell_type": "code",
   "execution_count": 607,
   "metadata": {
    "collapsed": true
   },
   "outputs": [],
   "source": [
    "output['mappings1hot_dict'] = mappings_dict"
   ]
  },
  {
   "cell_type": "code",
   "execution_count": 608,
   "metadata": {
    "collapsed": true
   },
   "outputs": [],
   "source": [
    "output['mappings1hot_list'] = mappings"
   ]
  },
  {
   "cell_type": "code",
   "execution_count": 609,
   "metadata": {},
   "outputs": [],
   "source": [
    "pickle.dump(dict(output), open(\"./data-robustml-mv/Titanic/missing_values/split_144/data.p\", 'wb'))"
   ]
  },
  {
   "cell_type": "code",
   "execution_count": 586,
   "metadata": {},
   "outputs": [
    {
     "data": {
      "text/plain": [
       "'/mnt/ds3lab-scratch/raox/gatech_data_cleaning/ICDE2021-revision/CleanML'"
      ]
     },
     "execution_count": 586,
     "metadata": {},
     "output_type": "execute_result"
    }
   ],
   "source": [
    "pwd"
   ]
  },
  {
   "cell_type": "code",
   "execution_count": null,
   "metadata": {
    "collapsed": true
   },
   "outputs": [],
   "source": []
  }
 ],
 "metadata": {
  "kernelspec": {
   "display_name": "nacl36",
   "language": "python",
   "name": "nacl36"
  },
  "language_info": {
   "codemirror_mode": {
    "name": "ipython",
    "version": 3
   },
   "file_extension": ".py",
   "mimetype": "text/x-python",
   "name": "python",
   "nbconvert_exporter": "python",
   "pygments_lexer": "ipython3",
   "version": "3.6.11"
  }
 },
 "nbformat": 4,
 "nbformat_minor": 2
}
