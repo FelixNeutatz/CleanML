{
 "cells": [
  {
   "cell_type": "markdown",
   "metadata": {},
   "source": [
    "This version specifies a random portion of missingness in the features. It is identical with missing_cleanml-2-percentage. These two notebooks are used to run datasets in parallel. Airbnb in particular takes a long time to run."
   ]
  },
  {
   "cell_type": "code",
   "execution_count": 1,
   "metadata": {
    "scrolled": true
   },
   "outputs": [
    {
     "name": "stderr",
     "output_type": "stream",
     "text": [
      "/mnt/ds3lab-scratch/raox/gatech_data_cleaning/ICDE2021-revision/nacl36/lib/python3.6/importlib/_bootstrap.py:219: RuntimeWarning: numpy.dtype size changed, may indicate binary incompatibility. Expected 96, got 88\n",
      "  return f(*args, **kwds)\n",
      "/mnt/ds3lab-scratch/raox/gatech_data_cleaning/ICDE2021-revision/nacl36/lib/python3.6/importlib/_bootstrap.py:219: RuntimeWarning: numpy.dtype size changed, may indicate binary incompatibility. Expected 96, got 88\n",
      "  return f(*args, **kwds)\n"
     ]
    }
   ],
   "source": [
    "import six\n",
    "import sys\n",
    "sys.modules['sklearn.externals.six'] = six\n",
    "import mlrose\n",
    "import utils\n",
    "import pickle\n",
    "from collections import defaultdict\n",
    "import numpy as np\n",
    "from collections import OrderedDict\n",
    "from sklearn.metrics import f1_score \n",
    "import pandas as pd\n",
    "from sklearn.metrics import f1_score "
   ]
  },
  {
   "cell_type": "code",
   "execution_count": 2,
   "metadata": {
    "collapsed": true
   },
   "outputs": [],
   "source": [
    "import sys\n",
    "sys.setrecursionlimit(10**6)"
   ]
  },
  {
   "cell_type": "code",
   "execution_count": 3,
   "metadata": {},
   "outputs": [
    {
     "name": "stderr",
     "output_type": "stream",
     "text": [
      "Using TensorFlow backend.\n"
     ]
    }
   ],
   "source": [
    "import math\n",
    "import matplotlib.pyplot as plt \n",
    "from sklearn.datasets import load_digits\n",
    "import numpy as np\n",
    "from sklearn.linear_model import LogisticRegression\n",
    "from sklearn.model_selection import train_test_split\n",
    "import pylab\n",
    "import sys\n",
    "from sklearn.naive_bayes import BernoulliNB, MultinomialNB\n",
    "import keras\n",
    "import time\n",
    "import pandas as pd\n",
    "import json\n",
    "import operator"
   ]
  },
  {
   "cell_type": "code",
   "execution_count": 4,
   "metadata": {
    "collapsed": true
   },
   "outputs": [],
   "source": [
    "sys.path.append(\"../NaCL/code/\")\n",
    "import utils\n",
    "import LR2NB_GP\n",
    "sys.path.append(\"../NaCL/notebooks/\")\n",
    "from dataload import *"
   ]
  },
  {
   "cell_type": "code",
   "execution_count": 5,
   "metadata": {},
   "outputs": [
    {
     "name": "stderr",
     "output_type": "stream",
     "text": [
      "/mnt/ds3lab-scratch/raox/gatech_data_cleaning/ICDE2021-revision/nacl36/lib/python3.6/site-packages/sklearn/utils/deprecation.py:143: FutureWarning: The sklearn.neighbors.base module is  deprecated in version 0.22 and will be removed in version 0.24. The corresponding classes / functions should instead be imported from sklearn.neighbors. Anything that cannot be imported from sklearn.neighbors is now part of the private API.\n",
      "  warnings.warn(message, FutureWarning)\n"
     ]
    }
   ],
   "source": [
    "from preprocess_mv import preprocess_data"
   ]
  },
  {
   "cell_type": "code",
   "execution_count": 6,
   "metadata": {
    "collapsed": true
   },
   "outputs": [],
   "source": [
    "%load_ext autoreload\n",
    "%autoreload 2"
   ]
  },
  {
   "cell_type": "markdown",
   "metadata": {},
   "source": [
    "# Loading Data"
   ]
  },
  {
   "cell_type": "code",
   "execution_count": 7,
   "metadata": {
    "collapsed": true,
    "scrolled": true
   },
   "outputs": [],
   "source": [
    "seed = 3659"
   ]
  },
  {
   "cell_type": "code",
   "execution_count": 8,
   "metadata": {
    "collapsed": true
   },
   "outputs": [],
   "source": [
    "data_dir = \"data-robustml-mv\""
   ]
  },
  {
   "cell_type": "code",
   "execution_count": 9,
   "metadata": {
    "collapsed": true
   },
   "outputs": [],
   "source": [
    "save_dir = \"result-robustml\"\n",
    "model_name ='nacl'"
   ]
  },
  {
   "cell_type": "code",
   "execution_count": 10,
   "metadata": {
    "collapsed": true
   },
   "outputs": [],
   "source": [
    "accuracy = lambda x,y: np.mean(x == y)\n",
    "f1 = lambda x,y: f1_score(x,y.flatten(), average = \"weighted\")\n",
    "\n"
   ]
  },
  {
   "cell_type": "code",
   "execution_count": 11,
   "metadata": {
    "collapsed": true
   },
   "outputs": [],
   "source": [
    "dataset = 'Marketing'"
   ]
  },
  {
   "cell_type": "code",
   "execution_count": 12,
   "metadata": {
    "scrolled": true
   },
   "outputs": [
    {
     "name": "stdout",
     "output_type": "stream",
     "text": [
      "Number of jobs: 20\n"
     ]
    }
   ],
   "source": [
    "jobs = get_jobs_mv(data_dir, dataset = [dataset])\n",
    "print(\"Number of jobs:\", len(jobs))"
   ]
  },
  {
   "cell_type": "code",
   "execution_count": 13,
   "metadata": {},
   "outputs": [
    {
     "data": {
      "text/plain": [
       "[['data-robustml-mv', 'Marketing', 'missing_values', 'split_3462'],\n",
       " ['data-robustml-mv', 'Marketing', 'missing_values', 'split_3562'],\n",
       " ['data-robustml-mv', 'Marketing', 'missing_values', 'split_5056'],\n",
       " ['data-robustml-mv', 'Marketing', 'missing_values', 'split_5374'],\n",
       " ['data-robustml-mv', 'Marketing', 'missing_values', 'split_4225'],\n",
       " ['data-robustml-mv', 'Marketing', 'missing_values', 'split_144'],\n",
       " ['data-robustml-mv', 'Marketing', 'missing_values', 'split_7813'],\n",
       " ['data-robustml-mv', 'Marketing', 'missing_values', 'split_2516'],\n",
       " ['data-robustml-mv', 'Marketing', 'missing_values', 'split_905'],\n",
       " ['data-robustml-mv', 'Marketing', 'missing_values', 'split_2895'],\n",
       " ['data-robustml-mv', 'Marketing', 'missing_values', 'split_4764'],\n",
       " ['data-robustml-mv', 'Marketing', 'missing_values', 'split_7751'],\n",
       " ['data-robustml-mv', 'Marketing', 'missing_values', 'split_235'],\n",
       " ['data-robustml-mv', 'Marketing', 'missing_values', 'split_2962'],\n",
       " ['data-robustml-mv', 'Marketing', 'missing_values', 'split_8093'],\n",
       " ['data-robustml-mv', 'Marketing', 'missing_values', 'split_5192'],\n",
       " ['data-robustml-mv', 'Marketing', 'missing_values', 'split_5396'],\n",
       " ['data-robustml-mv', 'Marketing', 'missing_values', 'split_9394'],\n",
       " ['data-robustml-mv', 'Marketing', 'missing_values', 'split_6542'],\n",
       " ['data-robustml-mv', 'Marketing', 'missing_values', 'split_8444']]"
      ]
     },
     "execution_count": 13,
     "metadata": {},
     "output_type": "execute_result"
    }
   ],
   "source": [
    "jobs"
   ]
  },
  {
   "cell_type": "code",
   "execution_count": 14,
   "metadata": {
    "collapsed": true
   },
   "outputs": [],
   "source": [
    "accuracy = lambda x,y: np.mean(x == y)\n",
    "f1 = lambda x,y: f1_score(x,y.flatten(), average = \"weighted\")\n",
    "\n"
   ]
  },
  {
   "cell_type": "code",
   "execution_count": 15,
   "metadata": {
    "collapsed": true
   },
   "outputs": [],
   "source": [
    "with open('/mnt/ds3lab-scratch/raox/gatech_data_cleaning/ICDE2021-revision/CleanML/result/{}_result.json'.format(dataset)) as json_file:\n",
    "    results = json.load(json_file)"
   ]
  },
  {
   "cell_type": "code",
   "execution_count": null,
   "metadata": {
    "collapsed": true
   },
   "outputs": [],
   "source": []
  },
  {
   "cell_type": "code",
   "execution_count": null,
   "metadata": {
    "collapsed": true
   },
   "outputs": [],
   "source": []
  },
  {
   "cell_type": "code",
   "execution_count": null,
   "metadata": {
    "collapsed": true
   },
   "outputs": [],
   "source": []
  },
  {
   "cell_type": "code",
   "execution_count": 17,
   "metadata": {},
   "outputs": [
    {
     "name": "stdout",
     "output_type": "stream",
     "text": [
      "Processing ['data-robustml-mv', 'Marketing', 'missing_values', 'split_3462']\n",
      "--------------\n",
      "dataset: {'data_dir': 'Marketing', 'error_types': ['missing_values'], 'label': 'Income', 'ml_task': 'classification'}\n",
      "columns to encode: ['Sex', 'Marital', 'Age', 'Education', 'Occupation', 'Live', 'Dual', 'Person', 'Person under 18', 'Householder', 'Hometype', 'Ethnic', 'Language']\n"
     ]
    },
    {
     "name": "stderr",
     "output_type": "stream",
     "text": [
      "[Parallel(n_jobs=-1)]: Using backend LokyBackend with 16 concurrent workers.\n",
      "[Parallel(n_jobs=-1)]: Done   1 out of   1 | elapsed:    3.7s finished\n"
     ]
    },
    {
     "name": "stdout",
     "output_type": "stream",
     "text": [
      "LR Train Accuracy: 0.775412960609911 \n",
      "LR Test  Accuracy: 0.7719688542825361\n",
      "Using solver 'cvxopt'\n",
      " for 338 free variables\n",
      "  in 340 posynomial inequalities.\n",
      "Solving took 1.35 seconds.\n",
      "NaCL Train Accuracy: 0.775412960609911 \n",
      "NaCL Test  Accuracy: 0.7719688542825361\n",
      "NB Train Accuracy: 0.7577827191867853 \n",
      "NB Test  Accuracy: 0.7675194660734149\n",
      "nacl test acc with missing: 0.7693733778272154\n",
      "nacl test f1 with missing: 0.7685629215786406\n",
      "{'best_params': {'C': 0.004321886239791225}, 'nacl_missing_test_f1': 0.7685629215786406, 'nacl_missing_test_acc': 0.7693733778272154, 'nacl_test_f1': 0.7723230126062666, 'nacl_test_acc': 0.7719688542825361, 'nacl_train_acc': 0.775412960609911, 'nb_test_f1': 0.7670942721995886, 'nb_test_acc': 0.7675194660734149, 'nb_train_acc': 0.7577827191867853, 'lr_test_f1': 0.7723230126062666, 'lr_test_acc': 0.7719688542825361, 'lr_train_acc': 0.775412960609911}\n",
      "Processing ['data-robustml-mv', 'Marketing', 'missing_values', 'split_3562']\n",
      "--------------\n",
      "dataset: {'data_dir': 'Marketing', 'error_types': ['missing_values'], 'label': 'Income', 'ml_task': 'classification'}\n",
      "columns to encode: ['Sex', 'Marital', 'Age', 'Education', 'Occupation', 'Live', 'Dual', 'Person', 'Person under 18', 'Householder', 'Hometype', 'Ethnic', 'Language']\n"
     ]
    },
    {
     "name": "stderr",
     "output_type": "stream",
     "text": [
      "[Parallel(n_jobs=-1)]: Using backend LokyBackend with 16 concurrent workers.\n",
      "[Parallel(n_jobs=-1)]: Done   1 out of   1 | elapsed:    1.1s finished\n"
     ]
    },
    {
     "name": "stdout",
     "output_type": "stream",
     "text": [
      "LR Train Accuracy: 0.7760482846251588 \n",
      "LR Test  Accuracy: 0.7730812013348165\n",
      "Using solver 'cvxopt'\n",
      " for 338 free variables\n",
      "  in 340 posynomial inequalities.\n",
      "Solving took 3.78 seconds.\n",
      "NaCL Train Accuracy: 0.7760482846251588 \n",
      "NaCL Test  Accuracy: 0.7730812013348165\n",
      "NB Train Accuracy: 0.7565120711562897 \n",
      "NB Test  Accuracy: 0.7615869484612533\n",
      "nacl test acc with missing: 0.7715980719317761\n",
      "nacl test f1 with missing: 0.7712303387554902\n",
      "{'best_params': {'C': 0.5265071321453342}, 'nacl_missing_test_f1': 0.7712303387554902, 'nacl_missing_test_acc': 0.7715980719317761, 'nacl_test_f1': 0.7732225025858452, 'nacl_test_acc': 0.7730812013348165, 'nacl_train_acc': 0.7760482846251588, 'nb_test_f1': 0.7610715471467953, 'nb_test_acc': 0.7615869484612533, 'nb_train_acc': 0.7565120711562897, 'lr_test_f1': 0.7732225025858452, 'lr_test_acc': 0.7730812013348165, 'lr_train_acc': 0.7760482846251588}\n",
      "Processing ['data-robustml-mv', 'Marketing', 'missing_values', 'split_5056']\n",
      "--------------\n",
      "dataset: {'data_dir': 'Marketing', 'error_types': ['missing_values'], 'label': 'Income', 'ml_task': 'classification'}\n",
      "columns to encode: ['Sex', 'Marital', 'Age', 'Education', 'Occupation', 'Live', 'Dual', 'Person', 'Person under 18', 'Householder', 'Hometype', 'Ethnic', 'Language']\n"
     ]
    },
    {
     "name": "stderr",
     "output_type": "stream",
     "text": [
      "[Parallel(n_jobs=-1)]: Using backend LokyBackend with 16 concurrent workers.\n",
      "[Parallel(n_jobs=-1)]: Done   1 out of   1 | elapsed:    1.1s finished\n"
     ]
    },
    {
     "name": "stdout",
     "output_type": "stream",
     "text": [
      "LR Train Accuracy: 0.7797013977128335 \n",
      "LR Test  Accuracy: 0.7626992955135335\n",
      "Using solver 'cvxopt'\n",
      " for 338 free variables\n",
      "  in 340 posynomial inequalities.\n",
      "Solving took 1.91 seconds.\n",
      "NaCL Train Accuracy: 0.7797013977128335 \n",
      "NaCL Test  Accuracy: 0.7626992955135335\n",
      "NB Train Accuracy: 0.7622299872935197 \n",
      "NB Test  Accuracy: 0.7541713014460512\n",
      "nacl test acc with missing: 0.764182424916574\n",
      "nacl test f1 with missing: 0.7638163726402123\n",
      "{'best_params': {'C': 0.0057110639597241185}, 'nacl_missing_test_f1': 0.7638163726402123, 'nacl_missing_test_acc': 0.764182424916574, 'nacl_test_f1': 0.7626785940707744, 'nacl_test_acc': 0.7626992955135335, 'nacl_train_acc': 0.7797013977128335, 'nb_test_f1': 0.7534146277077622, 'nb_test_acc': 0.7541713014460512, 'nb_train_acc': 0.7622299872935197, 'lr_test_f1': 0.7626785940707744, 'lr_test_acc': 0.7626992955135335, 'lr_train_acc': 0.7797013977128335}\n",
      "Processing ['data-robustml-mv', 'Marketing', 'missing_values', 'split_5374']\n",
      "--------------\n",
      "dataset: {'data_dir': 'Marketing', 'error_types': ['missing_values'], 'label': 'Income', 'ml_task': 'classification'}\n",
      "columns to encode: ['Sex', 'Marital', 'Age', 'Education', 'Occupation', 'Live', 'Dual', 'Person', 'Person under 18', 'Householder', 'Hometype', 'Ethnic', 'Language']\n"
     ]
    },
    {
     "name": "stderr",
     "output_type": "stream",
     "text": [
      "[Parallel(n_jobs=-1)]: Using backend LokyBackend with 16 concurrent workers.\n",
      "[Parallel(n_jobs=-1)]: Done   1 out of   1 | elapsed:    1.0s finished\n"
     ]
    },
    {
     "name": "stdout",
     "output_type": "stream",
     "text": [
      "LR Train Accuracy: 0.7801778907242694 \n",
      "LR Test  Accuracy: 0.7612161661104931\n",
      "Using solver 'cvxopt'\n",
      " for 338 free variables\n",
      "  in 340 posynomial inequalities.\n",
      "Solving took 3.14 seconds.\n",
      "NaCL Train Accuracy: 0.7801778907242694 \n",
      "NaCL Test  Accuracy: 0.7612161661104931\n",
      "NB Train Accuracy: 0.7649301143583227 \n",
      "NB Test  Accuracy: 0.7445309603262885\n",
      "nacl test acc with missing: 0.7575083426028921\n",
      "nacl test f1 with missing: 0.7569801299942509\n",
      "{'best_params': {'C': 0.0029327085198583313}, 'nacl_missing_test_f1': 0.7569801299942509, 'nacl_missing_test_acc': 0.7575083426028921, 'nacl_test_f1': 0.7613169061573722, 'nacl_test_acc': 0.7612161661104931, 'nacl_train_acc': 0.7801778907242694, 'nb_test_f1': 0.7438740831350423, 'nb_test_acc': 0.7445309603262885, 'nb_train_acc': 0.7649301143583227, 'lr_test_f1': 0.7613169061573722, 'lr_test_acc': 0.7612161661104931, 'lr_train_acc': 0.7801778907242694}\n",
      "Processing ['data-robustml-mv', 'Marketing', 'missing_values', 'split_4225']\n",
      "--------------\n",
      "dataset: {'data_dir': 'Marketing', 'error_types': ['missing_values'], 'label': 'Income', 'ml_task': 'classification'}\n",
      "columns to encode: ['Sex', 'Marital', 'Age', 'Education', 'Occupation', 'Live', 'Dual', 'Person', 'Person under 18', 'Householder', 'Hometype', 'Ethnic', 'Language']\n"
     ]
    },
    {
     "name": "stderr",
     "output_type": "stream",
     "text": [
      "[Parallel(n_jobs=-1)]: Using backend LokyBackend with 16 concurrent workers.\n",
      "[Parallel(n_jobs=-1)]: Done   1 out of   1 | elapsed:    1.0s finished\n"
     ]
    },
    {
     "name": "stdout",
     "output_type": "stream",
     "text": [
      "LR Train Accuracy: 0.7758894536213469 \n",
      "LR Test  Accuracy: 0.7704857248794957\n",
      "Using solver 'cvxopt'\n",
      " for 338 free variables\n",
      "  in 340 posynomial inequalities.\n",
      "Solving took 2.54 seconds.\n",
      "NaCL Train Accuracy: 0.7758894536213469 \n",
      "NaCL Test  Accuracy: 0.7704857248794957\n",
      "NB Train Accuracy: 0.7590533672172808 \n",
      "NB Test  Accuracy: 0.7586206896551724\n",
      "nacl test acc with missing: 0.7671486837226548\n",
      "nacl test f1 with missing: 0.7661964845138368\n",
      "{'best_params': {'C': 0.007100241679657011}, 'nacl_missing_test_f1': 0.7661964845138368, 'nacl_missing_test_acc': 0.7671486837226548, 'nacl_test_f1': 0.771010173070117, 'nacl_test_acc': 0.7704857248794957, 'nacl_train_acc': 0.7758894536213469, 'nb_test_f1': 0.7582216593821358, 'nb_test_acc': 0.7586206896551724, 'nb_train_acc': 0.7590533672172808, 'lr_test_f1': 0.771010173070117, 'lr_test_acc': 0.7704857248794957, 'lr_train_acc': 0.7758894536213469}\n",
      "Processing ['data-robustml-mv', 'Marketing', 'missing_values', 'split_144']\n",
      "--------------\n",
      "dataset: {'data_dir': 'Marketing', 'error_types': ['missing_values'], 'label': 'Income', 'ml_task': 'classification'}\n",
      "columns to encode: ['Sex', 'Marital', 'Age', 'Education', 'Occupation', 'Live', 'Dual', 'Person', 'Person under 18', 'Householder', 'Hometype', 'Ethnic', 'Language']\n"
     ]
    },
    {
     "name": "stderr",
     "output_type": "stream",
     "text": [
      "[Parallel(n_jobs=-1)]: Using backend LokyBackend with 16 concurrent workers.\n",
      "[Parallel(n_jobs=-1)]: Done   1 out of   1 | elapsed:    1.0s finished\n"
     ]
    },
    {
     "name": "stdout",
     "output_type": "stream",
     "text": [
      "LR Train Accuracy: 0.781289707750953 \n",
      "LR Test  Accuracy: 0.7604746014089729\n",
      "Using solver 'cvxopt'\n",
      " for 338 free variables\n",
      "  in 340 posynomial inequalities.\n",
      "Solving took 3.1 seconds.\n",
      "NaCL Train Accuracy: 0.781289707750953 \n",
      "NaCL Test  Accuracy: 0.7604746014089729\n",
      "NB Train Accuracy: 0.7619123252858958 \n",
      "NB Test  Accuracy: 0.7482387838338895\n",
      "nacl test acc with missing: 0.7575083426028921\n",
      "nacl test f1 with missing: 0.7571654281124419\n",
      "{'best_params': {'C': 0.004321886239791225}, 'nacl_missing_test_f1': 0.7571654281124419, 'nacl_missing_test_acc': 0.7575083426028921, 'nacl_test_f1': 0.7605327741589839, 'nacl_test_acc': 0.7604746014089729, 'nacl_train_acc': 0.781289707750953, 'nb_test_f1': 0.7475816897537816, 'nb_test_acc': 0.7482387838338895, 'nb_train_acc': 0.7619123252858958, 'lr_test_f1': 0.7605327741589839, 'lr_test_acc': 0.7604746014089729, 'lr_train_acc': 0.781289707750953}\n",
      "Processing ['data-robustml-mv', 'Marketing', 'missing_values', 'split_7813']\n",
      "--------------\n",
      "dataset: {'data_dir': 'Marketing', 'error_types': ['missing_values'], 'label': 'Income', 'ml_task': 'classification'}\n",
      "columns to encode: ['Sex', 'Marital', 'Age', 'Education', 'Occupation', 'Live', 'Dual', 'Person', 'Person under 18', 'Householder', 'Hometype', 'Ethnic', 'Language']\n"
     ]
    },
    {
     "name": "stderr",
     "output_type": "stream",
     "text": [
      "[Parallel(n_jobs=-1)]: Using backend LokyBackend with 16 concurrent workers.\n",
      "[Parallel(n_jobs=-1)]: Done   1 out of   1 | elapsed:    1.1s finished\n"
     ]
    },
    {
     "name": "stdout",
     "output_type": "stream",
     "text": [
      "LR Train Accuracy: 0.7750952986022872 \n",
      "LR Test  Accuracy: 0.7715980719317761\n",
      "Using solver 'cvxopt'\n",
      " for 338 free variables\n",
      "  in 340 posynomial inequalities.\n",
      "Solving took 2.38 seconds.\n",
      "NaCL Train Accuracy: 0.7750952986022872 \n",
      "NaCL Test  Accuracy: 0.7715980719317761\n",
      "NB Train Accuracy: 0.7590533672172808 \n",
      "NB Test  Accuracy: 0.7582499073044123\n",
      "nacl test acc with missing: 0.7667779013718947\n",
      "nacl test f1 with missing: 0.7660008050190199\n",
      "{'best_params': {'C': 0.0029327085198583313}, 'nacl_missing_test_f1': 0.7660008050190199, 'nacl_missing_test_acc': 0.7667779013718947, 'nacl_test_f1': 0.7718917037222168, 'nacl_test_acc': 0.7715980719317761, 'nacl_train_acc': 0.7750952986022872, 'nb_test_f1': 0.7576876308408717, 'nb_test_acc': 0.7582499073044123, 'nb_train_acc': 0.7590533672172808, 'lr_test_f1': 0.7718917037222168, 'lr_test_acc': 0.7715980719317761, 'lr_train_acc': 0.7750952986022872}\n",
      "Processing ['data-robustml-mv', 'Marketing', 'missing_values', 'split_2516']\n",
      "--------------\n",
      "dataset: {'data_dir': 'Marketing', 'error_types': ['missing_values'], 'label': 'Income', 'ml_task': 'classification'}\n",
      "columns to encode: ['Sex', 'Marital', 'Age', 'Education', 'Occupation', 'Live', 'Dual', 'Person', 'Person under 18', 'Householder', 'Hometype', 'Ethnic', 'Language']\n"
     ]
    },
    {
     "name": "stderr",
     "output_type": "stream",
     "text": [
      "[Parallel(n_jobs=-1)]: Using backend LokyBackend with 16 concurrent workers.\n",
      "[Parallel(n_jobs=-1)]: Done   1 out of   1 | elapsed:    1.0s finished\n"
     ]
    },
    {
     "name": "stdout",
     "output_type": "stream",
     "text": [
      "LR Train Accuracy: 0.7816073697585769 \n",
      "LR Test  Accuracy: 0.7652947719688543\n",
      "Using solver 'cvxopt'\n",
      " for 338 free variables\n",
      "  in 340 posynomial inequalities.\n",
      "Solving took 2.07 seconds.\n",
      "NaCL Train Accuracy: 0.7816073697585769 \n",
      "NaCL Test  Accuracy: 0.7652947719688543\n",
      "NB Train Accuracy: 0.7593710292249047 \n",
      "NB Test  Accuracy: 0.7523173896922507\n",
      "nacl test acc with missing: 0.7623285131627735\n",
      "nacl test f1 with missing: 0.7619572454978574\n",
      "{'best_params': {'C': 0.0029327085198583313}, 'nacl_missing_test_f1': 0.7619572454978574, 'nacl_missing_test_acc': 0.7623285131627735, 'nacl_test_f1': 0.7653055819770833, 'nacl_test_acc': 0.7652947719688543, 'nacl_train_acc': 0.7816073697585769, 'nb_test_f1': 0.7515594420308119, 'nb_test_acc': 0.7523173896922507, 'nb_train_acc': 0.7593710292249047, 'lr_test_f1': 0.7653055819770833, 'lr_test_acc': 0.7652947719688543, 'lr_train_acc': 0.7816073697585769}\n",
      "Processing ['data-robustml-mv', 'Marketing', 'missing_values', 'split_905']\n",
      "--------------\n",
      "dataset: {'data_dir': 'Marketing', 'error_types': ['missing_values'], 'label': 'Income', 'ml_task': 'classification'}\n",
      "columns to encode: ['Sex', 'Marital', 'Age', 'Education', 'Occupation', 'Live', 'Dual', 'Person', 'Person under 18', 'Householder', 'Hometype', 'Ethnic', 'Language']\n"
     ]
    },
    {
     "name": "stderr",
     "output_type": "stream",
     "text": [
      "[Parallel(n_jobs=-1)]: Using backend LokyBackend with 16 concurrent workers.\n",
      "[Parallel(n_jobs=-1)]: Done   1 out of   1 | elapsed:    1.0s finished\n"
     ]
    },
    {
     "name": "stdout",
     "output_type": "stream",
     "text": [
      "LR Train Accuracy: 0.7739834815756036 \n",
      "LR Test  Accuracy: 0.7704857248794957\n",
      "Using solver 'cvxopt'\n",
      " for 338 free variables\n",
      "  in 340 posynomial inequalities.\n",
      "Solving took 2.86 seconds.\n",
      "NaCL Train Accuracy: 0.7739834815756036 \n",
      "NaCL Test  Accuracy: 0.7704857248794957\n",
      "NB Train Accuracy: 0.7633418043202033 \n",
      "NB Test  Accuracy: 0.753429736744531\n",
      "nacl test acc with missing: 0.7638116425658139\n",
      "nacl test f1 with missing: 0.7629422650594179\n",
      "{'best_params': {'C': 0.004321886239791225}, 'nacl_missing_test_f1': 0.7629422650594179, 'nacl_missing_test_acc': 0.7638116425658139, 'nacl_test_f1': 0.7707450509969371, 'nacl_test_acc': 0.7704857248794957, 'nacl_train_acc': 0.7739834815756036, 'nb_test_f1': 0.7529102318033544, 'nb_test_acc': 0.753429736744531, 'nb_train_acc': 0.7633418043202033, 'lr_test_f1': 0.7707450509969371, 'lr_test_acc': 0.7704857248794957, 'lr_train_acc': 0.7739834815756036}\n",
      "Processing ['data-robustml-mv', 'Marketing', 'missing_values', 'split_2895']\n",
      "--------------\n",
      "dataset: {'data_dir': 'Marketing', 'error_types': ['missing_values'], 'label': 'Income', 'ml_task': 'classification'}\n",
      "columns to encode: ['Sex', 'Marital', 'Age', 'Education', 'Occupation', 'Live', 'Dual', 'Person', 'Person under 18', 'Householder', 'Hometype', 'Ethnic', 'Language']\n"
     ]
    },
    {
     "name": "stderr",
     "output_type": "stream",
     "text": [
      "[Parallel(n_jobs=-1)]: Using backend LokyBackend with 16 concurrent workers.\n",
      "[Parallel(n_jobs=-1)]: Done   1 out of   1 | elapsed:    1.1s finished\n"
     ]
    },
    {
     "name": "stdout",
     "output_type": "stream",
     "text": [
      "LR Train Accuracy: 0.7766836086404066 \n",
      "LR Test  Accuracy: 0.7771598071931776\n",
      "Using solver 'cvxopt'\n",
      " for 338 free variables\n",
      "  in 340 posynomial inequalities.\n",
      "Solving took 4.02 seconds.\n",
      "NaCL Train Accuracy: 0.7766836086404066 \n",
      "NaCL Test  Accuracy: 0.7771598071931776\n",
      "NB Train Accuracy: 0.7577827191867853 \n",
      "NB Test  Accuracy: 0.7560252131998517\n",
      "nacl test acc with missing: 0.7764182424916574\n",
      "nacl test f1 with missing: 0.7766789634696666\n",
      "{'best_params': {'C': 0.007100241679657011}, 'nacl_missing_test_f1': 0.7766789634696666, 'nacl_missing_test_acc': 0.7764182424916574, 'nacl_test_f1': 0.7767078687647736, 'nacl_test_acc': 0.7771598071931776, 'nacl_train_acc': 0.7766836086404066, 'nb_test_f1': 0.7550755732058181, 'nb_test_acc': 0.7560252131998517, 'nb_train_acc': 0.7577827191867853, 'lr_test_f1': 0.7767078687647736, 'lr_test_acc': 0.7771598071931776, 'lr_train_acc': 0.7766836086404066}\n",
      "Processing ['data-robustml-mv', 'Marketing', 'missing_values', 'split_4764']\n",
      "--------------\n",
      "dataset: {'data_dir': 'Marketing', 'error_types': ['missing_values'], 'label': 'Income', 'ml_task': 'classification'}\n",
      "columns to encode: ['Sex', 'Marital', 'Age', 'Education', 'Occupation', 'Live', 'Dual', 'Person', 'Person under 18', 'Householder', 'Hometype', 'Ethnic', 'Language']\n"
     ]
    },
    {
     "name": "stderr",
     "output_type": "stream",
     "text": [
      "[Parallel(n_jobs=-1)]: Using backend LokyBackend with 16 concurrent workers.\n",
      "[Parallel(n_jobs=-1)]: Done   1 out of   1 | elapsed:    1.2s finished\n"
     ]
    },
    {
     "name": "stdout",
     "output_type": "stream",
     "text": [
      "LR Train Accuracy: 0.7814485387547649 \n",
      "LR Test  Accuracy: 0.7652947719688543\n",
      "Using solver 'cvxopt'\n",
      " for 338 free variables\n",
      "  in 340 posynomial inequalities.\n",
      "Solving took 5.67 seconds.\n",
      "NaCL Train Accuracy: 0.7814485387547649 \n",
      "NaCL Test  Accuracy: 0.7652947719688543\n",
      "NB Train Accuracy: 0.7601651842439644 \n",
      "NB Test  Accuracy: 0.7541713014460512\n",
      "nacl test acc with missing: 0.764182424916574\n",
      "nacl test f1 with missing: 0.7641636026378513\n",
      "{'best_params': {'C': 0.026548729758717523}, 'nacl_missing_test_f1': 0.7641636026378513, 'nacl_missing_test_acc': 0.764182424916574, 'nacl_test_f1': 0.7649961635250331, 'nacl_test_acc': 0.7652947719688543, 'nacl_train_acc': 0.7814485387547649, 'nb_test_f1': 0.7535402917511088, 'nb_test_acc': 0.7541713014460512, 'nb_train_acc': 0.7601651842439644, 'lr_test_f1': 0.7649961635250331, 'lr_test_acc': 0.7652947719688543, 'lr_train_acc': 0.7814485387547649}\n",
      "Processing ['data-robustml-mv', 'Marketing', 'missing_values', 'split_7751']\n",
      "--------------\n",
      "dataset: {'data_dir': 'Marketing', 'error_types': ['missing_values'], 'label': 'Income', 'ml_task': 'classification'}\n",
      "columns to encode: ['Sex', 'Marital', 'Age', 'Education', 'Occupation', 'Live', 'Dual', 'Person', 'Person under 18', 'Householder', 'Hometype', 'Ethnic', 'Language']\n"
     ]
    },
    {
     "name": "stderr",
     "output_type": "stream",
     "text": [
      "[Parallel(n_jobs=-1)]: Using backend LokyBackend with 16 concurrent workers.\n",
      "[Parallel(n_jobs=-1)]: Done   1 out of   1 | elapsed:    1.7s finished\n"
     ]
    },
    {
     "name": "stdout",
     "output_type": "stream",
     "text": [
      "LR Train Accuracy: 0.781130876747141 \n",
      "LR Test  Accuracy: 0.7652947719688543\n",
      "Using solver 'cvxopt'\n",
      " for 338 free variables\n",
      "  in 340 posynomial inequalities.\n",
      "Solving took 4.42 seconds.\n",
      "NaCL Train Accuracy: 0.781130876747141 \n",
      "NaCL Test  Accuracy: 0.7652947719688543\n",
      "NB Train Accuracy: 0.7590533672172808 \n",
      "NB Test  Accuracy: 0.7549128661475714\n",
      "nacl test acc with missing: 0.7619577308120133\n",
      "nacl test f1 with missing: 0.7614477794527732\n",
      "{'best_params': {'C': 0.023770374318851737}, 'nacl_missing_test_f1': 0.7614477794527732, 'nacl_missing_test_acc': 0.7619577308120133, 'nacl_test_f1': 0.7654301218954824, 'nacl_test_acc': 0.7652947719688543, 'nacl_train_acc': 0.781130876747141, 'nb_test_f1': 0.7543518540461899, 'nb_test_acc': 0.7549128661475714, 'nb_train_acc': 0.7590533672172808, 'lr_test_f1': 0.7654301218954824, 'lr_test_acc': 0.7652947719688543, 'lr_train_acc': 0.781130876747141}\n",
      "Processing ['data-robustml-mv', 'Marketing', 'missing_values', 'split_235']\n",
      "--------------\n",
      "dataset: {'data_dir': 'Marketing', 'error_types': ['missing_values'], 'label': 'Income', 'ml_task': 'classification'}\n",
      "columns to encode: ['Sex', 'Marital', 'Age', 'Education', 'Occupation', 'Live', 'Dual', 'Person', 'Person under 18', 'Householder', 'Hometype', 'Ethnic', 'Language']\n"
     ]
    },
    {
     "name": "stderr",
     "output_type": "stream",
     "text": [
      "[Parallel(n_jobs=-1)]: Using backend LokyBackend with 16 concurrent workers.\n",
      "[Parallel(n_jobs=-1)]: Done   1 out of   1 | elapsed:    1.2s finished\n"
     ]
    },
    {
     "name": "stdout",
     "output_type": "stream",
     "text": [
      "LR Train Accuracy: 0.7777954256670903 \n",
      "LR Test  Accuracy: 0.7712272895810159\n",
      "Using solver 'cvxopt'\n",
      " for 338 free variables\n",
      "  in 340 posynomial inequalities.\n",
      "Solving took 7.15 seconds.\n",
      "NaCL Train Accuracy: 0.7777954256670903 \n",
      "NaCL Test  Accuracy: 0.7712272895810159\n",
      "NB Train Accuracy: 0.7596886912325286 \n",
      "NB Test  Accuracy: 0.7545420837968113\n",
      "nacl test acc with missing: 0.7693733778272154\n",
      "nacl test f1 with missing: 0.7688406114298267\n",
      "{'best_params': {'C': 0.007100241679657011}, 'nacl_missing_test_f1': 0.7688406114298267, 'nacl_missing_test_acc': 0.7693733778272154, 'nacl_test_f1': 0.7714922970242885, 'nacl_test_acc': 0.7712272895810159, 'nacl_train_acc': 0.7777954256670903, 'nb_test_f1': 0.7539285278193785, 'nb_test_acc': 0.7545420837968113, 'nb_train_acc': 0.7596886912325286, 'lr_test_f1': 0.7714922970242885, 'lr_test_acc': 0.7712272895810159, 'lr_train_acc': 0.7777954256670903}\n",
      "Processing ['data-robustml-mv', 'Marketing', 'missing_values', 'split_2962']\n",
      "--------------\n",
      "dataset: {'data_dir': 'Marketing', 'error_types': ['missing_values'], 'label': 'Income', 'ml_task': 'classification'}\n",
      "columns to encode: ['Sex', 'Marital', 'Age', 'Education', 'Occupation', 'Live', 'Dual', 'Person', 'Person under 18', 'Householder', 'Hometype', 'Ethnic', 'Language']\n"
     ]
    },
    {
     "name": "stderr",
     "output_type": "stream",
     "text": [
      "[Parallel(n_jobs=-1)]: Using backend LokyBackend with 16 concurrent workers.\n",
      "[Parallel(n_jobs=-1)]: Done   1 out of   1 | elapsed:    1.7s finished\n"
     ]
    },
    {
     "name": "stdout",
     "output_type": "stream",
     "text": [
      "LR Train Accuracy: 0.7770012706480305 \n",
      "LR Test  Accuracy: 0.7775305895439377\n",
      "Using solver 'cvxopt'\n",
      " for 338 free variables\n",
      "  in 340 posynomial inequalities.\n",
      "Solving took 3.73 seconds.\n",
      "NaCL Train Accuracy: 0.7770012706480305 \n",
      "NaCL Test  Accuracy: 0.7775305895439377\n",
      "NB Train Accuracy: 0.7595298602287166 \n",
      "NB Test  Accuracy: 0.7660363366703745\n",
      "nacl test acc with missing: 0.7767890248424175\n",
      "nacl test f1 with missing: 0.7762637484646138\n",
      "{'best_params': {'C': 0.312871964423612}, 'nacl_missing_test_f1': 0.7762637484646138, 'nacl_missing_test_acc': 0.7767890248424175, 'nacl_test_f1': 0.7776807610423909, 'nacl_test_acc': 0.7775305895439377, 'nacl_train_acc': 0.7770012706480305, 'nb_test_f1': 0.7654809442574879, 'nb_test_acc': 0.7660363366703745, 'nb_train_acc': 0.7595298602287166, 'lr_test_f1': 0.7776807610423909, 'lr_test_acc': 0.7775305895439377, 'lr_train_acc': 0.7770012706480305}\n",
      "Processing ['data-robustml-mv', 'Marketing', 'missing_values', 'split_8093']\n",
      "--------------\n",
      "dataset: {'data_dir': 'Marketing', 'error_types': ['missing_values'], 'label': 'Income', 'ml_task': 'classification'}\n",
      "columns to encode: ['Sex', 'Marital', 'Age', 'Education', 'Occupation', 'Live', 'Dual', 'Person', 'Person under 18', 'Householder', 'Hometype', 'Ethnic', 'Language']\n"
     ]
    },
    {
     "name": "stderr",
     "output_type": "stream",
     "text": [
      "[Parallel(n_jobs=-1)]: Using backend LokyBackend with 16 concurrent workers.\n",
      "[Parallel(n_jobs=-1)]: Done   1 out of   1 | elapsed:    1.4s finished\n"
     ]
    },
    {
     "name": "stdout",
     "output_type": "stream",
     "text": [
      "LR Train Accuracy: 0.7758894536213469 \n",
      "LR Test  Accuracy: 0.7808676307007787\n",
      "Using solver 'cvxopt'\n",
      " for 338 free variables\n",
      "  in 340 posynomial inequalities.\n",
      "Solving took 3.55 seconds.\n",
      "NaCL Train Accuracy: 0.7758894536213469 \n",
      "NaCL Test  Accuracy: 0.7808676307007787\n",
      "NB Train Accuracy: 0.7593710292249047 \n",
      "NB Test  Accuracy: 0.7630700778642937\n",
      "nacl test acc with missing: 0.778642936596218\n",
      "nacl test f1 with missing: 0.7781660628312831\n",
      "{'best_params': {'C': 0.1592802727974752}, 'nacl_missing_test_f1': 0.7781660628312831, 'nacl_missing_test_acc': 0.778642936596218, 'nacl_test_f1': 0.7810835526087497, 'nacl_test_acc': 0.7808676307007787, 'nacl_train_acc': 0.7758894536213469, 'nb_test_f1': 0.7624193085732234, 'nb_test_acc': 0.7630700778642937, 'nb_train_acc': 0.7593710292249047, 'lr_test_f1': 0.7810835526087497, 'lr_test_acc': 0.7808676307007787, 'lr_train_acc': 0.7758894536213469}\n",
      "Processing ['data-robustml-mv', 'Marketing', 'missing_values', 'split_5192']\n",
      "--------------\n",
      "dataset: {'data_dir': 'Marketing', 'error_types': ['missing_values'], 'label': 'Income', 'ml_task': 'classification'}\n",
      "columns to encode: ['Sex', 'Marital', 'Age', 'Education', 'Occupation', 'Live', 'Dual', 'Person', 'Person under 18', 'Householder', 'Hometype', 'Ethnic', 'Language']\n"
     ]
    },
    {
     "name": "stderr",
     "output_type": "stream",
     "text": [
      "[Parallel(n_jobs=-1)]: Using backend LokyBackend with 16 concurrent workers.\n",
      "[Parallel(n_jobs=-1)]: Done   1 out of   1 | elapsed:    1.5s finished\n"
     ]
    },
    {
     "name": "stdout",
     "output_type": "stream",
     "text": [
      "LR Train Accuracy: 0.7800190597204575 \n",
      "LR Test  Accuracy: 0.7626992955135335\n",
      "Using solver 'cvxopt'\n",
      " for 338 free variables\n",
      "  in 340 posynomial inequalities.\n",
      "Solving took 5.55 seconds.\n",
      "NaCL Train Accuracy: 0.7800190597204575 \n",
      "NaCL Test  Accuracy: 0.7626992955135335\n",
      "NB Train Accuracy: 0.764135959339263 \n",
      "NB Test  Accuracy: 0.7504634779384501\n",
      "nacl test acc with missing: 0.7630700778642937\n",
      "nacl test f1 with missing: 0.762192585208119\n",
      "{'best_params': {'C': 0.01404613027932148}, 'nacl_missing_test_f1': 0.762192585208119, 'nacl_missing_test_acc': 0.7630700778642937, 'nacl_test_f1': 0.7632642512786939, 'nacl_test_acc': 0.7626992955135335, 'nacl_train_acc': 0.7800190597204575, 'nb_test_f1': 0.7500512401701589, 'nb_test_acc': 0.7504634779384501, 'nb_train_acc': 0.764135959339263, 'lr_test_f1': 0.7632642512786939, 'lr_test_acc': 0.7626992955135335, 'lr_train_acc': 0.7800190597204575}\n",
      "Processing ['data-robustml-mv', 'Marketing', 'missing_values', 'split_5396']\n",
      "--------------\n",
      "dataset: {'data_dir': 'Marketing', 'error_types': ['missing_values'], 'label': 'Income', 'ml_task': 'classification'}\n",
      "columns to encode: ['Sex', 'Marital', 'Age', 'Education', 'Occupation', 'Live', 'Dual', 'Person', 'Person under 18', 'Householder', 'Hometype', 'Ethnic', 'Language']\n"
     ]
    },
    {
     "name": "stderr",
     "output_type": "stream",
     "text": [
      "[Parallel(n_jobs=-1)]: Using backend LokyBackend with 16 concurrent workers.\n",
      "[Parallel(n_jobs=-1)]: Done   1 out of   1 | elapsed:    0.1s finished\n"
     ]
    },
    {
     "name": "stdout",
     "output_type": "stream",
     "text": [
      "LR Train Accuracy: 0.7774777636594663 \n",
      "LR Test  Accuracy: 0.7697441601779755\n",
      "Using solver 'cvxopt'\n",
      " for 338 free variables\n",
      "  in 340 posynomial inequalities.\n",
      "Solving took 5.78 seconds.\n",
      "NaCL Train Accuracy: 0.7774777636594663 \n",
      "NaCL Test  Accuracy: 0.7697441601779755\n",
      "NB Train Accuracy: 0.761594663278272 \n",
      "NB Test  Accuracy: 0.7504634779384501\n",
      "nacl test acc with missing: 0.7667779013718947\n",
      "nacl test f1 with missing: 0.7661426857732659\n",
      "{'best_params': {'C': 0.0029327085198583313}, 'nacl_missing_test_f1': 0.7661426857732659, 'nacl_missing_test_acc': 0.7667779013718947, 'nacl_test_f1': 0.770119976386579, 'nacl_test_acc': 0.7697441601779755, 'nacl_train_acc': 0.7774777636594663, 'nb_test_f1': 0.7500395850786026, 'nb_test_acc': 0.7504634779384501, 'nb_train_acc': 0.761594663278272, 'lr_test_f1': 0.770119976386579, 'lr_test_acc': 0.7697441601779755, 'lr_train_acc': 0.7774777636594663}\n",
      "Processing ['data-robustml-mv', 'Marketing', 'missing_values', 'split_9394']\n",
      "--------------\n",
      "dataset: {'data_dir': 'Marketing', 'error_types': ['missing_values'], 'label': 'Income', 'ml_task': 'classification'}\n",
      "columns to encode: ['Sex', 'Marital', 'Age', 'Education', 'Occupation', 'Live', 'Dual', 'Person', 'Person under 18', 'Householder', 'Hometype', 'Ethnic', 'Language']\n"
     ]
    },
    {
     "name": "stderr",
     "output_type": "stream",
     "text": [
      "[Parallel(n_jobs=-1)]: Using backend LokyBackend with 16 concurrent workers.\n",
      "[Parallel(n_jobs=-1)]: Done   1 out of   1 | elapsed:    0.1s finished\n"
     ]
    },
    {
     "name": "stdout",
     "output_type": "stream",
     "text": [
      "LR Train Accuracy: 0.7744599745870394 \n",
      "LR Test  Accuracy: 0.7793845012977382\n",
      "Using solver 'cvxopt'\n",
      " for 338 free variables\n",
      "  in 340 posynomial inequalities.\n",
      "Solving took 5.39 seconds.\n",
      "NaCL Train Accuracy: 0.7744599745870394 \n",
      "NaCL Test  Accuracy: 0.7793845012977382\n",
      "NB Train Accuracy: 0.7571473951715375 \n",
      "NB Test  Accuracy: 0.7582499073044123\n",
      "nacl test acc with missing: 0.778642936596218\n",
      "nacl test f1 with missing: 0.7785592099555718\n",
      "{'best_params': {'C': 0.009878597119522799}, 'nacl_missing_test_f1': 0.7785592099555718, 'nacl_missing_test_acc': 0.778642936596218, 'nacl_test_f1': 0.7793630480572522, 'nacl_test_acc': 0.7793845012977382, 'nacl_train_acc': 0.7744599745870394, 'nb_test_f1': 0.7578052578792318, 'nb_test_acc': 0.7582499073044123, 'nb_train_acc': 0.7571473951715375, 'lr_test_f1': 0.7793630480572522, 'lr_test_acc': 0.7793845012977382, 'lr_train_acc': 0.7744599745870394}\n",
      "Processing ['data-robustml-mv', 'Marketing', 'missing_values', 'split_6542']\n",
      "--------------\n",
      "dataset: {'data_dir': 'Marketing', 'error_types': ['missing_values'], 'label': 'Income', 'ml_task': 'classification'}\n",
      "columns to encode: ['Sex', 'Marital', 'Age', 'Education', 'Occupation', 'Live', 'Dual', 'Person', 'Person under 18', 'Householder', 'Hometype', 'Ethnic', 'Language']\n"
     ]
    },
    {
     "name": "stderr",
     "output_type": "stream",
     "text": [
      "[Parallel(n_jobs=-1)]: Using backend LokyBackend with 16 concurrent workers.\n",
      "[Parallel(n_jobs=-1)]: Done   1 out of   1 | elapsed:    0.1s finished\n"
     ]
    },
    {
     "name": "stdout",
     "output_type": "stream",
     "text": [
      "LR Train Accuracy: 0.7803367217280813 \n",
      "LR Test  Accuracy: 0.7727104189840563\n",
      "Using solver 'cvxopt'\n",
      " for 338 free variables\n",
      "  in 340 posynomial inequalities.\n",
      "Solving took 5.89 seconds.\n",
      "NaCL Train Accuracy: 0.7803367217280813 \n",
      "NaCL Test  Accuracy: 0.7727104189840563\n",
      "NB Train Accuracy: 0.7609593392630242 \n",
      "NB Test  Accuracy: 0.7515758249907304\n",
      "nacl test acc with missing: 0.7697441601779755\n",
      "nacl test f1 with missing: 0.7698091724552233\n",
      "{'best_params': {'C': 0.576379223702522}, 'nacl_missing_test_f1': 0.7698091724552233, 'nacl_missing_test_acc': 0.7697441601779755, 'nacl_test_f1': 0.7724355556067314, 'nacl_test_acc': 0.7727104189840563, 'nacl_train_acc': 0.7803367217280813, 'nb_test_f1': 0.750875248504193, 'nb_test_acc': 0.7515758249907304, 'nb_train_acc': 0.7609593392630242, 'lr_test_f1': 0.7724355556067314, 'lr_test_acc': 0.7727104189840563, 'lr_train_acc': 0.7803367217280813}\n",
      "Processing ['data-robustml-mv', 'Marketing', 'missing_values', 'split_8444']\n",
      "--------------\n",
      "dataset: {'data_dir': 'Marketing', 'error_types': ['missing_values'], 'label': 'Income', 'ml_task': 'classification'}\n",
      "columns to encode: ['Sex', 'Marital', 'Age', 'Education', 'Occupation', 'Live', 'Dual', 'Person', 'Person under 18', 'Householder', 'Hometype', 'Ethnic', 'Language']\n"
     ]
    },
    {
     "name": "stderr",
     "output_type": "stream",
     "text": [
      "[Parallel(n_jobs=-1)]: Using backend LokyBackend with 16 concurrent workers.\n",
      "[Parallel(n_jobs=-1)]: Done   1 out of   1 | elapsed:    0.1s finished\n"
     ]
    },
    {
     "name": "stdout",
     "output_type": "stream",
     "text": [
      "LR Train Accuracy: 0.7752541296060991 \n",
      "LR Test  Accuracy: 0.7734519836855765\n",
      "Using solver 'cvxopt'\n",
      " for 338 free variables\n",
      "  in 340 posynomial inequalities.\n",
      "Solving took 3.3 seconds.\n",
      "NaCL Train Accuracy: 0.7752541296060991 \n",
      "NaCL Test  Accuracy: 0.7734519836855765\n",
      "NB Train Accuracy: 0.7566709021601017 \n",
      "NB Test  Accuracy: 0.7667779013718947\n",
      "nacl test acc with missing: 0.7730812013348165\n",
      "nacl test f1 with missing: 0.7731307746932726\n",
      "{'best_params': {'C': 0.0029327085198583313}, 'nacl_missing_test_f1': 0.7731307746932726, 'nacl_missing_test_acc': 0.7730812013348165, 'nacl_test_f1': 0.7732039545768062, 'nacl_test_acc': 0.7734519836855765, 'nacl_train_acc': 0.7752541296060991, 'nb_test_f1': 0.7659273927606595, 'nb_test_acc': 0.7667779013718947, 'nb_train_acc': 0.7566709021601017, 'lr_test_f1': 0.7732039545768062, 'lr_test_acc': 0.7734519836855765, 'lr_train_acc': 0.7752541296060991}\n",
      "CPU times: user 2min 29s, sys: 7min 17s, total: 9min 46s\n",
      "Wall time: 2min 22s\n"
     ]
    }
   ],
   "source": [
    "%%time \n",
    "\n",
    "for job in jobs:\n",
    "    \n",
    "    print(\"Processing\", job)\n",
    "    print('--------------')\n",
    "    dataset = job[1]\n",
    "\n",
    "    dirty_X_train = pd.read_csv(os.path.join(*job, \"dirty_X_train.csv\"))\n",
    "    dirty_y_train = pd.read_csv(os.path.join(*job, \"dirty_y_train.csv\"))\n",
    "    dirty_X_test = pd.read_csv(os.path.join(*job, \"dirty_X_test.csv\"))\n",
    "    dirty_y_test = pd.read_csv(os.path.join(*job, \"dirty_y_test.csv\"))\n",
    "\n",
    "    dirty_X_train = dirty_X_train.fillna(0)\n",
    "    dirty_X_test = dirty_X_test.fillna(0)\n",
    "    X_train, y_train, X_test, y_test, mappings, mappings_dict = preprocess_data(dataset, \n",
    "                                                             dirty_X_train, dirty_y_train, \n",
    "                                                             [dirty_X_test], [dirty_y_test])\n",
    "    X_test = X_test[0]\n",
    "    y_test = y_test[0]\n",
    "    dirty_X_test = pd.read_csv(os.path.join(*job, \"dirty_X_test.csv\"))\n",
    "    null_data = dirty_X_test[dirty_X_test.isnull().any(axis=1)]\n",
    "\n",
    "    missing = [[]] * dirty_X_test.shape[0]\n",
    "    for i, row in null_data.iterrows():\n",
    "        # append the original index of the missing feature\n",
    "        cols = null_data.columns.get_values()[np.where(pd.isnull(row))]\n",
    "\n",
    "        idx = [mappings_dict[col][0] for col in cols]\n",
    "        missing[i] = idx\n",
    "    missing = np.array(missing)\n",
    "\n",
    "    output = defaultdict(lambda: defaultdict(list))\n",
    "\n",
    "    output['train']['nacl'] = (X_train, y_train)\n",
    "    output['test']['nacl'] = (X_test, y_test)\n",
    "    output['missing_test'] = missing\n",
    "    output['mappings1hot_dict'] = mappings_dict\n",
    "    output['mappings1hot_list'] = mappings\n",
    "    pickle.dump(dict(output), open(os.path.join(*job,\"data.p\"), 'wb'))\n",
    "\n",
    "\n",
    "    max_acc = 0\n",
    "\n",
    "    for method in ['delete', 'impute_holoclean', 'impute_mean_mode', 'impute_mean_dummy', \n",
    "                   'impute_median_mode', 'impute_median_dummy', 'impute_mode_mode', 'impute_mode_dummy']:\n",
    "        #print('Titanic/v{}/missing_values/{}/logistic_regression/3659'.\\\n",
    "        #           format(split_seed, method))\n",
    "        split_seed = job[-1].split(\"_\")[1]\n",
    "        a =  results['{}/v{}/missing_values/{}/logistic_regression/3659'.\\\n",
    "                   format(dataset, split_seed, method)].copy()\n",
    "        #print(a)\n",
    "        del a['best_params']\n",
    "        del a['train_acc']\n",
    "        del a['val_acc']\n",
    "        max_key = max(a.items(), key=operator.itemgetter(1))[0]\n",
    "\n",
    "        if a[max_key] > max_acc:\n",
    "            best_params_lr = results['{}/v{}/missing_values/{}/logistic_regression/3659'.\\\n",
    "                   format(dataset, split_seed, method)]['best_params']\n",
    "            max_acc = a[max_key]\n",
    "\n",
    "    clf = LogisticRegression(solver='lbfgs', \n",
    "    verbose=True, \n",
    "    C = best_params_lr['C'],\n",
    "    max_iter=2000, n_jobs=-1).fit(X_train, y_train)\n",
    "    lr_pred = clf.predict(X_test)\n",
    "    lr_train_acc = accuracy(clf.predict(X_train), y_train)\n",
    "    lr_test_acc = accuracy(lr_pred, y_test)\n",
    "    lr_test_f1 = f1(lr_pred, y_test)\n",
    "\n",
    "    print(\"LR Train Accuracy: {} \\nLR Test  Accuracy: {}\".format(lr_train_acc, lr_test_acc))\n",
    "\n",
    "    W = np.hstack((clf.intercept_[:,None], clf.coef_))[0]\n",
    "    nacl = LR2NB_GP.LR2NB(W)\n",
    "    nacl.setObj(X_train, y_train)\n",
    "\n",
    "    # Using Mosek Solver\n",
    "    nacl.solve(verbose=1)\n",
    "\n",
    "    # Sanity Check to compare NaCL results with Logistic Regression\n",
    "    assert(1.0 == np.average( nacl.classify(X_test)  == clf.predict(X_test )))\n",
    "    assert(1.0 == np.average( nacl.classify(X_train) == clf.predict(X_train)))\n",
    "    nacl_pred = nacl.classify(X_test)\n",
    "    nacl_train_acc = accuracy(nacl.classify(X_train), y_train)\n",
    "    nacl_test_acc = accuracy(nacl_pred, y_test)\n",
    "    #print(nacl_pred)\n",
    "    #print(y_test)\n",
    "    nacl_test_f1 = f1(nacl_pred[0], y_test)\n",
    "\n",
    "    print(\"NaCL Train Accuracy: {} \\nNaCL Test  Accuracy: {}\".format(nacl_train_acc, nacl_test_acc))\n",
    "\n",
    "    NB = BernoulliNB().fit(X_train, y_train)\n",
    "    NB_pred = NB.predict(X_test)\n",
    "    nb_train_acc = accuracy(NB.predict(X_train), y_train)\n",
    "    nb_test_acc = accuracy(NB_pred, y_test)\n",
    "    nb_test_f1 = f1(NB_pred, y_test)\n",
    "\n",
    "    print(\"NB Train Accuracy: {} \\nNB Test  Accuracy: {}\".format(nb_train_acc, nb_test_acc))\n",
    "\n",
    "    # Make an example observations with some missing features\n",
    "\n",
    "    # setting the dimensions to be zero\n",
    "    missing_mask = np.zeros(X_test.shape) \n",
    "\n",
    "\n",
    "    miss = missing\n",
    "    for i in range(len(missing_mask)):\n",
    "        for j in range(len(miss[i])):\n",
    "            missing_mask[i][mappings[miss[i][j]]] = 1\n",
    "\n",
    "    a = nacl.predict_proba(X_test, missing = missing_mask)[:,1]\n",
    "    a = np.where(a > 0.5, 1, 0)\n",
    "\n",
    "    test_acc = accuracy(y_test, a)\n",
    "    test_f1 = f1(y_test, a)\n",
    "    print('nacl test acc with missing:', test_acc)\n",
    "    print('nacl test f1 with missing:', test_f1) # true, pred\n",
    "\n",
    "\n",
    "    result_dict = {}\n",
    "\n",
    "    result_dict[\"best_params\"] = best_params_lr\n",
    "\n",
    "\n",
    "    result_dict[\"{}_test_f1\".format('nacl_missing')] = test_f1\n",
    "    result_dict[\"{}_test_acc\".format('nacl_missing')] = test_acc\n",
    "\n",
    "    result_dict[\"{}_test_f1\".format('nacl')] = nacl_test_f1\n",
    "    result_dict[\"{}_test_acc\".format('nacl')] = nacl_test_acc\n",
    "    result_dict[\"{}_train_acc\".format('nacl')] = nacl_train_acc\n",
    "\n",
    "    result_dict[\"{}_test_f1\".format('nb')] = nb_test_f1\n",
    "    result_dict[\"{}_test_acc\".format('nb')] = nb_test_acc\n",
    "    result_dict[\"{}_train_acc\".format('nb')] = nb_train_acc\n",
    "\n",
    "    result_dict[\"{}_test_f1\".format('lr')] = lr_test_f1\n",
    "    result_dict[\"{}_test_acc\".format('lr')] = lr_test_acc\n",
    "    result_dict[\"{}_train_acc\".format('lr')] = lr_train_acc\n",
    "\n",
    "    print(result_dict)\n",
    "    save_result_mv(job, seed, result_dict, model_name, save_dir)\n",
    "\n",
    "\n",
    "\n"
   ]
  },
  {
   "cell_type": "code",
   "execution_count": null,
   "metadata": {
    "collapsed": true
   },
   "outputs": [],
   "source": []
  },
  {
   "cell_type": "code",
   "execution_count": null,
   "metadata": {
    "collapsed": true
   },
   "outputs": [],
   "source": []
  },
  {
   "cell_type": "code",
   "execution_count": null,
   "metadata": {
    "collapsed": true
   },
   "outputs": [],
   "source": []
  }
 ],
 "metadata": {
  "kernelspec": {
   "display_name": "nacl36",
   "language": "python",
   "name": "nacl36"
  },
  "language_info": {
   "codemirror_mode": {
    "name": "ipython",
    "version": 3
   },
   "file_extension": ".py",
   "mimetype": "text/x-python",
   "name": "python",
   "nbconvert_exporter": "python",
   "pygments_lexer": "ipython3",
   "version": "3.6.11"
  }
 },
 "nbformat": 4,
 "nbformat_minor": 2
}
