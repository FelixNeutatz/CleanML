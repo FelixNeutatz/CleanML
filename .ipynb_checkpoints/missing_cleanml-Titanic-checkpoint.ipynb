{
 "cells": [
  {
   "cell_type": "markdown",
   "metadata": {},
   "source": [
    "This version specifies a random portion of missingness in the features. It is identical with missing_cleanml-2-percentage. These two notebooks are used to run datasets in parallel. Airbnb in particular takes a long time to run."
   ]
  },
  {
   "cell_type": "code",
   "execution_count": 1,
   "metadata": {},
   "outputs": [
    {
     "name": "stderr",
     "output_type": "stream",
     "text": [
      "/mnt/ds3lab-scratch/raox/gatech_data_cleaning/ICDE2021-revision/nacl36/lib/python3.6/importlib/_bootstrap.py:219: RuntimeWarning: numpy.dtype size changed, may indicate binary incompatibility. Expected 96, got 88\n",
      "  return f(*args, **kwds)\n",
      "/mnt/ds3lab-scratch/raox/gatech_data_cleaning/ICDE2021-revision/nacl36/lib/python3.6/importlib/_bootstrap.py:219: RuntimeWarning: numpy.dtype size changed, may indicate binary incompatibility. Expected 96, got 88\n",
      "  return f(*args, **kwds)\n"
     ]
    }
   ],
   "source": [
    "import six\n",
    "import sys\n",
    "sys.modules['sklearn.externals.six'] = six\n",
    "import mlrose\n",
    "import utils\n",
    "import pickle\n",
    "from collections import defaultdict\n",
    "import numpy as np\n",
    "from collections import OrderedDict\n",
    "from sklearn.metrics import f1_score \n",
    "import pandas as pd\n",
    "from sklearn.metrics import f1_score "
   ]
  },
  {
   "cell_type": "code",
   "execution_count": 2,
   "metadata": {
    "collapsed": true
   },
   "outputs": [],
   "source": [
    "import sys\n",
    "sys.setrecursionlimit(10**6)"
   ]
  },
  {
   "cell_type": "code",
   "execution_count": 3,
   "metadata": {},
   "outputs": [
    {
     "name": "stderr",
     "output_type": "stream",
     "text": [
      "Using TensorFlow backend.\n"
     ]
    }
   ],
   "source": [
    "import math\n",
    "import matplotlib.pyplot as plt \n",
    "from sklearn.datasets import load_digits\n",
    "import numpy as np\n",
    "from sklearn.linear_model import LogisticRegression\n",
    "from sklearn.model_selection import train_test_split\n",
    "import pylab\n",
    "import sys\n",
    "from sklearn.naive_bayes import BernoulliNB, MultinomialNB\n",
    "import keras\n",
    "import time\n",
    "import pandas as pd\n",
    "import json\n",
    "import operator"
   ]
  },
  {
   "cell_type": "code",
   "execution_count": 7,
   "metadata": {},
   "outputs": [],
   "source": [
    "sys.path.append(\"../NaCL/code/\")\n",
    "import utils\n",
    "import LR2NB_GP\n",
    "sys.path.append(\"../NaCL/notebooks/\")\n",
    "from dataload import *"
   ]
  },
  {
   "cell_type": "code",
   "execution_count": 5,
   "metadata": {},
   "outputs": [
    {
     "name": "stderr",
     "output_type": "stream",
     "text": [
      "/mnt/ds3lab-scratch/raox/gatech_data_cleaning/ICDE2021-revision/nacl36/lib/python3.6/site-packages/sklearn/utils/deprecation.py:143: FutureWarning: The sklearn.neighbors.base module is  deprecated in version 0.22 and will be removed in version 0.24. The corresponding classes / functions should instead be imported from sklearn.neighbors. Anything that cannot be imported from sklearn.neighbors is now part of the private API.\n",
      "  warnings.warn(message, FutureWarning)\n"
     ]
    }
   ],
   "source": [
    "from preprocess_mv import preprocess_data"
   ]
  },
  {
   "cell_type": "code",
   "execution_count": 6,
   "metadata": {},
   "outputs": [],
   "source": [
    "%load_ext autoreload\n",
    "%autoreload 2"
   ]
  },
  {
   "cell_type": "markdown",
   "metadata": {},
   "source": [
    "# Loading Data"
   ]
  },
  {
   "cell_type": "code",
   "execution_count": 10,
   "metadata": {
    "scrolled": true
   },
   "outputs": [],
   "source": [
    "seed = 3659"
   ]
  },
  {
   "cell_type": "code",
   "execution_count": 11,
   "metadata": {
    "collapsed": true
   },
   "outputs": [],
   "source": [
    "data_dir = \"data-robustml-mv\""
   ]
  },
  {
   "cell_type": "code",
   "execution_count": 12,
   "metadata": {
    "collapsed": true
   },
   "outputs": [],
   "source": [
    "save_dir = \"result-robustml\"\n",
    "model_name ='nacl'"
   ]
  },
  {
   "cell_type": "code",
   "execution_count": 13,
   "metadata": {
    "collapsed": true
   },
   "outputs": [],
   "source": [
    "accuracy = lambda x,y: np.mean(x == y)\n",
    "f1 = lambda x,y: f1_score(x,y.flatten(), average = \"weighted\")\n",
    "\n"
   ]
  },
  {
   "cell_type": "code",
   "execution_count": 14,
   "metadata": {},
   "outputs": [
    {
     "name": "stdout",
     "output_type": "stream",
     "text": [
      "Number of jobs: 20\n"
     ]
    }
   ],
   "source": [
    "jobs = get_jobs_mv(data_dir, dataset = ['Titanic'])\n",
    "print(\"Number of jobs:\", len(jobs))"
   ]
  },
  {
   "cell_type": "code",
   "execution_count": 15,
   "metadata": {},
   "outputs": [
    {
     "data": {
      "text/plain": [
       "[['data-robustml-mv', 'Titanic', 'missing_values', 'split_235'],\n",
       " ['data-robustml-mv', 'Titanic', 'missing_values', 'split_2516'],\n",
       " ['data-robustml-mv', 'Titanic', 'missing_values', 'split_7813'],\n",
       " ['data-robustml-mv', 'Titanic', 'missing_values', 'split_3462'],\n",
       " ['data-robustml-mv', 'Titanic', 'missing_values', 'split_5374'],\n",
       " ['data-robustml-mv', 'Titanic', 'missing_values', 'split_4225'],\n",
       " ['data-robustml-mv', 'Titanic', 'missing_values', 'split_5056'],\n",
       " ['data-robustml-mv', 'Titanic', 'missing_values', 'split_3562'],\n",
       " ['data-robustml-mv', 'Titanic', 'missing_values', 'split_9394'],\n",
       " ['data-robustml-mv', 'Titanic', 'missing_values', 'split_8444'],\n",
       " ['data-robustml-mv', 'Titanic', 'missing_values', 'split_6542'],\n",
       " ['data-robustml-mv', 'Titanic', 'missing_values', 'split_7751'],\n",
       " ['data-robustml-mv', 'Titanic', 'missing_values', 'split_2895'],\n",
       " ['data-robustml-mv', 'Titanic', 'missing_values', 'split_4764'],\n",
       " ['data-robustml-mv', 'Titanic', 'missing_values', 'split_5192'],\n",
       " ['data-robustml-mv', 'Titanic', 'missing_values', 'split_5396'],\n",
       " ['data-robustml-mv', 'Titanic', 'missing_values', 'split_8093'],\n",
       " ['data-robustml-mv', 'Titanic', 'missing_values', 'split_144'],\n",
       " ['data-robustml-mv', 'Titanic', 'missing_values', 'split_905'],\n",
       " ['data-robustml-mv', 'Titanic', 'missing_values', 'split_2962']]"
      ]
     },
     "execution_count": 15,
     "metadata": {},
     "output_type": "execute_result"
    }
   ],
   "source": [
    "jobs"
   ]
  },
  {
   "cell_type": "code",
   "execution_count": 16,
   "metadata": {
    "collapsed": true
   },
   "outputs": [],
   "source": [
    "accuracy = lambda x,y: np.mean(x == y)\n",
    "f1 = lambda x,y: f1_score(x,y.flatten(), average = \"weighted\")\n",
    "\n"
   ]
  },
  {
   "cell_type": "code",
   "execution_count": 17,
   "metadata": {
    "collapsed": true
   },
   "outputs": [],
   "source": [
    "with open('/mnt/ds3lab-scratch/raox/gatech_data_cleaning/ICDE2021-revision/CleanML/result/Titanic_result.json') as json_file:\n",
    "    results = json.load(json_file)"
   ]
  },
  {
   "cell_type": "code",
   "execution_count": null,
   "metadata": {
    "collapsed": true
   },
   "outputs": [],
   "source": []
  },
  {
   "cell_type": "code",
   "execution_count": null,
   "metadata": {
    "collapsed": true
   },
   "outputs": [],
   "source": []
  },
  {
   "cell_type": "code",
   "execution_count": null,
   "metadata": {
    "collapsed": true
   },
   "outputs": [],
   "source": []
  },
  {
   "cell_type": "code",
   "execution_count": 19,
   "metadata": {},
   "outputs": [
    {
     "name": "stdout",
     "output_type": "stream",
     "text": [
      "Processing ['data-robustml-mv', 'Titanic', 'missing_values', 'split_235']\n",
      "--------------\n",
      "dataset: {'data_dir': 'Titanic', 'error_types': ['missing_values'], 'drop_variables': ['PassengerId', 'Name'], 'text_variables': ['Ticket'], 'label': 'Survived', 'categorical_variables': ['Survived'], 'ml_task': 'classification'}\n",
      "columns to encode: ['Sex', 'Cabin', 'Embarked']\n"
     ]
    },
    {
     "name": "stderr",
     "output_type": "stream",
     "text": [
      "[Parallel(n_jobs=-1)]: Using backend LokyBackend with 16 concurrent workers.\n",
      "[Parallel(n_jobs=-1)]: Done   1 out of   1 | elapsed:    1.3s finished\n"
     ]
    },
    {
     "name": "stdout",
     "output_type": "stream",
     "text": [
      "LR Train Accuracy: 0.9855769230769231 \n",
      "LR Test  Accuracy: 0.6928838951310862\n",
      "Using solver 'cvxopt'\n",
      " for 1438 free variables\n",
      "  in 1440 posynomial inequalities.\n",
      "Solving took 50.1 seconds.\n",
      "NaCL Train Accuracy: 0.9855769230769231 \n",
      "NaCL Test  Accuracy: 0.6928838951310862\n",
      "NB Train Accuracy: 0.8685897435897436 \n",
      "NB Test  Accuracy: 0.7940074906367042\n",
      "nacl test acc with missing: 0.6816479400749064\n",
      "nacl test f1 with missing: 0.6505024212664853\n",
      "{'best_params': {'C': 98.87275216499842}, 'nacl_missing_test_f1': 0.6505024212664853, 'nacl_missing_test_acc': 0.6816479400749064, 'nacl_test_f1': 0.7078392761019616, 'nacl_test_acc': 0.6928838951310862, 'nacl_train_acc': 0.9855769230769231, 'nb_test_f1': 0.800256444216025, 'nb_test_acc': 0.7940074906367042, 'nb_train_acc': 0.8685897435897436, 'lr_test_f1': 0.7078392761019616, 'lr_test_acc': 0.6928838951310862, 'lr_train_acc': 0.9855769230769231}\n",
      "Processing ['data-robustml-mv', 'Titanic', 'missing_values', 'split_2516']\n",
      "--------------\n",
      "dataset: {'data_dir': 'Titanic', 'error_types': ['missing_values'], 'drop_variables': ['PassengerId', 'Name'], 'text_variables': ['Ticket'], 'label': 'Survived', 'categorical_variables': ['Survived'], 'ml_task': 'classification'}\n",
      "columns to encode: ['Sex', 'Cabin', 'Embarked']\n"
     ]
    },
    {
     "name": "stderr",
     "output_type": "stream",
     "text": [
      "[Parallel(n_jobs=-1)]: Using backend LokyBackend with 16 concurrent workers.\n",
      "[Parallel(n_jobs=-1)]: Done   1 out of   1 | elapsed:    1.4s finished\n"
     ]
    },
    {
     "name": "stdout",
     "output_type": "stream",
     "text": [
      "LR Train Accuracy: 0.9759615384615384 \n",
      "LR Test  Accuracy: 0.7602996254681648\n",
      "Using solver 'cvxopt'\n",
      " for 1438 free variables\n",
      "  in 1440 posynomial inequalities.\n",
      "Solving took 41.3 seconds.\n",
      "NaCL Train Accuracy: 0.9759615384615384 \n",
      "NaCL Test  Accuracy: 0.7602996254681648\n",
      "NB Train Accuracy: 0.8557692307692307 \n",
      "NB Test  Accuracy: 0.7865168539325843\n",
      "nacl test acc with missing: 0.7602996254681648\n",
      "nacl test f1 with missing: 0.7395441290572377\n",
      "{'best_params': {'C': 641.8478533913964}, 'nacl_missing_test_f1': 0.7395441290572377, 'nacl_missing_test_acc': 0.7602996254681648, 'nacl_test_f1': 0.767499664966814, 'nacl_test_acc': 0.7602996254681648, 'nacl_train_acc': 0.9759615384615384, 'nb_test_f1': 0.7867273612703766, 'nb_test_acc': 0.7865168539325843, 'nb_train_acc': 0.8557692307692307, 'lr_test_f1': 0.767499664966814, 'lr_test_acc': 0.7602996254681648, 'lr_train_acc': 0.9759615384615384}\n",
      "Processing ['data-robustml-mv', 'Titanic', 'missing_values', 'split_7813']\n",
      "--------------\n",
      "dataset: {'data_dir': 'Titanic', 'error_types': ['missing_values'], 'drop_variables': ['PassengerId', 'Name'], 'text_variables': ['Ticket'], 'label': 'Survived', 'categorical_variables': ['Survived'], 'ml_task': 'classification'}\n",
      "columns to encode: ['Sex', 'Cabin', 'Embarked']\n"
     ]
    },
    {
     "name": "stderr",
     "output_type": "stream",
     "text": [
      "[Parallel(n_jobs=-1)]: Using backend LokyBackend with 16 concurrent workers.\n",
      "[Parallel(n_jobs=-1)]: Done   1 out of   1 | elapsed:    1.0s finished\n"
     ]
    },
    {
     "name": "stdout",
     "output_type": "stream",
     "text": [
      "LR Train Accuracy: 0.9727564102564102 \n",
      "LR Test  Accuracy: 0.7116104868913857\n",
      "Using solver 'cvxopt'\n",
      " for 1438 free variables\n",
      "  in 1440 posynomial inequalities.\n",
      "Solving took 38.1 seconds.\n",
      "NaCL Train Accuracy: 0.9727564102564102 \n",
      "NaCL Test  Accuracy: 0.7116104868913857\n",
      "NB Train Accuracy: 0.8717948717948718 \n",
      "NB Test  Accuracy: 0.7865168539325843\n",
      "nacl test acc with missing: 0.6779026217228464\n",
      "nacl test f1 with missing: 0.631343032747527\n",
      "{'best_params': {'C': 6.042556462387703}, 'nacl_missing_test_f1': 0.631343032747527, 'nacl_missing_test_acc': 0.6779026217228464, 'nacl_test_f1': 0.7318437246072408, 'nacl_test_acc': 0.7116104868913857, 'nacl_train_acc': 0.9727564102564102, 'nb_test_f1': 0.793295146342376, 'nb_test_acc': 0.7865168539325843, 'nb_train_acc': 0.8717948717948718, 'lr_test_f1': 0.7318437246072408, 'lr_test_acc': 0.7116104868913857, 'lr_train_acc': 0.9727564102564102}\n",
      "Processing ['data-robustml-mv', 'Titanic', 'missing_values', 'split_3462']\n",
      "--------------\n",
      "dataset: {'data_dir': 'Titanic', 'error_types': ['missing_values'], 'drop_variables': ['PassengerId', 'Name'], 'text_variables': ['Ticket'], 'label': 'Survived', 'categorical_variables': ['Survived'], 'ml_task': 'classification'}\n",
      "columns to encode: ['Sex', 'Cabin', 'Embarked']\n"
     ]
    },
    {
     "name": "stderr",
     "output_type": "stream",
     "text": [
      "[Parallel(n_jobs=-1)]: Using backend LokyBackend with 16 concurrent workers.\n",
      "[Parallel(n_jobs=-1)]: Done   1 out of   1 | elapsed:    1.1s finished\n"
     ]
    },
    {
     "name": "stdout",
     "output_type": "stream",
     "text": [
      "LR Train Accuracy: 0.9807692307692307 \n",
      "LR Test  Accuracy: 0.7640449438202247\n",
      "Using solver 'cvxopt'\n",
      " for 1438 free variables\n",
      "  in 1440 posynomial inequalities.\n",
      "Solving took 41.7 seconds.\n",
      "NaCL Train Accuracy: 0.9807692307692307 \n",
      "NaCL Test  Accuracy: 0.7640449438202247\n",
      "NB Train Accuracy: 0.8589743589743589 \n",
      "NB Test  Accuracy: 0.797752808988764\n",
      "nacl test acc with missing: 0.7453183520599251\n",
      "nacl test f1 with missing: 0.713653980385287\n",
      "{'best_params': {'C': 0.34178858996738}, 'nacl_missing_test_f1': 0.713653980385287, 'nacl_missing_test_acc': 0.7453183520599251, 'nacl_test_f1': 0.7777889830275391, 'nacl_test_acc': 0.7640449438202247, 'nacl_train_acc': 0.9807692307692307, 'nb_test_f1': 0.8045415894913575, 'nb_test_acc': 0.797752808988764, 'nb_train_acc': 0.8589743589743589, 'lr_test_f1': 0.7777889830275391, 'lr_test_acc': 0.7640449438202247, 'lr_train_acc': 0.9807692307692307}\n",
      "Processing ['data-robustml-mv', 'Titanic', 'missing_values', 'split_5374']\n",
      "--------------\n",
      "dataset: {'data_dir': 'Titanic', 'error_types': ['missing_values'], 'drop_variables': ['PassengerId', 'Name'], 'text_variables': ['Ticket'], 'label': 'Survived', 'categorical_variables': ['Survived'], 'ml_task': 'classification'}\n",
      "columns to encode: ['Sex', 'Cabin', 'Embarked']\n"
     ]
    },
    {
     "name": "stderr",
     "output_type": "stream",
     "text": [
      "[Parallel(n_jobs=-1)]: Using backend LokyBackend with 16 concurrent workers.\n",
      "[Parallel(n_jobs=-1)]: Done   1 out of   1 | elapsed:    0.2s finished\n"
     ]
    },
    {
     "name": "stdout",
     "output_type": "stream",
     "text": [
      "LR Train Accuracy: 0.9823717948717948 \n",
      "LR Test  Accuracy: 0.6853932584269663\n",
      "Using solver 'cvxopt'\n",
      " for 1438 free variables\n",
      "  in 1440 posynomial inequalities.\n",
      "Solving took 43 seconds.\n",
      "NaCL Train Accuracy: 0.9823717948717948 \n",
      "NaCL Test  Accuracy: 0.6853932584269663\n",
      "NB Train Accuracy: 0.8669871794871795 \n",
      "NB Test  Accuracy: 0.7228464419475655\n",
      "nacl test acc with missing: 0.6891385767790262\n",
      "nacl test f1 with missing: 0.6448687882214909\n",
      "{'best_params': {'C': 0.4743938591108751}, 'nacl_missing_test_f1': 0.6448687882214909, 'nacl_missing_test_acc': 0.6891385767790262, 'nacl_test_f1': 0.7145219863332175, 'nacl_test_acc': 0.6853932584269663, 'nacl_train_acc': 0.9823717948717948, 'nb_test_f1': 0.7387397109545272, 'nb_test_acc': 0.7228464419475655, 'nb_train_acc': 0.8669871794871795, 'lr_test_f1': 0.7145219863332175, 'lr_test_acc': 0.6853932584269663, 'lr_train_acc': 0.9823717948717948}\n",
      "Processing ['data-robustml-mv', 'Titanic', 'missing_values', 'split_4225']\n",
      "--------------\n",
      "dataset: {'data_dir': 'Titanic', 'error_types': ['missing_values'], 'drop_variables': ['PassengerId', 'Name'], 'text_variables': ['Ticket'], 'label': 'Survived', 'categorical_variables': ['Survived'], 'ml_task': 'classification'}\n",
      "columns to encode: ['Sex', 'Cabin', 'Embarked']\n"
     ]
    },
    {
     "name": "stderr",
     "output_type": "stream",
     "text": [
      "[Parallel(n_jobs=-1)]: Using backend LokyBackend with 16 concurrent workers.\n",
      "[Parallel(n_jobs=-1)]: Done   1 out of   1 | elapsed:    0.1s finished\n"
     ]
    },
    {
     "name": "stdout",
     "output_type": "stream",
     "text": [
      "LR Train Accuracy: 0.9759615384615384 \n",
      "LR Test  Accuracy: 0.7453183520599251\n",
      "Using solver 'cvxopt'\n",
      " for 1438 free variables\n",
      "  in 1440 posynomial inequalities.\n",
      "Solving took 45.7 seconds.\n",
      "NaCL Train Accuracy: 0.9759615384615384 \n",
      "NaCL Test  Accuracy: 0.7453183520599251\n",
      "NB Train Accuracy: 0.8766025641025641 \n",
      "NB Test  Accuracy: 0.7752808988764045\n",
      "nacl test acc with missing: 0.7340823970037453\n",
      "nacl test f1 with missing: 0.6940400140119763\n",
      "{'best_params': {'C': 2.020658557149858}, 'nacl_missing_test_f1': 0.6940400140119763, 'nacl_missing_test_acc': 0.7340823970037453, 'nacl_test_f1': 0.7635342185903983, 'nacl_test_acc': 0.7453183520599251, 'nacl_train_acc': 0.9759615384615384, 'nb_test_f1': 0.7822244666077515, 'nb_test_acc': 0.7752808988764045, 'nb_train_acc': 0.8766025641025641, 'lr_test_f1': 0.7635342185903983, 'lr_test_acc': 0.7453183520599251, 'lr_train_acc': 0.9759615384615384}\n",
      "Processing ['data-robustml-mv', 'Titanic', 'missing_values', 'split_5056']\n",
      "--------------\n",
      "dataset: {'data_dir': 'Titanic', 'error_types': ['missing_values'], 'drop_variables': ['PassengerId', 'Name'], 'text_variables': ['Ticket'], 'label': 'Survived', 'categorical_variables': ['Survived'], 'ml_task': 'classification'}\n",
      "columns to encode: ['Sex', 'Cabin', 'Embarked']\n"
     ]
    },
    {
     "name": "stderr",
     "output_type": "stream",
     "text": [
      "[Parallel(n_jobs=-1)]: Using backend LokyBackend with 16 concurrent workers.\n",
      "[Parallel(n_jobs=-1)]: Done   1 out of   1 | elapsed:    0.1s finished\n"
     ]
    },
    {
     "name": "stdout",
     "output_type": "stream",
     "text": [
      "LR Train Accuracy: 0.969551282051282 \n",
      "LR Test  Accuracy: 0.7378277153558053\n",
      "Using solver 'cvxopt'\n",
      " for 1438 free variables\n",
      "  in 1440 posynomial inequalities.\n",
      "Solving took 41.2 seconds.\n",
      "NaCL Train Accuracy: 0.969551282051282 \n",
      "NaCL Test  Accuracy: 0.7378277153558053\n",
      "NB Train Accuracy: 0.8653846153846154 \n",
      "NB Test  Accuracy: 0.8089887640449438\n",
      "nacl test acc with missing: 0.7116104868913857\n",
      "nacl test f1 with missing: 0.6793695035137418\n",
      "{'best_params': {'C': 5.784526038030144}, 'nacl_missing_test_f1': 0.6793695035137418, 'nacl_missing_test_acc': 0.7116104868913857, 'nacl_test_f1': 0.7513354208878246, 'nacl_test_acc': 0.7378277153558053, 'nacl_train_acc': 0.969551282051282, 'nb_test_f1': 0.8132352424118863, 'nb_test_acc': 0.8089887640449438, 'nb_train_acc': 0.8653846153846154, 'lr_test_f1': 0.7513354208878246, 'lr_test_acc': 0.7378277153558053, 'lr_train_acc': 0.969551282051282}\n",
      "Processing ['data-robustml-mv', 'Titanic', 'missing_values', 'split_3562']\n",
      "--------------\n",
      "dataset: {'data_dir': 'Titanic', 'error_types': ['missing_values'], 'drop_variables': ['PassengerId', 'Name'], 'text_variables': ['Ticket'], 'label': 'Survived', 'categorical_variables': ['Survived'], 'ml_task': 'classification'}\n",
      "columns to encode: ['Sex', 'Cabin', 'Embarked']\n"
     ]
    },
    {
     "name": "stderr",
     "output_type": "stream",
     "text": [
      "[Parallel(n_jobs=-1)]: Using backend LokyBackend with 16 concurrent workers.\n",
      "[Parallel(n_jobs=-1)]: Done   1 out of   1 | elapsed:    0.1s finished\n"
     ]
    },
    {
     "name": "stdout",
     "output_type": "stream",
     "text": [
      "LR Train Accuracy: 0.969551282051282 \n",
      "LR Test  Accuracy: 0.7415730337078652\n",
      "Using solver 'cvxopt'\n",
      " for 1438 free variables\n",
      "  in 1440 posynomial inequalities.\n",
      "Solving took 41 seconds.\n",
      "NaCL Train Accuracy: 0.969551282051282 \n",
      "NaCL Test  Accuracy: 0.7415730337078652\n",
      "NB Train Accuracy: 0.8541666666666666 \n",
      "NB Test  Accuracy: 0.7865168539325843\n",
      "nacl test acc with missing: 0.7528089887640449\n",
      "nacl test f1 with missing: 0.7346709470304976\n",
      "{'best_params': {'C': 2.6695337126101424}, 'nacl_missing_test_f1': 0.7346709470304976, 'nacl_missing_test_acc': 0.7528089887640449, 'nacl_test_f1': 0.7470941909424214, 'nacl_test_acc': 0.7415730337078652, 'nacl_train_acc': 0.969551282051282, 'nb_test_f1': 0.7890294760804984, 'nb_test_acc': 0.7865168539325843, 'nb_train_acc': 0.8541666666666666, 'lr_test_f1': 0.7470941909424214, 'lr_test_acc': 0.7415730337078652, 'lr_train_acc': 0.969551282051282}\n",
      "Processing ['data-robustml-mv', 'Titanic', 'missing_values', 'split_9394']\n",
      "--------------\n",
      "dataset: {'data_dir': 'Titanic', 'error_types': ['missing_values'], 'drop_variables': ['PassengerId', 'Name'], 'text_variables': ['Ticket'], 'label': 'Survived', 'categorical_variables': ['Survived'], 'ml_task': 'classification'}\n",
      "columns to encode: ['Sex', 'Cabin', 'Embarked']\n"
     ]
    },
    {
     "name": "stderr",
     "output_type": "stream",
     "text": [
      "[Parallel(n_jobs=-1)]: Using backend LokyBackend with 16 concurrent workers.\n",
      "[Parallel(n_jobs=-1)]: Done   1 out of   1 | elapsed:    0.1s finished\n"
     ]
    },
    {
     "name": "stdout",
     "output_type": "stream",
     "text": [
      "LR Train Accuracy: 0.9791666666666666 \n",
      "LR Test  Accuracy: 0.7415730337078652\n",
      "Using solver 'cvxopt'\n",
      " for 1438 free variables\n",
      "  in 1440 posynomial inequalities.\n",
      "Solving took 45.2 seconds.\n",
      "NaCL Train Accuracy: 0.9791666666666666 \n",
      "NaCL Test  Accuracy: 0.7415730337078652\n",
      "NB Train Accuracy: 0.8397435897435898 \n",
      "NB Test  Accuracy: 0.8014981273408239\n",
      "nacl test acc with missing: 0.7153558052434457\n",
      "nacl test f1 with missing: 0.6729778075912571\n",
      "{'best_params': {'C': 2.6695337126101424}, 'nacl_missing_test_f1': 0.6729778075912571, 'nacl_missing_test_acc': 0.7153558052434457, 'nacl_test_f1': 0.7607884390830298, 'nacl_test_acc': 0.7415730337078652, 'nacl_train_acc': 0.9791666666666666, 'nb_test_f1': 0.8077723286863031, 'nb_test_acc': 0.8014981273408239, 'nb_train_acc': 0.8397435897435898, 'lr_test_f1': 0.7607884390830298, 'lr_test_acc': 0.7415730337078652, 'lr_train_acc': 0.9791666666666666}\n",
      "Processing ['data-robustml-mv', 'Titanic', 'missing_values', 'split_8444']\n",
      "--------------\n",
      "dataset: {'data_dir': 'Titanic', 'error_types': ['missing_values'], 'drop_variables': ['PassengerId', 'Name'], 'text_variables': ['Ticket'], 'label': 'Survived', 'categorical_variables': ['Survived'], 'ml_task': 'classification'}\n",
      "columns to encode: ['Sex', 'Cabin', 'Embarked']\n"
     ]
    },
    {
     "name": "stderr",
     "output_type": "stream",
     "text": [
      "[Parallel(n_jobs=-1)]: Using backend LokyBackend with 16 concurrent workers.\n",
      "[Parallel(n_jobs=-1)]: Done   1 out of   1 | elapsed:    0.1s finished\n"
     ]
    },
    {
     "name": "stdout",
     "output_type": "stream",
     "text": [
      "LR Train Accuracy: 0.9855769230769231 \n",
      "LR Test  Accuracy: 0.7752808988764045\n",
      "Using solver 'cvxopt'\n",
      " for 1438 free variables\n",
      "  in 1440 posynomial inequalities.\n",
      "Solving took 66.7 seconds.\n",
      "NaCL Train Accuracy: 0.9855769230769231 \n",
      "NaCL Test  Accuracy: 0.7752808988764045\n",
      "NB Train Accuracy: 0.8605769230769231 \n",
      "NB Test  Accuracy: 0.7752808988764045\n",
      "nacl test acc with missing: 0.7415730337078652\n",
      "nacl test f1 with missing: 0.7126817628889375\n",
      "{'best_params': {'C': 4.876489973920761}, 'nacl_missing_test_f1': 0.7126817628889375, 'nacl_missing_test_acc': 0.7415730337078652, 'nacl_test_f1': 0.7868589321895639, 'nacl_test_acc': 0.7752808988764045, 'nacl_train_acc': 0.9855769230769231, 'nb_test_f1': 0.7839554005768652, 'nb_test_acc': 0.7752808988764045, 'nb_train_acc': 0.8605769230769231, 'lr_test_f1': 0.7868589321895639, 'lr_test_acc': 0.7752808988764045, 'lr_train_acc': 0.9855769230769231}\n",
      "Processing ['data-robustml-mv', 'Titanic', 'missing_values', 'split_6542']\n",
      "--------------\n",
      "dataset: {'data_dir': 'Titanic', 'error_types': ['missing_values'], 'drop_variables': ['PassengerId', 'Name'], 'text_variables': ['Ticket'], 'label': 'Survived', 'categorical_variables': ['Survived'], 'ml_task': 'classification'}\n",
      "columns to encode: ['Sex', 'Cabin', 'Embarked']\n"
     ]
    },
    {
     "name": "stderr",
     "output_type": "stream",
     "text": [
      "[Parallel(n_jobs=-1)]: Using backend LokyBackend with 16 concurrent workers.\n",
      "[Parallel(n_jobs=-1)]: Done   1 out of   1 | elapsed:    0.2s finished\n"
     ]
    },
    {
     "name": "stdout",
     "output_type": "stream",
     "text": [
      "LR Train Accuracy: 0.9855769230769231 \n",
      "LR Test  Accuracy: 0.7790262172284644\n",
      "Using solver 'cvxopt'\n",
      " for 1438 free variables\n",
      "  in 1440 posynomial inequalities.\n",
      "Solving took 67.8 seconds.\n",
      "NaCL Train Accuracy: 0.9855769230769231 \n",
      "NaCL Test  Accuracy: 0.7790262172284644\n",
      "NB Train Accuracy: 0.8605769230769231 \n",
      "NB Test  Accuracy: 0.7940074906367042\n",
      "nacl test acc with missing: 0.7490636704119851\n",
      "nacl test f1 with missing: 0.718361035788763\n",
      "{'best_params': {'C': 3.968453909811378}, 'nacl_missing_test_f1': 0.718361035788763, 'nacl_missing_test_acc': 0.7490636704119851, 'nacl_test_f1': 0.7930379906080136, 'nacl_test_acc': 0.7790262172284644, 'nacl_train_acc': 0.9855769230769231, 'nb_test_f1': 0.8034213272436913, 'nb_test_acc': 0.7940074906367042, 'nb_train_acc': 0.8605769230769231, 'lr_test_f1': 0.7930379906080136, 'lr_test_acc': 0.7790262172284644, 'lr_train_acc': 0.9855769230769231}\n",
      "Processing ['data-robustml-mv', 'Titanic', 'missing_values', 'split_7751']\n",
      "--------------\n",
      "dataset: {'data_dir': 'Titanic', 'error_types': ['missing_values'], 'drop_variables': ['PassengerId', 'Name'], 'text_variables': ['Ticket'], 'label': 'Survived', 'categorical_variables': ['Survived'], 'ml_task': 'classification'}\n",
      "columns to encode: ['Sex', 'Cabin', 'Embarked']\n"
     ]
    },
    {
     "name": "stderr",
     "output_type": "stream",
     "text": [
      "[Parallel(n_jobs=-1)]: Using backend LokyBackend with 16 concurrent workers.\n",
      "[Parallel(n_jobs=-1)]: Done   1 out of   1 | elapsed:    0.1s finished\n"
     ]
    },
    {
     "name": "stdout",
     "output_type": "stream",
     "text": [
      "LR Train Accuracy: 0.9791666666666666 \n",
      "LR Test  Accuracy: 0.7715355805243446\n",
      "Using solver 'cvxopt'\n",
      " for 1438 free variables\n",
      "  in 1440 posynomial inequalities.\n",
      "Solving took 57.1 seconds.\n",
      "NaCL Train Accuracy: 0.9791666666666666 \n",
      "NaCL Test  Accuracy: 0.7715355805243446\n",
      "NB Train Accuracy: 0.8717948717948718 \n",
      "NB Test  Accuracy: 0.797752808988764\n",
      "nacl test acc with missing: 0.7453183520599251\n",
      "nacl test f1 with missing: 0.7219739333743171\n",
      "{'best_params': {'C': 3.643306102321997}, 'nacl_missing_test_f1': 0.7219739333743171, 'nacl_missing_test_acc': 0.7453183520599251, 'nacl_test_f1': 0.7794611463069369, 'nacl_test_acc': 0.7715355805243446, 'nacl_train_acc': 0.9791666666666666, 'nb_test_f1': 0.7999438601345761, 'nb_test_acc': 0.797752808988764, 'nb_train_acc': 0.8717948717948718, 'lr_test_f1': 0.7794611463069369, 'lr_test_acc': 0.7715355805243446, 'lr_train_acc': 0.9791666666666666}\n",
      "Processing ['data-robustml-mv', 'Titanic', 'missing_values', 'split_2895']\n",
      "--------------\n",
      "dataset: {'data_dir': 'Titanic', 'error_types': ['missing_values'], 'drop_variables': ['PassengerId', 'Name'], 'text_variables': ['Ticket'], 'label': 'Survived', 'categorical_variables': ['Survived'], 'ml_task': 'classification'}\n",
      "columns to encode: ['Sex', 'Cabin', 'Embarked']\n"
     ]
    },
    {
     "name": "stderr",
     "output_type": "stream",
     "text": [
      "[Parallel(n_jobs=-1)]: Using backend LokyBackend with 16 concurrent workers.\n",
      "[Parallel(n_jobs=-1)]: Done   1 out of   1 | elapsed:    0.1s finished\n"
     ]
    },
    {
     "name": "stdout",
     "output_type": "stream",
     "text": [
      "LR Train Accuracy: 0.9871794871794872 \n",
      "LR Test  Accuracy: 0.700374531835206\n",
      "Using solver 'cvxopt'\n",
      " for 1438 free variables\n",
      "  in 1440 posynomial inequalities.\n",
      "Solving took 54.2 seconds.\n",
      "NaCL Train Accuracy: 0.9871794871794872 \n",
      "NaCL Test  Accuracy: 0.700374531835206\n",
      "NB Train Accuracy: 0.8685897435897436 \n",
      "NB Test  Accuracy: 0.7715355805243446\n",
      "nacl test acc with missing: 0.6928838951310862\n",
      "nacl test f1 with missing: 0.6482759423196642\n",
      "{'best_params': {'C': 1.6451390120054517}, 'nacl_missing_test_f1': 0.6482759423196642, 'nacl_missing_test_acc': 0.6928838951310862, 'nacl_test_f1': 0.7258041818195284, 'nacl_test_acc': 0.700374531835206, 'nacl_train_acc': 0.9871794871794872, 'nb_test_f1': 0.7791406159859392, 'nb_test_acc': 0.7715355805243446, 'nb_train_acc': 0.8685897435897436, 'lr_test_f1': 0.7258041818195284, 'lr_test_acc': 0.700374531835206, 'lr_train_acc': 0.9871794871794872}\n",
      "Processing ['data-robustml-mv', 'Titanic', 'missing_values', 'split_4764']\n",
      "--------------\n",
      "dataset: {'data_dir': 'Titanic', 'error_types': ['missing_values'], 'drop_variables': ['PassengerId', 'Name'], 'text_variables': ['Ticket'], 'label': 'Survived', 'categorical_variables': ['Survived'], 'ml_task': 'classification'}\n",
      "columns to encode: ['Sex', 'Cabin', 'Embarked']\n"
     ]
    },
    {
     "name": "stderr",
     "output_type": "stream",
     "text": [
      "[Parallel(n_jobs=-1)]: Using backend LokyBackend with 16 concurrent workers.\n",
      "[Parallel(n_jobs=-1)]: Done   1 out of   1 | elapsed:    0.2s finished\n"
     ]
    },
    {
     "name": "stdout",
     "output_type": "stream",
     "text": [
      "LR Train Accuracy: 0.9839743589743589 \n",
      "LR Test  Accuracy: 0.704119850187266\n",
      "Using solver 'cvxopt'\n",
      " for 1438 free variables\n",
      "  in 1440 posynomial inequalities.\n",
      "Solving took 34.2 seconds.\n",
      "NaCL Train Accuracy: 0.9839743589743589 \n",
      "NaCL Test  Accuracy: 0.704119850187266\n",
      "NB Train Accuracy: 0.8589743589743589 \n",
      "NB Test  Accuracy: 0.7827715355805244\n",
      "nacl test acc with missing: 0.6891385767790262\n",
      "nacl test f1 with missing: 0.6438937564399506\n",
      "{'best_params': {'C': 98.87275216499842}, 'nacl_missing_test_f1': 0.6438937564399506, 'nacl_missing_test_acc': 0.6891385767790262, 'nacl_test_f1': 0.7277751999903692, 'nacl_test_acc': 0.704119850187266, 'nacl_train_acc': 0.9839743589743589, 'nb_test_f1': 0.7925709590035434, 'nb_test_acc': 0.7827715355805244, 'nb_train_acc': 0.8589743589743589, 'lr_test_f1': 0.7277751999903692, 'lr_test_acc': 0.704119850187266, 'lr_train_acc': 0.9839743589743589}\n",
      "Processing ['data-robustml-mv', 'Titanic', 'missing_values', 'split_5192']\n",
      "--------------\n",
      "dataset: {'data_dir': 'Titanic', 'error_types': ['missing_values'], 'drop_variables': ['PassengerId', 'Name'], 'text_variables': ['Ticket'], 'label': 'Survived', 'categorical_variables': ['Survived'], 'ml_task': 'classification'}\n",
      "columns to encode: ['Sex', 'Cabin', 'Embarked']\n"
     ]
    },
    {
     "name": "stderr",
     "output_type": "stream",
     "text": [
      "[Parallel(n_jobs=-1)]: Using backend LokyBackend with 16 concurrent workers.\n",
      "[Parallel(n_jobs=-1)]: Done   1 out of   1 | elapsed:    0.1s finished\n"
     ]
    },
    {
     "name": "stdout",
     "output_type": "stream",
     "text": [
      "LR Train Accuracy: 0.9727564102564102 \n",
      "LR Test  Accuracy: 0.7378277153558053\n",
      "Using solver 'cvxopt'\n",
      " for 1438 free variables\n",
      "  in 1440 posynomial inequalities.\n",
      "Solving took 39.1 seconds.\n",
      "NaCL Train Accuracy: 0.9727564102564102 \n",
      "NaCL Test  Accuracy: 0.7378277153558053\n",
      "NB Train Accuracy: 0.8669871794871795 \n",
      "NB Test  Accuracy: 0.8164794007490637\n",
      "nacl test acc with missing: 0.7453183520599251\n",
      "nacl test f1 with missing: 0.7121471471956403\n",
      "{'best_params': {'C': 2.8435559823000953}, 'nacl_missing_test_f1': 0.7121471471956403, 'nacl_missing_test_acc': 0.7453183520599251, 'nacl_test_f1': 0.7513354208878246, 'nacl_test_acc': 0.7378277153558053, 'nacl_train_acc': 0.9727564102564102, 'nb_test_f1': 0.8205593505525965, 'nb_test_acc': 0.8164794007490637, 'nb_train_acc': 0.8669871794871795, 'lr_test_f1': 0.7513354208878246, 'lr_test_acc': 0.7378277153558053, 'lr_train_acc': 0.9727564102564102}\n",
      "Processing ['data-robustml-mv', 'Titanic', 'missing_values', 'split_5396']\n",
      "--------------\n",
      "dataset: {'data_dir': 'Titanic', 'error_types': ['missing_values'], 'drop_variables': ['PassengerId', 'Name'], 'text_variables': ['Ticket'], 'label': 'Survived', 'categorical_variables': ['Survived'], 'ml_task': 'classification'}\n",
      "columns to encode: ['Sex', 'Cabin', 'Embarked']\n"
     ]
    },
    {
     "name": "stderr",
     "output_type": "stream",
     "text": [
      "[Parallel(n_jobs=-1)]: Using backend LokyBackend with 16 concurrent workers.\n",
      "[Parallel(n_jobs=-1)]: Done   1 out of   1 | elapsed:    1.2s finished\n"
     ]
    },
    {
     "name": "stdout",
     "output_type": "stream",
     "text": [
      "LR Train Accuracy: 0.9743589743589743 \n",
      "LR Test  Accuracy: 0.7265917602996255\n",
      "Using solver 'cvxopt'\n",
      " for 1438 free variables\n",
      "  in 1440 posynomial inequalities.\n",
      "Solving took 30.9 seconds.\n",
      "NaCL Train Accuracy: 0.9743589743589743 \n",
      "NaCL Test  Accuracy: 0.7265917602996255\n",
      "NB Train Accuracy: 0.8653846153846154 \n",
      "NB Test  Accuracy: 0.7752808988764045\n",
      "nacl test acc with missing: 0.7078651685393258\n",
      "nacl test f1 with missing: 0.6663272471910112\n",
      "{'best_params': {'C': 0.9551622624598617}, 'nacl_missing_test_f1': 0.6663272471910112, 'nacl_missing_test_acc': 0.7078651685393258, 'nacl_test_f1': 0.7433366033520626, 'nacl_test_acc': 0.7265917602996255, 'nacl_train_acc': 0.9743589743589743, 'nb_test_f1': 0.7840142940252245, 'nb_test_acc': 0.7752808988764045, 'nb_train_acc': 0.8653846153846154, 'lr_test_f1': 0.7433366033520626, 'lr_test_acc': 0.7265917602996255, 'lr_train_acc': 0.9743589743589743}\n",
      "Processing ['data-robustml-mv', 'Titanic', 'missing_values', 'split_8093']\n",
      "--------------\n",
      "dataset: {'data_dir': 'Titanic', 'error_types': ['missing_values'], 'drop_variables': ['PassengerId', 'Name'], 'text_variables': ['Ticket'], 'label': 'Survived', 'categorical_variables': ['Survived'], 'ml_task': 'classification'}\n",
      "columns to encode: ['Sex', 'Cabin', 'Embarked']\n"
     ]
    },
    {
     "name": "stderr",
     "output_type": "stream",
     "text": [
      "[Parallel(n_jobs=-1)]: Using backend LokyBackend with 16 concurrent workers.\n",
      "[Parallel(n_jobs=-1)]: Done   1 out of   1 | elapsed:    0.2s finished\n"
     ]
    },
    {
     "name": "stdout",
     "output_type": "stream",
     "text": [
      "LR Train Accuracy: 0.9839743589743589 \n",
      "LR Test  Accuracy: 0.7303370786516854\n",
      "Using solver 'cvxopt'\n",
      " for 1438 free variables\n",
      "  in 1440 posynomial inequalities.\n",
      "Solving took 37.4 seconds.\n",
      "NaCL Train Accuracy: 0.9839743589743589 \n",
      "NaCL Test  Accuracy: 0.7303370786516854\n",
      "NB Train Accuracy: 0.8766025641025641 \n",
      "NB Test  Accuracy: 0.7902621722846442\n",
      "nacl test acc with missing: 0.7078651685393258\n",
      "nacl test f1 with missing: 0.6656367041198502\n",
      "{'best_params': {'C': 1.270628697767706}, 'nacl_missing_test_f1': 0.6656367041198502, 'nacl_missing_test_acc': 0.7078651685393258, 'nacl_test_f1': 0.7513928288387044, 'nacl_test_acc': 0.7303370786516854, 'nacl_train_acc': 0.9839743589743589, 'nb_test_f1': 0.7965613061537372, 'nb_test_acc': 0.7902621722846442, 'nb_train_acc': 0.8766025641025641, 'lr_test_f1': 0.7513928288387044, 'lr_test_acc': 0.7303370786516854, 'lr_train_acc': 0.9839743589743589}\n",
      "Processing ['data-robustml-mv', 'Titanic', 'missing_values', 'split_144']\n",
      "--------------\n",
      "dataset: {'data_dir': 'Titanic', 'error_types': ['missing_values'], 'drop_variables': ['PassengerId', 'Name'], 'text_variables': ['Ticket'], 'label': 'Survived', 'categorical_variables': ['Survived'], 'ml_task': 'classification'}\n",
      "columns to encode: ['Sex', 'Cabin', 'Embarked']\n"
     ]
    },
    {
     "name": "stderr",
     "output_type": "stream",
     "text": [
      "[Parallel(n_jobs=-1)]: Using backend LokyBackend with 16 concurrent workers.\n",
      "[Parallel(n_jobs=-1)]: Done   1 out of   1 | elapsed:    0.0s finished\n"
     ]
    },
    {
     "name": "stdout",
     "output_type": "stream",
     "text": [
      "LR Train Accuracy: 0.6185897435897436 \n",
      "LR Test  Accuracy: 0.6104868913857678\n",
      "Using solver 'cvxopt'\n",
      " for 1438 free variables\n",
      "  in 1440 posynomial inequalities.\n",
      "Solving took 36 seconds.\n",
      "NaCL Train Accuracy: 0.6185897435897436 \n",
      "NaCL Test  Accuracy: 0.6104868913857678\n",
      "NB Train Accuracy: 0.8701923076923077 \n",
      "NB Test  Accuracy: 0.8052434456928839\n",
      "nacl test acc with missing: 0.6104868913857678\n",
      "nacl test f1 with missing: 0.4628342478878147\n",
      "{'best_params': {'C': 2.2803779234489016e-05}, 'nacl_missing_test_f1': 0.4628342478878147, 'nacl_missing_test_acc': 0.6104868913857678, 'nacl_test_f1': 0.758139534883721, 'nacl_test_acc': 0.6104868913857678, 'nacl_train_acc': 0.6185897435897436, 'nb_test_f1': 0.8112675925279735, 'nb_test_acc': 0.8052434456928839, 'nb_train_acc': 0.8701923076923077, 'lr_test_f1': 0.758139534883721, 'lr_test_acc': 0.6104868913857678, 'lr_train_acc': 0.6185897435897436}\n",
      "Processing ['data-robustml-mv', 'Titanic', 'missing_values', 'split_905']\n",
      "--------------\n",
      "dataset: {'data_dir': 'Titanic', 'error_types': ['missing_values'], 'drop_variables': ['PassengerId', 'Name'], 'text_variables': ['Ticket'], 'label': 'Survived', 'categorical_variables': ['Survived'], 'ml_task': 'classification'}\n",
      "columns to encode: ['Sex', 'Cabin', 'Embarked']\n"
     ]
    },
    {
     "name": "stderr",
     "output_type": "stream",
     "text": [
      "[Parallel(n_jobs=-1)]: Using backend LokyBackend with 16 concurrent workers.\n",
      "[Parallel(n_jobs=-1)]: Done   1 out of   1 | elapsed:    1.0s finished\n"
     ]
    },
    {
     "name": "stdout",
     "output_type": "stream",
     "text": [
      "LR Train Accuracy: 0.9839743589743589 \n",
      "LR Test  Accuracy: 0.8052434456928839\n",
      "Using solver 'cvxopt'\n",
      " for 1438 free variables\n",
      "  in 1440 posynomial inequalities.\n",
      "Solving took 32.9 seconds.\n",
      "NaCL Train Accuracy: 0.9839743589743589 \n",
      "NaCL Test  Accuracy: 0.8052434456928839\n",
      "NB Train Accuracy: 0.8637820512820513 \n",
      "NB Test  Accuracy: 0.8314606741573034\n",
      "nacl test acc with missing: 0.7453183520599251\n",
      "nacl test f1 with missing: 0.7130357513290255\n",
      "{'best_params': {'C': 2.020658557149858}, 'nacl_missing_test_f1': 0.7130357513290255, 'nacl_missing_test_acc': 0.7453183520599251, 'nacl_test_f1': 0.8156377561755671, 'nacl_test_acc': 0.8052434456928839, 'nacl_train_acc': 0.9839743589743589, 'nb_test_f1': 0.8363486310376343, 'nb_test_acc': 0.8314606741573034, 'nb_train_acc': 0.8637820512820513, 'lr_test_f1': 0.8156377561755671, 'lr_test_acc': 0.8052434456928839, 'lr_train_acc': 0.9839743589743589}\n",
      "Processing ['data-robustml-mv', 'Titanic', 'missing_values', 'split_2962']\n",
      "--------------\n",
      "dataset: {'data_dir': 'Titanic', 'error_types': ['missing_values'], 'drop_variables': ['PassengerId', 'Name'], 'text_variables': ['Ticket'], 'label': 'Survived', 'categorical_variables': ['Survived'], 'ml_task': 'classification'}\n",
      "columns to encode: ['Sex', 'Cabin', 'Embarked']\n"
     ]
    },
    {
     "name": "stderr",
     "output_type": "stream",
     "text": [
      "[Parallel(n_jobs=-1)]: Using backend LokyBackend with 16 concurrent workers.\n",
      "[Parallel(n_jobs=-1)]: Done   1 out of   1 | elapsed:    0.1s finished\n"
     ]
    },
    {
     "name": "stdout",
     "output_type": "stream",
     "text": [
      "LR Train Accuracy: 0.9807692307692307 \n",
      "LR Test  Accuracy: 0.7565543071161048\n",
      "Using solver 'cvxopt'\n",
      " for 1438 free variables\n",
      "  in 1440 posynomial inequalities.\n",
      "Solving took 38.1 seconds.\n",
      "NaCL Train Accuracy: 0.9807692307692307 \n",
      "NaCL Test  Accuracy: 0.7565543071161048\n",
      "NB Train Accuracy: 0.8605769230769231 \n",
      "NB Test  Accuracy: 0.7902621722846442\n",
      "nacl test acc with missing: 0.7303370786516854\n",
      "nacl test f1 with missing: 0.696081820800922\n",
      "{'best_params': {'C': 2.6695337126101424}, 'nacl_missing_test_f1': 0.696081820800922, 'nacl_missing_test_acc': 0.7303370786516854, 'nacl_test_f1': 0.7682259579469406, 'nacl_test_acc': 0.7565543071161048, 'nacl_train_acc': 0.9807692307692307, 'nb_test_f1': 0.7973319867020158, 'nb_test_acc': 0.7902621722846442, 'nb_train_acc': 0.8605769230769231, 'lr_test_f1': 0.7682259579469406, 'lr_test_acc': 0.7565543071161048, 'lr_train_acc': 0.9807692307692307}\n",
      "CPU times: user 1h 4min 28s, sys: 1h 41min 3s, total: 2h 45min 31s\n",
      "Wall time: 16min 54s\n"
     ]
    }
   ],
   "source": [
    "%%time \n",
    "\n",
    "for job in jobs:\n",
    "    \n",
    "    print(\"Processing\", job)\n",
    "    print('--------------')\n",
    "    dataset = job[1]\n",
    "\n",
    "    dirty_X_train = pd.read_csv(os.path.join(*job, \"dirty_X_train.csv\"))\n",
    "    dirty_y_train = pd.read_csv(os.path.join(*job, \"dirty_y_train.csv\"))\n",
    "    dirty_X_test = pd.read_csv(os.path.join(*job, \"dirty_X_test.csv\"))\n",
    "    dirty_y_test = pd.read_csv(os.path.join(*job, \"dirty_y_test.csv\"))\n",
    "\n",
    "    dirty_X_train = dirty_X_train.fillna(0)\n",
    "    dirty_X_test = dirty_X_test.fillna(0)\n",
    "    X_train, y_train, X_test, y_test, mappings, mappings_dict = preprocess_data(dataset, \n",
    "                                                             dirty_X_train, dirty_y_train, \n",
    "                                                             [dirty_X_test], [dirty_y_test])\n",
    "    X_test = X_test[0]\n",
    "    y_test = y_test[0]\n",
    "    dirty_X_test = pd.read_csv(os.path.join(*job, \"dirty_X_test.csv\"))\n",
    "    null_data = dirty_X_test[dirty_X_test.isnull().any(axis=1)]\n",
    "\n",
    "    missing = [[]] * dirty_X_test.shape[0]\n",
    "    for i, row in null_data.iterrows():\n",
    "        # append the original index of the missing feature\n",
    "        cols = null_data.columns.get_values()[np.where(pd.isnull(row))]\n",
    "\n",
    "        idx = [mappings_dict[col][0] for col in cols]\n",
    "        missing[i] = idx\n",
    "    missing = np.array(missing)\n",
    "\n",
    "    output = defaultdict(lambda: defaultdict(list))\n",
    "\n",
    "    output['train']['nacl'] = (X_train, y_train)\n",
    "    output['test']['nacl'] = (X_test, y_test)\n",
    "    output['missing_test'] = missing\n",
    "    output['mappings1hot_dict'] = mappings_dict\n",
    "    output['mappings1hot_list'] = mappings\n",
    "    pickle.dump(dict(output), open(os.path.join(*job,\"data.p\"), 'wb'))\n",
    "\n",
    "\n",
    "    max_acc = 0\n",
    "\n",
    "    for method in ['delete', 'impute_holoclean', 'impute_mean_mode', 'impute_mean_dummy', \n",
    "                   'impute_median_mode', 'impute_median_dummy', 'impute_mode_mode', 'impute_mode_dummy']:\n",
    "        #print('Titanic/v{}/missing_values/{}/logistic_regression/3659'.\\\n",
    "        #           format(split_seed, method))\n",
    "        split_seed = job[-1].split(\"_\")[1]\n",
    "        a =  results['Titanic/v{}/missing_values/{}/logistic_regression/3659'.\\\n",
    "                   format(split_seed, method)].copy()\n",
    "        #print(a)\n",
    "        del a['best_params']\n",
    "        del a['train_acc']\n",
    "        del a['val_acc']\n",
    "        max_key = max(a.items(), key=operator.itemgetter(1))[0]\n",
    "\n",
    "        if a[max_key] > max_acc:\n",
    "            best_params_lr = results['Titanic/v{}/missing_values/{}/logistic_regression/3659'.\\\n",
    "                   format(split_seed, method)]['best_params']\n",
    "            max_acc = a[max_key]\n",
    "\n",
    "    clf = LogisticRegression(solver='lbfgs', \n",
    "    verbose=True, \n",
    "    C = best_params_lr['C'],\n",
    "    max_iter=2000, n_jobs=-1).fit(X_train, y_train)\n",
    "    lr_pred = clf.predict(X_test)\n",
    "    lr_train_acc = accuracy(clf.predict(X_train), y_train)\n",
    "    lr_test_acc = accuracy(lr_pred, y_test)\n",
    "    lr_test_f1 = f1(lr_pred, y_test)\n",
    "\n",
    "    print(\"LR Train Accuracy: {} \\nLR Test  Accuracy: {}\".format(lr_train_acc, lr_test_acc))\n",
    "\n",
    "    W = np.hstack((clf.intercept_[:,None], clf.coef_))[0]\n",
    "    nacl = LR2NB_GP.LR2NB(W)\n",
    "    nacl.setObj(X_train, y_train)\n",
    "\n",
    "    # Using Mosek Solver\n",
    "    nacl.solve(verbose=1)\n",
    "\n",
    "    # Sanity Check to compare NaCL results with Logistic Regression\n",
    "    assert(1.0 == np.average( nacl.classify(X_test)  == clf.predict(X_test )))\n",
    "    assert(1.0 == np.average( nacl.classify(X_train) == clf.predict(X_train)))\n",
    "    nacl_pred = nacl.classify(X_test)\n",
    "    nacl_train_acc = accuracy(nacl.classify(X_train), y_train)\n",
    "    nacl_test_acc = accuracy(nacl_pred, y_test)\n",
    "    #print(nacl_pred)\n",
    "    #print(y_test)\n",
    "    nacl_test_f1 = f1(nacl_pred[0], y_test)\n",
    "\n",
    "    print(\"NaCL Train Accuracy: {} \\nNaCL Test  Accuracy: {}\".format(nacl_train_acc, nacl_test_acc))\n",
    "\n",
    "    NB = BernoulliNB().fit(X_train, y_train)\n",
    "    NB_pred = NB.predict(X_test)\n",
    "    nb_train_acc = accuracy(NB.predict(X_train), y_train)\n",
    "    nb_test_acc = accuracy(NB_pred, y_test)\n",
    "    nb_test_f1 = f1(NB_pred, y_test)\n",
    "\n",
    "    print(\"NB Train Accuracy: {} \\nNB Test  Accuracy: {}\".format(nb_train_acc, nb_test_acc))\n",
    "\n",
    "    # Make an example observations with some missing features\n",
    "\n",
    "    # setting the dimensions to be zero\n",
    "    missing_mask = np.zeros(X_test.shape) \n",
    "\n",
    "\n",
    "    miss = missing\n",
    "    for i in range(len(missing_mask)):\n",
    "        for j in range(len(miss[i])):\n",
    "            missing_mask[i][mappings[miss[i][j]]] = 1\n",
    "\n",
    "    a = nacl.predict_proba(X_test, missing = missing_mask)[:,1]\n",
    "    a = np.where(a > 0.5, 1, 0)\n",
    "\n",
    "    test_acc = accuracy(y_test, a)\n",
    "    test_f1 = f1(y_test, a)\n",
    "    print('nacl test acc with missing:', test_acc)\n",
    "    print('nacl test f1 with missing:', test_f1) # true, pred\n",
    "\n",
    "\n",
    "    result_dict = {}\n",
    "\n",
    "    result_dict[\"best_params\"] = best_params_lr\n",
    "\n",
    "\n",
    "    result_dict[\"{}_test_f1\".format('nacl_missing')] = test_f1\n",
    "    result_dict[\"{}_test_acc\".format('nacl_missing')] = test_acc\n",
    "\n",
    "    result_dict[\"{}_test_f1\".format('nacl')] = nacl_test_f1\n",
    "    result_dict[\"{}_test_acc\".format('nacl')] = nacl_test_acc\n",
    "    result_dict[\"{}_train_acc\".format('nacl')] = nacl_train_acc\n",
    "\n",
    "    result_dict[\"{}_test_f1\".format('nb')] = nb_test_f1\n",
    "    result_dict[\"{}_test_acc\".format('nb')] = nb_test_acc\n",
    "    result_dict[\"{}_train_acc\".format('nb')] = nb_train_acc\n",
    "\n",
    "    result_dict[\"{}_test_f1\".format('lr')] = lr_test_f1\n",
    "    result_dict[\"{}_test_acc\".format('lr')] = lr_test_acc\n",
    "    result_dict[\"{}_train_acc\".format('lr')] = lr_train_acc\n",
    "\n",
    "    print(result_dict)\n",
    "    save_result_mv(job, seed, result_dict, model_name, save_dir)\n",
    "\n",
    "\n",
    "\n"
   ]
  },
  {
   "cell_type": "code",
   "execution_count": null,
   "metadata": {
    "collapsed": true
   },
   "outputs": [],
   "source": []
  },
  {
   "cell_type": "code",
   "execution_count": null,
   "metadata": {
    "collapsed": true
   },
   "outputs": [],
   "source": []
  },
  {
   "cell_type": "code",
   "execution_count": null,
   "metadata": {
    "collapsed": true
   },
   "outputs": [],
   "source": []
  }
 ],
 "metadata": {
  "kernelspec": {
   "display_name": "nacl36",
   "language": "python",
   "name": "nacl36"
  },
  "language_info": {
   "codemirror_mode": {
    "name": "ipython",
    "version": 3
   },
   "file_extension": ".py",
   "mimetype": "text/x-python",
   "name": "python",
   "nbconvert_exporter": "python",
   "pygments_lexer": "ipython3",
   "version": "3.6.11"
  }
 },
 "nbformat": 4,
 "nbformat_minor": 2
}
