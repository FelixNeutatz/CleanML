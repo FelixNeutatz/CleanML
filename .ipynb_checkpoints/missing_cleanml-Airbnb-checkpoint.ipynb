{
 "cells": [
  {
   "cell_type": "markdown",
   "metadata": {},
   "source": [
    "This version specifies a random portion of missingness in the features. It is identical with missing_cleanml-2-percentage. These two notebooks are used to run datasets in parallel. Airbnb in particular takes a long time to run."
   ]
  },
  {
   "cell_type": "code",
   "execution_count": 1,
   "metadata": {
    "scrolled": true
   },
   "outputs": [
    {
     "name": "stderr",
     "output_type": "stream",
     "text": [
      "/mnt/ds3lab-scratch/raox/gatech_data_cleaning/ICDE2021-revision/nacl36/lib/python3.6/importlib/_bootstrap.py:219: RuntimeWarning: numpy.dtype size changed, may indicate binary incompatibility. Expected 96, got 88\n",
      "  return f(*args, **kwds)\n",
      "/mnt/ds3lab-scratch/raox/gatech_data_cleaning/ICDE2021-revision/nacl36/lib/python3.6/importlib/_bootstrap.py:219: RuntimeWarning: numpy.dtype size changed, may indicate binary incompatibility. Expected 96, got 88\n",
      "  return f(*args, **kwds)\n"
     ]
    }
   ],
   "source": [
    "import six\n",
    "import sys\n",
    "sys.modules['sklearn.externals.six'] = six\n",
    "import mlrose\n",
    "import utils\n",
    "import pickle\n",
    "from collections import defaultdict\n",
    "import numpy as np\n",
    "from collections import OrderedDict\n",
    "from sklearn.metrics import f1_score \n",
    "import pandas as pd\n",
    "from sklearn.metrics import f1_score "
   ]
  },
  {
   "cell_type": "code",
   "execution_count": 2,
   "metadata": {
    "collapsed": true
   },
   "outputs": [],
   "source": [
    "import sys\n",
    "sys.setrecursionlimit(10**6)"
   ]
  },
  {
   "cell_type": "code",
   "execution_count": 3,
   "metadata": {},
   "outputs": [
    {
     "name": "stderr",
     "output_type": "stream",
     "text": [
      "Using TensorFlow backend.\n"
     ]
    }
   ],
   "source": [
    "import math\n",
    "import matplotlib.pyplot as plt \n",
    "from sklearn.datasets import load_digits\n",
    "import numpy as np\n",
    "from sklearn.linear_model import LogisticRegression\n",
    "from sklearn.model_selection import train_test_split\n",
    "import pylab\n",
    "import sys\n",
    "from sklearn.naive_bayes import BernoulliNB, MultinomialNB\n",
    "import keras\n",
    "import time\n",
    "import pandas as pd\n",
    "import json\n",
    "import operator"
   ]
  },
  {
   "cell_type": "code",
   "execution_count": 4,
   "metadata": {
    "collapsed": true
   },
   "outputs": [],
   "source": [
    "sys.path.append(\"../NaCL/code/\")\n",
    "import utils\n",
    "import LR2NB_GP\n",
    "sys.path.append(\"../NaCL/notebooks/\")\n",
    "from dataload import *"
   ]
  },
  {
   "cell_type": "code",
   "execution_count": 5,
   "metadata": {},
   "outputs": [
    {
     "name": "stderr",
     "output_type": "stream",
     "text": [
      "/mnt/ds3lab-scratch/raox/gatech_data_cleaning/ICDE2021-revision/nacl36/lib/python3.6/site-packages/sklearn/utils/deprecation.py:143: FutureWarning: The sklearn.neighbors.base module is  deprecated in version 0.22 and will be removed in version 0.24. The corresponding classes / functions should instead be imported from sklearn.neighbors. Anything that cannot be imported from sklearn.neighbors is now part of the private API.\n",
      "  warnings.warn(message, FutureWarning)\n"
     ]
    }
   ],
   "source": [
    "from preprocess_mv import preprocess_data"
   ]
  },
  {
   "cell_type": "code",
   "execution_count": 6,
   "metadata": {
    "collapsed": true
   },
   "outputs": [],
   "source": [
    "%load_ext autoreload\n",
    "%autoreload 2"
   ]
  },
  {
   "cell_type": "markdown",
   "metadata": {},
   "source": [
    "# Loading Data"
   ]
  },
  {
   "cell_type": "code",
   "execution_count": 7,
   "metadata": {
    "collapsed": true,
    "scrolled": true
   },
   "outputs": [],
   "source": [
    "seed = 3659"
   ]
  },
  {
   "cell_type": "code",
   "execution_count": 8,
   "metadata": {
    "collapsed": true
   },
   "outputs": [],
   "source": [
    "data_dir = \"data-robustml-mv\""
   ]
  },
  {
   "cell_type": "code",
   "execution_count": 9,
   "metadata": {
    "collapsed": true
   },
   "outputs": [],
   "source": [
    "save_dir = \"result-robustml\"\n",
    "model_name ='nacl'"
   ]
  },
  {
   "cell_type": "code",
   "execution_count": 10,
   "metadata": {
    "collapsed": true
   },
   "outputs": [],
   "source": [
    "accuracy = lambda x,y: np.mean(x == y)\n",
    "f1 = lambda x,y: f1_score(x,y.flatten(), average = \"weighted\")\n",
    "\n"
   ]
  },
  {
   "cell_type": "code",
   "execution_count": 11,
   "metadata": {
    "collapsed": true
   },
   "outputs": [],
   "source": [
    "dataset = 'Airbnb'"
   ]
  },
  {
   "cell_type": "code",
   "execution_count": 12,
   "metadata": {
    "scrolled": true
   },
   "outputs": [
    {
     "name": "stdout",
     "output_type": "stream",
     "text": [
      "Number of jobs: 20\n"
     ]
    }
   ],
   "source": [
    "jobs = get_jobs_mv(data_dir, dataset = [dataset])\n",
    "print(\"Number of jobs:\", len(jobs))"
   ]
  },
  {
   "cell_type": "code",
   "execution_count": 13,
   "metadata": {},
   "outputs": [
    {
     "data": {
      "text/plain": [
       "[['data-robustml-mv', 'Airbnb', 'missing_values', 'split_8093'],\n",
       " ['data-robustml-mv', 'Airbnb', 'missing_values', 'split_235'],\n",
       " ['data-robustml-mv', 'Airbnb', 'missing_values', 'split_5396'],\n",
       " ['data-robustml-mv', 'Airbnb', 'missing_values', 'split_5192'],\n",
       " ['data-robustml-mv', 'Airbnb', 'missing_values', 'split_2962'],\n",
       " ['data-robustml-mv', 'Airbnb', 'missing_values', 'split_7751'],\n",
       " ['data-robustml-mv', 'Airbnb', 'missing_values', 'split_4764'],\n",
       " ['data-robustml-mv', 'Airbnb', 'missing_values', 'split_2895'],\n",
       " ['data-robustml-mv', 'Airbnb', 'missing_values', 'split_8444'],\n",
       " ['data-robustml-mv', 'Airbnb', 'missing_values', 'split_6542'],\n",
       " ['data-robustml-mv', 'Airbnb', 'missing_values', 'split_9394'],\n",
       " ['data-robustml-mv', 'Airbnb', 'missing_values', 'split_4225'],\n",
       " ['data-robustml-mv', 'Airbnb', 'missing_values', 'split_5374'],\n",
       " ['data-robustml-mv', 'Airbnb', 'missing_values', 'split_3562'],\n",
       " ['data-robustml-mv', 'Airbnb', 'missing_values', 'split_5056'],\n",
       " ['data-robustml-mv', 'Airbnb', 'missing_values', 'split_3462'],\n",
       " ['data-robustml-mv', 'Airbnb', 'missing_values', 'split_7813'],\n",
       " ['data-robustml-mv', 'Airbnb', 'missing_values', 'split_144'],\n",
       " ['data-robustml-mv', 'Airbnb', 'missing_values', 'split_2516'],\n",
       " ['data-robustml-mv', 'Airbnb', 'missing_values', 'split_905']]"
      ]
     },
     "execution_count": 13,
     "metadata": {},
     "output_type": "execute_result"
    }
   ],
   "source": [
    "jobs"
   ]
  },
  {
   "cell_type": "code",
   "execution_count": 14,
   "metadata": {
    "collapsed": true
   },
   "outputs": [],
   "source": [
    "accuracy = lambda x,y: np.mean(x == y)\n",
    "f1 = lambda x,y: f1_score(x,y.flatten(), average = \"weighted\")\n",
    "\n"
   ]
  },
  {
   "cell_type": "code",
   "execution_count": 15,
   "metadata": {
    "collapsed": true
   },
   "outputs": [],
   "source": [
    "with open('/mnt/ds3lab-scratch/raox/gatech_data_cleaning/ICDE2021-revision/CleanML/result/{}_result.json'.format(dataset)) as json_file:\n",
    "    results = json.load(json_file)"
   ]
  },
  {
   "cell_type": "code",
   "execution_count": null,
   "metadata": {
    "collapsed": true
   },
   "outputs": [],
   "source": []
  },
  {
   "cell_type": "code",
   "execution_count": null,
   "metadata": {
    "collapsed": true
   },
   "outputs": [],
   "source": []
  },
  {
   "cell_type": "code",
   "execution_count": null,
   "metadata": {
    "collapsed": true
   },
   "outputs": [],
   "source": []
  },
  {
   "cell_type": "code",
   "execution_count": 27,
   "metadata": {},
   "outputs": [
    {
     "name": "stdout",
     "output_type": "stream",
     "text": [
      "Processing ['data-robustml-mv', 'Airbnb', 'missing_values', 'split_8093']\n",
      "--------------\n",
      "dataset: {'data_dir': 'Airbnb', 'error_types': ['duplicates', 'outliers', 'missing_values'], 'label': 'Rating', 'categorical_variables': ['Rating'], 'ml_task': 'classification', 'key_columns': ['latitude', 'longitude']}\n",
      "columns to encode: ['LocationName']\n",
      "(12, [12])\n"
     ]
    },
    {
     "name": "stderr",
     "output_type": "stream",
     "text": [
      "[Parallel(n_jobs=1)]: Using backend SequentialBackend with 1 concurrent workers.\n",
      "[Parallel(n_jobs=1)]: Done   1 out of   1 | elapsed:    0.3s finished\n"
     ]
    },
    {
     "name": "stdout",
     "output_type": "stream",
     "text": [
      "LR Train Accuracy: 0.7034285714285714 \n",
      "LR Test  Accuracy: 0.6824444444444444\n",
      "Using solver 'cvxopt'\n",
      " for 954 free variables\n",
      "  in 956 posynomial inequalities.\n",
      "Solving took 10.8 seconds.\n",
      "NaCL Train Accuracy: 0.7034285714285714 \n",
      "NaCL Test  Accuracy: 0.6824444444444444\n",
      "NB Train Accuracy: 0.6541904761904762 \n",
      "NB Test  Accuracy: 0.6406666666666667\n",
      "nacl test acc with missing: 0.6815555555555556\n",
      "nacl test f1 with missing: 0.6165931332665768\n",
      "{'best_params': {'C': 0.022381196598918844}, 'nacl_missing_test_f1': 0.6165931332665768, 'nacl_missing_test_acc': 0.6815555555555556, 'nacl_test_f1': 0.7458827808380506, 'nacl_test_acc': 0.6824444444444444, 'nacl_train_acc': 0.7034285714285714, 'nb_test_f1': 0.6531712679298758, 'nb_test_acc': 0.6406666666666667, 'nb_train_acc': 0.6541904761904762, 'lr_test_f1': 0.7458827808380506, 'lr_test_acc': 0.6824444444444444, 'lr_train_acc': 0.7034285714285714}\n",
      "Processing ['data-robustml-mv', 'Airbnb', 'missing_values', 'split_235']\n",
      "--------------\n",
      "dataset: {'data_dir': 'Airbnb', 'error_types': ['duplicates', 'outliers', 'missing_values'], 'label': 'Rating', 'categorical_variables': ['Rating'], 'ml_task': 'classification', 'key_columns': ['latitude', 'longitude']}\n",
      "columns to encode: ['LocationName']\n",
      "(12, [12])\n"
     ]
    },
    {
     "name": "stderr",
     "output_type": "stream",
     "text": [
      "[Parallel(n_jobs=1)]: Using backend SequentialBackend with 1 concurrent workers.\n",
      "[Parallel(n_jobs=1)]: Done   1 out of   1 | elapsed:    0.3s finished\n"
     ]
    },
    {
     "name": "stdout",
     "output_type": "stream",
     "text": [
      "LR Train Accuracy: 0.6976190476190476 \n",
      "LR Test  Accuracy: 0.6753333333333333\n",
      "Using solver 'cvxopt'\n",
      " for 958 free variables\n",
      "  in 960 posynomial inequalities.\n",
      "Solving took 13.5 seconds.\n",
      "NaCL Train Accuracy: 0.6976190476190476 \n",
      "NaCL Test  Accuracy: 0.6753333333333333\n",
      "NB Train Accuracy: 0.644095238095238 \n",
      "NB Test  Accuracy: 0.6364444444444445\n",
      "nacl test acc with missing: 0.6742222222222222\n",
      "nacl test f1 with missing: 0.6068529365037616\n",
      "{'best_params': {'C': 0.009878597119522799}, 'nacl_missing_test_f1': 0.6068529365037616, 'nacl_missing_test_acc': 0.6742222222222222, 'nacl_test_f1': 0.7389889183607911, 'nacl_test_acc': 0.6753333333333333, 'nacl_train_acc': 0.6976190476190476, 'nb_test_f1': 0.6407288384703752, 'nb_test_acc': 0.6364444444444445, 'nb_train_acc': 0.644095238095238, 'lr_test_f1': 0.7389889183607911, 'lr_test_acc': 0.6753333333333333, 'lr_train_acc': 0.6976190476190476}\n",
      "Processing ['data-robustml-mv', 'Airbnb', 'missing_values', 'split_5396']\n",
      "--------------\n",
      "dataset: {'data_dir': 'Airbnb', 'error_types': ['duplicates', 'outliers', 'missing_values'], 'label': 'Rating', 'categorical_variables': ['Rating'], 'ml_task': 'classification', 'key_columns': ['latitude', 'longitude']}\n",
      "columns to encode: ['LocationName']\n",
      "(12, [12])\n"
     ]
    },
    {
     "name": "stderr",
     "output_type": "stream",
     "text": [
      "[Parallel(n_jobs=1)]: Using backend SequentialBackend with 1 concurrent workers.\n",
      "[Parallel(n_jobs=1)]: Done   1 out of   1 | elapsed:    1.9s finished\n"
     ]
    },
    {
     "name": "stdout",
     "output_type": "stream",
     "text": [
      "LR Train Accuracy: 0.6931428571428572 \n",
      "LR Test  Accuracy: 0.6997777777777778\n",
      "Using solver 'cvxopt'\n",
      " for 946 free variables\n",
      "  in 948 posynomial inequalities.\n",
      "Solving took 15.6 seconds.\n",
      "NaCL Train Accuracy: 0.6931428571428572 \n",
      "NaCL Test  Accuracy: 0.6997777777777778\n",
      "NB Train Accuracy: 0.642 \n",
      "NB Test  Accuracy: 0.6433333333333333\n",
      "nacl test acc with missing: 0.6991111111111111\n",
      "nacl test f1 with missing: 0.6412415038805972\n",
      "{'best_params': {'C': 46.07666668621421}, 'nacl_missing_test_f1': 0.6412415038805972, 'nacl_missing_test_acc': 0.6991111111111111, 'nacl_test_f1': 0.7549459880952443, 'nacl_test_acc': 0.6997777777777778, 'nacl_train_acc': 0.6931428571428572, 'nb_test_f1': 0.6513780016995806, 'nb_test_acc': 0.6433333333333333, 'nb_train_acc': 0.642, 'lr_test_f1': 0.7549459880952443, 'lr_test_acc': 0.6997777777777778, 'lr_train_acc': 0.6931428571428572}\n",
      "Processing ['data-robustml-mv', 'Airbnb', 'missing_values', 'split_5192']\n",
      "--------------\n",
      "dataset: {'data_dir': 'Airbnb', 'error_types': ['duplicates', 'outliers', 'missing_values'], 'label': 'Rating', 'categorical_variables': ['Rating'], 'ml_task': 'classification', 'key_columns': ['latitude', 'longitude']}\n",
      "columns to encode: ['LocationName']\n",
      "(12, [12])\n"
     ]
    },
    {
     "name": "stderr",
     "output_type": "stream",
     "text": [
      "[Parallel(n_jobs=1)]: Using backend SequentialBackend with 1 concurrent workers.\n",
      "[Parallel(n_jobs=1)]: Done   1 out of   1 | elapsed:    0.1s finished\n"
     ]
    },
    {
     "name": "stdout",
     "output_type": "stream",
     "text": [
      "LR Train Accuracy: 0.702952380952381 \n",
      "LR Test  Accuracy: 0.7008888888888889\n",
      "Using solver 'cvxopt'\n",
      " for 982 free variables\n",
      "  in 984 posynomial inequalities.\n",
      "Solving took 14.9 seconds.\n",
      "NaCL Train Accuracy: 0.702952380952381 \n",
      "NaCL Test  Accuracy: 0.7008888888888889\n",
      "NB Train Accuracy: 0.6514285714285715 \n",
      "NB Test  Accuracy: 0.6477777777777778\n",
      "nacl test acc with missing: 0.7022222222222222\n",
      "nacl test f1 with missing: 0.6365027056407742\n",
      "{'best_params': {'C': 0.0029327085198583313}, 'nacl_missing_test_f1': 0.6365027056407742, 'nacl_missing_test_acc': 0.7022222222222222, 'nacl_test_f1': 0.7662054721877404, 'nacl_test_acc': 0.7008888888888889, 'nacl_train_acc': 0.702952380952381, 'nb_test_f1': 0.6550078720467597, 'nb_test_acc': 0.6477777777777778, 'nb_train_acc': 0.6514285714285715, 'lr_test_f1': 0.7662054721877404, 'lr_test_acc': 0.7008888888888889, 'lr_train_acc': 0.702952380952381}\n",
      "Processing ['data-robustml-mv', 'Airbnb', 'missing_values', 'split_2962']\n",
      "--------------\n",
      "dataset: {'data_dir': 'Airbnb', 'error_types': ['duplicates', 'outliers', 'missing_values'], 'label': 'Rating', 'categorical_variables': ['Rating'], 'ml_task': 'classification', 'key_columns': ['latitude', 'longitude']}\n",
      "columns to encode: ['LocationName']\n",
      "(12, [12])\n"
     ]
    },
    {
     "name": "stderr",
     "output_type": "stream",
     "text": [
      "[Parallel(n_jobs=1)]: Using backend SequentialBackend with 1 concurrent workers.\n",
      "[Parallel(n_jobs=1)]: Done   1 out of   1 | elapsed:    0.2s finished\n"
     ]
    },
    {
     "name": "stdout",
     "output_type": "stream",
     "text": [
      "LR Train Accuracy: 0.6982857142857143 \n",
      "LR Test  Accuracy: 0.6897777777777778\n",
      "Using solver 'cvxopt'\n",
      " for 986 free variables\n",
      "  in 988 posynomial inequalities.\n",
      "Solving took 14.5 seconds.\n",
      "NaCL Train Accuracy: 0.6982857142857143 \n",
      "NaCL Test  Accuracy: 0.6897777777777778\n",
      "NB Train Accuracy: 0.6521904761904762 \n",
      "NB Test  Accuracy: 0.6444444444444445\n",
      "nacl test acc with missing: 0.6888888888888889\n",
      "nacl test f1 with missing: 0.614821266900017\n",
      "{'best_params': {'C': 0.0057110639597241185}, 'nacl_missing_test_f1': 0.614821266900017, 'nacl_missing_test_acc': 0.6888888888888889, 'nacl_test_f1': 0.7621629629629632, 'nacl_test_acc': 0.6897777777777778, 'nacl_train_acc': 0.6982857142857143, 'nb_test_f1': 0.6583541142717877, 'nb_test_acc': 0.6444444444444445, 'nb_train_acc': 0.6521904761904762, 'lr_test_f1': 0.7621629629629632, 'lr_test_acc': 0.6897777777777778, 'lr_train_acc': 0.6982857142857143}\n",
      "Processing ['data-robustml-mv', 'Airbnb', 'missing_values', 'split_7751']\n",
      "--------------\n",
      "dataset: {'data_dir': 'Airbnb', 'error_types': ['duplicates', 'outliers', 'missing_values'], 'label': 'Rating', 'categorical_variables': ['Rating'], 'ml_task': 'classification', 'key_columns': ['latitude', 'longitude']}\n",
      "columns to encode: ['LocationName']\n",
      "(12, [12])\n"
     ]
    },
    {
     "name": "stderr",
     "output_type": "stream",
     "text": [
      "[Parallel(n_jobs=1)]: Using backend SequentialBackend with 1 concurrent workers.\n",
      "[Parallel(n_jobs=1)]: Done   1 out of   1 | elapsed:    0.2s finished\n"
     ]
    },
    {
     "name": "stdout",
     "output_type": "stream",
     "text": [
      "LR Train Accuracy: 0.6951428571428572 \n",
      "LR Test  Accuracy: 0.6913333333333334\n",
      "Using solver 'cvxopt'\n",
      " for 914 free variables\n",
      "  in 916 posynomial inequalities.\n",
      "Solving took 11.2 seconds.\n",
      "NaCL Train Accuracy: 0.6951428571428572 \n",
      "NaCL Test  Accuracy: 0.6913333333333334\n",
      "NB Train Accuracy: 0.6421904761904762 \n",
      "NB Test  Accuracy: 0.6353333333333333\n",
      "nacl test acc with missing: 0.6902222222222222\n",
      "nacl test f1 with missing: 0.6265981530206882\n",
      "{'best_params': {'C': 0.009274038636133474}, 'nacl_missing_test_f1': 0.6265981530206882, 'nacl_missing_test_acc': 0.6902222222222222, 'nacl_test_f1': 0.7526386967039972, 'nacl_test_acc': 0.6913333333333334, 'nacl_train_acc': 0.6951428571428572, 'nb_test_f1': 0.6444964683966653, 'nb_test_acc': 0.6353333333333333, 'nb_train_acc': 0.6421904761904762, 'lr_test_f1': 0.7526386967039972, 'lr_test_acc': 0.6913333333333334, 'lr_train_acc': 0.6951428571428572}\n",
      "Processing ['data-robustml-mv', 'Airbnb', 'missing_values', 'split_4764']\n",
      "--------------\n",
      "dataset: {'data_dir': 'Airbnb', 'error_types': ['duplicates', 'outliers', 'missing_values'], 'label': 'Rating', 'categorical_variables': ['Rating'], 'ml_task': 'classification', 'key_columns': ['latitude', 'longitude']}\n",
      "columns to encode: ['LocationName']\n",
      "(12, [12])\n"
     ]
    },
    {
     "name": "stderr",
     "output_type": "stream",
     "text": [
      "[Parallel(n_jobs=1)]: Using backend SequentialBackend with 1 concurrent workers.\n",
      "[Parallel(n_jobs=1)]: Done   1 out of   1 | elapsed:    0.2s finished\n"
     ]
    },
    {
     "name": "stdout",
     "output_type": "stream",
     "text": [
      "LR Train Accuracy: 0.6966666666666667 \n",
      "LR Test  Accuracy: 0.6926666666666667\n",
      "Using solver 'cvxopt'\n",
      " for 982 free variables\n",
      "  in 984 posynomial inequalities.\n",
      "Solving took 14.1 seconds.\n",
      "NaCL Train Accuracy: 0.6966666666666667 \n",
      "NaCL Test  Accuracy: 0.6926666666666667\n",
      "NB Train Accuracy: 0.6447619047619048 \n",
      "NB Test  Accuracy: 0.6402222222222222\n",
      "nacl test acc with missing: 0.6922222222222222\n",
      "nacl test f1 with missing: 0.6266263422260968\n",
      "{'best_params': {'C': 0.007100241679657011}, 'nacl_missing_test_f1': 0.6266263422260968, 'nacl_missing_test_acc': 0.6922222222222222, 'nacl_test_f1': 0.7574948994546918, 'nacl_test_acc': 0.6926666666666667, 'nacl_train_acc': 0.6966666666666667, 'nb_test_f1': 0.6513041142037738, 'nb_test_acc': 0.6402222222222222, 'nb_train_acc': 0.6447619047619048, 'lr_test_f1': 0.7574948994546918, 'lr_test_acc': 0.6926666666666667, 'lr_train_acc': 0.6966666666666667}\n",
      "Processing ['data-robustml-mv', 'Airbnb', 'missing_values', 'split_2895']\n",
      "--------------\n",
      "dataset: {'data_dir': 'Airbnb', 'error_types': ['duplicates', 'outliers', 'missing_values'], 'label': 'Rating', 'categorical_variables': ['Rating'], 'ml_task': 'classification', 'key_columns': ['latitude', 'longitude']}\n",
      "columns to encode: ['LocationName']\n",
      "(12, [12])\n"
     ]
    },
    {
     "name": "stderr",
     "output_type": "stream",
     "text": [
      "[Parallel(n_jobs=1)]: Using backend SequentialBackend with 1 concurrent workers.\n",
      "[Parallel(n_jobs=1)]: Done   1 out of   1 | elapsed:    0.6s finished\n"
     ]
    },
    {
     "name": "stdout",
     "output_type": "stream",
     "text": [
      "LR Train Accuracy: 0.6997142857142857 \n",
      "LR Test  Accuracy: 0.6833333333333333\n",
      "Using solver 'cvxopt'\n",
      " for 966 free variables\n",
      "  in 968 posynomial inequalities.\n",
      "Solving took 18.7 seconds.\n",
      "NaCL Train Accuracy: 0.6997142857142857 \n",
      "NaCL Test  Accuracy: 0.6833333333333333\n",
      "NB Train Accuracy: 0.6476190476190476 \n",
      "NB Test  Accuracy: 0.6486666666666666\n",
      "nacl test acc with missing: 0.6837777777777778\n",
      "nacl test f1 with missing: 0.6152490337904447\n",
      "{'best_params': {'C': 0.008489419399589906}, 'nacl_missing_test_f1': 0.6152490337904447, 'nacl_missing_test_acc': 0.6837777777777778, 'nacl_test_f1': 0.7505751335325161, 'nacl_test_acc': 0.6833333333333333, 'nacl_train_acc': 0.6997142857142857, 'nb_test_f1': 0.6566044765701616, 'nb_test_acc': 0.6486666666666666, 'nb_train_acc': 0.6476190476190476, 'lr_test_f1': 0.7505751335325161, 'lr_test_acc': 0.6833333333333333, 'lr_train_acc': 0.6997142857142857}\n",
      "Processing ['data-robustml-mv', 'Airbnb', 'missing_values', 'split_8444']\n",
      "--------------\n",
      "dataset: {'data_dir': 'Airbnb', 'error_types': ['duplicates', 'outliers', 'missing_values'], 'label': 'Rating', 'categorical_variables': ['Rating'], 'ml_task': 'classification', 'key_columns': ['latitude', 'longitude']}\n",
      "columns to encode: ['LocationName']\n",
      "(12, [12])\n"
     ]
    },
    {
     "name": "stderr",
     "output_type": "stream",
     "text": [
      "[Parallel(n_jobs=1)]: Using backend SequentialBackend with 1 concurrent workers.\n",
      "[Parallel(n_jobs=1)]: Done   1 out of   1 | elapsed:    0.3s finished\n"
     ]
    },
    {
     "name": "stdout",
     "output_type": "stream",
     "text": [
      "LR Train Accuracy: 0.692952380952381 \n",
      "LR Test  Accuracy: 0.6857777777777778\n",
      "Using solver 'cvxopt'\n",
      " for 962 free variables\n",
      "  in 964 posynomial inequalities.\n",
      "Solving took 15.9 seconds.\n",
      "NaCL Train Accuracy: 0.692952380952381 \n",
      "NaCL Test  Accuracy: 0.6857777777777778\n",
      "NB Train Accuracy: 0.6436190476190476 \n",
      "NB Test  Accuracy: 0.6426666666666667\n",
      "nacl test acc with missing: 0.6851111111111111\n",
      "nacl test f1 with missing: 0.6187572665568799\n",
      "{'best_params': {'C': 0.009274038636133474}, 'nacl_missing_test_f1': 0.6187572665568799, 'nacl_missing_test_acc': 0.6851111111111111, 'nacl_test_f1': 0.7500655624836177, 'nacl_test_acc': 0.6857777777777778, 'nacl_train_acc': 0.692952380952381, 'nb_test_f1': 0.652487891843708, 'nb_test_acc': 0.6426666666666667, 'nb_train_acc': 0.6436190476190476, 'lr_test_f1': 0.7500655624836177, 'lr_test_acc': 0.6857777777777778, 'lr_train_acc': 0.692952380952381}\n",
      "Processing ['data-robustml-mv', 'Airbnb', 'missing_values', 'split_6542']\n",
      "--------------\n",
      "dataset: {'data_dir': 'Airbnb', 'error_types': ['duplicates', 'outliers', 'missing_values'], 'label': 'Rating', 'categorical_variables': ['Rating'], 'ml_task': 'classification', 'key_columns': ['latitude', 'longitude']}\n",
      "columns to encode: ['LocationName']\n",
      "(12, [12])\n"
     ]
    },
    {
     "name": "stderr",
     "output_type": "stream",
     "text": [
      "[Parallel(n_jobs=1)]: Using backend SequentialBackend with 1 concurrent workers.\n",
      "[Parallel(n_jobs=1)]: Done   1 out of   1 | elapsed:    0.3s finished\n"
     ]
    },
    {
     "name": "stdout",
     "output_type": "stream",
     "text": [
      "LR Train Accuracy: 0.6993333333333334 \n",
      "LR Test  Accuracy: 0.68\n",
      "Using solver 'cvxopt'\n",
      " for 962 free variables\n",
      "  in 964 posynomial inequalities.\n",
      "Solving took 13 seconds.\n",
      "NaCL Train Accuracy: 0.6993333333333334 \n",
      "NaCL Test  Accuracy: 0.68\n",
      "NB Train Accuracy: 0.6545714285714286 \n",
      "NB Test  Accuracy: 0.6471111111111111\n",
      "nacl test acc with missing: 0.682\n",
      "nacl test f1 with missing: 0.6197968029500946\n",
      "{'best_params': {'C': 0.0057110639597241185}, 'nacl_missing_test_f1': 0.6197968029500946, 'nacl_missing_test_acc': 0.682, 'nacl_test_f1': 0.7413911642518352, 'nacl_test_acc': 0.68, 'nacl_train_acc': 0.6993333333333334, 'nb_test_f1': 0.6599403425712318, 'nb_test_acc': 0.6471111111111111, 'nb_train_acc': 0.6545714285714286, 'lr_test_f1': 0.7413911642518352, 'lr_test_acc': 0.68, 'lr_train_acc': 0.6993333333333334}\n",
      "Processing ['data-robustml-mv', 'Airbnb', 'missing_values', 'split_9394']\n",
      "--------------\n",
      "dataset: {'data_dir': 'Airbnb', 'error_types': ['duplicates', 'outliers', 'missing_values'], 'label': 'Rating', 'categorical_variables': ['Rating'], 'ml_task': 'classification', 'key_columns': ['latitude', 'longitude']}\n",
      "columns to encode: ['LocationName']\n",
      "(12, [12])\n"
     ]
    },
    {
     "name": "stderr",
     "output_type": "stream",
     "text": [
      "[Parallel(n_jobs=1)]: Using backend SequentialBackend with 1 concurrent workers.\n",
      "[Parallel(n_jobs=1)]: Done   1 out of   1 | elapsed:    0.5s finished\n"
     ]
    },
    {
     "name": "stdout",
     "output_type": "stream",
     "text": [
      "LR Train Accuracy: 0.7039047619047619 \n",
      "LR Test  Accuracy: 0.6786666666666666\n",
      "Using solver 'cvxopt'\n",
      " for 946 free variables\n",
      "  in 948 posynomial inequalities.\n",
      "Solving took 16.6 seconds.\n",
      "NaCL Train Accuracy: 0.7039047619047619 \n",
      "NaCL Test  Accuracy: 0.6786666666666666\n",
      "NB Train Accuracy: 0.6614285714285715 \n",
      "NB Test  Accuracy: 0.6393333333333333\n",
      "nacl test acc with missing: 0.6804444444444444\n",
      "nacl test f1 with missing: 0.6158466999654447\n",
      "{'best_params': {'C': 0.007100241679657011}, 'nacl_missing_test_f1': 0.6158466999654447, 'nacl_missing_test_acc': 0.6804444444444444, 'nacl_test_f1': 0.7440668599639496, 'nacl_test_acc': 0.6786666666666666, 'nacl_train_acc': 0.7039047619047619, 'nb_test_f1': 0.6509597960350828, 'nb_test_acc': 0.6393333333333333, 'nb_train_acc': 0.6614285714285715, 'lr_test_f1': 0.7440668599639496, 'lr_test_acc': 0.6786666666666666, 'lr_train_acc': 0.7039047619047619}\n",
      "Processing ['data-robustml-mv', 'Airbnb', 'missing_values', 'split_4225']\n",
      "--------------\n",
      "dataset: {'data_dir': 'Airbnb', 'error_types': ['duplicates', 'outliers', 'missing_values'], 'label': 'Rating', 'categorical_variables': ['Rating'], 'ml_task': 'classification', 'key_columns': ['latitude', 'longitude']}\n",
      "columns to encode: ['LocationName']\n",
      "(12, [12])\n"
     ]
    },
    {
     "name": "stderr",
     "output_type": "stream",
     "text": [
      "[Parallel(n_jobs=1)]: Using backend SequentialBackend with 1 concurrent workers.\n",
      "[Parallel(n_jobs=1)]: Done   1 out of   1 | elapsed:    2.6s finished\n"
     ]
    },
    {
     "name": "stdout",
     "output_type": "stream",
     "text": [
      "LR Train Accuracy: 0.7037142857142857 \n",
      "LR Test  Accuracy: 0.6966666666666667\n",
      "Using solver 'cvxopt'\n",
      " for 926 free variables\n",
      "  in 928 posynomial inequalities.\n",
      "Solving took 13.3 seconds.\n",
      "NaCL Train Accuracy: 0.7037142857142857 \n",
      "NaCL Test  Accuracy: 0.6966666666666667\n",
      "NB Train Accuracy: 0.6525714285714286 \n",
      "NB Test  Accuracy: 0.6464444444444445\n",
      "nacl test acc with missing: 0.6968888888888889\n",
      "nacl test f1 with missing: 0.645163217554707\n",
      "{'best_params': {'C': 1.6451390120054517}, 'nacl_missing_test_f1': 0.645163217554707, 'nacl_missing_test_acc': 0.6968888888888889, 'nacl_test_f1': 0.7471955896317196, 'nacl_test_acc': 0.6966666666666667, 'nacl_train_acc': 0.7037142857142857, 'nb_test_f1': 0.6522599652885731, 'nb_test_acc': 0.6464444444444445, 'nb_train_acc': 0.6525714285714286, 'lr_test_f1': 0.7471955896317196, 'lr_test_acc': 0.6966666666666667, 'lr_train_acc': 0.7037142857142857}\n",
      "Processing ['data-robustml-mv', 'Airbnb', 'missing_values', 'split_5374']\n",
      "--------------\n",
      "dataset: {'data_dir': 'Airbnb', 'error_types': ['duplicates', 'outliers', 'missing_values'], 'label': 'Rating', 'categorical_variables': ['Rating'], 'ml_task': 'classification', 'key_columns': ['latitude', 'longitude']}\n",
      "columns to encode: ['LocationName']\n",
      "(12, [12])\n"
     ]
    },
    {
     "name": "stderr",
     "output_type": "stream",
     "text": [
      "[Parallel(n_jobs=1)]: Using backend SequentialBackend with 1 concurrent workers.\n",
      "[Parallel(n_jobs=1)]: Done   1 out of   1 | elapsed:    3.0s finished\n"
     ]
    },
    {
     "name": "stdout",
     "output_type": "stream",
     "text": [
      "LR Train Accuracy: 0.708 \n",
      "LR Test  Accuracy: 0.6764444444444444\n",
      "Using solver 'cvxopt'\n",
      " for 946 free variables\n",
      "  in 948 posynomial inequalities.\n",
      "Solving took 14.5 seconds.\n",
      "NaCL Train Accuracy: 0.708 \n",
      "NaCL Test  Accuracy: 0.6764444444444444\n",
      "NB Train Accuracy: 0.6518095238095238 \n",
      "NB Test  Accuracy: 0.6382222222222222\n",
      "nacl test acc with missing: 0.6777777777777778\n",
      "nacl test f1 with missing: 0.6154151320332367\n",
      "{'best_params': {'C': 2.6695337126101424}, 'nacl_missing_test_f1': 0.6154151320332367, 'nacl_missing_test_acc': 0.6777777777777778, 'nacl_test_f1': 0.7358565628135626, 'nacl_test_acc': 0.6764444444444444, 'nacl_train_acc': 0.708, 'nb_test_f1': 0.6457366755555557, 'nb_test_acc': 0.6382222222222222, 'nb_train_acc': 0.6518095238095238, 'lr_test_f1': 0.7358565628135626, 'lr_test_acc': 0.6764444444444444, 'lr_train_acc': 0.708}\n",
      "Processing ['data-robustml-mv', 'Airbnb', 'missing_values', 'split_3562']\n",
      "--------------\n",
      "dataset: {'data_dir': 'Airbnb', 'error_types': ['duplicates', 'outliers', 'missing_values'], 'label': 'Rating', 'categorical_variables': ['Rating'], 'ml_task': 'classification', 'key_columns': ['latitude', 'longitude']}\n",
      "columns to encode: ['LocationName']\n",
      "(12, [12])\n"
     ]
    },
    {
     "name": "stderr",
     "output_type": "stream",
     "text": [
      "[Parallel(n_jobs=1)]: Using backend SequentialBackend with 1 concurrent workers.\n",
      "[Parallel(n_jobs=1)]: Done   1 out of   1 | elapsed:    0.2s finished\n"
     ]
    },
    {
     "name": "stdout",
     "output_type": "stream",
     "text": [
      "LR Train Accuracy: 0.702 \n",
      "LR Test  Accuracy: 0.6886666666666666\n",
      "Using solver 'cvxopt'\n",
      " for 922 free variables\n",
      "  in 924 posynomial inequalities.\n",
      "Solving took 10.5 seconds.\n",
      "NaCL Train Accuracy: 0.702 \n",
      "NaCL Test  Accuracy: 0.6886666666666666\n",
      "NB Train Accuracy: 0.6527619047619048 \n",
      "NB Test  Accuracy: 0.6451111111111111\n",
      "nacl test acc with missing: 0.6891111111111111\n",
      "nacl test f1 with missing: 0.6246959895477792\n",
      "{'best_params': {'C': 0.0057110639597241185}, 'nacl_missing_test_f1': 0.6246959895477792, 'nacl_missing_test_acc': 0.6891111111111111, 'nacl_test_f1': 0.7518272894507657, 'nacl_test_acc': 0.6886666666666666, 'nacl_train_acc': 0.702, 'nb_test_f1': 0.6555352646284407, 'nb_test_acc': 0.6451111111111111, 'nb_train_acc': 0.6527619047619048, 'lr_test_f1': 0.7518272894507657, 'lr_test_acc': 0.6886666666666666, 'lr_train_acc': 0.702}\n",
      "Processing ['data-robustml-mv', 'Airbnb', 'missing_values', 'split_5056']\n",
      "--------------\n",
      "dataset: {'data_dir': 'Airbnb', 'error_types': ['duplicates', 'outliers', 'missing_values'], 'label': 'Rating', 'categorical_variables': ['Rating'], 'ml_task': 'classification', 'key_columns': ['latitude', 'longitude']}\n",
      "columns to encode: ['LocationName']\n",
      "(12, [12])\n"
     ]
    },
    {
     "name": "stderr",
     "output_type": "stream",
     "text": [
      "[Parallel(n_jobs=1)]: Using backend SequentialBackend with 1 concurrent workers.\n",
      "[Parallel(n_jobs=1)]: Done   1 out of   1 | elapsed:    0.4s finished\n"
     ]
    },
    {
     "name": "stdout",
     "output_type": "stream",
     "text": [
      "LR Train Accuracy: 0.6961904761904761 \n",
      "LR Test  Accuracy: 0.7015555555555556\n",
      "Using solver 'cvxopt'\n",
      " for 978 free variables\n",
      "  in 980 posynomial inequalities.\n",
      "Solving took 13.7 seconds.\n",
      "NaCL Train Accuracy: 0.6961904761904761 \n",
      "NaCL Test  Accuracy: 0.7015555555555556\n",
      "NB Train Accuracy: 0.6502857142857142 \n",
      "NB Test  Accuracy: 0.6455555555555555\n",
      "nacl test acc with missing: 0.7022222222222222\n",
      "nacl test f1 with missing: 0.6436261405202125\n",
      "{'best_params': {'C': 0.023770374318851737}, 'nacl_missing_test_f1': 0.6436261405202125, 'nacl_missing_test_acc': 0.7022222222222222, 'nacl_test_f1': 0.7580697213193744, 'nacl_test_acc': 0.7015555555555556, 'nacl_train_acc': 0.6961904761904761, 'nb_test_f1': 0.6542312446831033, 'nb_test_acc': 0.6455555555555555, 'nb_train_acc': 0.6502857142857142, 'lr_test_f1': 0.7580697213193744, 'lr_test_acc': 0.7015555555555556, 'lr_train_acc': 0.6961904761904761}\n",
      "Processing ['data-robustml-mv', 'Airbnb', 'missing_values', 'split_3462']\n",
      "--------------\n",
      "dataset: {'data_dir': 'Airbnb', 'error_types': ['duplicates', 'outliers', 'missing_values'], 'label': 'Rating', 'categorical_variables': ['Rating'], 'ml_task': 'classification', 'key_columns': ['latitude', 'longitude']}\n",
      "columns to encode: ['LocationName']\n",
      "(12, [12])\n"
     ]
    },
    {
     "name": "stderr",
     "output_type": "stream",
     "text": [
      "[Parallel(n_jobs=1)]: Using backend SequentialBackend with 1 concurrent workers.\n",
      "[Parallel(n_jobs=1)]: Done   1 out of   1 | elapsed:    0.2s finished\n"
     ]
    },
    {
     "name": "stdout",
     "output_type": "stream",
     "text": [
      "LR Train Accuracy: 0.694952380952381 \n",
      "LR Test  Accuracy: 0.6942222222222222\n",
      "Using solver 'cvxopt'\n",
      " for 962 free variables\n",
      "  in 964 posynomial inequalities.\n",
      "Solving took 18.9 seconds.\n",
      "NaCL Train Accuracy: 0.694952380952381 \n",
      "NaCL Test  Accuracy: 0.6942222222222222\n",
      "NB Train Accuracy: 0.6419047619047619 \n",
      "NB Test  Accuracy: 0.65\n",
      "nacl test acc with missing: 0.6937777777777778\n",
      "nacl test f1 with missing: 0.624758131015829\n",
      "{'best_params': {'C': 0.0057110639597241185}, 'nacl_missing_test_f1': 0.624758131015829, 'nacl_missing_test_acc': 0.6937777777777778, 'nacl_test_f1': 0.7612603454372079, 'nacl_test_acc': 0.6942222222222222, 'nacl_train_acc': 0.694952380952381, 'nb_test_f1': 0.6598985656960459, 'nb_test_acc': 0.65, 'nb_train_acc': 0.6419047619047619, 'lr_test_f1': 0.7612603454372079, 'lr_test_acc': 0.6942222222222222, 'lr_train_acc': 0.694952380952381}\n",
      "Processing ['data-robustml-mv', 'Airbnb', 'missing_values', 'split_7813']\n",
      "--------------\n",
      "dataset: {'data_dir': 'Airbnb', 'error_types': ['duplicates', 'outliers', 'missing_values'], 'label': 'Rating', 'categorical_variables': ['Rating'], 'ml_task': 'classification', 'key_columns': ['latitude', 'longitude']}\n",
      "columns to encode: ['LocationName']\n",
      "(12, [12])\n"
     ]
    },
    {
     "name": "stderr",
     "output_type": "stream",
     "text": [
      "[Parallel(n_jobs=1)]: Using backend SequentialBackend with 1 concurrent workers.\n",
      "[Parallel(n_jobs=1)]: Done   1 out of   1 | elapsed:    0.3s finished\n"
     ]
    },
    {
     "name": "stdout",
     "output_type": "stream",
     "text": [
      "LR Train Accuracy: 0.6933333333333334 \n",
      "LR Test  Accuracy: 0.6911111111111111\n",
      "Using solver 'cvxopt'\n",
      " for 974 free variables\n",
      "  in 976 posynomial inequalities.\n",
      "Solving took 12.6 seconds.\n",
      "NaCL Train Accuracy: 0.6933333333333334 \n",
      "NaCL Test  Accuracy: 0.6911111111111111\n",
      "NB Train Accuracy: 0.6473333333333333 \n",
      "NB Test  Accuracy: 0.6473333333333333\n",
      "nacl test acc with missing: 0.6924444444444444\n",
      "nacl test f1 with missing: 0.6183043554138569\n",
      "{'best_params': {'C': 0.0029327085198583313}, 'nacl_missing_test_f1': 0.6183043554138569, 'nacl_missing_test_acc': 0.6924444444444444, 'nacl_test_f1': 0.7643314969861081, 'nacl_test_acc': 0.6911111111111111, 'nacl_train_acc': 0.6933333333333334, 'nb_test_f1': 0.6556260353015896, 'nb_test_acc': 0.6473333333333333, 'nb_train_acc': 0.6473333333333333, 'lr_test_f1': 0.7643314969861081, 'lr_test_acc': 0.6911111111111111, 'lr_train_acc': 0.6933333333333334}\n",
      "Processing ['data-robustml-mv', 'Airbnb', 'missing_values', 'split_144']\n",
      "--------------\n",
      "dataset: {'data_dir': 'Airbnb', 'error_types': ['duplicates', 'outliers', 'missing_values'], 'label': 'Rating', 'categorical_variables': ['Rating'], 'ml_task': 'classification', 'key_columns': ['latitude', 'longitude']}\n",
      "columns to encode: ['LocationName']\n",
      "(12, [12])\n"
     ]
    },
    {
     "name": "stderr",
     "output_type": "stream",
     "text": [
      "[Parallel(n_jobs=1)]: Using backend SequentialBackend with 1 concurrent workers.\n",
      "[Parallel(n_jobs=1)]: Done   1 out of   1 | elapsed:    0.1s finished\n"
     ]
    },
    {
     "name": "stdout",
     "output_type": "stream",
     "text": [
      "LR Train Accuracy: 0.6979047619047619 \n",
      "LR Test  Accuracy: 0.6902222222222222\n",
      "Using solver 'cvxopt'\n",
      " for 966 free variables\n",
      "  in 968 posynomial inequalities.\n",
      "Solving took 17.4 seconds.\n",
      "NaCL Train Accuracy: 0.6979047619047619 \n",
      "NaCL Test  Accuracy: 0.6902222222222222\n",
      "NB Train Accuracy: 0.6510476190476191 \n",
      "NB Test  Accuracy: 0.6417777777777778\n",
      "nacl test acc with missing: 0.6906666666666667\n",
      "nacl test f1 with missing: 0.6340053931446706\n",
      "{'best_params': {'C': 0.004321886239791225}, 'nacl_missing_test_f1': 0.6340053931446706, 'nacl_missing_test_acc': 0.6906666666666667, 'nacl_test_f1': 0.7451626668801821, 'nacl_test_acc': 0.6902222222222222, 'nacl_train_acc': 0.6979047619047619, 'nb_test_f1': 0.6487309494288465, 'nb_test_acc': 0.6417777777777778, 'nb_train_acc': 0.6510476190476191, 'lr_test_f1': 0.7451626668801821, 'lr_test_acc': 0.6902222222222222, 'lr_train_acc': 0.6979047619047619}\n",
      "Processing ['data-robustml-mv', 'Airbnb', 'missing_values', 'split_2516']\n",
      "--------------\n",
      "dataset: {'data_dir': 'Airbnb', 'error_types': ['duplicates', 'outliers', 'missing_values'], 'label': 'Rating', 'categorical_variables': ['Rating'], 'ml_task': 'classification', 'key_columns': ['latitude', 'longitude']}\n",
      "columns to encode: ['LocationName']\n",
      "(12, [12])\n"
     ]
    },
    {
     "name": "stderr",
     "output_type": "stream",
     "text": [
      "[Parallel(n_jobs=1)]: Using backend SequentialBackend with 1 concurrent workers.\n",
      "[Parallel(n_jobs=1)]: Done   1 out of   1 | elapsed:    0.4s finished\n"
     ]
    },
    {
     "name": "stdout",
     "output_type": "stream",
     "text": [
      "LR Train Accuracy: 0.6979047619047619 \n",
      "LR Test  Accuracy: 0.6891111111111111\n",
      "Using solver 'cvxopt'\n",
      " for 930 free variables\n",
      "  in 932 posynomial inequalities.\n",
      "Solving took 13.7 seconds.\n",
      "NaCL Train Accuracy: 0.6979047619047619 \n",
      "NaCL Test  Accuracy: 0.6891111111111111\n",
      "NB Train Accuracy: 0.6523809523809524 \n",
      "NB Test  Accuracy: 0.6435555555555555\n",
      "nacl test acc with missing: 0.69\n",
      "nacl test f1 with missing: 0.6284298186450136\n",
      "{'best_params': {'C': 0.007100241679657011}, 'nacl_missing_test_f1': 0.6284298186450136, 'nacl_missing_test_acc': 0.69, 'nacl_test_f1': 0.7489106545206244, 'nacl_test_acc': 0.6891111111111111, 'nacl_train_acc': 0.6979047619047619, 'nb_test_f1': 0.6565776700342324, 'nb_test_acc': 0.6435555555555555, 'nb_train_acc': 0.6523809523809524, 'lr_test_f1': 0.7489106545206244, 'lr_test_acc': 0.6891111111111111, 'lr_train_acc': 0.6979047619047619}\n",
      "Processing ['data-robustml-mv', 'Airbnb', 'missing_values', 'split_905']\n",
      "--------------\n",
      "dataset: {'data_dir': 'Airbnb', 'error_types': ['duplicates', 'outliers', 'missing_values'], 'label': 'Rating', 'categorical_variables': ['Rating'], 'ml_task': 'classification', 'key_columns': ['latitude', 'longitude']}\n",
      "columns to encode: ['LocationName']\n",
      "(12, [12])\n"
     ]
    },
    {
     "name": "stderr",
     "output_type": "stream",
     "text": [
      "[Parallel(n_jobs=1)]: Using backend SequentialBackend with 1 concurrent workers.\n",
      "[Parallel(n_jobs=1)]: Done   1 out of   1 | elapsed:    1.9s finished\n"
     ]
    },
    {
     "name": "stdout",
     "output_type": "stream",
     "text": [
      "LR Train Accuracy: 0.6961904761904761 \n",
      "LR Test  Accuracy: 0.6951111111111111\n",
      "Using solver 'cvxopt'\n",
      " for 958 free variables\n",
      "  in 960 posynomial inequalities.\n",
      "Solving took 16.1 seconds.\n",
      "NaCL Train Accuracy: 0.6961904761904761 \n",
      "NaCL Test  Accuracy: 0.6951111111111111\n",
      "NB Train Accuracy: 0.65 \n",
      "NB Test  Accuracy: 0.6495555555555556\n",
      "nacl test acc with missing: 0.6966666666666667\n",
      "nacl test f1 with missing: 0.6351633713384431\n",
      "{'best_params': {'C': 1.349495306594667}, 'nacl_missing_test_f1': 0.6351633713384431, 'nacl_missing_test_acc': 0.6966666666666667, 'nacl_test_f1': 0.7540196337071416, 'nacl_test_acc': 0.6951111111111111, 'nacl_train_acc': 0.6961904761904761, 'nb_test_f1': 0.6625196843045242, 'nb_test_acc': 0.6495555555555556, 'nb_train_acc': 0.65, 'lr_test_f1': 0.7540196337071416, 'lr_test_acc': 0.6951111111111111, 'lr_train_acc': 0.6961904761904761}\n",
      "CPU times: user 26min 50s, sys: 39min 46s, total: 1h 6min 37s\n",
      "Wall time: 6min 27s\n"
     ]
    }
   ],
   "source": [
    "%%time \n",
    "\n",
    "for job in jobs:\n",
    "    \n",
    "    \n",
    "    print(\"Processing\", job)\n",
    "    print('--------------')\n",
    "    dataset = job[1]\n",
    "\n",
    "    dirty_X_train = pd.read_csv(os.path.join(*job, \"dirty_X_train.csv\"))\n",
    "    dirty_y_train = pd.read_csv(os.path.join(*job, \"dirty_y_train.csv\"))\n",
    "    dirty_X_test = pd.read_csv(os.path.join(*job, \"dirty_X_test.csv\"))\n",
    "    dirty_y_test = pd.read_csv(os.path.join(*job, \"dirty_y_test.csv\"))\n",
    "    \n",
    "    dirty_X_train = dirty_X_train. rename(columns={'cost_living_index (US avg. = 100)':'cli'})\n",
    "    dirty_X_test = dirty_X_test. rename(columns={'cost_living_index (US avg. = 100)':'cli'})\n",
    "    dirty_X_train = dirty_X_train.fillna(0)\n",
    "    dirty_X_test = dirty_X_test.fillna(0)\n",
    "    X_train, y_train, X_test, y_test, mappings, mappings_dict = preprocess_data(dataset, \n",
    "                                                             dirty_X_train, dirty_y_train, \n",
    "                                                             [dirty_X_test], [dirty_y_test])\n",
    "    X_test = X_test[0]\n",
    "    y_test = y_test[0]\n",
    "    dirty_X_test = pd.read_csv(os.path.join(*job, \"dirty_X_test.csv\"))\n",
    "    null_data = dirty_X_test[dirty_X_test.isnull().any(axis=1)]\n",
    "    \n",
    "    null_data = null_data. rename(columns={'cost_living_index (US avg. = 100)':'cli'})\n",
    "   \n",
    "    \n",
    "    #print('here1')\n",
    "    #print(mappings_dict)\n",
    "    print(mappings_dict['cli']) # not found ...  \n",
    "    missing = [[]] * dirty_X_test.shape[0]\n",
    "    for i, row in null_data.iterrows():\n",
    "        \n",
    "        # append the original index of the missing feature\n",
    "        cols = null_data.columns.get_values()[np.where(pd.isnull(row))]\n",
    "\n",
    "        idx = [mappings_dict[col][0] for col in cols]\n",
    "        missing[i] = idx\n",
    "    missing = np.array(missing)\n",
    "\n",
    "    output = defaultdict(lambda: defaultdict(list))\n",
    "\n",
    "    output['train']['nacl'] = (X_train, y_train)\n",
    "    output['test']['nacl'] = (X_test, y_test)\n",
    "    output['missing_test'] = missing\n",
    "    output['mappings1hot_dict'] = mappings_dict\n",
    "    output['mappings1hot_list'] = mappings\n",
    "    pickle.dump(dict(output), open(os.path.join(*job,\"data.p\"), 'wb'))\n",
    "\n",
    "    #print('here2')\n",
    "    max_acc = 0\n",
    "\n",
    "    for method in ['delete', 'impute_holoclean', 'impute_mean_mode', 'impute_mean_dummy', \n",
    "                   'impute_median_mode', 'impute_median_dummy', 'impute_mode_mode', 'impute_mode_dummy']:\n",
    "        #print('Titanic/v{}/missing_values/{}/logistic_regression/3659'.\\\n",
    "        #           format(split_seed, method))\n",
    "        split_seed = job[-1].split(\"_\")[1]\n",
    "        a =  results['{}/v{}/missing_values/{}/logistic_regression/3659'.\\\n",
    "                   format(dataset, split_seed, method)].copy()\n",
    "        #print(a)\n",
    "        del a['best_params']\n",
    "        del a['train_acc']\n",
    "        del a['val_acc']\n",
    "        max_key = max(a.items(), key=operator.itemgetter(1))[0]\n",
    "\n",
    "        if a[max_key] > max_acc:\n",
    "            best_params_lr = results['{}/v{}/missing_values/{}/logistic_regression/3659'.\\\n",
    "                   format(dataset, split_seed, method)]['best_params']\n",
    "            max_acc = a[max_key]\n",
    "\n",
    "    clf = LogisticRegression(solver='lbfgs', \n",
    "    verbose=True, \n",
    "    C = best_params_lr['C'],\n",
    "    max_iter=2000, n_jobs=1).fit(X_train, y_train)\n",
    "    lr_pred = clf.predict(X_test)\n",
    "    lr_train_acc = accuracy(clf.predict(X_train), y_train)\n",
    "    lr_test_acc = accuracy(lr_pred, y_test)\n",
    "    lr_test_f1 = f1(lr_pred, y_test)\n",
    "\n",
    "    print(\"LR Train Accuracy: {} \\nLR Test  Accuracy: {}\".format(lr_train_acc, lr_test_acc))\n",
    "\n",
    "    W = np.hstack((clf.intercept_[:,None], clf.coef_))[0]\n",
    "    nacl = LR2NB_GP.LR2NB(W)\n",
    "    nacl.setObj(X_train, y_train)\n",
    "\n",
    "    # Using Mosek Solver\n",
    "    nacl.solve(verbose=1)\n",
    "\n",
    "    # Sanity Check to compare NaCL results with Logistic Regression\n",
    "    assert(1.0 == np.average( nacl.classify(X_test)  == clf.predict(X_test )))\n",
    "    assert(1.0 == np.average( nacl.classify(X_train) == clf.predict(X_train)))\n",
    "    nacl_pred = nacl.classify(X_test)\n",
    "    nacl_train_acc = accuracy(nacl.classify(X_train), y_train)\n",
    "    nacl_test_acc = accuracy(nacl_pred, y_test)\n",
    "    #print(nacl_pred)\n",
    "    #print(y_test)\n",
    "    nacl_test_f1 = f1(nacl_pred[0], y_test)\n",
    "\n",
    "    print(\"NaCL Train Accuracy: {} \\nNaCL Test  Accuracy: {}\".format(nacl_train_acc, nacl_test_acc))\n",
    "\n",
    "    NB = BernoulliNB().fit(X_train, y_train)\n",
    "    NB_pred = NB.predict(X_test)\n",
    "    nb_train_acc = accuracy(NB.predict(X_train), y_train)\n",
    "    nb_test_acc = accuracy(NB_pred, y_test)\n",
    "    nb_test_f1 = f1(NB_pred, y_test)\n",
    "\n",
    "    print(\"NB Train Accuracy: {} \\nNB Test  Accuracy: {}\".format(nb_train_acc, nb_test_acc))\n",
    "\n",
    "    # Make an example observations with some missing features\n",
    "\n",
    "    # setting the dimensions to be zero\n",
    "    missing_mask = np.zeros(X_test.shape) \n",
    "\n",
    "\n",
    "    miss = missing\n",
    "    for i in range(len(missing_mask)):\n",
    "        for j in range(len(miss[i])):\n",
    "            missing_mask[i][mappings[miss[i][j]]] = 1\n",
    "\n",
    "    a = nacl.predict_proba(X_test, missing = missing_mask)[:,1]\n",
    "    a = np.where(a > 0.5, 1, 0)\n",
    "\n",
    "    test_acc = accuracy(y_test, a)\n",
    "    test_f1 = f1(y_test, a)\n",
    "    print('nacl test acc with missing:', test_acc)\n",
    "    print('nacl test f1 with missing:', test_f1) # true, pred\n",
    "\n",
    "\n",
    "    result_dict = {}\n",
    "\n",
    "    result_dict[\"best_params\"] = best_params_lr\n",
    "\n",
    "\n",
    "    result_dict[\"{}_test_f1\".format('nacl_missing')] = test_f1\n",
    "    result_dict[\"{}_test_acc\".format('nacl_missing')] = test_acc\n",
    "\n",
    "    result_dict[\"{}_test_f1\".format('nacl')] = nacl_test_f1\n",
    "    result_dict[\"{}_test_acc\".format('nacl')] = nacl_test_acc\n",
    "    result_dict[\"{}_train_acc\".format('nacl')] = nacl_train_acc\n",
    "\n",
    "    result_dict[\"{}_test_f1\".format('nb')] = nb_test_f1\n",
    "    result_dict[\"{}_test_acc\".format('nb')] = nb_test_acc\n",
    "    result_dict[\"{}_train_acc\".format('nb')] = nb_train_acc\n",
    "\n",
    "    result_dict[\"{}_test_f1\".format('lr')] = lr_test_f1\n",
    "    result_dict[\"{}_test_acc\".format('lr')] = lr_test_acc\n",
    "    result_dict[\"{}_train_acc\".format('lr')] = lr_train_acc\n",
    "\n",
    "    print(result_dict)\n",
    "    save_result_mv(job, seed, result_dict, model_name, save_dir)\n",
    "\n"
   ]
  },
  {
   "cell_type": "code",
   "execution_count": null,
   "metadata": {
    "collapsed": true
   },
   "outputs": [],
   "source": []
  }
 ],
 "metadata": {
  "kernelspec": {
   "display_name": "nacl36",
   "language": "python",
   "name": "nacl36"
  },
  "language_info": {
   "codemirror_mode": {
    "name": "ipython",
    "version": 3
   },
   "file_extension": ".py",
   "mimetype": "text/x-python",
   "name": "python",
   "nbconvert_exporter": "python",
   "pygments_lexer": "ipython3",
   "version": "3.6.11"
  }
 },
 "nbformat": 4,
 "nbformat_minor": 2
}
