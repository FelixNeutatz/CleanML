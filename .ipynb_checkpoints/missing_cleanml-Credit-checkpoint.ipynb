{
 "cells": [
  {
   "cell_type": "markdown",
   "metadata": {},
   "source": [
    "This version specifies a random portion of missingness in the features. It is identical with missing_cleanml-2-percentage. These two notebooks are used to run datasets in parallel. Airbnb in particular takes a long time to run."
   ]
  },
  {
   "cell_type": "code",
   "execution_count": 1,
   "metadata": {
    "scrolled": true
   },
   "outputs": [
    {
     "name": "stderr",
     "output_type": "stream",
     "text": [
      "/mnt/ds3lab-scratch/raox/gatech_data_cleaning/ICDE2021-revision/nacl36/lib/python3.6/importlib/_bootstrap.py:219: RuntimeWarning: numpy.dtype size changed, may indicate binary incompatibility. Expected 96, got 88\n",
      "  return f(*args, **kwds)\n",
      "/mnt/ds3lab-scratch/raox/gatech_data_cleaning/ICDE2021-revision/nacl36/lib/python3.6/importlib/_bootstrap.py:219: RuntimeWarning: numpy.dtype size changed, may indicate binary incompatibility. Expected 96, got 88\n",
      "  return f(*args, **kwds)\n"
     ]
    }
   ],
   "source": [
    "import six\n",
    "import sys\n",
    "sys.modules['sklearn.externals.six'] = six\n",
    "import mlrose\n",
    "import utils\n",
    "import pickle\n",
    "from collections import defaultdict\n",
    "import numpy as np\n",
    "from collections import OrderedDict\n",
    "from sklearn.metrics import f1_score \n",
    "import pandas as pd\n",
    "from sklearn.metrics import f1_score "
   ]
  },
  {
   "cell_type": "code",
   "execution_count": 2,
   "metadata": {
    "collapsed": true
   },
   "outputs": [],
   "source": [
    "import sys\n",
    "sys.setrecursionlimit(10**6)"
   ]
  },
  {
   "cell_type": "code",
   "execution_count": 3,
   "metadata": {},
   "outputs": [
    {
     "name": "stderr",
     "output_type": "stream",
     "text": [
      "Using TensorFlow backend.\n"
     ]
    }
   ],
   "source": [
    "import math\n",
    "import matplotlib.pyplot as plt \n",
    "from sklearn.datasets import load_digits\n",
    "import numpy as np\n",
    "from sklearn.linear_model import LogisticRegression\n",
    "from sklearn.model_selection import train_test_split\n",
    "import pylab\n",
    "import sys\n",
    "from sklearn.naive_bayes import BernoulliNB, MultinomialNB\n",
    "import keras\n",
    "import time\n",
    "import pandas as pd\n",
    "import json\n",
    "import operator"
   ]
  },
  {
   "cell_type": "code",
   "execution_count": 4,
   "metadata": {
    "collapsed": true
   },
   "outputs": [],
   "source": [
    "sys.path.append(\"../NaCL/code/\")\n",
    "import utils\n",
    "import LR2NB_GP\n",
    "sys.path.append(\"../NaCL/notebooks/\")\n",
    "from dataload import *"
   ]
  },
  {
   "cell_type": "code",
   "execution_count": 5,
   "metadata": {},
   "outputs": [
    {
     "name": "stderr",
     "output_type": "stream",
     "text": [
      "/mnt/ds3lab-scratch/raox/gatech_data_cleaning/ICDE2021-revision/nacl36/lib/python3.6/site-packages/sklearn/utils/deprecation.py:143: FutureWarning: The sklearn.neighbors.base module is  deprecated in version 0.22 and will be removed in version 0.24. The corresponding classes / functions should instead be imported from sklearn.neighbors. Anything that cannot be imported from sklearn.neighbors is now part of the private API.\n",
      "  warnings.warn(message, FutureWarning)\n"
     ]
    }
   ],
   "source": [
    "from preprocess_mv import preprocess_data"
   ]
  },
  {
   "cell_type": "code",
   "execution_count": 6,
   "metadata": {
    "collapsed": true
   },
   "outputs": [],
   "source": [
    "%load_ext autoreload\n",
    "%autoreload 2"
   ]
  },
  {
   "cell_type": "markdown",
   "metadata": {},
   "source": [
    "# Loading Data"
   ]
  },
  {
   "cell_type": "code",
   "execution_count": 7,
   "metadata": {
    "collapsed": true,
    "scrolled": true
   },
   "outputs": [],
   "source": [
    "seed = 3659"
   ]
  },
  {
   "cell_type": "code",
   "execution_count": 8,
   "metadata": {
    "collapsed": true
   },
   "outputs": [],
   "source": [
    "data_dir = \"data-robustml-mv\""
   ]
  },
  {
   "cell_type": "code",
   "execution_count": 9,
   "metadata": {
    "collapsed": true
   },
   "outputs": [],
   "source": [
    "save_dir = \"result-robustml\"\n",
    "model_name ='nacl'"
   ]
  },
  {
   "cell_type": "code",
   "execution_count": 10,
   "metadata": {
    "collapsed": true
   },
   "outputs": [],
   "source": [
    "accuracy = lambda x,y: np.mean(x == y)\n",
    "f1 = lambda x,y: f1_score(x,y.flatten(), average = \"weighted\")\n",
    "\n"
   ]
  },
  {
   "cell_type": "code",
   "execution_count": 11,
   "metadata": {
    "collapsed": true
   },
   "outputs": [],
   "source": [
    "dataset = 'Credit'"
   ]
  },
  {
   "cell_type": "code",
   "execution_count": 12,
   "metadata": {
    "scrolled": true
   },
   "outputs": [
    {
     "name": "stdout",
     "output_type": "stream",
     "text": [
      "Number of jobs: 20\n"
     ]
    }
   ],
   "source": [
    "jobs = get_jobs_mv(data_dir, dataset = [dataset])\n",
    "print(\"Number of jobs:\", len(jobs))"
   ]
  },
  {
   "cell_type": "code",
   "execution_count": 13,
   "metadata": {},
   "outputs": [
    {
     "data": {
      "text/plain": [
       "[['data-robustml-mv', 'Credit', 'missing_values', 'split_3462'],\n",
       " ['data-robustml-mv', 'Credit', 'missing_values', 'split_3562'],\n",
       " ['data-robustml-mv', 'Credit', 'missing_values', 'split_905'],\n",
       " ['data-robustml-mv', 'Credit', 'missing_values', 'split_5056'],\n",
       " ['data-robustml-mv', 'Credit', 'missing_values', 'split_5374'],\n",
       " ['data-robustml-mv', 'Credit', 'missing_values', 'split_144'],\n",
       " ['data-robustml-mv', 'Credit', 'missing_values', 'split_4225'],\n",
       " ['data-robustml-mv', 'Credit', 'missing_values', 'split_7813'],\n",
       " ['data-robustml-mv', 'Credit', 'missing_values', 'split_2516'],\n",
       " ['data-robustml-mv', 'Credit', 'missing_values', 'split_2895'],\n",
       " ['data-robustml-mv', 'Credit', 'missing_values', 'split_4764'],\n",
       " ['data-robustml-mv', 'Credit', 'missing_values', 'split_7751'],\n",
       " ['data-robustml-mv', 'Credit', 'missing_values', 'split_2962'],\n",
       " ['data-robustml-mv', 'Credit', 'missing_values', 'split_8093'],\n",
       " ['data-robustml-mv', 'Credit', 'missing_values', 'split_5192'],\n",
       " ['data-robustml-mv', 'Credit', 'missing_values', 'split_5396'],\n",
       " ['data-robustml-mv', 'Credit', 'missing_values', 'split_9394'],\n",
       " ['data-robustml-mv', 'Credit', 'missing_values', 'split_6542'],\n",
       " ['data-robustml-mv', 'Credit', 'missing_values', 'split_8444'],\n",
       " ['data-robustml-mv', 'Credit', 'missing_values', 'split_235']]"
      ]
     },
     "execution_count": 13,
     "metadata": {},
     "output_type": "execute_result"
    }
   ],
   "source": [
    "jobs"
   ]
  },
  {
   "cell_type": "code",
   "execution_count": 14,
   "metadata": {
    "collapsed": true
   },
   "outputs": [],
   "source": [
    "accuracy = lambda x,y: np.mean(x == y)\n",
    "f1 = lambda x,y: f1_score(x,y.flatten(), average = \"weighted\")\n",
    "\n"
   ]
  },
  {
   "cell_type": "code",
   "execution_count": 15,
   "metadata": {
    "collapsed": true
   },
   "outputs": [],
   "source": [
    "with open('/mnt/ds3lab-scratch/raox/gatech_data_cleaning/ICDE2021-revision/CleanML/result/{}_result.json'.format(dataset)) as json_file:\n",
    "    results = json.load(json_file)"
   ]
  },
  {
   "cell_type": "code",
   "execution_count": null,
   "metadata": {
    "collapsed": true
   },
   "outputs": [],
   "source": []
  },
  {
   "cell_type": "code",
   "execution_count": null,
   "metadata": {
    "collapsed": true
   },
   "outputs": [],
   "source": []
  },
  {
   "cell_type": "code",
   "execution_count": null,
   "metadata": {
    "collapsed": true
   },
   "outputs": [],
   "source": []
  },
  {
   "cell_type": "code",
   "execution_count": 16,
   "metadata": {},
   "outputs": [
    {
     "name": "stdout",
     "output_type": "stream",
     "text": [
      "Processing ['data-robustml-mv', 'Credit', 'missing_values', 'split_3462']\n",
      "--------------\n",
      "dataset: {'data_dir': 'Credit', 'error_types': ['outliers', 'missing_values'], 'label': 'SeriousDlqin2yrs', 'categorical_variables': ['SeriousDlqin2yrs'], 'ml_task': 'classification', 'class_imbalance': True}\n",
      "columns to encode: []\n"
     ]
    },
    {
     "name": "stderr",
     "output_type": "stream",
     "text": [
      "/mnt/ds3lab-scratch/raox/gatech_data_cleaning/ICDE2021-revision/nacl36/lib/python3.6/site-packages/sklearn/utils/deprecation.py:86: FutureWarning: Function safe_indexing is deprecated; safe_indexing is deprecated in version 0.22 and will be removed in version 0.24.\n",
      "  warnings.warn(msg, category=FutureWarning)\n",
      "[Parallel(n_jobs=-1)]: Using backend LokyBackend with 16 concurrent workers.\n",
      "[Parallel(n_jobs=-1)]: Done   1 out of   1 | elapsed:    4.4s finished\n"
     ]
    },
    {
     "name": "stdout",
     "output_type": "stream",
     "text": [
      "LR Train Accuracy: 0.7229254571026723 \n",
      "LR Test  Accuracy: 0.742\n",
      "Using solver 'cvxopt'\n",
      " for 42 free variables\n",
      "  in 44 posynomial inequalities.\n",
      "Solving took 0.112 seconds.\n",
      "NaCL Train Accuracy: 0.7229254571026723 \n",
      "NaCL Test  Accuracy: 0.742\n",
      "NB Train Accuracy: 0.7630098452883263 \n",
      "NB Test  Accuracy: 0.7964444444444444\n",
      "nacl test acc with missing: 0.7473333333333333\n",
      "nacl test f1 with missing: 0.8074443904158991\n",
      "{'best_params': {'C': 10594.381544832824}, 'nacl_missing_test_f1': 0.8074443904158991, 'nacl_missing_test_acc': 0.7473333333333333, 'nacl_test_f1': 0.6803515993516512, 'nacl_test_acc': 0.742, 'nacl_train_acc': 0.7229254571026723, 'nb_test_f1': 0.7516192945978029, 'nb_test_acc': 0.7964444444444444, 'nb_train_acc': 0.7630098452883263, 'lr_test_f1': 0.6803515993516512, 'lr_test_acc': 0.742, 'lr_train_acc': 0.7229254571026723}\n",
      "Processing ['data-robustml-mv', 'Credit', 'missing_values', 'split_3562']\n",
      "--------------\n",
      "dataset: {'data_dir': 'Credit', 'error_types': ['outliers', 'missing_values'], 'label': 'SeriousDlqin2yrs', 'categorical_variables': ['SeriousDlqin2yrs'], 'ml_task': 'classification', 'class_imbalance': True}\n"
     ]
    },
    {
     "name": "stderr",
     "output_type": "stream",
     "text": [
      "/mnt/ds3lab-scratch/raox/gatech_data_cleaning/ICDE2021-revision/nacl36/lib/python3.6/site-packages/sklearn/utils/deprecation.py:86: FutureWarning: Function safe_indexing is deprecated; safe_indexing is deprecated in version 0.22 and will be removed in version 0.24.\n",
      "  warnings.warn(msg, category=FutureWarning)\n"
     ]
    },
    {
     "name": "stdout",
     "output_type": "stream",
     "text": [
      "columns to encode: []\n"
     ]
    },
    {
     "name": "stderr",
     "output_type": "stream",
     "text": [
      "[Parallel(n_jobs=-1)]: Using backend LokyBackend with 16 concurrent workers.\n",
      "[Parallel(n_jobs=-1)]: Done   1 out of   1 | elapsed:    1.1s finished\n"
     ]
    },
    {
     "name": "stdout",
     "output_type": "stream",
     "text": [
      "LR Train Accuracy: 0.6886920980926431 \n",
      "LR Test  Accuracy: 0.6877777777777778\n",
      "Using solver 'cvxopt'\n",
      " for 42 free variables\n",
      "  in 44 posynomial inequalities.\n",
      "Solving took 0.143 seconds.\n",
      "NaCL Train Accuracy: 0.6886920980926431 \n",
      "NaCL Test  Accuracy: 0.6877777777777778\n",
      "NB Train Accuracy: 0.6989100817438693 \n",
      "NB Test  Accuracy: 0.7815555555555556\n",
      "nacl test acc with missing: 0.6984444444444444\n",
      "nacl test f1 with missing: 0.7735560469250695\n",
      "{'best_params': {'C': 396.56394391206925}, 'nacl_missing_test_f1': 0.7735560469250695, 'nacl_missing_test_acc': 0.6984444444444444, 'nacl_test_f1': 0.6097013338540354, 'nacl_test_acc': 0.6877777777777778, 'nacl_train_acc': 0.6886920980926431, 'nb_test_f1': 0.7326498639921093, 'nb_test_acc': 0.7815555555555556, 'nb_train_acc': 0.6989100817438693, 'lr_test_f1': 0.6097013338540354, 'lr_test_acc': 0.6877777777777778, 'lr_train_acc': 0.6886920980926431}\n",
      "Processing ['data-robustml-mv', 'Credit', 'missing_values', 'split_905']\n",
      "--------------\n",
      "dataset: {'data_dir': 'Credit', 'error_types': ['outliers', 'missing_values'], 'label': 'SeriousDlqin2yrs', 'categorical_variables': ['SeriousDlqin2yrs'], 'ml_task': 'classification', 'class_imbalance': True}\n",
      "columns to encode: []\n"
     ]
    },
    {
     "name": "stderr",
     "output_type": "stream",
     "text": [
      "/mnt/ds3lab-scratch/raox/gatech_data_cleaning/ICDE2021-revision/nacl36/lib/python3.6/site-packages/sklearn/utils/deprecation.py:86: FutureWarning: Function safe_indexing is deprecated; safe_indexing is deprecated in version 0.22 and will be removed in version 0.24.\n",
      "  warnings.warn(msg, category=FutureWarning)\n",
      "[Parallel(n_jobs=-1)]: Using backend LokyBackend with 16 concurrent workers.\n",
      "[Parallel(n_jobs=-1)]: Done   1 out of   1 | elapsed:    2.8s finished\n"
     ]
    },
    {
     "name": "stdout",
     "output_type": "stream",
     "text": [
      "LR Train Accuracy: 0.7361702127659574 \n",
      "LR Test  Accuracy: 0.7353333333333333\n",
      "Using solver 'cvxopt'\n",
      " for 42 free variables\n",
      "  in 44 posynomial inequalities.\n",
      "Solving took 0.201 seconds.\n",
      "NaCL Train Accuracy: 0.7361702127659574 \n",
      "NaCL Test  Accuracy: 0.7353333333333333\n",
      "NB Train Accuracy: 0.6716312056737589 \n",
      "NB Test  Accuracy: 0.8306666666666667\n",
      "nacl test acc with missing: 0.7626666666666667\n",
      "nacl test f1 with missing: 0.8147977544833918\n",
      "{'best_params': {'C': 3850.7525759555356}, 'nacl_missing_test_f1': 0.8147977544833918, 'nacl_missing_test_acc': 0.7626666666666667, 'nacl_test_f1': 0.6743334032907137, 'nacl_test_acc': 0.7353333333333333, 'nacl_train_acc': 0.7361702127659574, 'nb_test_f1': 0.8032540666676347, 'nb_test_acc': 0.8306666666666667, 'nb_train_acc': 0.6716312056737589, 'lr_test_f1': 0.6743334032907137, 'lr_test_acc': 0.7353333333333333, 'lr_train_acc': 0.7361702127659574}\n",
      "Processing ['data-robustml-mv', 'Credit', 'missing_values', 'split_5056']\n",
      "--------------\n",
      "dataset: {'data_dir': 'Credit', 'error_types': ['outliers', 'missing_values'], 'label': 'SeriousDlqin2yrs', 'categorical_variables': ['SeriousDlqin2yrs'], 'ml_task': 'classification', 'class_imbalance': True}\n",
      "columns to encode: []\n"
     ]
    },
    {
     "name": "stderr",
     "output_type": "stream",
     "text": [
      "/mnt/ds3lab-scratch/raox/gatech_data_cleaning/ICDE2021-revision/nacl36/lib/python3.6/site-packages/sklearn/utils/deprecation.py:86: FutureWarning: Function safe_indexing is deprecated; safe_indexing is deprecated in version 0.22 and will be removed in version 0.24.\n",
      "  warnings.warn(msg, category=FutureWarning)\n",
      "[Parallel(n_jobs=-1)]: Using backend LokyBackend with 16 concurrent workers.\n",
      "[Parallel(n_jobs=-1)]: Done   1 out of   1 | elapsed:    1.2s finished\n"
     ]
    },
    {
     "name": "stdout",
     "output_type": "stream",
     "text": [
      "LR Train Accuracy: 0.6557496360989811 \n",
      "LR Test  Accuracy: 0.6806666666666666\n",
      "Using solver 'cvxopt'\n",
      " for 42 free variables\n",
      "  in 44 posynomial inequalities.\n",
      "Solving took 0.103 seconds.\n",
      "NaCL Train Accuracy: 0.6557496360989811 \n",
      "NaCL Test  Accuracy: 0.6806666666666666\n",
      "NB Train Accuracy: 0.7510917030567685 \n",
      "NB Test  Accuracy: 0.8555555555555555\n",
      "nacl test acc with missing: 0.6917777777777778\n",
      "nacl test f1 with missing: 0.7680458710394952\n",
      "{'best_params': {'C': 10594.381544832824}, 'nacl_missing_test_f1': 0.7680458710394952, 'nacl_missing_test_acc': 0.6917777777777778, 'nacl_test_f1': 0.6013698275526416, 'nacl_test_acc': 0.6806666666666666, 'nacl_train_acc': 0.6557496360989811, 'nb_test_f1': 0.8300402722102191, 'nb_test_acc': 0.8555555555555555, 'nb_train_acc': 0.7510917030567685, 'lr_test_f1': 0.6013698275526416, 'lr_test_acc': 0.6806666666666666, 'lr_train_acc': 0.6557496360989811}\n",
      "Processing ['data-robustml-mv', 'Credit', 'missing_values', 'split_5374']\n",
      "--------------\n",
      "dataset: {'data_dir': 'Credit', 'error_types': ['outliers', 'missing_values'], 'label': 'SeriousDlqin2yrs', 'categorical_variables': ['SeriousDlqin2yrs'], 'ml_task': 'classification', 'class_imbalance': True}\n",
      "columns to encode: []\n"
     ]
    },
    {
     "name": "stderr",
     "output_type": "stream",
     "text": [
      "/mnt/ds3lab-scratch/raox/gatech_data_cleaning/ICDE2021-revision/nacl36/lib/python3.6/site-packages/sklearn/utils/deprecation.py:86: FutureWarning: Function safe_indexing is deprecated; safe_indexing is deprecated in version 0.22 and will be removed in version 0.24.\n",
      "  warnings.warn(msg, category=FutureWarning)\n",
      "[Parallel(n_jobs=-1)]: Using backend LokyBackend with 16 concurrent workers.\n",
      "[Parallel(n_jobs=-1)]: Done   1 out of   1 | elapsed:    1.1s finished\n"
     ]
    },
    {
     "name": "stdout",
     "output_type": "stream",
     "text": [
      "LR Train Accuracy: 0.7583333333333333 \n",
      "LR Test  Accuracy: 0.7515555555555555\n",
      "Using solver 'cvxopt'\n",
      " for 42 free variables\n",
      "  in 44 posynomial inequalities.\n",
      "Solving took 0.144 seconds.\n",
      "NaCL Train Accuracy: 0.7583333333333333 \n",
      "NaCL Test  Accuracy: 0.7515555555555555\n",
      "NB Train Accuracy: 0.7194444444444444 \n",
      "NB Test  Accuracy: 0.86\n",
      "nacl test acc with missing: 0.7724444444444445\n",
      "nacl test f1 with missing: 0.8235428525031082\n",
      "{'best_params': {'C': 1177.5669666586114}, 'nacl_missing_test_f1': 0.8235428525031082, 'nacl_missing_test_acc': 0.7724444444444445, 'nacl_test_f1': 0.6931898464494336, 'nacl_test_acc': 0.7515555555555555, 'nacl_train_acc': 0.7583333333333333, 'nb_test_f1': 0.8387820700063289, 'nb_test_acc': 0.86, 'nb_train_acc': 0.7194444444444444, 'lr_test_f1': 0.6931898464494336, 'lr_test_acc': 0.7515555555555555, 'lr_train_acc': 0.7583333333333333}\n",
      "Processing ['data-robustml-mv', 'Credit', 'missing_values', 'split_144']\n",
      "--------------\n",
      "dataset: {'data_dir': 'Credit', 'error_types': ['outliers', 'missing_values'], 'label': 'SeriousDlqin2yrs', 'categorical_variables': ['SeriousDlqin2yrs'], 'ml_task': 'classification', 'class_imbalance': True}\n",
      "columns to encode: []\n"
     ]
    },
    {
     "name": "stderr",
     "output_type": "stream",
     "text": [
      "/mnt/ds3lab-scratch/raox/gatech_data_cleaning/ICDE2021-revision/nacl36/lib/python3.6/site-packages/sklearn/utils/deprecation.py:86: FutureWarning: Function safe_indexing is deprecated; safe_indexing is deprecated in version 0.22 and will be removed in version 0.24.\n",
      "  warnings.warn(msg, category=FutureWarning)\n",
      "[Parallel(n_jobs=-1)]: Using backend LokyBackend with 16 concurrent workers.\n",
      "[Parallel(n_jobs=-1)]: Done   1 out of   1 | elapsed:    1.1s finished\n"
     ]
    },
    {
     "name": "stdout",
     "output_type": "stream",
     "text": [
      "LR Train Accuracy: 0.6378600823045267 \n",
      "LR Test  Accuracy: 0.6164444444444445\n",
      "Using solver 'cvxopt'\n",
      " for 42 free variables\n",
      "  in 44 posynomial inequalities.\n",
      "Solving took 0.12 seconds.\n",
      "NaCL Train Accuracy: 0.6378600823045267 \n",
      "NaCL Test  Accuracy: 0.6164444444444445\n",
      "NB Train Accuracy: 0.686556927297668 \n",
      "NB Test  Accuracy: 0.8177777777777778\n",
      "nacl test acc with missing: 0.64\n",
      "nacl test f1 with missing: 0.7243434991063578\n",
      "{'best_params': {'C': 2.455060469629073}, 'nacl_missing_test_f1': 0.7243434991063578, 'nacl_missing_test_acc': 0.64, 'nacl_test_f1': 0.5269143571625357, 'nacl_test_acc': 0.6164444444444445, 'nacl_train_acc': 0.6378600823045267, 'nb_test_f1': 0.7848843304843306, 'nb_test_acc': 0.8177777777777778, 'nb_train_acc': 0.686556927297668, 'lr_test_f1': 0.5269143571625357, 'lr_test_acc': 0.6164444444444445, 'lr_train_acc': 0.6378600823045267}\n",
      "Processing ['data-robustml-mv', 'Credit', 'missing_values', 'split_4225']\n",
      "--------------\n",
      "dataset: {'data_dir': 'Credit', 'error_types': ['outliers', 'missing_values'], 'label': 'SeriousDlqin2yrs', 'categorical_variables': ['SeriousDlqin2yrs'], 'ml_task': 'classification', 'class_imbalance': True}\n",
      "columns to encode: []\n"
     ]
    },
    {
     "name": "stderr",
     "output_type": "stream",
     "text": [
      "/mnt/ds3lab-scratch/raox/gatech_data_cleaning/ICDE2021-revision/nacl36/lib/python3.6/site-packages/sklearn/utils/deprecation.py:86: FutureWarning: Function safe_indexing is deprecated; safe_indexing is deprecated in version 0.22 and will be removed in version 0.24.\n",
      "  warnings.warn(msg, category=FutureWarning)\n",
      "[Parallel(n_jobs=-1)]: Using backend LokyBackend with 16 concurrent workers.\n",
      "[Parallel(n_jobs=-1)]: Done   1 out of   1 | elapsed:    1.1s finished\n"
     ]
    },
    {
     "name": "stdout",
     "output_type": "stream",
     "text": [
      "LR Train Accuracy: 0.6440798858773181 \n",
      "LR Test  Accuracy: 0.6433333333333333\n",
      "Using solver 'cvxopt'\n",
      " for 42 free variables\n",
      "  in 44 posynomial inequalities.\n",
      "Solving took 0.107 seconds.\n",
      "NaCL Train Accuracy: 0.6440798858773181 \n",
      "NaCL Test  Accuracy: 0.6433333333333333\n",
      "NB Train Accuracy: 0.7047075606276747 \n",
      "NB Test  Accuracy: 0.7762222222222223\n",
      "nacl test acc with missing: 0.6651111111111111\n",
      "nacl test f1 with missing: 0.7483687143007678\n",
      "{'best_params': {'C': 641.8478533913964}, 'nacl_missing_test_f1': 0.7483687143007678, 'nacl_missing_test_acc': 0.6651111111111111, 'nacl_test_f1': 0.5548207156637831, 'nacl_test_acc': 0.6433333333333333, 'nacl_train_acc': 0.6440798858773181, 'nb_test_f1': 0.7253583459415768, 'nb_test_acc': 0.7762222222222223, 'nb_train_acc': 0.7047075606276747, 'lr_test_f1': 0.5548207156637831, 'lr_test_acc': 0.6433333333333333, 'lr_train_acc': 0.6440798858773181}\n",
      "Processing ['data-robustml-mv', 'Credit', 'missing_values', 'split_7813']\n",
      "--------------\n",
      "dataset: {'data_dir': 'Credit', 'error_types': ['outliers', 'missing_values'], 'label': 'SeriousDlqin2yrs', 'categorical_variables': ['SeriousDlqin2yrs'], 'ml_task': 'classification', 'class_imbalance': True}\n",
      "columns to encode: []\n"
     ]
    },
    {
     "name": "stderr",
     "output_type": "stream",
     "text": [
      "/mnt/ds3lab-scratch/raox/gatech_data_cleaning/ICDE2021-revision/nacl36/lib/python3.6/site-packages/sklearn/utils/deprecation.py:86: FutureWarning: Function safe_indexing is deprecated; safe_indexing is deprecated in version 0.22 and will be removed in version 0.24.\n",
      "  warnings.warn(msg, category=FutureWarning)\n",
      "[Parallel(n_jobs=-1)]: Using backend LokyBackend with 16 concurrent workers.\n",
      "[Parallel(n_jobs=-1)]: Done   1 out of   1 | elapsed:    1.1s finished\n"
     ]
    },
    {
     "name": "stdout",
     "output_type": "stream",
     "text": [
      "LR Train Accuracy: 0.7564655172413793 \n",
      "LR Test  Accuracy: 0.8468888888888889\n",
      "Using solver 'cvxopt'\n",
      " for 42 free variables\n",
      "  in 44 posynomial inequalities.\n",
      "Solving took 0.346 seconds.\n",
      "NaCL Train Accuracy: 0.7564655172413793 \n",
      "NaCL Test  Accuracy: 0.8468888888888889\n",
      "NB Train Accuracy: 0.7033045977011494 \n",
      "NB Test  Accuracy: 0.7588888888888888\n",
      "nacl test acc with missing: 0.8548888888888889\n",
      "nacl test f1 with missing: 0.8800252515028805\n",
      "{'best_params': {'C': 2141.0308484702027}, 'nacl_missing_test_f1': 0.8800252515028805, 'nacl_missing_test_acc': 0.8548888888888889, 'nacl_test_f1': 0.8186963466365058, 'nacl_test_acc': 0.8468888888888889, 'nacl_train_acc': 0.7564655172413793, 'nb_test_f1': 0.7027997037088738, 'nb_test_acc': 0.7588888888888888, 'nb_train_acc': 0.7033045977011494, 'lr_test_f1': 0.8186963466365058, 'lr_test_acc': 0.8468888888888889, 'lr_train_acc': 0.7564655172413793}\n",
      "Processing ['data-robustml-mv', 'Credit', 'missing_values', 'split_2516']\n",
      "--------------\n",
      "dataset: {'data_dir': 'Credit', 'error_types': ['outliers', 'missing_values'], 'label': 'SeriousDlqin2yrs', 'categorical_variables': ['SeriousDlqin2yrs'], 'ml_task': 'classification', 'class_imbalance': True}\n",
      "columns to encode: []\n"
     ]
    },
    {
     "name": "stderr",
     "output_type": "stream",
     "text": [
      "/mnt/ds3lab-scratch/raox/gatech_data_cleaning/ICDE2021-revision/nacl36/lib/python3.6/site-packages/sklearn/utils/deprecation.py:86: FutureWarning: Function safe_indexing is deprecated; safe_indexing is deprecated in version 0.22 and will be removed in version 0.24.\n",
      "  warnings.warn(msg, category=FutureWarning)\n",
      "[Parallel(n_jobs=-1)]: Using backend LokyBackend with 16 concurrent workers.\n",
      "[Parallel(n_jobs=-1)]: Done   1 out of   1 | elapsed:    3.6s finished\n"
     ]
    },
    {
     "name": "stdout",
     "output_type": "stream",
     "text": [
      "LR Train Accuracy: 0.7420907840440165 \n",
      "LR Test  Accuracy: 0.8535555555555555\n",
      "Using solver 'cvxopt'\n",
      " for 42 free variables\n",
      "  in 44 posynomial inequalities.\n",
      "Solving took 0.219 seconds.\n",
      "The solver failed for an unknown reason.\n",
      "Since this model solved in less than a second, let's run `.debug()` automatically to check.\n",
      "`\n",
      "< DEBUGGING >\n",
      "> Trying with bounded variables and relaxed constants:\n",
      ">> Success!\n",
      "NaCL Train Accuracy: 0.7420907840440165 \n",
      "NaCL Test  Accuracy: 0.8535555555555555\n",
      "NB Train Accuracy: 0.6815680880330124 \n",
      "NB Test  Accuracy: 0.8455555555555555\n",
      "nacl test acc with missing: 0.8655555555555555\n",
      "nacl test f1 with missing: 0.8883671095109673\n",
      "{'best_params': {'C': 10594.381544832824}, 'nacl_missing_test_f1': 0.8883671095109673, 'nacl_missing_test_acc': 0.8655555555555555, 'nacl_test_f1': 0.826369196806921, 'nacl_test_acc': 0.8535555555555555, 'nacl_train_acc': 0.7420907840440165, 'nb_test_f1': 0.8178345671218938, 'nb_test_acc': 0.8455555555555555, 'nb_train_acc': 0.6815680880330124, 'lr_test_f1': 0.826369196806921, 'lr_test_acc': 0.8535555555555555, 'lr_train_acc': 0.7420907840440165}\n",
      "Processing ['data-robustml-mv', 'Credit', 'missing_values', 'split_2895']\n",
      "--------------\n",
      "dataset: {'data_dir': 'Credit', 'error_types': ['outliers', 'missing_values'], 'label': 'SeriousDlqin2yrs', 'categorical_variables': ['SeriousDlqin2yrs'], 'ml_task': 'classification', 'class_imbalance': True}\n"
     ]
    },
    {
     "name": "stderr",
     "output_type": "stream",
     "text": [
      "/mnt/ds3lab-scratch/raox/gatech_data_cleaning/ICDE2021-revision/nacl36/lib/python3.6/site-packages/sklearn/utils/deprecation.py:86: FutureWarning: Function safe_indexing is deprecated; safe_indexing is deprecated in version 0.22 and will be removed in version 0.24.\n",
      "  warnings.warn(msg, category=FutureWarning)\n"
     ]
    },
    {
     "name": "stdout",
     "output_type": "stream",
     "text": [
      "columns to encode: []\n"
     ]
    },
    {
     "name": "stderr",
     "output_type": "stream",
     "text": [
      "[Parallel(n_jobs=-1)]: Using backend LokyBackend with 16 concurrent workers.\n",
      "[Parallel(n_jobs=-1)]: Done   1 out of   1 | elapsed:    1.3s finished\n"
     ]
    },
    {
     "name": "stdout",
     "output_type": "stream",
     "text": [
      "LR Train Accuracy: 0.6464872944693573 \n",
      "LR Test  Accuracy: 0.656\n",
      "Using solver 'cvxopt'\n",
      " for 42 free variables\n",
      "  in 44 posynomial inequalities.\n",
      "Solving took 0.209 seconds.\n",
      "NaCL Train Accuracy: 0.6464872944693573 \n",
      "NaCL Test  Accuracy: 0.656\n",
      "NB Train Accuracy: 0.7354260089686099 \n",
      "NB Test  Accuracy: 0.8873333333333333\n",
      "nacl test acc with missing: 0.6737777777777778\n",
      "nacl test f1 with missing: 0.7529058915284034\n",
      "{'best_params': {'C': 1286.4014641512479}, 'nacl_missing_test_f1': 0.7529058915284034, 'nacl_missing_test_acc': 0.6737777777777778, 'nacl_test_f1': 0.5722967275011107, 'nacl_test_acc': 0.656, 'nacl_train_acc': 0.6464872944693573, 'nb_test_f1': 0.8741218356420378, 'nb_test_acc': 0.8873333333333333, 'nb_train_acc': 0.7354260089686099, 'lr_test_f1': 0.5722967275011107, 'lr_test_acc': 0.656, 'lr_train_acc': 0.6464872944693573}\n",
      "Processing ['data-robustml-mv', 'Credit', 'missing_values', 'split_4764']\n",
      "--------------\n",
      "dataset: {'data_dir': 'Credit', 'error_types': ['outliers', 'missing_values'], 'label': 'SeriousDlqin2yrs', 'categorical_variables': ['SeriousDlqin2yrs'], 'ml_task': 'classification', 'class_imbalance': True}\n",
      "columns to encode: []\n"
     ]
    },
    {
     "name": "stderr",
     "output_type": "stream",
     "text": [
      "/mnt/ds3lab-scratch/raox/gatech_data_cleaning/ICDE2021-revision/nacl36/lib/python3.6/site-packages/sklearn/utils/deprecation.py:86: FutureWarning: Function safe_indexing is deprecated; safe_indexing is deprecated in version 0.22 and will be removed in version 0.24.\n",
      "  warnings.warn(msg, category=FutureWarning)\n",
      "[Parallel(n_jobs=-1)]: Using backend LokyBackend with 16 concurrent workers.\n",
      "[Parallel(n_jobs=-1)]: Done   1 out of   1 | elapsed:    1.5s finished\n"
     ]
    },
    {
     "name": "stdout",
     "output_type": "stream",
     "text": [
      "LR Train Accuracy: 0.7536549707602339 \n",
      "LR Test  Accuracy: 0.8151111111111111\n",
      "Using solver 'cvxopt'\n",
      " for 42 free variables\n",
      "  in 44 posynomial inequalities.\n",
      "Solving took 0.26 seconds.\n",
      "NaCL Train Accuracy: 0.7536549707602339 \n",
      "NaCL Test  Accuracy: 0.8151111111111111\n",
      "NB Train Accuracy: 0.7141812865497076 \n",
      "NB Test  Accuracy: 0.8955555555555555\n",
      "nacl test acc with missing: 0.8311111111111111\n",
      "nacl test f1 with missing: 0.8670314079758277\n",
      "{'best_params': {'C': 4787.422121458234}, 'nacl_missing_test_f1': 0.8670314079758277, 'nacl_missing_test_acc': 0.8311111111111111, 'nacl_test_f1': 0.7730566422939068, 'nacl_test_acc': 0.8151111111111111, 'nacl_train_acc': 0.7536549707602339, 'nb_test_f1': 0.8826978412288914, 'nb_test_acc': 0.8955555555555555, 'nb_train_acc': 0.7141812865497076, 'lr_test_f1': 0.7730566422939068, 'lr_test_acc': 0.8151111111111111, 'lr_train_acc': 0.7536549707602339}\n",
      "Processing ['data-robustml-mv', 'Credit', 'missing_values', 'split_7751']\n",
      "--------------\n",
      "dataset: {'data_dir': 'Credit', 'error_types': ['outliers', 'missing_values'], 'label': 'SeriousDlqin2yrs', 'categorical_variables': ['SeriousDlqin2yrs'], 'ml_task': 'classification', 'class_imbalance': True}\n",
      "columns to encode: []\n"
     ]
    },
    {
     "name": "stderr",
     "output_type": "stream",
     "text": [
      "/mnt/ds3lab-scratch/raox/gatech_data_cleaning/ICDE2021-revision/nacl36/lib/python3.6/site-packages/sklearn/utils/deprecation.py:86: FutureWarning: Function safe_indexing is deprecated; safe_indexing is deprecated in version 0.22 and will be removed in version 0.24.\n",
      "  warnings.warn(msg, category=FutureWarning)\n",
      "[Parallel(n_jobs=-1)]: Using backend LokyBackend with 16 concurrent workers.\n",
      "[Parallel(n_jobs=-1)]: Done   1 out of   1 | elapsed:    1.2s finished\n"
     ]
    },
    {
     "name": "stdout",
     "output_type": "stream",
     "text": [
      "LR Train Accuracy: 0.6417489421720733 \n",
      "LR Test  Accuracy: 0.6391111111111111\n",
      "Using solver 'cvxopt'\n",
      " for 42 free variables\n",
      "  in 44 posynomial inequalities.\n",
      "Solving took 0.09 seconds.\n",
      "NaCL Train Accuracy: 0.6417489421720733 \n",
      "NaCL Test  Accuracy: 0.6391111111111111\n",
      "NB Train Accuracy: 0.6798307475317349 \n",
      "NB Test  Accuracy: 0.8104444444444444\n",
      "nacl test acc with missing: 0.6462222222222223\n",
      "nacl test f1 with missing: 0.7331339703128723\n",
      "{'best_params': {'C': 11285.010890955791}, 'nacl_missing_test_f1': 0.7331339703128723, 'nacl_missing_test_acc': 0.6462222222222223, 'nacl_test_f1': 0.550572549019608, 'nacl_test_acc': 0.6391111111111111, 'nacl_train_acc': 0.6417489421720733, 'nb_test_f1': 0.7720344755262499, 'nb_test_acc': 0.8104444444444444, 'nb_train_acc': 0.6798307475317349, 'lr_test_f1': 0.550572549019608, 'lr_test_acc': 0.6391111111111111, 'lr_train_acc': 0.6417489421720733}\n",
      "Processing ['data-robustml-mv', 'Credit', 'missing_values', 'split_2962']\n",
      "--------------\n",
      "dataset: {'data_dir': 'Credit', 'error_types': ['outliers', 'missing_values'], 'label': 'SeriousDlqin2yrs', 'categorical_variables': ['SeriousDlqin2yrs'], 'ml_task': 'classification', 'class_imbalance': True}\n",
      "columns to encode: []\n"
     ]
    },
    {
     "name": "stderr",
     "output_type": "stream",
     "text": [
      "/mnt/ds3lab-scratch/raox/gatech_data_cleaning/ICDE2021-revision/nacl36/lib/python3.6/site-packages/sklearn/utils/deprecation.py:86: FutureWarning: Function safe_indexing is deprecated; safe_indexing is deprecated in version 0.22 and will be removed in version 0.24.\n",
      "  warnings.warn(msg, category=FutureWarning)\n",
      "[Parallel(n_jobs=-1)]: Using backend LokyBackend with 16 concurrent workers.\n",
      "[Parallel(n_jobs=-1)]: Done   1 out of   1 | elapsed:    1.4s finished\n"
     ]
    },
    {
     "name": "stdout",
     "output_type": "stream",
     "text": [
      "LR Train Accuracy: 0.7674591381872214 \n",
      "LR Test  Accuracy: 0.866\n",
      "Using solver 'cvxopt'\n",
      " for 42 free variables\n",
      "  in 44 posynomial inequalities.\n",
      "Solving took 0.359 seconds.\n",
      "NaCL Train Accuracy: 0.7674591381872214 \n",
      "NaCL Test  Accuracy: 0.866\n",
      "NB Train Accuracy: 0.6768202080237742 \n",
      "NB Test  Accuracy: 0.8424444444444444\n",
      "nacl test acc with missing: 0.8755555555555555\n",
      "nacl test f1 with missing: 0.8958055569581665\n",
      "{'best_params': {'C': 149.74916673019618}, 'nacl_missing_test_f1': 0.8958055569581665, 'nacl_missing_test_acc': 0.8755555555555555, 'nacl_test_f1': 0.8423466751340768, 'nacl_test_acc': 0.866, 'nacl_train_acc': 0.7674591381872214, 'nb_test_f1': 0.8133058009279203, 'nb_test_acc': 0.8424444444444444, 'nb_train_acc': 0.6768202080237742, 'lr_test_f1': 0.8423466751340768, 'lr_test_acc': 0.866, 'lr_train_acc': 0.7674591381872214}\n",
      "Processing ['data-robustml-mv', 'Credit', 'missing_values', 'split_8093']\n",
      "--------------\n",
      "dataset: {'data_dir': 'Credit', 'error_types': ['outliers', 'missing_values'], 'label': 'SeriousDlqin2yrs', 'categorical_variables': ['SeriousDlqin2yrs'], 'ml_task': 'classification', 'class_imbalance': True}\n",
      "columns to encode: []\n"
     ]
    },
    {
     "name": "stderr",
     "output_type": "stream",
     "text": [
      "/mnt/ds3lab-scratch/raox/gatech_data_cleaning/ICDE2021-revision/nacl36/lib/python3.6/site-packages/sklearn/utils/deprecation.py:86: FutureWarning: Function safe_indexing is deprecated; safe_indexing is deprecated in version 0.22 and will be removed in version 0.24.\n",
      "  warnings.warn(msg, category=FutureWarning)\n",
      "[Parallel(n_jobs=-1)]: Using backend LokyBackend with 16 concurrent workers.\n",
      "[Parallel(n_jobs=-1)]: Done   1 out of   1 | elapsed:    1.3s finished\n"
     ]
    },
    {
     "name": "stdout",
     "output_type": "stream",
     "text": [
      "LR Train Accuracy: 0.7213793103448276 \n",
      "LR Test  Accuracy: 0.7062222222222222\n",
      "Using solver 'cvxopt'\n",
      " for 42 free variables\n",
      "  in 44 posynomial inequalities.\n",
      "Solving took 0.229 seconds.\n",
      "NaCL Train Accuracy: 0.7213793103448276 \n",
      "NaCL Test  Accuracy: 0.7062222222222222\n",
      "NB Train Accuracy: 0.7655172413793103 \n",
      "NB Test  Accuracy: 0.8655555555555555\n",
      "nacl test acc with missing: 0.722\n",
      "nacl test f1 with missing: 0.7917100375620912\n",
      "{'best_params': {'C': 1286.4014641512479}, 'nacl_missing_test_f1': 0.7917100375620912, 'nacl_missing_test_acc': 0.722, 'nacl_test_f1': 0.6319722845082265, 'nacl_test_acc': 0.7062222222222222, 'nacl_train_acc': 0.7213793103448276, 'nb_test_f1': 0.8427779917652126, 'nb_test_acc': 0.8655555555555555, 'nb_train_acc': 0.7655172413793103, 'lr_test_f1': 0.6319722845082265, 'lr_test_acc': 0.7062222222222222, 'lr_train_acc': 0.7213793103448276}\n",
      "Processing ['data-robustml-mv', 'Credit', 'missing_values', 'split_5192']\n",
      "--------------\n",
      "dataset: {'data_dir': 'Credit', 'error_types': ['outliers', 'missing_values'], 'label': 'SeriousDlqin2yrs', 'categorical_variables': ['SeriousDlqin2yrs'], 'ml_task': 'classification', 'class_imbalance': True}\n",
      "columns to encode: []\n"
     ]
    },
    {
     "name": "stderr",
     "output_type": "stream",
     "text": [
      "/mnt/ds3lab-scratch/raox/gatech_data_cleaning/ICDE2021-revision/nacl36/lib/python3.6/site-packages/sklearn/utils/deprecation.py:86: FutureWarning: Function safe_indexing is deprecated; safe_indexing is deprecated in version 0.22 and will be removed in version 0.24.\n",
      "  warnings.warn(msg, category=FutureWarning)\n",
      "[Parallel(n_jobs=-1)]: Using backend LokyBackend with 16 concurrent workers.\n",
      "[Parallel(n_jobs=-1)]: Done   1 out of   1 | elapsed:    1.4s finished\n"
     ]
    },
    {
     "name": "stdout",
     "output_type": "stream",
     "text": [
      "LR Train Accuracy: 0.7065663474692202 \n",
      "LR Test  Accuracy: 0.7868888888888889\n",
      "Using solver 'cvxopt'\n",
      " for 42 free variables\n",
      "  in 44 posynomial inequalities.\n",
      "Solving took 0.399 seconds.\n",
      "NaCL Train Accuracy: 0.7065663474692202 \n",
      "NaCL Test  Accuracy: 0.7868888888888889\n",
      "NB Train Accuracy: 0.6922024623803009 \n",
      "NB Test  Accuracy: 0.8737777777777778\n",
      "nacl test acc with missing: 0.7937777777777778\n",
      "nacl test f1 with missing: 0.8394817598449351\n",
      "{'best_params': {'C': 875.9762762976034}, 'nacl_missing_test_f1': 0.8394817598449351, 'nacl_missing_test_acc': 0.7937777777777778, 'nacl_test_f1': 0.7388737331640205, 'nacl_test_acc': 0.7868888888888889, 'nacl_train_acc': 0.7065663474692202, 'nb_test_f1': 0.8574176286138179, 'nb_test_acc': 0.8737777777777778, 'nb_train_acc': 0.6922024623803009, 'lr_test_f1': 0.7388737331640205, 'lr_test_acc': 0.7868888888888889, 'lr_train_acc': 0.7065663474692202}\n",
      "Processing ['data-robustml-mv', 'Credit', 'missing_values', 'split_5396']\n",
      "--------------\n",
      "dataset: {'data_dir': 'Credit', 'error_types': ['outliers', 'missing_values'], 'label': 'SeriousDlqin2yrs', 'categorical_variables': ['SeriousDlqin2yrs'], 'ml_task': 'classification', 'class_imbalance': True}\n",
      "columns to encode: []\n"
     ]
    },
    {
     "name": "stderr",
     "output_type": "stream",
     "text": [
      "/mnt/ds3lab-scratch/raox/gatech_data_cleaning/ICDE2021-revision/nacl36/lib/python3.6/site-packages/sklearn/utils/deprecation.py:86: FutureWarning: Function safe_indexing is deprecated; safe_indexing is deprecated in version 0.22 and will be removed in version 0.24.\n",
      "  warnings.warn(msg, category=FutureWarning)\n",
      "[Parallel(n_jobs=-1)]: Using backend LokyBackend with 16 concurrent workers.\n",
      "[Parallel(n_jobs=-1)]: Done   1 out of   1 | elapsed:    1.4s finished\n"
     ]
    },
    {
     "name": "stdout",
     "output_type": "stream",
     "text": [
      "LR Train Accuracy: 0.788135593220339 \n",
      "LR Test  Accuracy: 0.8117777777777778\n",
      "Using solver 'cvxopt'\n",
      " for 42 free variables\n",
      "  in 44 posynomial inequalities.\n",
      "Solving took 0.361 seconds.\n",
      "NaCL Train Accuracy: 0.788135593220339 \n",
      "NaCL Test  Accuracy: 0.8117777777777778\n",
      "NB Train Accuracy: 0.7542372881355932 \n",
      "NB Test  Accuracy: 0.7697777777777778\n",
      "nacl test acc with missing: 0.8222222222222222\n",
      "nacl test f1 with missing: 0.8610941908557115\n",
      "{'best_params': {'C': 17632.82951711842}, 'nacl_missing_test_f1': 0.8610941908557115, 'nacl_missing_test_acc': 0.8222222222222222, 'nacl_test_f1': 0.769073135369449, 'nacl_test_acc': 0.8117777777777778, 'nacl_train_acc': 0.788135593220339, 'nb_test_f1': 0.714251604016418, 'nb_test_acc': 0.7697777777777778, 'nb_train_acc': 0.7542372881355932, 'lr_test_f1': 0.769073135369449, 'lr_test_acc': 0.8117777777777778, 'lr_train_acc': 0.788135593220339}\n",
      "Processing ['data-robustml-mv', 'Credit', 'missing_values', 'split_9394']\n",
      "--------------\n",
      "dataset: {'data_dir': 'Credit', 'error_types': ['outliers', 'missing_values'], 'label': 'SeriousDlqin2yrs', 'categorical_variables': ['SeriousDlqin2yrs'], 'ml_task': 'classification', 'class_imbalance': True}\n",
      "columns to encode: []\n"
     ]
    },
    {
     "name": "stderr",
     "output_type": "stream",
     "text": [
      "/mnt/ds3lab-scratch/raox/gatech_data_cleaning/ICDE2021-revision/nacl36/lib/python3.6/site-packages/sklearn/utils/deprecation.py:86: FutureWarning: Function safe_indexing is deprecated; safe_indexing is deprecated in version 0.22 and will be removed in version 0.24.\n",
      "  warnings.warn(msg, category=FutureWarning)\n",
      "[Parallel(n_jobs=-1)]: Using backend LokyBackend with 16 concurrent workers.\n",
      "[Parallel(n_jobs=-1)]: Done   1 out of   1 | elapsed:    0.0s finished\n"
     ]
    },
    {
     "name": "stdout",
     "output_type": "stream",
     "text": [
      "LR Train Accuracy: 0.7281205164992827 \n",
      "LR Test  Accuracy: 0.8164444444444444\n",
      "Using solver 'cvxopt'\n",
      " for 42 free variables\n",
      "  in 44 posynomial inequalities.\n",
      "Solving took 0.458 seconds.\n",
      "NaCL Train Accuracy: 0.7281205164992827 \n",
      "NaCL Test  Accuracy: 0.8164444444444444\n",
      "NB Train Accuracy: 0.7288378766140603 \n",
      "NB Test  Accuracy: 0.8464444444444444\n",
      "nacl test acc with missing: 0.8273333333333334\n",
      "nacl test f1 with missing: 0.862307645581255\n",
      "{'best_params': {'C': 1286.4014641512479}, 'nacl_missing_test_f1': 0.862307645581255, 'nacl_missing_test_acc': 0.8273333333333334, 'nacl_test_f1': 0.7777448148148147, 'nacl_test_acc': 0.8164444444444444, 'nacl_train_acc': 0.7281205164992827, 'nb_test_f1': 0.8186972013913248, 'nb_test_acc': 0.8464444444444444, 'nb_train_acc': 0.7288378766140603, 'lr_test_f1': 0.7777448148148147, 'lr_test_acc': 0.8164444444444444, 'lr_train_acc': 0.7281205164992827}\n",
      "Processing ['data-robustml-mv', 'Credit', 'missing_values', 'split_6542']\n",
      "--------------\n",
      "dataset: {'data_dir': 'Credit', 'error_types': ['outliers', 'missing_values'], 'label': 'SeriousDlqin2yrs', 'categorical_variables': ['SeriousDlqin2yrs'], 'ml_task': 'classification', 'class_imbalance': True}\n",
      "columns to encode: []\n"
     ]
    },
    {
     "name": "stderr",
     "output_type": "stream",
     "text": [
      "/mnt/ds3lab-scratch/raox/gatech_data_cleaning/ICDE2021-revision/nacl36/lib/python3.6/site-packages/sklearn/utils/deprecation.py:86: FutureWarning: Function safe_indexing is deprecated; safe_indexing is deprecated in version 0.22 and will be removed in version 0.24.\n",
      "  warnings.warn(msg, category=FutureWarning)\n",
      "[Parallel(n_jobs=-1)]: Using backend LokyBackend with 16 concurrent workers.\n",
      "[Parallel(n_jobs=-1)]: Done   1 out of   1 | elapsed:    0.1s finished\n"
     ]
    },
    {
     "name": "stdout",
     "output_type": "stream",
     "text": [
      "LR Train Accuracy: 0.7912621359223301 \n",
      "LR Test  Accuracy: 0.8357777777777777\n",
      "Using solver 'cvxopt'\n",
      " for 42 free variables\n",
      "  in 44 posynomial inequalities.\n",
      "Solving took 0.167 seconds.\n",
      "NaCL Train Accuracy: 0.7912621359223301 \n",
      "NaCL Test  Accuracy: 0.8357777777777777\n",
      "NB Train Accuracy: 0.6851595006934813 \n",
      "NB Test  Accuracy: 0.8468888888888889\n",
      "nacl test acc with missing: 0.8471111111111111\n",
      "nacl test f1 with missing: 0.8745518656887433\n",
      "{'best_params': {'C': 297.852738221599}, 'nacl_missing_test_f1': 0.8745518656887433, 'nacl_missing_test_acc': 0.8471111111111111, 'nacl_test_f1': 0.8039841466710277, 'nacl_test_acc': 0.8357777777777777, 'nacl_train_acc': 0.7912621359223301, 'nb_test_f1': 0.8224159160119614, 'nb_test_acc': 0.8468888888888889, 'nb_train_acc': 0.6851595006934813, 'lr_test_f1': 0.8039841466710277, 'lr_test_acc': 0.8357777777777777, 'lr_train_acc': 0.7912621359223301}\n",
      "Processing ['data-robustml-mv', 'Credit', 'missing_values', 'split_8444']\n",
      "--------------\n",
      "dataset: {'data_dir': 'Credit', 'error_types': ['outliers', 'missing_values'], 'label': 'SeriousDlqin2yrs', 'categorical_variables': ['SeriousDlqin2yrs'], 'ml_task': 'classification', 'class_imbalance': True}\n"
     ]
    },
    {
     "name": "stderr",
     "output_type": "stream",
     "text": [
      "/mnt/ds3lab-scratch/raox/gatech_data_cleaning/ICDE2021-revision/nacl36/lib/python3.6/site-packages/sklearn/utils/deprecation.py:86: FutureWarning: Function safe_indexing is deprecated; safe_indexing is deprecated in version 0.22 and will be removed in version 0.24.\n",
      "  warnings.warn(msg, category=FutureWarning)\n"
     ]
    },
    {
     "name": "stdout",
     "output_type": "stream",
     "text": [
      "columns to encode: []\n"
     ]
    },
    {
     "name": "stderr",
     "output_type": "stream",
     "text": [
      "[Parallel(n_jobs=-1)]: Using backend LokyBackend with 16 concurrent workers.\n",
      "[Parallel(n_jobs=-1)]: Done   1 out of   1 | elapsed:    0.0s finished\n"
     ]
    },
    {
     "name": "stdout",
     "output_type": "stream",
     "text": [
      "LR Train Accuracy: 0.6937134502923976 \n",
      "LR Test  Accuracy: 0.7075555555555556\n",
      "Using solver 'cvxopt'\n",
      " for 42 free variables\n",
      "  in 44 posynomial inequalities.\n",
      "Solving took 0.14 seconds.\n",
      "NaCL Train Accuracy: 0.6937134502923976 \n",
      "NaCL Test  Accuracy: 0.7075555555555556\n",
      "NB Train Accuracy: 0.6980994152046783 \n",
      "NB Test  Accuracy: 0.8066666666666666\n",
      "nacl test acc with missing: 0.7153333333333334\n",
      "nacl test f1 with missing: 0.7867039332752519\n",
      "{'best_params': {'C': 1286.4014641512479}, 'nacl_missing_test_f1': 0.7867039332752519, 'nacl_missing_test_acc': 0.7153333333333334, 'nacl_test_f1': 0.6339660638155262, 'nacl_test_acc': 0.7075555555555556, 'nacl_train_acc': 0.6937134502923976, 'nb_test_f1': 0.7643389325554937, 'nb_test_acc': 0.8066666666666666, 'nb_train_acc': 0.6980994152046783, 'lr_test_f1': 0.6339660638155262, 'lr_test_acc': 0.7075555555555556, 'lr_train_acc': 0.6937134502923976}\n",
      "Processing ['data-robustml-mv', 'Credit', 'missing_values', 'split_235']\n",
      "--------------\n",
      "dataset: {'data_dir': 'Credit', 'error_types': ['outliers', 'missing_values'], 'label': 'SeriousDlqin2yrs', 'categorical_variables': ['SeriousDlqin2yrs'], 'ml_task': 'classification', 'class_imbalance': True}\n",
      "columns to encode: []\n"
     ]
    },
    {
     "name": "stderr",
     "output_type": "stream",
     "text": [
      "/mnt/ds3lab-scratch/raox/gatech_data_cleaning/ICDE2021-revision/nacl36/lib/python3.6/site-packages/sklearn/utils/deprecation.py:86: FutureWarning: Function safe_indexing is deprecated; safe_indexing is deprecated in version 0.22 and will be removed in version 0.24.\n",
      "  warnings.warn(msg, category=FutureWarning)\n",
      "[Parallel(n_jobs=-1)]: Using backend LokyBackend with 16 concurrent workers.\n",
      "[Parallel(n_jobs=-1)]: Done   1 out of   1 | elapsed:    0.0s finished\n"
     ]
    },
    {
     "name": "stdout",
     "output_type": "stream",
     "text": [
      "LR Train Accuracy: 0.7 \n",
      "LR Test  Accuracy: 0.6842222222222222\n",
      "Using solver 'cvxopt'\n",
      " for 42 free variables\n",
      "  in 44 posynomial inequalities.\n",
      "Solving took 0.184 seconds.\n",
      "NaCL Train Accuracy: 0.7 \n",
      "NaCL Test  Accuracy: 0.6842222222222222\n",
      "NB Train Accuracy: 0.723943661971831 \n",
      "NB Test  Accuracy: 0.824\n",
      "nacl test acc with missing: 0.7024444444444444\n",
      "nacl test f1 with missing: 0.775662863882907\n",
      "{'best_params': {'C': 1286.4014641512479}, 'nacl_missing_test_f1': 0.775662863882907, 'nacl_missing_test_acc': 0.7024444444444444, 'nacl_test_f1': 0.6060303599510445, 'nacl_test_acc': 0.6842222222222222, 'nacl_train_acc': 0.7, 'nb_test_f1': 0.7892721333084979, 'nb_test_acc': 0.824, 'nb_train_acc': 0.723943661971831, 'lr_test_f1': 0.6060303599510445, 'lr_test_acc': 0.6842222222222222, 'lr_train_acc': 0.7}\n",
      "CPU times: user 17.3 s, sys: 38.2 s, total: 55.5 s\n",
      "Wall time: 51 s\n"
     ]
    }
   ],
   "source": [
    "%%time \n",
    "\n",
    "for job in jobs:\n",
    "    \n",
    "    print(\"Processing\", job)\n",
    "    print('--------------')\n",
    "    dataset = job[1]\n",
    "\n",
    "    dirty_X_train = pd.read_csv(os.path.join(*job, \"dirty_X_train.csv\"))\n",
    "    dirty_y_train = pd.read_csv(os.path.join(*job, \"dirty_y_train.csv\"))\n",
    "    dirty_X_test = pd.read_csv(os.path.join(*job, \"dirty_X_test.csv\"))\n",
    "    dirty_y_test = pd.read_csv(os.path.join(*job, \"dirty_y_test.csv\"))\n",
    "\n",
    "    dirty_X_train = dirty_X_train.fillna(0)\n",
    "    dirty_X_test = dirty_X_test.fillna(0)\n",
    "    X_train, y_train, X_test, y_test, mappings, mappings_dict = preprocess_data(dataset, \n",
    "                                                             dirty_X_train, dirty_y_train, \n",
    "                                                             [dirty_X_test], [dirty_y_test])\n",
    "    X_test = X_test[0]\n",
    "    y_test = y_test[0]\n",
    "    dirty_X_test = pd.read_csv(os.path.join(*job, \"dirty_X_test.csv\"))\n",
    "    null_data = dirty_X_test[dirty_X_test.isnull().any(axis=1)]\n",
    "\n",
    "    missing = [[]] * dirty_X_test.shape[0]\n",
    "    for i, row in null_data.iterrows():\n",
    "        # append the original index of the missing feature\n",
    "        cols = null_data.columns.get_values()[np.where(pd.isnull(row))]\n",
    "\n",
    "        idx = [mappings_dict[col][0] for col in cols]\n",
    "        missing[i] = idx\n",
    "    missing = np.array(missing)\n",
    "\n",
    "    output = defaultdict(lambda: defaultdict(list))\n",
    "\n",
    "    output['train']['nacl'] = (X_train, y_train)\n",
    "    output['test']['nacl'] = (X_test, y_test)\n",
    "    output['missing_test'] = missing\n",
    "    output['mappings1hot_dict'] = mappings_dict\n",
    "    output['mappings1hot_list'] = mappings\n",
    "    pickle.dump(dict(output), open(os.path.join(*job,\"data.p\"), 'wb'))\n",
    "\n",
    "\n",
    "    max_acc = 0\n",
    "\n",
    "    for method in ['delete', 'impute_holoclean', 'impute_mean_mode', 'impute_mean_dummy', \n",
    "                   'impute_median_mode', 'impute_median_dummy', 'impute_mode_mode', 'impute_mode_dummy']:\n",
    "        #print('Titanic/v{}/missing_values/{}/logistic_regression/3659'.\\\n",
    "        #           format(split_seed, method))\n",
    "        split_seed = job[-1].split(\"_\")[1]\n",
    "        a =  results['{}/v{}/missing_values/{}/logistic_regression/3659'.\\\n",
    "                   format(dataset, split_seed, method)].copy()\n",
    "        #print(a)\n",
    "        del a['best_params']\n",
    "        del a['train_acc']\n",
    "        del a['val_acc']\n",
    "        max_key = max(a.items(), key=operator.itemgetter(1))[0]\n",
    "\n",
    "        if a[max_key] > max_acc:\n",
    "            best_params_lr = results['{}/v{}/missing_values/{}/logistic_regression/3659'.\\\n",
    "                   format(dataset, split_seed, method)]['best_params']\n",
    "            max_acc = a[max_key]\n",
    "\n",
    "    clf = LogisticRegression(solver='lbfgs', \n",
    "    verbose=True, \n",
    "    C = best_params_lr['C'],\n",
    "    max_iter=2000, n_jobs=-1).fit(X_train, y_train)\n",
    "    lr_pred = clf.predict(X_test)\n",
    "    lr_train_acc = accuracy(clf.predict(X_train), y_train)\n",
    "    lr_test_acc = accuracy(lr_pred, y_test)\n",
    "    lr_test_f1 = f1(lr_pred, y_test)\n",
    "\n",
    "    print(\"LR Train Accuracy: {} \\nLR Test  Accuracy: {}\".format(lr_train_acc, lr_test_acc))\n",
    "\n",
    "    W = np.hstack((clf.intercept_[:,None], clf.coef_))[0]\n",
    "    nacl = LR2NB_GP.LR2NB(W)\n",
    "    nacl.setObj(X_train, y_train)\n",
    "\n",
    "    # Using Mosek Solver\n",
    "    nacl.solve(verbose=1)\n",
    "\n",
    "    # Sanity Check to compare NaCL results with Logistic Regression\n",
    "    assert(1.0 == np.average( nacl.classify(X_test)  == clf.predict(X_test )))\n",
    "    assert(1.0 == np.average( nacl.classify(X_train) == clf.predict(X_train)))\n",
    "    nacl_pred = nacl.classify(X_test)\n",
    "    nacl_train_acc = accuracy(nacl.classify(X_train), y_train)\n",
    "    nacl_test_acc = accuracy(nacl_pred, y_test)\n",
    "    #print(nacl_pred)\n",
    "    #print(y_test)\n",
    "    nacl_test_f1 = f1(nacl_pred[0], y_test)\n",
    "\n",
    "    print(\"NaCL Train Accuracy: {} \\nNaCL Test  Accuracy: {}\".format(nacl_train_acc, nacl_test_acc))\n",
    "\n",
    "    NB = BernoulliNB().fit(X_train, y_train)\n",
    "    NB_pred = NB.predict(X_test)\n",
    "    nb_train_acc = accuracy(NB.predict(X_train), y_train)\n",
    "    nb_test_acc = accuracy(NB_pred, y_test)\n",
    "    nb_test_f1 = f1(NB_pred, y_test)\n",
    "\n",
    "    print(\"NB Train Accuracy: {} \\nNB Test  Accuracy: {}\".format(nb_train_acc, nb_test_acc))\n",
    "\n",
    "    # Make an example observations with some missing features\n",
    "\n",
    "    # setting the dimensions to be zero\n",
    "    missing_mask = np.zeros(X_test.shape) \n",
    "\n",
    "\n",
    "    miss = missing\n",
    "    for i in range(len(missing_mask)):\n",
    "        for j in range(len(miss[i])):\n",
    "            missing_mask[i][mappings[miss[i][j]]] = 1\n",
    "\n",
    "    a = nacl.predict_proba(X_test, missing = missing_mask)[:,1]\n",
    "    a = np.where(a > 0.5, 1, 0)\n",
    "\n",
    "    test_acc = accuracy(y_test, a)\n",
    "    test_f1 = f1(y_test, a)\n",
    "    print('nacl test acc with missing:', test_acc)\n",
    "    print('nacl test f1 with missing:', test_f1) # true, pred\n",
    "\n",
    "\n",
    "    result_dict = {}\n",
    "\n",
    "    result_dict[\"best_params\"] = best_params_lr\n",
    "\n",
    "\n",
    "    result_dict[\"{}_test_f1\".format('nacl_missing')] = test_f1\n",
    "    result_dict[\"{}_test_acc\".format('nacl_missing')] = test_acc\n",
    "\n",
    "    result_dict[\"{}_test_f1\".format('nacl')] = nacl_test_f1\n",
    "    result_dict[\"{}_test_acc\".format('nacl')] = nacl_test_acc\n",
    "    result_dict[\"{}_train_acc\".format('nacl')] = nacl_train_acc\n",
    "\n",
    "    result_dict[\"{}_test_f1\".format('nb')] = nb_test_f1\n",
    "    result_dict[\"{}_test_acc\".format('nb')] = nb_test_acc\n",
    "    result_dict[\"{}_train_acc\".format('nb')] = nb_train_acc\n",
    "\n",
    "    result_dict[\"{}_test_f1\".format('lr')] = lr_test_f1\n",
    "    result_dict[\"{}_test_acc\".format('lr')] = lr_test_acc\n",
    "    result_dict[\"{}_train_acc\".format('lr')] = lr_train_acc\n",
    "\n",
    "    print(result_dict)\n",
    "    save_result_mv(job, seed, result_dict, model_name, save_dir)\n",
    "\n",
    "\n",
    "\n"
   ]
  },
  {
   "cell_type": "code",
   "execution_count": null,
   "metadata": {
    "collapsed": true
   },
   "outputs": [],
   "source": []
  },
  {
   "cell_type": "code",
   "execution_count": null,
   "metadata": {
    "collapsed": true
   },
   "outputs": [],
   "source": []
  },
  {
   "cell_type": "code",
   "execution_count": null,
   "metadata": {
    "collapsed": true
   },
   "outputs": [],
   "source": []
  }
 ],
 "metadata": {
  "kernelspec": {
   "display_name": "nacl36",
   "language": "python",
   "name": "nacl36"
  },
  "language_info": {
   "codemirror_mode": {
    "name": "ipython",
    "version": 3
   },
   "file_extension": ".py",
   "mimetype": "text/x-python",
   "name": "python",
   "nbconvert_exporter": "python",
   "pygments_lexer": "ipython3",
   "version": "3.6.11"
  }
 },
 "nbformat": 4,
 "nbformat_minor": 2
}
